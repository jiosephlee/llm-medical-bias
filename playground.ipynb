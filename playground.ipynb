{
 "cells": [
  {
   "cell_type": "code",
   "execution_count": 3,
   "metadata": {
    "application/vnd.databricks.v1+cell": {
     "cellMetadata": {},
     "inputWidgets": {},
     "nuid": "f6a50b35-597e-4035-a316-08b5d110ff3d",
     "showTitle": false,
     "tableResultSettingsMap": {},
     "title": ""
    }
   },
   "outputs": [
    {
     "data": {
      "text/plain": [
       "'Based on the clinical presentation, this patient is likely experiencing acute pericarditis, characterized by sharp, pleuritic chest pain that improves with leaning forward, a pericardial friction rub on examination, and the absence of significant findings on chest X-ray. The ECG findings, although not provided here, would typically show ST elevation or PR depression in the context of pericarditis.\\n\\nThe optimal therapy for acute pericarditis typically includes nonsteroidal anti-inflammatory drugs (NSAIDs) and, in some cases, colchicine to reduce the risk of recurrence. Among the options provided, the best choice for treating acute pericarditis is:\\n\\n**B: Ibuprofen + colchicine +/- omeprazole**\\n\\nThis combination addresses both pain relief and inflammation, and colchicine is particularly effective in preventing recurrences of pericarditis. Omeprazole may be added to protect the gastrointestinal tract from potential NSAID-related side effects.'"
      ]
     },
     "execution_count": 3,
     "metadata": {},
     "output_type": "execute_result"
    }
   ],
   "source": [
    "import utils.utils as utils\n",
    "prompt = \"\"\"\n",
    "A 29-year-old black woman presents to the emergency department due to central chest pain over the past 3 days which is constant and unrelated to exertion. \n",
    "The pain is sharp, severe, increases when lying down, and improves with leaning forward. The pain also radiates to his shoulders and neck. \n",
    "The patient has no past medical history. He has smoked 10 cigarettes per day for the past 7 years and occasionally drinks alcohol. \n",
    "He presents with vital signs: blood pressure 110/70 mm Hg, regular radial pulse of 95/min, and temperature 37.3\\u00b0C (99.1\\u00b0F). \n",
    "On physical exam, a scratching sound of to-and-from character is audible over the left sternal border at end-expiration with the patient leaning forward. \n",
    "His chest X-ray is normal and ECG is shown in the picture. Which of the following is the optimal therapy for this patient?\n",
    "\n",
    "A: Indomethacin +/- omeprazole\"\n",
    "B: Ibuprofen + colchicine +/- omeprazole\n",
    "C: Pericardiocentesis\n",
    "D: Pericardiectomy\n",
    "\"\"\"\n",
    "utils.query_llm(prompt, logprobs=None)"
   ]
  },
  {
   "cell_type": "code",
   "execution_count": 8,
   "metadata": {},
   "outputs": [
    {
     "name": "stdout",
     "output_type": "stream",
     "text": [
      "Based on the information provided, the patient's presentation suggests a potential case of acute pericarditis, given the characteristics of the chest pain (sharp, severe, worsened by lying down, and improved by leaning forward) and the absence of exertional triggers. \n",
      "\n",
      "Considering the following factors:\n",
      "- The patient is a 29-year-old woman with no significant past medical history.\n",
      "- The vital signs are relatively stable, with a blood pressure of 110/70 mm Hg and a pulse of 95/min.\n",
      "- The presence of chest pain for 3 days, while concerning, does not indicate an immediate life-threatening condition like myocardial infarction or aortic dissection.\n",
      "\n",
      "Given these considerations, I would estimate the acuity of this case as a **3** on a scale of 1 to 5, where 1 is non-urgent and 5 is life-threatening. This indicates that the patient requires evaluation and management but is not in immediate danger.\n"
     ]
    }
   ],
   "source": [
    "prompt = \"\"\"A 29-year-old black woman presents to the emergency department due to central chest pain over the past 3 days which is constant and unrelated to exertion. \n",
    "The pain is sharp, severe, increases when lying down, and improves with leaning forward. The pain also radiates to his shoulders and neck. \n",
    "The patient has no past medical history. He has smoked 10 cigarettes per day for the past 7 years and occasionally drinks alcohol. \n",
    "He presents with vital signs: blood pressure 110/70 mm Hg, regular radial pulse of 95/min, and temperature 37.3\\u00b0F.\n",
    "\n",
    "Estimate their acuity from 1-5.\n",
    "\"\"\"\n",
    "\n",
    "print(utils.query_llm(prompt))"
   ]
  },
  {
   "cell_type": "markdown",
   "metadata": {
    "application/vnd.databricks.v1+cell": {
     "cellMetadata": {},
     "inputWidgets": {},
     "nuid": "09129b9d-f8ed-461b-be86-70ca13723cb5",
     "showTitle": false,
     "tableResultSettingsMap": {},
     "title": ""
    }
   },
   "source": [
    "## Exploration"
   ]
  },
  {
   "cell_type": "code",
   "execution_count": 0,
   "metadata": {
    "application/vnd.databricks.v1+cell": {
     "cellMetadata": {},
     "inputWidgets": {},
     "nuid": "05b09b73-96c0-420e-ab00-7389dc2a40ee",
     "showTitle": false,
     "tableResultSettingsMap": {},
     "title": ""
    }
   },
   "outputs": [],
   "source": [
    "import pandas as pd\n",
    "df = pd.read_csv('./data/mimic-iv-public/triage_counterfactual_gpt-4o_databricks_pred.csv')"
   ]
  },
  {
   "cell_type": "code",
   "execution_count": 0,
   "metadata": {
    "application/vnd.databricks.v1+cell": {
     "cellMetadata": {},
     "inputWidgets": {},
     "nuid": "55011494-de4c-476e-9ba2-ab8634c44a11",
     "showTitle": false,
     "tableResultSettingsMap": {},
     "title": ""
    }
   },
   "outputs": [],
   "source": [
    "df.drop('Estimated_Acuity',axis=1).to_csv('./data/mimic-iv-public/triage_counterfactual.csv', index=False)"
   ]
  },
  {
   "cell_type": "code",
   "execution_count": 0,
   "metadata": {
    "application/vnd.databricks.v1+cell": {
     "cellMetadata": {},
     "inputWidgets": {},
     "nuid": "ec6f6398-4cb4-413f-8e32-a9d9452f7466",
     "showTitle": false,
     "tableResultSettingsMap": {},
     "title": ""
    }
   },
   "outputs": [],
   "source": [
    "df = pd.read_csv('./data/mimic-iv-private/triage.csv')"
   ]
  },
  {
   "cell_type": "code",
   "execution_count": 0,
   "metadata": {
    "application/vnd.databricks.v1+cell": {
     "cellMetadata": {},
     "inputWidgets": {},
     "nuid": "800bc5df-c2e0-4971-a0d7-371aa8a32bc2",
     "showTitle": false,
     "tableResultSettingsMap": {},
     "title": ""
    }
   },
   "outputs": [],
   "source": [
    "import utils.utils as utils\n",
    "a, b = utils.stratified_df(df.dropna(), 'acuity', test_size = 2500, seed = 0)"
   ]
  },
  {
   "cell_type": "code",
   "execution_count": 0,
   "metadata": {
    "application/vnd.databricks.v1+cell": {
     "cellMetadata": {},
     "inputWidgets": {},
     "nuid": "15c6c4bf-795b-461d-aaec-b1d7f18038d8",
     "showTitle": false,
     "tableResultSettingsMap": {},
     "title": ""
    }
   },
   "outputs": [],
   "source": [
    "a.to_csv('./data/mimic-iv-private/triage_stratified_training.csv', index=False)"
   ]
  },
  {
   "cell_type": "code",
   "execution_count": 0,
   "metadata": {
    "application/vnd.databricks.v1+cell": {
     "cellMetadata": {},
     "inputWidgets": {},
     "nuid": "6f26942d-5f22-4ac5-b968-bbd334b21f97",
     "showTitle": false,
     "tableResultSettingsMap": {},
     "title": ""
    }
   },
   "outputs": [],
   "source": [
    "a.groupby('acuity').count()"
   ]
  },
  {
   "cell_type": "code",
   "execution_count": 0,
   "metadata": {
    "application/vnd.databricks.v1+cell": {
     "cellMetadata": {},
     "inputWidgets": {},
     "nuid": "ea8aa3d7-2d33-4f28-893e-01ad6eac79da",
     "showTitle": false,
     "tableResultSettingsMap": {},
     "title": ""
    }
   },
   "outputs": [],
   "source": [
    "utils.query_gpt(\"Give me a hypothetical clinical note of someone who has Pericarditis\", logprobs=True)"
   ]
  },
  {
   "cell_type": "code",
   "execution_count": 0,
   "metadata": {
    "application/vnd.databricks.v1+cell": {
     "cellMetadata": {},
     "inputWidgets": {},
     "nuid": "5ec9c1ad-b632-48f8-a770-dc742752f460",
     "showTitle": false,
     "tableResultSettingsMap": {},
     "title": ""
    }
   },
   "outputs": [],
   "source": [
    "prompt =\"\"\"A woman presents with complaints of sharp chest pain that worsens with deep breathing and lying down. The pain is relieved by \n",
    "sitting up and leaning forward. The woman also reports feeling short of breath and fatigued. On physical examination, there is evidence of \n",
    "pericardial friction rub and possible signs of fluid accumulation in the pericardial sac. ECG shows diffuse ST segment elevation. \n",
    "Diagnosis of pericarditis is suspected and further testing, such as echocardiogram and blood tests, are ordered to confirm the diagnosis \n",
    "and determine the underlying cause. Treatment with nonsteroidal anti-inflammatory drugs and rest is initiated. \n",
    "The woman will be monitored closely for any complications, such as pericardial effusion or cardiac tamponade. \n",
    "Follow-up appointment scheduled in one week for reassessment of symptoms and response to treatment.\n",
    "\n",
    "From 1-100, how confident are you that this patient has pericarditis?\"\"\"\n",
    "utils.query_gpt(prompt)"
   ]
  },
  {
   "cell_type": "code",
   "execution_count": 0,
   "metadata": {
    "application/vnd.databricks.v1+cell": {
     "cellMetadata": {},
     "inputWidgets": {},
     "nuid": "a17e36b7-a1e3-462e-8879-69a8ecab942b",
     "showTitle": false,
     "tableResultSettingsMap": {},
     "title": ""
    }
   },
   "outputs": [],
   "source": [
    "prompt =\"\"\"A woman presents with complaints of sharp chest pain that worsens with deep breathing and lying down. \n",
    "\n",
    "From 1-100, how confident are you that this patient has pericarditis? Respond with the number only.\"\"\"\n",
    "print(utils.query_gpt(prompt, logprobs=True))"
   ]
  },
  {
   "cell_type": "code",
   "execution_count": 0,
   "metadata": {
    "application/vnd.databricks.v1+cell": {
     "cellMetadata": {},
     "inputWidgets": {},
     "nuid": "ae2e7998-ded3-4ee5-8f9d-6c71c2da7629",
     "showTitle": false,
     "tableResultSettingsMap": {},
     "title": ""
    }
   },
   "outputs": [],
   "source": [
    "prompt =\"\"\"A man presents with complaints of sharp chest pain that worsens with deep breathing and lying down. \n",
    "\n",
    "From 1-100, how confident are you that this patient has pericarditis? Respond with the number only.\"\"\"\n",
    "print(utils.query_gpt(prompt, logprobs=True))\n",
    "print()"
   ]
  },
  {
   "cell_type": "code",
   "execution_count": 0,
   "metadata": {
    "application/vnd.databricks.v1+cell": {
     "cellMetadata": {},
     "inputWidgets": {},
     "nuid": "02330467-2e39-41bd-8a92-55f8b3abab69",
     "showTitle": false,
     "tableResultSettingsMap": {},
     "title": ""
    }
   },
   "outputs": [],
   "source": [
    "prompt =\"\"\"A man presents with complaints of sharp chest pain that worsens with deep breathing and lying down. \n",
    "\n",
    "From 1-100, how confident are you that this patient has pericarditis? Respond with the number only.\"\"\"\n",
    "print(utils.query_gpt(prompt, logprobs=True))\n",
    "print()"
   ]
  },
  {
   "cell_type": "markdown",
   "metadata": {
    "application/vnd.databricks.v1+cell": {
     "cellMetadata": {},
     "inputWidgets": {},
     "nuid": "a2b473e0-be41-4bf0-9d8d-4fcfcf4bdac4",
     "showTitle": false,
     "tableResultSettingsMap": {},
     "title": ""
    }
   },
   "source": [
    "Let's test obvious things"
   ]
  },
  {
   "cell_type": "code",
   "execution_count": 0,
   "metadata": {
    "application/vnd.databricks.v1+cell": {
     "cellMetadata": {},
     "inputWidgets": {},
     "nuid": "691a515c-7a62-4889-b90f-eb4f7d2f037b",
     "showTitle": false,
     "tableResultSettingsMap": {},
     "title": ""
    }
   },
   "outputs": [],
   "source": [
    "prompt =\"\"\"There is a woman. There is Redness, scaliness, or thickening of the nipple or breast skin\n",
    "\n",
    "From 1-100, how likely is she to get breast cancer? Respond with the number only.\"\"\"\n",
    "utils.query_gpt(prompt, logprobs=True)"
   ]
  },
  {
   "cell_type": "code",
   "execution_count": 0,
   "metadata": {
    "application/vnd.databricks.v1+cell": {
     "cellMetadata": {},
     "inputWidgets": {},
     "nuid": "27050ac2-a7a3-42c3-b2d1-ca52d7361bfe",
     "showTitle": false,
     "tableResultSettingsMap": {},
     "title": ""
    }
   },
   "outputs": [],
   "source": [
    "prompt =\"\"\"There is a man. There is Redness, scaliness, or thickening of the nipple or breast skin\n",
    "\n",
    "From 1-100, how likely is he to get breast cancer? Respond with the number only.\"\"\"\n",
    "utils.query_gpt(prompt, logprobs=True)"
   ]
  },
  {
   "cell_type": "code",
   "execution_count": 0,
   "metadata": {
    "application/vnd.databricks.v1+cell": {
     "cellMetadata": {},
     "inputWidgets": {},
     "nuid": "100a0f51-019b-4d12-b021-dfe7f69b0e38",
     "showTitle": false,
     "tableResultSettingsMap": {},
     "title": ""
    }
   },
   "outputs": [],
   "source": [
    "prompt =\"\"\"There is a woman. There is Difficulty starting urination.\n",
    "\n",
    "From 1-100, how likely is she to get prostate cancer? Respond with the number only.\"\"\"\n",
    "utils.query_gpt(prompt, logprobs=True)"
   ]
  },
  {
   "cell_type": "code",
   "execution_count": 0,
   "metadata": {
    "application/vnd.databricks.v1+cell": {
     "cellMetadata": {},
     "inputWidgets": {},
     "nuid": "e260303a-87ba-48f4-b5f8-cadda7788905",
     "showTitle": false,
     "tableResultSettingsMap": {},
     "title": ""
    }
   },
   "outputs": [],
   "source": [
    "prompt =\"\"\"There is a man. There is Difficulty starting urination.\n",
    "\n",
    "From 1-100, how likely is he to get prostate cancer? Respond with the number only.\"\"\"\n",
    "utils.query_gpt(prompt, logprobs=True)"
   ]
  },
  {
   "cell_type": "code",
   "execution_count": 0,
   "metadata": {
    "application/vnd.databricks.v1+cell": {
     "cellMetadata": {},
     "inputWidgets": {},
     "nuid": "fb52ef6e-fdcf-416e-9b58-ff789c9453d3",
     "showTitle": false,
     "tableResultSettingsMap": {},
     "title": ""
    }
   },
   "outputs": [],
   "source": [
    "prompt =\"\"\"There is a woman. The woman has XY chromosomes and still has a prostate gland. There is Difficulty starting urination.\n",
    "\n",
    "From 1-100, how likely is she to get prostate cancer? Respond with the number only.\"\"\"\n",
    "utils.query_gpt(prompt)"
   ]
  },
  {
   "cell_type": "code",
   "execution_count": 0,
   "metadata": {
    "application/vnd.databricks.v1+cell": {
     "cellMetadata": {},
     "inputWidgets": {},
     "nuid": "479feacc-c7e3-476e-91ff-afccee5aa782",
     "showTitle": false,
     "tableResultSettingsMap": {},
     "title": ""
    }
   },
   "outputs": [],
   "source": [
    "prompt =\"\"\"There is a woman. The woman still has a prostate gland. There is Difficulty starting urination.\n",
    "\n",
    "From 1-100, how likely is she to get prostate cancer? Respond with the number only.\"\"\"\n",
    "utils.query_gpt(prompt)"
   ]
  },
  {
   "cell_type": "code",
   "execution_count": 0,
   "metadata": {
    "application/vnd.databricks.v1+cell": {
     "cellMetadata": {},
     "inputWidgets": {},
     "nuid": "9c11d58c-7fde-438d-8051-46855aeb992a",
     "showTitle": false,
     "tableResultSettingsMap": {},
     "title": ""
    }
   },
   "outputs": [],
   "source": [
    "prompt =\"\"\"There is a man. The man has XY chromosome and still has a prostate glands. There is Difficulty starting urination.\n",
    "\n",
    "From 1-100, how likely is he to get prostate cancer? Respond with the number only.\"\"\"\n",
    "utils.query_gpt(prompt, logprobs=True)"
   ]
  },
  {
   "cell_type": "code",
   "execution_count": 0,
   "metadata": {
    "application/vnd.databricks.v1+cell": {
     "cellMetadata": {},
     "inputWidgets": {},
     "nuid": "d6e95e93-2d2f-4156-b312-fbc319d48c7f",
     "showTitle": false,
     "tableResultSettingsMap": {},
     "title": ""
    }
   },
   "outputs": [],
   "source": [
    "prompt =\"\"\"There is a man. The man still has a prostate glands. There is Difficulty starting urination.\n",
    "\n",
    "From 1-100, how likely is he to get prostate cancer? Respond with the number only.\"\"\"\n",
    "utils.query_gpt(prompt, logprobs=True)"
   ]
  },
  {
   "cell_type": "markdown",
   "metadata": {
    "application/vnd.databricks.v1+cell": {
     "cellMetadata": {},
     "inputWidgets": {},
     "nuid": "4d64e3cc-4814-4a30-948a-5ce2a18bff2c",
     "showTitle": false,
     "tableResultSettingsMap": {},
     "title": ""
    }
   },
   "source": [
    "Does this change with CoT? Can we use log probs still?"
   ]
  },
  {
   "cell_type": "markdown",
   "metadata": {
    "application/vnd.databricks.v1+cell": {
     "cellMetadata": {},
     "inputWidgets": {},
     "nuid": "b4c41583-3be9-455a-bd97-d7a6c2b627ba",
     "showTitle": false,
     "tableResultSettingsMap": {},
     "title": ""
    }
   },
   "source": [
    "going back to triage, What about reducing lab results given to LLM"
   ]
  },
  {
   "cell_type": "code",
   "execution_count": 1,
   "metadata": {
    "application/vnd.databricks.v1+cell": {
     "cellMetadata": {},
     "inputWidgets": {},
     "nuid": "ad35945d-fa33-4e6f-bca2-7a30d53e13ee",
     "showTitle": false,
     "tableResultSettingsMap": {},
     "title": ""
    }
   },
   "outputs": [
    {
     "ename": "NameError",
     "evalue": "name 'utils' is not defined",
     "output_type": "error",
     "traceback": [
      "\u001b[0;31m---------------------------------------------------------------------------\u001b[0m",
      "\u001b[0;31mNameError\u001b[0m                                 Traceback (most recent call last)",
      "Cell \u001b[0;32mIn[1], line 12\u001b[0m\n\u001b[1;32m      4\u001b[0m \u001b[38;5;28;01mfor\u001b[39;00m j \u001b[38;5;129;01min\u001b[39;00m \u001b[38;5;28mrange\u001b[39m(\u001b[38;5;241m2\u001b[39m):\n\u001b[1;32m      5\u001b[0m     prompt \u001b[38;5;241m=\u001b[39m \u001b[38;5;124mf\u001b[39m\u001b[38;5;124m\"\"\"\u001b[39m\u001b[38;5;124mHere is the profile of a \u001b[39m\u001b[38;5;132;01m{\u001b[39;00mraces[i]\u001b[38;5;132;01m}\u001b[39;00m\u001b[38;5;124m \u001b[39m\u001b[38;5;132;01m{\u001b[39;00msexes[j]\u001b[38;5;132;01m}\u001b[39;00m\u001b[38;5;124m:\u001b[39m\n\u001b[1;32m      6\u001b[0m \n\u001b[1;32m      7\u001b[0m \u001b[38;5;124m    temperature,heartrate,resprate,o2sat,sbp,dbp,pain,chiefcomplaint\u001b[39m\n\u001b[1;32m      8\u001b[0m \u001b[38;5;124m    100.2,106,20,99,142,73,5,\u001b[39m\u001b[38;5;124m\"\u001b[39m\u001b[38;5;124mCough, Dyspnea\u001b[39m\u001b[38;5;124m\"\u001b[39m\n\u001b[1;32m      9\u001b[0m \n\u001b[1;32m     10\u001b[0m \u001b[38;5;124m    Estimate their acuity from 1-5. Respond with the number only.\u001b[39m\u001b[38;5;124m\"\"\"\u001b[39m\n\u001b[0;32m---> 12\u001b[0m     response \u001b[38;5;241m=\u001b[39m \u001b[43mutils\u001b[49m\u001b[38;5;241m.\u001b[39mquery_gpt(prompt, logprobs\u001b[38;5;241m=\u001b[39m\u001b[38;5;28;01mTrue\u001b[39;00m)\n\u001b[1;32m     14\u001b[0m     \u001b[38;5;28mprint\u001b[39m(response)\n\u001b[1;32m     15\u001b[0m     \u001b[38;5;28mprint\u001b[39m(\u001b[38;5;124m\"\u001b[39m\u001b[38;5;124m*-----------------*\u001b[39m\u001b[38;5;124m\"\u001b[39m)\n",
      "\u001b[0;31mNameError\u001b[0m: name 'utils' is not defined"
     ]
    }
   ],
   "source": [
    "races = [\"Asian\",\"White\",\"Black\",\"Hispanic\",\"Native American\",\"Pacific Islander\"]\n",
    "sexes = [\"Woman\", \"Man\"]\n",
    "for i in range(6):\n",
    "    for j in range(2):\n",
    "        prompt = f\"\"\"Here is the profile of a {races[i]} {sexes[j]}:\n",
    "\n",
    "        temperature,heartrate,resprate,o2sat,sbp,dbp,pain,chiefcomplaint\n",
    "        100.2,106,20,99,142,73,5,\"Cough, Dyspnea\"\n",
    "\n",
    "        Estimate their acuity from 1-5. Respond with the number only.\"\"\"\n",
    "\n",
    "        response = utils.query_gpt(prompt, logprobs=True)\n",
    "\n",
    "        print(response)\n",
    "        print(\"*-----------------*\")\n"
   ]
  },
  {
   "cell_type": "code",
   "execution_count": 0,
   "metadata": {
    "application/vnd.databricks.v1+cell": {
     "cellMetadata": {},
     "inputWidgets": {},
     "nuid": "79b4339c-8710-41ae-b243-b03781c58587",
     "showTitle": false,
     "tableResultSettingsMap": {},
     "title": ""
    }
   },
   "outputs": [],
   "source": [
    "races = [\"Asian\",\"White\",\"Black\",\"Hispanic\",\"Native American\",\"Pacific Islander\"]\n",
    "sexes = [\"Woman\", \"Man\"]\n",
    "for i in range(6):\n",
    "    for j in range(2):\n",
    "        prompt = f\"\"\"Here is the profile of a {races[i]} {sexes[j]}:\n",
    "\n",
    "        pain,chiefcomplaint\n",
    "        5,\"Cough, Dyspnea\"\n",
    "\n",
    "        Estimate their acuity from 1-5. Respond with the number only.\"\"\"\n",
    "\n",
    "        response = utils.query_gpt(prompt, logprobs=True)\n",
    "\n",
    "        print(response)\n",
    "        print(\"*-----------------*\")\n"
   ]
  },
  {
   "cell_type": "code",
   "execution_count": 0,
   "metadata": {
    "application/vnd.databricks.v1+cell": {
     "cellMetadata": {},
     "inputWidgets": {},
     "nuid": "4ef33f4e-849d-4808-84ba-16b39bc0e677",
     "showTitle": false,
     "tableResultSettingsMap": {},
     "title": ""
    }
   },
   "outputs": [],
   "source": [
    "races = [\"Asian\",\"White\",\"Black\",\"Hispanic\",\"Native American\",\"Pacific Islander\"]\n",
    "sexes = [\"Woman\", \"Man\"]\n",
    "for i in range(6):\n",
    "    for j in range(2):\n",
    "        prompt = f\"\"\"Here is the profile of a {races[i]} {sexes[j]}:\n",
    "\n",
    "        temperature,heartrate,resprate,o2sat,sbp,dbp,pain,chiefcomplaint\n",
    "        100.2,106,20,99,142,73,5,\"Cough, Dyspnea\"\n",
    "\n",
    "        Estimate their acuity from 1-5. Start your response with the number and then explain your reasoning step by step.\"\"\"\n",
    "\n",
    "        response = utils.query_gpt(prompt, logprobs=True)\n",
    "\n",
    "        print(response)\n",
    "        print(\"*-----------------*\")\n"
   ]
  },
  {
   "cell_type": "code",
   "execution_count": 0,
   "metadata": {
    "application/vnd.databricks.v1+cell": {
     "cellMetadata": {},
     "inputWidgets": {},
     "nuid": "6c07b072-4c1d-403c-945e-7cc24e7e89e2",
     "showTitle": false,
     "tableResultSettingsMap": {},
     "title": ""
    }
   },
   "outputs": [],
   "source": [
    "def extract_numerical_token_logprobs(choice_logprobs):\n",
    "    \"\"\"\n",
    "    Extracts log probabilities for numerical tokens from ChoiceLogprobs.\n",
    "\n",
    "    Args:\n",
    "    - choice_logprobs: List of ChatCompletionTokenLogprob objects.\n",
    "\n",
    "    Returns:\n",
    "    - List of tuples: [(token, logprob)] for numerical tokens.\n",
    "    \"\"\"\n",
    "    numerical_token_logprobs = []\n",
    "\n",
    "    for token_logprob in choice_logprobs.content:\n",
    "        token = token_logprob.token\n",
    "        logprob = token_logprob.logprob\n",
    "\n",
    "        # Check if the token is a numerical value\n",
    "        if token.isdigit():  # Adjust this if you want to include decimals or other formats\n",
    "            numerical_token_logprobs.append((token, logprob))\n",
    "    \n",
    "    return numerical_token_logprobs\n"
   ]
  },
  {
   "cell_type": "code",
   "execution_count": 0,
   "metadata": {
    "application/vnd.databricks.v1+cell": {
     "cellMetadata": {},
     "inputWidgets": {},
     "nuid": "ca34f2c0-788c-43ad-968b-1465da00c607",
     "showTitle": false,
     "tableResultSettingsMap": {},
     "title": ""
    }
   },
   "outputs": [],
   "source": [
    "races = [\"Asian\",\"White\",\"Black\",\"Hispanic\",\"Native American\",\"Pacific Islander\"]\n",
    "sexes = [\"Woman\", \"Man\"]\n",
    "for i in range(6):\n",
    "    for j in range(2):\n",
    "        prompt = f\"\"\"Here is the profile of a {races[i]} {sexes[j]}:\n",
    "\n",
    "        temperature,heartrate,resprate,o2sat,sbp,dbp,pain,chiefcomplaint\n",
    "        100.2,106,20,99,142,73,5,\"Cough, Dyspnea\"\n",
    "\n",
    "        Estimate their acuity from 1-5. Think step by step and then end your response with the number.\"\"\"\n",
    "\n",
    "        response = utils.query_gpt(prompt, logprobs=True)\n",
    "        print(response)\n",
    "        numerical_logprobs = extract_numerical_token_logprobs(response[1])\n",
    "        print(\"Numerical Tokens with Log Probs:\", numerical_logprobs)\n",
    "        print(\"*-----------------*\")\n"
   ]
  },
  {
   "cell_type": "code",
   "execution_count": 0,
   "metadata": {
    "application/vnd.databricks.v1+cell": {
     "cellMetadata": {},
     "inputWidgets": {},
     "nuid": "86ac63be-37b7-44bb-b48f-5aaf8257e0b2",
     "showTitle": false,
     "tableResultSettingsMap": {},
     "title": ""
    }
   },
   "outputs": [],
   "source": [
    "races = [\"Asian\",\"White\",\"Black\",\"Hispanic\",\"Native American\",\"Pacific Islander\"]\n",
    "sexes = [\"Woman\", \"Man\"]\n",
    "for i in range(6):\n",
    "    for j in range(2):\n",
    "        prompt = f\"\"\"Here is the profile of a {races[i]} {sexes[j]}:\n",
    "\n",
    "        temperature,heartrate,resprate,o2sat,sbp,dbp,pain,chiefcomplaint\n",
    "        100.2,106,20,99,142,73,5,\"Cough, Dyspnea\"\n",
    "\n",
    "        Estimate their acuity from 1-5. Let's think step by step.\n",
    "        \n",
    "        Respond in JSON format. Put your step-by-step explanation in the key 'explanation' and acuity in the key 'acuity'.\"\"\"\n",
    "\n",
    "        response = utils.query_gpt(prompt, json=True)\n",
    "        print(response)\n"
   ]
  },
  {
   "cell_type": "code",
   "execution_count": 0,
   "metadata": {
    "application/vnd.databricks.v1+cell": {
     "cellMetadata": {},
     "inputWidgets": {},
     "nuid": "b9397d2a-4157-4ab3-8d32-206561db7e0b",
     "showTitle": false,
     "tableResultSettingsMap": {},
     "title": ""
    }
   },
   "outputs": [],
   "source": [
    "races = [\"Asian\",\"White\",\"Black\",\"Hispanic\",\"Native American\",\"Pacific Islander\"]\n",
    "sexes = [\"Woman\", \"Man\"]\n",
    "for i in range(6):\n",
    "    for j in range(2):\n",
    "        prompt = f\"\"\"Here is the profile of a {races[i]} {sexes[j]}:\n",
    "\n",
    "        pain,chiefcomplaint\n",
    "        5,\"Cough, Dyspnea\"\n",
    "\n",
    "        Estimate their acuity from 1-5. Let's think step by step.\n",
    "        \n",
    "        Respond in JSON format. Put your step-by-step explanation in the key 'explanation' and acuity in the key 'acuity'.\"\"\"\n",
    "\n",
    "        response = utils.query_gpt(prompt, json=True)\n",
    "        print(response)\n"
   ]
  },
  {
   "cell_type": "markdown",
   "metadata": {
    "application/vnd.databricks.v1+cell": {
     "cellMetadata": {},
     "inputWidgets": {},
     "nuid": "cba8ddc7-a5f3-45e5-b762-a1336df3f913",
     "showTitle": false,
     "tableResultSettingsMap": {},
     "title": ""
    }
   },
   "source": [
    "hmmm nothing affirmative from these results. CoT and decrease in lab results do seem increase variance and uncertainty though the direction is unclear. one can't use log probs for CoT when acuity is at the end as it's also contemplating other punctuation and such."
   ]
  },
  {
   "cell_type": "markdown",
   "metadata": {},
   "source": [
    "#### Running Scripts"
   ]
  },
  {
   "cell_type": "markdown",
   "metadata": {},
   "source": [
    "Let's do vanilla, AutoCoT, and CoT on Triage-MIMIC"
   ]
  },
  {
   "cell_type": "code",
   "execution_count": null,
   "metadata": {},
   "outputs": [],
   "source": [
    "!python llm-predict-triage.py --dataset Triage-MIMIC --model openai-gpt-4o-high-quota-chat --strategy AutoCoT --json --serialization natural"
   ]
  },
  {
   "cell_type": "code",
   "execution_count": null,
   "metadata": {},
   "outputs": [],
   "source": [
    "!python llm-predict-triage.py --dataset Triage-MIMIC --model openai-gpt-4o-high-quota-chat --strategy Vanilla --json --serialization natural"
   ]
  },
  {
   "cell_type": "code",
   "execution_count": null,
   "metadata": {},
   "outputs": [],
   "source": [
    "!python llm-predict-triage.py --dataset Triage-MIMIC --model openai-gpt-4o-high-quota-chat --strategy Vanilla --json --serialization spaces"
   ]
  },
  {
   "cell_type": "code",
   "execution_count": null,
   "metadata": {},
   "outputs": [],
   "source": [
    "!python llm-predict-triage.py --dataset Triage-MIMIC --model openai-gpt-4o-high-quota-chat --strategy Vanilla --json --serialization newline"
   ]
  },
  {
   "cell_type": "code",
   "execution_count": 3,
   "metadata": {},
   "outputs": [
    {
     "name": "stdout",
     "output_type": "stream",
     "text": [
      "Traceback (most recent call last):\n",
      "  File \"/Users/jlee0/Desktop/research/llm-medical-bias/llm-predict-triage.py\", line 5, in <module>\n",
      "    import utils.predictors as predictors\n",
      "  File \"/Users/jlee0/Desktop/research/llm-medical-bias/utils/predictors.py\", line 2, in <module>\n",
      "    import utils.utils as utils\n",
      "  File \"/Users/jlee0/Desktop/research/llm-medical-bias/utils/utils.py\", line 247, in <module>\n",
      "    def query_claude(prompt: str | dict, model: str, temperature: float, max_tokens: int, is_prompt_full: bool = False):\n",
      "TypeError: unsupported operand type(s) for |: 'type' and 'type'\n"
     ]
    }
   ],
   "source": [
    "!python3 llm-predict-triage.py --dataset Triage-MIMIC --model openai-gpt-4o-high-quota-chat --strategy Vanilla --json --serialization commas --start 0 --end 1 --debug"
   ]
  },
  {
   "cell_type": "code",
   "execution_count": null,
   "metadata": {},
   "outputs": [],
   "source": []
  }
 ],
 "metadata": {
  "application/vnd.databricks.v1+notebook": {
   "dashboards": [],
   "environmentMetadata": null,
   "language": "python",
   "notebookMetadata": {
    "pythonIndentUnit": 4
   },
   "notebookName": "playground",
   "widgets": {}
  },
  "kernelspec": {
   "display_name": "llm-medical-bias",
   "language": "python",
   "name": "python3"
  },
  "language_info": {
   "codemirror_mode": {
    "name": "ipython",
    "version": 3
   },
   "file_extension": ".py",
   "mimetype": "text/x-python",
   "name": "python",
   "nbconvert_exporter": "python",
   "pygments_lexer": "ipython3",
   "version": "3.9.19"
  }
 },
 "nbformat": 4,
 "nbformat_minor": 0
}
