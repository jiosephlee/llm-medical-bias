{
 "cells": [
  {
   "cell_type": "markdown",
   "metadata": {},
   "source": [
    "# Running Bias Scripts"
   ]
  },
  {
   "cell_type": "code",
   "execution_count": null,
   "metadata": {},
   "outputs": [],
   "source": [
    "import utils.utils as utils\n",
    "\n"
   ]
  },
  {
   "cell_type": "code",
   "execution_count": 4,
   "metadata": {},
   "outputs": [
    {
     "name": "stdout",
     "output_type": "stream",
     "text": [
      "Loading Dataset...\n",
      "Potentially loading existing predictions...\n",
      "Making 10000 new predictions...\n",
      "2280it [2:12:02,  3.47s/it]\n",
      "DataFrame saved to ./results/Triage-Counterfactual/Triage-Counterfactual_CoT_gpt-4o-mini_json0_10000_20241123_142508.csv\n",
      "Processing complete. Predictions saved.\n"
     ]
    }
   ],
   "source": [
    "!python llm-predict-triage.py --dataset Triage-Counterfactual --start 0 --end 10000 --model gpt-4o-mini --strategy CoT --json --bias"
   ]
  },
  {
   "cell_type": "code",
   "execution_count": null,
   "metadata": {},
   "outputs": [],
   "source": [
    "python llm-predict-triage.py --dataset Triage-Counterfactual --start 0 --end 10000 --model gpt-3.5-turbo --strategy CoT --json --bias"
   ]
  }
 ],
 "metadata": {
  "kernelspec": {
   "display_name": "clinfo2",
   "language": "python",
   "name": "python3"
  },
  "language_info": {
   "codemirror_mode": {
    "name": "ipython",
    "version": 3
   },
   "file_extension": ".py",
   "mimetype": "text/x-python",
   "name": "python",
   "nbconvert_exporter": "python",
   "pygments_lexer": "ipython3",
   "version": "3.9.16"
  }
 },
 "nbformat": 4,
 "nbformat_minor": 2
}
