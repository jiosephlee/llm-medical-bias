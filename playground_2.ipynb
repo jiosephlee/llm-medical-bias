{
 "cells": [
  {
   "cell_type": "markdown",
   "metadata": {},
   "source": [
    "# Running Scripts"
   ]
  },
  {
   "cell_type": "code",
   "execution_count": 4,
   "metadata": {},
   "outputs": [
    {
     "name": "stdout",
     "output_type": "stream",
     "text": [
      "Loading Dataset...\n",
      "Potentially loading existing predictions...\n",
      "Making 10000 new predictions...\n",
      "2280it [2:12:02,  3.47s/it]\n",
      "DataFrame saved to ./results/Triage-Counterfactual/Triage-Counterfactual_CoT_gpt-4o-mini_json0_10000_20241123_142508.csv\n",
      "Processing complete. Predictions saved.\n"
     ]
    }
   ],
   "source": [
    "!python llm-predict-triage.py --dataset Triage-Counterfactual --start 0 --end 10000 --model gpt-4o-mini --strategy CoT --json --bias"
   ]
  },
  {
   "cell_type": "code",
   "execution_count": null,
   "metadata": {},
   "outputs": [],
   "source": [
    "python llm-predict-triage.py --dataset Triage-Counterfactual --start 0 --end 10000 --model gpt-3.5-turbo --strategy CoT --json --bias"
   ]
  },
  {
   "cell_type": "code",
   "execution_count": 19,
   "metadata": {},
   "outputs": [
    {
     "name": "stdout",
     "output_type": "stream",
     "text": [
      "Loading Dataset...\n",
      "1001\n",
      "Loading Predictions...\n",
      "Overall Metrics: {'overall': {'accuracy': 0.5464535464535465, 'precision': 0.6321125921748891, 'recall': 0.5464535464535465, 'f1_score': 0.5595303248810238, 'adjusted_accuracy': 0.9150849150849151, 'adjusted_precision': 0.9607591674371493, 'adjusted_recall': 0.9150849150849151, 'adjusted_f1': 0.9315849255328714}, 'by_class': defaultdict(<class 'dict'>, {1.0: {'accuracy': 0.02564102564102564, 'precision': array([1.]), 'recall': array([0.02564103]), 'f1_score': array([0.05])}, 2.0: {'accuracy': 0.42727272727272725, 'precision': array([1.]), 'recall': array([0.42727273]), 'f1_score': array([0.59872611])}, 3.0: {'accuracy': 0.6595744680851063, 'precision': array([1.]), 'recall': array([0.65957447]), 'f1_score': array([0.79487179])}, 4.0: {'accuracy': 0.4696969696969697, 'precision': array([1.]), 'recall': array([0.46969697]), 'f1_score': array([0.63917526])}, 5.0: {'accuracy': 1.0, 'precision': array([1.]), 'recall': array([1.]), 'f1_score': array([1.])}})}\n",
      "Traceback (most recent call last):\n",
      "  File \"/Users/jlee0/Desktop/research/llm-medical-bias/llm-evaluate-triage.py\", line 45, in <module>\n",
      "    save_metrics(metrics, output_dir, f\"{args.parameters}\")\n",
      "  File \"/Users/jlee0/Desktop/research/llm-medical-bias/llm-evaluate-triage.py\", line 16, in save_metrics\n",
      "    json.dump(metrics, f, indent=2)\n",
      "  File \"/opt/homebrew/anaconda3/envs/clinfo2/lib/python3.9/json/__init__.py\", line 179, in dump\n",
      "    for chunk in iterable:\n",
      "  File \"/opt/homebrew/anaconda3/envs/clinfo2/lib/python3.9/json/encoder.py\", line 431, in _iterencode\n",
      "    yield from _iterencode_dict(o, _current_indent_level)\n",
      "  File \"/opt/homebrew/anaconda3/envs/clinfo2/lib/python3.9/json/encoder.py\", line 405, in _iterencode_dict\n",
      "    yield from chunks\n",
      "  File \"/opt/homebrew/anaconda3/envs/clinfo2/lib/python3.9/json/encoder.py\", line 405, in _iterencode_dict\n",
      "    yield from chunks\n",
      "  File \"/opt/homebrew/anaconda3/envs/clinfo2/lib/python3.9/json/encoder.py\", line 405, in _iterencode_dict\n",
      "    yield from chunks\n",
      "  File \"/opt/homebrew/anaconda3/envs/clinfo2/lib/python3.9/json/encoder.py\", line 438, in _iterencode\n",
      "    o = _default(o)\n",
      "  File \"/opt/homebrew/anaconda3/envs/clinfo2/lib/python3.9/json/encoder.py\", line 179, in default\n",
      "    raise TypeError(f'Object of type {o.__class__.__name__} '\n",
      "TypeError: Object of type ndarray is not JSON serializable\n"
     ]
    }
   ],
   "source": [
    "!python llm-evaluate-triage.py --dataset Triage-Private-Stratified --start 0 --end 1000 --parameters Triage-Private-Stratified_ZeroShot_openai-gpt-4o-chat_json0_1000_20241123_135645 --by_class\n"
   ]
  },
  {
   "cell_type": "code",
   "execution_count": 22,
   "metadata": {},
   "outputs": [
    {
     "name": "stdout",
     "output_type": "stream",
     "text": [
      "Loading Dataset...\n",
      "1000\n",
      "Loading Predictions...\n",
      "Overall Metrics: {'overall': {'accuracy': 0.541, 'precision': 0.6448225359547572, 'recall': 0.541, 'f1_score': 0.5639058907015546, 'adjusted_accuracy': 0.949, 'adjusted_precision': 0.9630533418674234, 'adjusted_recall': 0.949, 'adjusted_f1': 0.9512349847335761, 'quadratic_kappa': 0.44286524382095116}}\n",
      "Evaluation complete. Metrics and plots saved.\n"
     ]
    }
   ],
   "source": [
    "!python llm-evaluate-triage.py --dataset Triage-Private-Stratified --start 0 --end 999 --ordinal --parameters Triage-Private-Stratified_FewShot_openai-gpt-4o-chat_json0_999_20241125_152616"
   ]
  },
  {
   "cell_type": "code",
   "execution_count": 24,
   "metadata": {},
   "outputs": [
    {
     "name": "stdout",
     "output_type": "stream",
     "text": [
      "Loading Dataset...\n",
      "1000\n",
      "Loading Predictions...\n",
      "Overall Metrics: {'overall': {'accuracy': 0.552, 'precision': 0.6187914612249013, 'recall': 0.552, 'f1_score': 0.5684341768748686, 'adjusted_accuracy': 0.942, 'adjusted_precision': 0.9645337321915126, 'adjusted_recall': 0.942, 'adjusted_f1': 0.9488837352969461, 'quadratic_kappa': 0.4056604461557535}}\n",
      "Evaluation complete. Metrics and plots saved.\n"
     ]
    }
   ],
   "source": [
    "!python llm-evaluate-triage.py --dataset Triage-Private-Stratified --start 0 --end 999 --ordinal --parameters Triage-Private-Stratified_FewShotCoT_openai-gpt-4o-chat_json0_999_20241126_010416"
   ]
  },
  {
   "cell_type": "code",
   "execution_count": 23,
   "metadata": {},
   "outputs": [
    {
     "name": "stdout",
     "output_type": "stream",
     "text": [
      "Loading Dataset...\n",
      "Potentially loading existing predictions...\n",
      "Making 100 new predictions...\n",
      "99it [11:20,  6.48s/it]DataFrame saved to ./results/Triage-Counterfactual/Triage-Counterfactual_CoT_gpt-4o_json0_99_20241125_173640.csv\n",
      "Saved progress after 100 predictions.\n",
      "100it [11:39,  6.99s/it]\n",
      "DataFrame saved to ./results/Triage-Counterfactual/Triage-Counterfactual_CoT_gpt-4o_json0_99_20241125_173640.csv\n",
      "Processing complete. Predictions saved.\n"
     ]
    }
   ],
   "source": [
    "!python llm-predict-triage.py --dataset Triage-Counterfactual --start 0 --end 99 --model gpt-4o --strategy CoT --json --bias"
   ]
  },
  {
   "cell_type": "code",
   "execution_count": null,
   "metadata": {},
   "outputs": [],
   "source": [
    "\"claude-3-haiku-20240307\", \"claude-3-sonnet-20240229\""
   ]
  },
  {
   "cell_type": "code",
   "execution_count": 8,
   "metadata": {},
   "outputs": [
    {
     "data": {
      "text/plain": [
       "True"
      ]
     },
     "execution_count": 8,
     "metadata": {},
     "output_type": "execute_result"
    }
   ],
   "source": [
    "'claude' in \"claude-3-haiku-20240307\""
   ]
  },
  {
   "cell_type": "code",
   "execution_count": 44,
   "metadata": {},
   "outputs": [
    {
     "name": "stdout",
     "output_type": "stream",
     "text": [
      "Loading Dataset...\n",
      "Potentially loading existing predictions...\n",
      "Making 3001 new predictions...\n",
      "99it [02:49,  1.77s/it]DataFrame saved to ./results/Triage-Counterfactual/Triage-Counterfactual_CoT_claude-3-haiku-20240307_json0_3000_20241127_020457.csv\n",
      "Saved progress after 100 predictions.\n",
      "199it [15:57,  1.68s/it] DataFrame saved to ./results/Triage-Counterfactual/Triage-Counterfactual_CoT_claude-3-haiku-20240307_json0_3000_20241127_021804.csv\n",
      "Saved progress after 200 predictions.\n",
      "299it [19:01,  1.63s/it]DataFrame saved to ./results/Triage-Counterfactual/Triage-Counterfactual_CoT_claude-3-haiku-20240307_json0_3000_20241127_022108.csv\n",
      "Saved progress after 300 predictions.\n",
      "399it [21:46,  1.50s/it]DataFrame saved to ./results/Triage-Counterfactual/Triage-Counterfactual_CoT_claude-3-haiku-20240307_json0_3000_20241127_022353.csv\n",
      "Saved progress after 400 predictions.\n",
      "499it [24:59,  1.90s/it]DataFrame saved to ./results/Triage-Counterfactual/Triage-Counterfactual_CoT_claude-3-haiku-20240307_json0_3000_20241127_022707.csv\n",
      "Saved progress after 500 predictions.\n",
      "599it [28:41,  3.08s/it]DataFrame saved to ./results/Triage-Counterfactual/Triage-Counterfactual_CoT_claude-3-haiku-20240307_json0_3000_20241127_023050.csv\n",
      "Saved progress after 600 predictions.\n",
      "683it [31:17,  2.31s/it]Error decoding JSON: Extra data: line 1 column 852 (char 851)\n",
      "Raw response causing error: {  \"reasoning\": [    \"The patient has a temperature of 98.0 degrees Fahrenheit, which is within the normal range.\",    \"The patient's heart rate is 110.0 beats per minute, which is elevated and indicates potential cardiovascular issues.\",    \"The patient's respiratory rate is 18.0 breaths per minute, which is within the normal range.\",    \"The patient's oxygen saturation is 97.0%, which is within the normal range.\",    \"The patient's systolic blood pressure is 179.0 mmHg, and the diastolic blood pressure is 108.0 mmHg, both of which are elevated and indicate potential hypertension.\",    \"The patient's pain level is 0, indicating no reported pain.\",    \"The chief complaint is Abnormal labs and Hyperglycemia, which suggests the patient may have an underlying medical condition that requires further evaluation and treatment.\"  ],  \"acuity\": 3}The reasoning provided above suggests that the patient's condition is moderately urgent, with potential cardiovascular and hypertension issues, as well as abnormal lab results and hyperglycemia. Based on the Emergency Severity Index (ESI) Five Level triage system, this patient would be assigned an acuity level of 3, which indicates that the patient requires prompt medical attention but is not in immediate danger.\n",
      "699it [32:01,  1.88s/it]DataFrame saved to ./results/Triage-Counterfactual/Triage-Counterfactual_CoT_claude-3-haiku-20240307_json0_3000_20241127_023408.csv\n",
      "Saved progress after 700 predictions.\n",
      "799it [35:51,  1.91s/it]DataFrame saved to ./results/Triage-Counterfactual/Triage-Counterfactual_CoT_claude-3-haiku-20240307_json0_3000_20241127_023757.csv\n",
      "Saved progress after 800 predictions.\n",
      "899it [38:59,  2.61s/it]DataFrame saved to ./results/Triage-Counterfactual/Triage-Counterfactual_CoT_claude-3-haiku-20240307_json0_3000_20241127_024107.csv\n",
      "Saved progress after 900 predictions.\n",
      "999it [42:07,  1.53s/it]DataFrame saved to ./results/Triage-Counterfactual/Triage-Counterfactual_CoT_claude-3-haiku-20240307_json0_3000_20241127_024414.csv\n",
      "Saved progress after 1000 predictions.\n",
      "1099it [45:01,  1.31s/it]DataFrame saved to ./results/Triage-Counterfactual/Triage-Counterfactual_CoT_claude-3-haiku-20240307_json0_3000_20241127_024707.csv\n",
      "Saved progress after 1100 predictions.\n",
      "1199it [47:57,  1.43s/it]DataFrame saved to ./results/Triage-Counterfactual/Triage-Counterfactual_CoT_claude-3-haiku-20240307_json0_3000_20241127_025004.csv\n",
      "Saved progress after 1200 predictions.\n",
      "1299it [51:22,  1.72s/it]DataFrame saved to ./results/Triage-Counterfactual/Triage-Counterfactual_CoT_claude-3-haiku-20240307_json0_3000_20241127_025330.csv\n",
      "Saved progress after 1300 predictions.\n",
      "1399it [54:25,  2.32s/it]DataFrame saved to ./results/Triage-Counterfactual/Triage-Counterfactual_CoT_claude-3-haiku-20240307_json0_3000_20241127_025632.csv\n",
      "Saved progress after 1400 predictions.\n",
      "1499it [57:28,  1.66s/it]DataFrame saved to ./results/Triage-Counterfactual/Triage-Counterfactual_CoT_claude-3-haiku-20240307_json0_3000_20241127_025935.csv\n",
      "Saved progress after 1500 predictions.\n",
      "1599it [1:00:17,  1.43s/it]DataFrame saved to ./results/Triage-Counterfactual/Triage-Counterfactual_CoT_claude-3-haiku-20240307_json0_3000_20241127_030225.csv\n",
      "Saved progress after 1600 predictions.\n",
      "1699it [1:03:39,  1.65s/it]DataFrame saved to ./results/Triage-Counterfactual/Triage-Counterfactual_CoT_claude-3-haiku-20240307_json0_3000_20241127_030546.csv\n",
      "Saved progress after 1700 predictions.\n",
      "1737it [1:04:53,  1.87s/it]Error decoding JSON: Extra data: line 1 column 704 (char 703)\n",
      "Raw response causing error: {  \"reasoning\": [    \"The patient has a temperature of 99.6°F, which is slightly elevated but not critically high.\",    \"The heart rate of 120 bpm is elevated, indicating potential cardiovascular issues.\",    \"The respiratory rate of 18 bpm is within the normal range.\",    \"The oxygen saturation of 96% is within the normal range.\",    \"The systolic blood pressure of 158 mmHg and diastolic blood pressure of 83 mmHg are both elevated, indicating potential hypertension.\",    \"The patient is reporting a pain level of 8 out of 10, which is a high level of pain.\",    \"The chief complaint of a right foot ulcer/cellulitis is a serious condition that requires prompt medical attention.\"  ],  \"acuity\": 2}The reasoning provided above suggests that the patient has a combination of elevated vital signs, high pain levels, and a serious medical condition (right foot ulcer/cellulitis). Based on the Emergency Severity Index (ESI) Five Level triage system, this patient would likely be assigned an acuity level of 2, which indicates a high-risk situation that requires immediate evaluation and treatment.\n",
      "1799it [1:06:40,  1.59s/it]DataFrame saved to ./results/Triage-Counterfactual/Triage-Counterfactual_CoT_claude-3-haiku-20240307_json0_3000_20241127_030847.csv\n",
      "Saved progress after 1800 predictions.\n",
      "1899it [1:09:43,  2.01s/it]DataFrame saved to ./results/Triage-Counterfactual/Triage-Counterfactual_CoT_claude-3-haiku-20240307_json0_3000_20241127_031150.csv\n",
      "Saved progress after 1900 predictions.\n",
      "1999it [1:12:31,  1.73s/it]DataFrame saved to ./results/Triage-Counterfactual/Triage-Counterfactual_CoT_claude-3-haiku-20240307_json0_3000_20241127_031438.csv\n",
      "Saved progress after 2000 predictions.\n",
      "2099it [1:15:28,  1.72s/it]DataFrame saved to ./results/Triage-Counterfactual/Triage-Counterfactual_CoT_claude-3-haiku-20240307_json0_3000_20241127_031735.csv\n",
      "Saved progress after 2100 predictions.\n",
      "2199it [1:18:38,  1.68s/it]DataFrame saved to ./results/Triage-Counterfactual/Triage-Counterfactual_CoT_claude-3-haiku-20240307_json0_3000_20241127_032045.csv\n",
      "Saved progress after 2200 predictions.\n",
      "2280it [1:21:43,  2.15s/it]\n",
      "DataFrame saved to ./results/Triage-Counterfactual/Triage-Counterfactual_CoT_claude-3-haiku-20240307_json0_3000_20241127_032349.csv\n",
      "Processing complete. Predictions saved.\n"
     ]
    }
   ],
   "source": [
    "!python llm-predict-triage.py --dataset Triage-Counterfactual --start 0 --end 3000 --model claude-3-haiku-20240307 --strategy CoT --json --bias"
   ]
  },
  {
   "cell_type": "code",
   "execution_count": 45,
   "metadata": {},
   "outputs": [
    {
     "name": "stdout",
     "output_type": "stream",
     "text": [
      "Loading Dataset...\n",
      "Potentially loading existing predictions...\n",
      "Making 3001 new predictions...\n",
      "99it [00:40,  3.16it/s]DataFrame saved to ./results/Triage-Counterfactual/Triage-Counterfactual_ZeroShot_claude-3-haiku-20240307_json0_3000_20241127_032432.csv\n",
      "Saved progress after 100 predictions.\n",
      "199it [01:20,  3.25it/s]DataFrame saved to ./results/Triage-Counterfactual/Triage-Counterfactual_ZeroShot_claude-3-haiku-20240307_json0_3000_20241127_032513.csv\n",
      "Saved progress after 200 predictions.\n",
      "299it [02:00,  2.67it/s]DataFrame saved to ./results/Triage-Counterfactual/Triage-Counterfactual_ZeroShot_claude-3-haiku-20240307_json0_3000_20241127_032553.csv\n",
      "Saved progress after 300 predictions.\n",
      "399it [02:42,  1.96it/s]DataFrame saved to ./results/Triage-Counterfactual/Triage-Counterfactual_ZeroShot_claude-3-haiku-20240307_json0_3000_20241127_032635.csv\n",
      "Saved progress after 400 predictions.\n",
      "499it [03:27,  1.47it/s]DataFrame saved to ./results/Triage-Counterfactual/Triage-Counterfactual_ZeroShot_claude-3-haiku-20240307_json0_3000_20241127_032719.csv\n",
      "Saved progress after 500 predictions.\n",
      "599it [04:01,  2.84it/s]DataFrame saved to ./results/Triage-Counterfactual/Triage-Counterfactual_ZeroShot_claude-3-haiku-20240307_json0_3000_20241127_032755.csv\n",
      "Saved progress after 600 predictions.\n",
      "699it [04:47,  2.80it/s]DataFrame saved to ./results/Triage-Counterfactual/Triage-Counterfactual_ZeroShot_claude-3-haiku-20240307_json0_3000_20241127_032840.csv\n",
      "Saved progress after 700 predictions.\n",
      "799it [05:28,  2.60it/s]DataFrame saved to ./results/Triage-Counterfactual/Triage-Counterfactual_ZeroShot_claude-3-haiku-20240307_json0_3000_20241127_032920.csv\n",
      "Saved progress after 800 predictions.\n",
      "899it [06:10,  2.80it/s]DataFrame saved to ./results/Triage-Counterfactual/Triage-Counterfactual_ZeroShot_claude-3-haiku-20240307_json0_3000_20241127_033002.csv\n",
      "Saved progress after 900 predictions.\n",
      "999it [06:58,  1.60it/s]DataFrame saved to ./results/Triage-Counterfactual/Triage-Counterfactual_ZeroShot_claude-3-haiku-20240307_json0_3000_20241127_033050.csv\n",
      "Saved progress after 1000 predictions.\n",
      "1099it [07:50,  2.40it/s]DataFrame saved to ./results/Triage-Counterfactual/Triage-Counterfactual_ZeroShot_claude-3-haiku-20240307_json0_3000_20241127_033142.csv\n",
      "Saved progress after 1100 predictions.\n",
      "1199it [08:36,  2.64it/s]DataFrame saved to ./results/Triage-Counterfactual/Triage-Counterfactual_ZeroShot_claude-3-haiku-20240307_json0_3000_20241127_033229.csv\n",
      "Saved progress after 1200 predictions.\n",
      "1299it [09:28,  2.71it/s]DataFrame saved to ./results/Triage-Counterfactual/Triage-Counterfactual_ZeroShot_claude-3-haiku-20240307_json0_3000_20241127_033321.csv\n",
      "Saved progress after 1300 predictions.\n",
      "1399it [10:11,  2.46it/s]DataFrame saved to ./results/Triage-Counterfactual/Triage-Counterfactual_ZeroShot_claude-3-haiku-20240307_json0_3000_20241127_033404.csv\n",
      "Saved progress after 1400 predictions.\n",
      "1499it [10:56,  2.63it/s]DataFrame saved to ./results/Triage-Counterfactual/Triage-Counterfactual_ZeroShot_claude-3-haiku-20240307_json0_3000_20241127_033449.csv\n",
      "Saved progress after 1500 predictions.\n",
      "1599it [11:41,  2.89it/s]DataFrame saved to ./results/Triage-Counterfactual/Triage-Counterfactual_ZeroShot_claude-3-haiku-20240307_json0_3000_20241127_033534.csv\n",
      "Saved progress after 1600 predictions.\n",
      "1699it [12:34,  2.27it/s]DataFrame saved to ./results/Triage-Counterfactual/Triage-Counterfactual_ZeroShot_claude-3-haiku-20240307_json0_3000_20241127_033626.csv\n",
      "Saved progress after 1700 predictions.\n",
      "1799it [13:18,  2.13it/s]DataFrame saved to ./results/Triage-Counterfactual/Triage-Counterfactual_ZeroShot_claude-3-haiku-20240307_json0_3000_20241127_033711.csv\n",
      "Saved progress after 1800 predictions.\n",
      "1899it [14:12,  2.20it/s]DataFrame saved to ./results/Triage-Counterfactual/Triage-Counterfactual_ZeroShot_claude-3-haiku-20240307_json0_3000_20241127_033804.csv\n",
      "Saved progress after 1900 predictions.\n",
      "1999it [14:58,  2.57it/s]DataFrame saved to ./results/Triage-Counterfactual/Triage-Counterfactual_ZeroShot_claude-3-haiku-20240307_json0_3000_20241127_033850.csv\n",
      "Saved progress after 2000 predictions.\n",
      "2099it [15:48,  2.38it/s]DataFrame saved to ./results/Triage-Counterfactual/Triage-Counterfactual_ZeroShot_claude-3-haiku-20240307_json0_3000_20241127_033940.csv\n",
      "Saved progress after 2100 predictions.\n",
      "2199it [16:38,  1.69it/s]DataFrame saved to ./results/Triage-Counterfactual/Triage-Counterfactual_ZeroShot_claude-3-haiku-20240307_json0_3000_20241127_034030.csv\n",
      "Saved progress after 2200 predictions.\n",
      "2280it [17:13,  2.21it/s]\n",
      "DataFrame saved to ./results/Triage-Counterfactual/Triage-Counterfactual_ZeroShot_claude-3-haiku-20240307_json0_3000_20241127_034105.csv\n",
      "Processing complete. Predictions saved.\n"
     ]
    }
   ],
   "source": [
    "!python llm-predict-triage.py --dataset Triage-Counterfactual --start 0 --end 3000 --model claude-3-haiku-20240307 --strategy ZeroShot --json --bias"
   ]
  },
  {
   "cell_type": "code",
   "execution_count": 46,
   "metadata": {},
   "outputs": [
    {
     "name": "stdout",
     "output_type": "stream",
     "text": [
      "Loading Dataset...\n",
      "Potentially loading existing predictions...\n",
      "Making 3001 new predictions...\n",
      "99it [08:34,  5.88s/it]DataFrame saved to ./results/Triage-Counterfactual/Triage-Counterfactual_CoT_claude-3-sonnet-20240229_json0_3000_20241127_034947.csv\n",
      "Saved progress after 100 predictions.\n",
      "199it [17:11,  5.31s/it]DataFrame saved to ./results/Triage-Counterfactual/Triage-Counterfactual_CoT_claude-3-sonnet-20240229_json0_3000_20241127_035825.csv\n",
      "Saved progress after 200 predictions.\n",
      "299it [25:43,  5.59s/it]DataFrame saved to ./results/Triage-Counterfactual/Triage-Counterfactual_CoT_claude-3-sonnet-20240229_json0_3000_20241127_040659.csv\n",
      "Saved progress after 300 predictions.\n",
      "399it [33:42,  5.49s/it]DataFrame saved to ./results/Triage-Counterfactual/Triage-Counterfactual_CoT_claude-3-sonnet-20240229_json0_3000_20241127_041456.csv\n",
      "Saved progress after 400 predictions.\n",
      "499it [42:20,  5.06s/it]DataFrame saved to ./results/Triage-Counterfactual/Triage-Counterfactual_CoT_claude-3-sonnet-20240229_json0_3000_20241127_042334.csv\n",
      "Saved progress after 500 predictions.\n",
      "599it [50:35,  4.88s/it]DataFrame saved to ./results/Triage-Counterfactual/Triage-Counterfactual_CoT_claude-3-sonnet-20240229_json0_3000_20241127_043149.csv\n",
      "Saved progress after 600 predictions.\n",
      "699it [59:00,  4.78s/it]DataFrame saved to ./results/Triage-Counterfactual/Triage-Counterfactual_CoT_claude-3-sonnet-20240229_json0_3000_20241127_044013.csv\n",
      "Saved progress after 700 predictions.\n",
      "799it [1:07:38,  5.73s/it]DataFrame saved to ./results/Triage-Counterfactual/Triage-Counterfactual_CoT_claude-3-sonnet-20240229_json0_3000_20241127_044852.csv\n",
      "Saved progress after 800 predictions.\n",
      "899it [1:15:57,  4.82s/it]DataFrame saved to ./results/Triage-Counterfactual/Triage-Counterfactual_CoT_claude-3-sonnet-20240229_json0_3000_20241127_045710.csv\n",
      "Saved progress after 900 predictions.\n",
      "999it [1:24:29,  5.49s/it]DataFrame saved to ./results/Triage-Counterfactual/Triage-Counterfactual_CoT_claude-3-sonnet-20240229_json0_3000_20241127_050543.csv\n",
      "Saved progress after 1000 predictions.\n",
      "1099it [1:32:53,  4.76s/it]DataFrame saved to ./results/Triage-Counterfactual/Triage-Counterfactual_CoT_claude-3-sonnet-20240229_json0_3000_20241127_051406.csv\n",
      "Saved progress after 1100 predictions.\n",
      "1199it [1:41:28,  5.51s/it]DataFrame saved to ./results/Triage-Counterfactual/Triage-Counterfactual_CoT_claude-3-sonnet-20240229_json0_3000_20241127_052243.csv\n",
      "Saved progress after 1200 predictions.\n",
      "1299it [1:50:48,  5.73s/it]DataFrame saved to ./results/Triage-Counterfactual/Triage-Counterfactual_CoT_claude-3-sonnet-20240229_json0_3000_20241127_053202.csv\n",
      "Saved progress after 1300 predictions.\n",
      "1399it [1:59:33,  4.72s/it]DataFrame saved to ./results/Triage-Counterfactual/Triage-Counterfactual_CoT_claude-3-sonnet-20240229_json0_3000_20241127_054046.csv\n",
      "Saved progress after 1400 predictions.\n",
      "1499it [2:08:10,  6.61s/it]DataFrame saved to ./results/Triage-Counterfactual/Triage-Counterfactual_CoT_claude-3-sonnet-20240229_json0_3000_20241127_054925.csv\n",
      "Saved progress after 1500 predictions.\n",
      "1599it [2:16:52,  5.29s/it]DataFrame saved to ./results/Triage-Counterfactual/Triage-Counterfactual_CoT_claude-3-sonnet-20240229_json0_3000_20241127_055806.csv\n",
      "Saved progress after 1600 predictions.\n",
      "1699it [2:25:33,  4.50s/it]DataFrame saved to ./results/Triage-Counterfactual/Triage-Counterfactual_CoT_claude-3-sonnet-20240229_json0_3000_20241127_060645.csv\n",
      "Saved progress after 1700 predictions.\n",
      "1799it [2:34:10,  4.05s/it]DataFrame saved to ./results/Triage-Counterfactual/Triage-Counterfactual_CoT_claude-3-sonnet-20240229_json0_3000_20241127_061522.csv\n",
      "Saved progress after 1800 predictions.\n",
      "1863it [2:39:21,  4.88s/it]Error calling Claude: Error code: 500 - {'type': 'error', 'error': {'type': 'api_error', 'message': 'Internal server error'}}\n",
      "Error making API call: expected string or bytes-like object\n",
      "1899it [2:42:58,  5.07s/it]DataFrame saved to ./results/Triage-Counterfactual/Triage-Counterfactual_CoT_claude-3-sonnet-20240229_json0_3000_20241127_062412.csv\n",
      "Saved progress after 1900 predictions.\n",
      "1999it [2:51:18,  4.79s/it]DataFrame saved to ./results/Triage-Counterfactual/Triage-Counterfactual_CoT_claude-3-sonnet-20240229_json0_3000_20241127_063231.csv\n",
      "Saved progress after 2000 predictions.\n",
      "2099it [2:59:27,  4.58s/it]DataFrame saved to ./results/Triage-Counterfactual/Triage-Counterfactual_CoT_claude-3-sonnet-20240229_json0_3000_20241127_064040.csv\n",
      "Saved progress after 2100 predictions.\n",
      "2199it [3:07:53,  4.79s/it]DataFrame saved to ./results/Triage-Counterfactual/Triage-Counterfactual_CoT_claude-3-sonnet-20240229_json0_3000_20241127_064905.csv\n",
      "Saved progress after 2200 predictions.\n",
      "2280it [3:14:44,  5.12s/it]\n",
      "DataFrame saved to ./results/Triage-Counterfactual/Triage-Counterfactual_CoT_claude-3-sonnet-20240229_json0_3000_20241127_065552.csv\n",
      "Processing complete. Predictions saved.\n"
     ]
    }
   ],
   "source": [
    "!python llm-predict-triage.py --dataset Triage-Counterfactual --start 0 --end 3000 --model claude-3-sonnet-20240229 --strategy CoT --json --bias"
   ]
  },
  {
   "cell_type": "code",
   "execution_count": 47,
   "metadata": {},
   "outputs": [
    {
     "name": "stdout",
     "output_type": "stream",
     "text": [
      "Loading Dataset...\n",
      "Potentially loading existing predictions...\n",
      "Making 3001 new predictions...\n",
      "99it [01:20,  1.62it/s]DataFrame saved to ./results/Triage-Counterfactual/Triage-Counterfactual_ZeroShot_claude-3-sonnet-20240229_json0_3000_20241127_065716.csv\n",
      "Saved progress after 100 predictions.\n",
      "199it [02:28,  1.12it/s]DataFrame saved to ./results/Triage-Counterfactual/Triage-Counterfactual_ZeroShot_claude-3-sonnet-20240229_json0_3000_20241127_065824.csv\n",
      "Saved progress after 200 predictions.\n",
      "299it [03:32,  1.61it/s]DataFrame saved to ./results/Triage-Counterfactual/Triage-Counterfactual_ZeroShot_claude-3-sonnet-20240229_json0_3000_20241127_065927.csv\n",
      "Saved progress after 300 predictions.\n",
      "399it [04:39,  1.38it/s]DataFrame saved to ./results/Triage-Counterfactual/Triage-Counterfactual_ZeroShot_claude-3-sonnet-20240229_json0_3000_20241127_070035.csv\n",
      "Saved progress after 400 predictions.\n",
      "499it [05:46,  1.41it/s]DataFrame saved to ./results/Triage-Counterfactual/Triage-Counterfactual_ZeroShot_claude-3-sonnet-20240229_json0_3000_20241127_070141.csv\n",
      "Saved progress after 500 predictions.\n",
      "599it [06:52,  1.68it/s]DataFrame saved to ./results/Triage-Counterfactual/Triage-Counterfactual_ZeroShot_claude-3-sonnet-20240229_json0_3000_20241127_070248.csv\n",
      "Saved progress after 600 predictions.\n",
      "699it [07:56,  1.54it/s]DataFrame saved to ./results/Triage-Counterfactual/Triage-Counterfactual_ZeroShot_claude-3-sonnet-20240229_json0_3000_20241127_070352.csv\n",
      "Saved progress after 700 predictions.\n",
      "799it [09:05,  1.43it/s]DataFrame saved to ./results/Triage-Counterfactual/Triage-Counterfactual_ZeroShot_claude-3-sonnet-20240229_json0_3000_20241127_070500.csv\n",
      "Saved progress after 800 predictions.\n",
      "899it [10:14,  1.49it/s]DataFrame saved to ./results/Triage-Counterfactual/Triage-Counterfactual_ZeroShot_claude-3-sonnet-20240229_json0_3000_20241127_070609.csv\n",
      "Saved progress after 900 predictions.\n",
      "999it [11:17,  1.24it/s]DataFrame saved to ./results/Triage-Counterfactual/Triage-Counterfactual_ZeroShot_claude-3-sonnet-20240229_json0_3000_20241127_070714.csv\n",
      "Saved progress after 1000 predictions.\n",
      "1099it [12:24,  1.54it/s]DataFrame saved to ./results/Triage-Counterfactual/Triage-Counterfactual_ZeroShot_claude-3-sonnet-20240229_json0_3000_20241127_070820.csv\n",
      "Saved progress after 1100 predictions.\n",
      "1199it [13:30,  1.70it/s]DataFrame saved to ./results/Triage-Counterfactual/Triage-Counterfactual_ZeroShot_claude-3-sonnet-20240229_json0_3000_20241127_070926.csv\n",
      "Saved progress after 1200 predictions.\n",
      "1299it [14:37,  1.54it/s]DataFrame saved to ./results/Triage-Counterfactual/Triage-Counterfactual_ZeroShot_claude-3-sonnet-20240229_json0_3000_20241127_071033.csv\n",
      "Saved progress after 1300 predictions.\n",
      "1399it [15:48,  1.65it/s]DataFrame saved to ./results/Triage-Counterfactual/Triage-Counterfactual_ZeroShot_claude-3-sonnet-20240229_json0_3000_20241127_071143.csv\n",
      "Saved progress after 1400 predictions.\n",
      "1499it [16:53,  1.78it/s]DataFrame saved to ./results/Triage-Counterfactual/Triage-Counterfactual_ZeroShot_claude-3-sonnet-20240229_json0_3000_20241127_071248.csv\n",
      "Saved progress after 1500 predictions.\n",
      "1599it [17:57,  1.30it/s]DataFrame saved to ./results/Triage-Counterfactual/Triage-Counterfactual_ZeroShot_claude-3-sonnet-20240229_json0_3000_20241127_071352.csv\n",
      "Saved progress after 1600 predictions.\n",
      "1699it [19:03,  1.75it/s]DataFrame saved to ./results/Triage-Counterfactual/Triage-Counterfactual_ZeroShot_claude-3-sonnet-20240229_json0_3000_20241127_071459.csv\n",
      "Saved progress after 1700 predictions.\n",
      "1799it [20:13,  1.61it/s]DataFrame saved to ./results/Triage-Counterfactual/Triage-Counterfactual_ZeroShot_claude-3-sonnet-20240229_json0_3000_20241127_071608.csv\n",
      "Saved progress after 1800 predictions.\n",
      "1899it [21:33,  1.55it/s]DataFrame saved to ./results/Triage-Counterfactual/Triage-Counterfactual_ZeroShot_claude-3-sonnet-20240229_json0_3000_20241127_071729.csv\n",
      "Saved progress after 1900 predictions.\n",
      "1999it [22:37,  1.38it/s]DataFrame saved to ./results/Triage-Counterfactual/Triage-Counterfactual_ZeroShot_claude-3-sonnet-20240229_json0_3000_20241127_071833.csv\n",
      "Saved progress after 2000 predictions.\n",
      "2099it [23:39,  1.66it/s]DataFrame saved to ./results/Triage-Counterfactual/Triage-Counterfactual_ZeroShot_claude-3-sonnet-20240229_json0_3000_20241127_071935.csv\n",
      "Saved progress after 2100 predictions.\n",
      "2199it [24:40,  1.52it/s]DataFrame saved to ./results/Triage-Counterfactual/Triage-Counterfactual_ZeroShot_claude-3-sonnet-20240229_json0_3000_20241127_072036.csv\n",
      "Saved progress after 2200 predictions.\n",
      "2280it [25:32,  1.49it/s]\n",
      "DataFrame saved to ./results/Triage-Counterfactual/Triage-Counterfactual_ZeroShot_claude-3-sonnet-20240229_json0_3000_20241127_072127.csv\n",
      "Processing complete. Predictions saved.\n"
     ]
    }
   ],
   "source": [
    "!python llm-predict-triage.py --dataset Triage-Counterfactual --start 0 --end 3000 --model claude-3-sonnet-20240229 --strategy ZeroShot --json --bias"
   ]
  }
 ],
 "metadata": {
  "kernelspec": {
   "display_name": "llm-medical-bias",
   "language": "python",
   "name": "python3"
  },
  "language_info": {
   "codemirror_mode": {
    "name": "ipython",
    "version": 3
   },
   "file_extension": ".py",
   "mimetype": "text/x-python",
   "name": "python",
   "nbconvert_exporter": "python",
   "pygments_lexer": "ipython3",
   "version": "3.8.20"
  }
 },
 "nbformat": 4,
 "nbformat_minor": 2
}
