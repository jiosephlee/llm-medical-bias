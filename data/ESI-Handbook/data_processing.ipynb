{
 "cells": [
  {
   "cell_type": "code",
   "execution_count": 3,
   "metadata": {},
   "outputs": [],
   "source": [
    "import pandas as pd\n",
    "df1 = pd.read_csv('./Test-1.csv')\n",
    "df2 = pd.read_csv('./Test-2.csv')\n",
    "df3 = pd.read_csv('./Test-3.csv')\n",
    "\n",
    "# Concatenate the DataFrames (stack them row-wise)\n",
    "combined_df = pd.concat([df1, df2, df3], ignore_index=True)\n",
    "\n",
    "# Optionally, write the combined DataFrame to a new CSV file\n",
    "combined_df.to_csv('test.csv', index=False)"
   ]
  },
  {
   "cell_type": "code",
   "execution_count": 3,
   "metadata": {},
   "outputs": [
    {
     "name": "stdout",
     "output_type": "stream",
     "text": [
      "train size: 88\n",
      "test size: 209\n",
      "Deduplicated train size: 88\n",
      "Deduplicated test size: 74\n",
      "Final train size: 88\n",
      "Final test size: 74\n"
     ]
    }
   ],
   "source": [
    "import pandas as pd\n",
    "\n",
    "# Load data\n",
    "train_df = pd.read_csv('./train.csv')\n",
    "test_df = pd.read_csv('./test_old.csv')\n",
    "\n",
    "\n",
    "print(f\"train size: {len(train_df)}\")\n",
    "print(f\"test size: {len(test_df)}\")\n",
    "\n",
    "# 1. Drop duplicates within each dataframe (based on both columns)\n",
    "train_df = train_df.drop_duplicates(subset=[\"Clinical Vignettes\", \"acuity\"])\n",
    "test_df = test_df.drop_duplicates(subset=[\"Clinical Vignettes\", \"acuity\"])\n",
    "\n",
    "\n",
    "print(f\"Deduplicated train size: {len(train_df)}\")\n",
    "print(f\"Deduplicated test size: {len(test_df)}\")\n",
    "\n",
    "# 2. Ensure train_df has no overlap with test_df\n",
    "train_df = train_df.merge(\n",
    "    test_df[[\"Clinical Vignettes\", \"acuity\"]],\n",
    "    on=[\"Clinical Vignettes\", \"acuity\"],\n",
    "    how=\"left\",\n",
    "    indicator=True\n",
    ").query('_merge == \"left_only\"').drop(columns=\"_merge\")\n",
    "\n",
    "print(f\"Final train size: {len(train_df)}\")\n",
    "print(f\"Final test size: {len(test_df)}\")\n",
    "\n",
    "test_df.to_csv('test.csv', index=False)\n"
   ]
  }
 ],
 "metadata": {
  "kernelspec": {
   "display_name": "unsloth",
   "language": "python",
   "name": "python3"
  },
  "language_info": {
   "codemirror_mode": {
    "name": "ipython",
    "version": 3
   },
   "file_extension": ".py",
   "mimetype": "text/x-python",
   "name": "python",
   "nbconvert_exporter": "python",
   "pygments_lexer": "ipython3",
   "version": "3.11.11"
  }
 },
 "nbformat": 4,
 "nbformat_minor": 2
}
