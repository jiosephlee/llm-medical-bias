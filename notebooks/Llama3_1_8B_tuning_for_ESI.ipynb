{
  "cells": [
    {
      "cell_type": "markdown",
      "metadata": {
        "id": "agnnArceDnsn"
      },
      "source": [
        "To run this, press \"*Runtime*\" and press \"*Run all*\" on a **free** Tesla T4 Google Colab instance!\n",
        "<div class=\"align-center\">\n",
        "<a href=\"https://unsloth.ai/\"><img src=\"https://github.com/unslothai/unsloth/raw/main/images/unsloth%20new%20logo.png\" width=\"115\"></a>\n",
        "<a href=\"https://discord.gg/unsloth\"><img src=\"https://github.com/unslothai/unsloth/raw/main/images/Discord button.png\" width=\"145\"></a>\n",
        "<a href=\"https://docs.unsloth.ai/\"><img src=\"https://github.com/unslothai/unsloth/blob/main/images/documentation%20green%20button.png?raw=true\" width=\"125\"></a></a> Join Discord if you need help + ⭐ <i>Star us on <a href=\"https://github.com/unslothai/unsloth\">Github</a> </i> ⭐\n",
        "</div>\n",
        "\n",
        "To install Unsloth on your own computer, follow the installation instructions on our Github page [here](https://docs.unsloth.ai/get-started/installing-+-updating).\n",
        "\n",
        "You will learn how to do [data prep](#Data), how to [train](#Train), how to [run the model](#Inference), & [how to save it](#Save)\n",
        "\n",
        "Visit our docs for all our [model uploads](https://docs.unsloth.ai/get-started/all-our-models) and [notebooks](https://docs.unsloth.ai/get-started/unsloth-notebooks).\n"
      ]
    },
    {
      "cell_type": "markdown",
      "metadata": {
        "id": "FNTWX2oaDnsp"
      },
      "source": [
        "### Installation"
      ]
    },
    {
      "cell_type": "code",
      "execution_count": 1,
      "metadata": {
        "id": "Ji8EO4ASDnsp"
      },
      "outputs": [],
      "source": [
        "%%capture\n",
        "# Normally using pip install unsloth is enough\n",
        "\n",
        "# Temporarily as of Jan 31st 2025, Colab has some issues with Pytorch\n",
        "# Using pip install unsloth will take 3 minutes, whilst the below takes <1 minute:\n",
        "!pip install --no-deps bitsandbytes accelerate xformers==0.0.29 peft trl triton\n",
        "!pip install --no-deps cut_cross_entropy unsloth_zoo\n",
        "!pip install sentencepiece protobuf datasets huggingface_hub hf_transfer\n",
        "!pip install --no-deps unsloth"
      ]
    },
    {
      "cell_type": "code",
      "execution_count": 1,
      "metadata": {},
      "outputs": [
        {
          "name": "stdout",
          "output_type": "stream",
          "text": [
            "🦥 Unsloth: Will patch your computer to enable 2x faster free finetuning.\n",
            "🦥 Unsloth Zoo will now patch everything to make training faster!\n",
            "INFO 08-01 14:19:27 [__init__.py:256] Automatically detected platform cuda.\n"
          ]
        }
      ],
      "source": [
        "from unsloth import FastLanguageModel\n",
        "import torch\n",
        "import re \n",
        "from tqdm import tqdm\n",
        "from datasets import load_dataset\n",
        "from sklearn.metrics import cohen_kappa_score, confusion_matrix\n",
        "import numpy as np\n",
        "import pandas as pd\n",
        "from datasets import Dataset\n",
        "\n",
        "import sys\n",
        "import os\n",
        "sys.path.append(os.path.abspath(\"..\"))\n",
        "from importlib import reload\n",
        "import utils.utils as utils\n",
        "reload(utils)\n",
        "\n",
        "max_seq_length = 1024 # Choose any! We auto support RoPE Scaling internally!\n",
        "dtype = None # None for auto detection. Float16 for Tesla T4, V100, Bfloat16 for Ampere+\n",
        "load_in_4bit = False # Use 4bit quantization to reduce memory usage. Can be False.\n",
        "# 4bit pre quantized models we support for 4x faster downloading + no OOMs.\n",
        "fourbit_models = [\n",
        "    \"unsloth/Meta-Llama-3.1-8B-bnb-4bit\",      # Llama-3.1 15 trillion tokens model 2x faster!\n",
        "    \"unsloth/Meta-Llama-3.1-8B-Instruct-bnb-4bit\",\n",
        "    \"unsloth/Meta-Llama-3.1-70B-bnb-4bit\",\n",
        "    \"unsloth/Meta-Llama-3.1-405B-bnb-4bit\",    # We also uploaded 4bit for 405b!\n",
        "    \"unsloth/Mistral-Nemo-Base-2407-bnb-4bit\", # New Mistral 12b 2x faster!\n",
        "    \"unsloth/Mistral-Nemo-Instruct-2407-bnb-4bit\",\n",
        "    \"unsloth/mistral-7b-v0.3-bnb-4bit\",        # Mistral v3 2x faster!\n",
        "    \"unsloth/mistral-7b-instruct-v0.3-bnb-4bit\",\n",
        "    \"unsloth/Phi-3.5-mini-instruct\",           # Phi-3.5 2x faster!\n",
        "    \"unsloth/Phi-3-medium-4k-instruct\",\n",
        "    \"unsloth/gemma-2-9b-bnb-4bit\",\n",
        "    \"unsloth/gemma-2-27b-bnb-4bit\",            # Gemma 2x faster!\n",
        "] # More models at https://huggingface.co/unsloth\n"
      ]
    },
    {
      "cell_type": "markdown",
      "metadata": {
        "id": "igDLlaCLDnsq"
      },
      "source": [
        "### Unsloth"
      ]
    },
    {
      "cell_type": "code",
      "execution_count": 2,
      "metadata": {
        "colab": {
          "base_uri": "https://localhost:8080/",
          "height": 300,
          "referenced_widgets": [
            "6e3c281f112b4a86af7a3ef95933d221",
            "92395f250a154006923aaf9ea0a9c30b",
            "f84bfc5390054ec687c157c4d68199a6",
            "4228734651ca45e19fc7bda79817f9b3",
            "4613edbbec6846edb5b1677c25d542b6",
            "d032fe2ba5d647d99026fdade758c0cd",
            "e9971d220fe24552a1e9aa299765cfb9",
            "2be29a4553ad4dfea8a9bc620c81a3ae",
            "94cbb87829d1486899e2ff6325c2ecdf",
            "f878c2e00bc240c7b0333cce950080e1",
            "6b908368de51428585552dfef6a83088",
            "ac5eacaaee8346c080e54ea7a52648a4",
            "7981edf408d54d41bbeac42da7492c6b",
            "2b848e5a85bc42bc87945fd9ed5db038",
            "e88c33f37d6849e0b1a6b41254104cb9",
            "33843107b93647b28985bfc37ea781ca",
            "76e5410e286a4a5abd6c213a38aa38bb",
            "ae7e90a811f94e75997d6a9ed1be8596",
            "bb9f3379310d4b04be694996f3137b28",
            "75082ba15db445df907f5612976590ae",
            "89934c4f26834f15b9889ec36fee3b65",
            "e887160635cb4803b9f33845df615ec6",
            "1c7bc5fdb7dd4c39af8d4c2c504ec3ed",
            "843a27e619534ea8914f9d36386c364b",
            "8f5adc70fbf248f2811527f620553be5",
            "4ffb4b2f015046fb94c1115ed0397a20",
            "5a232ed040f94633a2a374031284c1f6",
            "2006be31c09349738e221295bb84939f",
            "07055fc12b0841aaa5317f8252b5d347",
            "1eb90e686e214122ae763b1b79ae321d",
            "7a935956348e47c68fbdf05ddf4752f3",
            "8653acb618ad4e76bbf1daa00ea71238",
            "e3c3bd9c4c124b0a8c88c83c1fc747d3",
            "1bd75ddaf57c4438a4e2c3070b9cef65",
            "a3a3ef6d6337403cabea8b23f7c3021b",
            "c2ea0a3f01f34ffa8c94ab9b5098e9da",
            "68ea1d7cb8274a639b3fb5326f4218c3",
            "39fef7b257614a0595f39355fa226b69",
            "d125995cc0934239a01ba01b78529f21",
            "634ae4c6cfe04673b1cdc9c9cac4cbf9",
            "d7f92e8332374313bee87ccd427446a4",
            "36799fbcd90d43128620ff98225a825d",
            "5310346dd579424fa676b8e8e64790e7",
            "0c1835f404db4846bb13b5da8d8f4447",
            "29c5b713f07043dda51820523e5c8ff3",
            "d7375f0f048841b29a20601c122666e8",
            "f433ced9bfcd4a57ba691d3c1caeed08",
            "da8ffc70820a48f5a12c6d4b5967015b",
            "1a6db9aea6a64ae3aaef51d6265b35b2",
            "331f516c7a76456d801bc2a2feb228aa",
            "9be9074028da42d39d044a78393a861f",
            "51cd9026b1664819a67712996ca97bd5",
            "ea55293415ca48a4be97c2e1e4769122",
            "8ea52b105a7e44978caca33c0e7e815b",
            "3662f1445ef34a50b462e601ed31bb69"
          ]
        },
        "id": "QmUBVEnvCDJv",
        "outputId": "0a47b925-663d-4543-9c61-994a6302f3c5"
      },
      "outputs": [
        {
          "name": "stdout",
          "output_type": "stream",
          "text": [
            "==((====))==  Unsloth 2025.1.8: Fast Llama patching. Transformers: 4.48.2.\n",
            "   \\\\   /|    GPU: NVIDIA GeForce RTX 3090. Max memory: 23.586 GB. Platform: Linux.\n",
            "O^O/ \\_/ \\    Torch: 2.6.0+cu124. CUDA: 8.6. CUDA Toolkit: 12.4. Triton: 3.2.0\n",
            "\\        /    Bfloat16 = TRUE. FA [Xformers = 0.0.29.post2. FA2 = False]\n",
            " \"-____-\"     Free Apache license: http://github.com/unslothai/unsloth\n",
            "Unsloth: Fast downloading is enabled - ignore downloading bars which are red colored!\n"
          ]
        },
        {
          "name": "stderr",
          "output_type": "stream",
          "text": [
            "Loading checkpoint shards: 100%|██████████| 4/4 [00:03<00:00,  1.30it/s]\n",
            "Unsloth 2025.1.8 patched 32 layers with 32 QKV layers, 32 O layers and 32 MLP layers.\n"
          ]
        }
      ],
      "source": [
        "model, tokenizer = FastLanguageModel.from_pretrained(\n",
        "    model_name = \"./llama_3_1_8B_ESI_Handbook_10\",  #\"unsloth/Meta-Llama-3.1-8B-Instruct\",\n",
        "    max_seq_length = max_seq_length,\n",
        "    dtype = dtype,\n",
        "    load_in_4bit = load_in_4bit,\n",
        "    # token = \"hf_...\", # use one if using gated models like meta-llama/Llama-2-7b-hf\n",
        ")"
      ]
    },
    {
      "cell_type": "markdown",
      "metadata": {
        "id": "SXd9bTZd1aaL"
      },
      "source": [
        "We now add LoRA adapters so we only need to update 1 to 10% of all parameters!"
      ]
    },
    {
      "cell_type": "code",
      "execution_count": 3,
      "metadata": {
        "colab": {
          "base_uri": "https://localhost:8080/"
        },
        "id": "6bZsfBuZDeCL",
        "outputId": "3e2a4618-6aa0-4f1c-d3a0-0ec45eb33237"
      },
      "outputs": [
        {
          "name": "stderr",
          "output_type": "stream",
          "text": [
            "Unsloth: Already have LoRA adapters! We shall skip this step.\n"
          ]
        }
      ],
      "source": [
        "model = FastLanguageModel.get_peft_model(\n",
        "    model,\n",
        "    r = 32, # Choose any number > 0 ! Suggested 8, 16, 32, 64, 128\n",
        "    target_modules = [\"q_proj\", \"k_proj\", \"v_proj\", \"o_proj\",\n",
        "                      \"gate_proj\", \"up_proj\", \"down_proj\",],\n",
        "    lora_alpha = 16,\n",
        "    lora_dropout = 0, # Supports any, but = 0 is optimized\n",
        "    bias = \"none\",    # Supports any, but = \"none\" is optimized\n",
        "    # [NEW] \"unsloth\" uses 30% less VRAM, fits 2x larger batch sizes!\n",
        "    use_gradient_checkpointing = \"unsloth\", # True or \"unsloth\" for very long context\n",
        "    random_state = 3407,\n",
        "    use_rslora = False,  # We support rank stabilized LoRA\n",
        "    loftq_config = None, # And LoftQ\n",
        ")"
      ]
    },
    {
      "cell_type": "markdown",
      "metadata": {
        "id": "vITh0KVJ10qX"
      },
      "source": [
        "<a name=\"Data\"></a>\n",
        "### Data Prep\n",
        "We now use the Alpaca dataset from [yahma](https://huggingface.co/datasets/yahma/alpaca-cleaned), which is a filtered version of 52K of the original [Alpaca dataset](https://crfm.stanford.edu/2023/03/13/alpaca.html). You can replace this code section with your own data prep.\n",
        "\n",
        "**[NOTE]** To train only on completions (ignoring the user's input) read TRL's docs [here](https://huggingface.co/docs/trl/sft_trainer#train-on-completions-only).\n",
        "\n",
        "**[NOTE]** Remember to add the **EOS_TOKEN** to the tokenized output!! Otherwise you'll get infinite generations!\n",
        "\n",
        "If you want to use the `llama-3` template for ShareGPT datasets, try our conversational [notebook](https://colab.research.google.com/drive/1XamvWYinY6FOSX9GLvnqSjjsNflxdhNc?usp=sharing).\n",
        "\n",
        "For text completions like novel writing, try this [notebook](https://colab.research.google.com/drive/1ef-tab5bhkvWmBOObepl1WgJvfvSzn5Q?usp=sharing)."
      ]
    },
    {
      "cell_type": "code",
      "execution_count": 4,
      "metadata": {
        "colab": {
          "base_uri": "https://localhost:8080/",
          "height": 145,
          "referenced_widgets": [
            "5e8825fb770b41529f2129113cebc4a9",
            "0a9dc233674e4096b7a988a5e4ebaf84",
            "374fa9beda4042e1bf9a9b13de6e6674",
            "e6533d3c91fd4359bc84ffd8e59af5a3",
            "f9b01aebcbdc48a585b7942b0ee60a2d",
            "d4b3770433bc41818372b7aed243fb31",
            "19bcefcc1d874840ae9a9ca983e474b6",
            "4011ce9370d74fad857ec8e1e99d314f",
            "41f5fed060ad4c8d87b24602b720ef04",
            "88fcd51819b5483c9ab22df7ef89ab64",
            "e6ffac074f1b476ba2ade11b37732af3",
            "98a6716e7438429ea322adb3e3264f91",
            "68c686291b50430faeef0de7840e2c4b",
            "953625aa1e824f8a8d203197b316b302",
            "f899a815142542219bde22ff792fb60c",
            "51ca174d26e94b5cb1e895aa3c770655",
            "f4519637bb43400a80ce83505101e8a5",
            "805676b197c94f5aa45956daa354640b",
            "ce9fcc5eff1f460d80b703a4ca32dad1",
            "3fef797403d14440afe599a3bf06b626",
            "4e7cb8e988114ed4b6fe09ff9f682dff",
            "a14bc1c2130842568a5fde6698731e5f",
            "85cc6f24cba54563acb5598f54fed7b9",
            "80a72037771e4da9be989eefabbc8e76",
            "ba68b274c50b44ec9e02642378d271a6",
            "f84d2fe4f1c24a34948755abf1f32b7f",
            "86511967834f4484a5ec4af387b7d7a9",
            "c97c40c2bf2a41a8ae1c75e0a9c8ebff",
            "484e507f14424f2b9173595b985f4101",
            "68a32b398e1c490393e01befdc260785",
            "04cc963133d242779572d2e847fa3d65",
            "94730f13e92a4c9aac35c2cfb21fc48c",
            "620c0de28ec74f71a021a2be96dccf3a",
            "6e1aff64771c402ab070f650562fa4c9",
            "0078f897f2174217a307d95d4f9bd775",
            "ecdeaab4f8c94d6dade63bb06857c969",
            "735b85f0a0e9411cac4d704a504fcfc1",
            "8e992e60416145a8b6eed744287ca0fb",
            "8c195b5809604905b5e404baa30e8449",
            "2247efac4283489bbd228330344388ab",
            "e93d063faf984cc4aa51462418d9b57e",
            "9d45b9a5de3e4cba9ac35ad2cb187f51",
            "e99423a1ed3f4f72886b39368468b7c1",
            "5f174718e5974a7cab024d113f662513"
          ]
        },
        "id": "LjY75GoYUCB8",
        "outputId": "80d6c3b9-28c2-4ebf-9c57-6a0b77ce82b1"
      },
      "outputs": [
        {
          "name": "stderr",
          "output_type": "stream",
          "text": [
            "Parameter 'function'=<function <lambda> at 0x7fd2d44009a0> of the transform datasets.arrow_dataset.Dataset._map_single couldn't be hashed properly, a random hash was used instead. Make sure your transforms and parameters are serializable with pickle or dill for the dataset fingerprinting and caching to work. If you reuse this transform, the caching mechanism will consider it to be different from the previous calls and recompute everything. This warning is only showed once. Subsequent hashing failures won't be showed.\n",
            "Map: 100%|██████████| 89/89 [00:00<00:00, 18195.22 examples/s]\n",
            "Map: 100%|██████████| 89/89 [00:00<00:00, 40044.31 examples/s]"
          ]
        },
        {
          "name": "stdout",
          "output_type": "stream",
          "text": [
            "{'Clinic Vignettes': 'A 41-year-old male involved in a bicycle accident walks into the emergency department with his right arm in a sling. He tells you that he fell off his bike and landed on his right arm. His is complaining of pain in the wrist area and has a 2-centimeter laceration on his left elbow. “My helmet saved me,” he tells you.', 'Rationale': 'ESI level 3: Two or more resources. At a minimum, this patient will require an x ray of his right arm and suturing of his left elbow laceration.', 'Acuity': 3, 'input': 'A 41-year-old male involved in a bicycle accident walks into the emergency department with his right arm in a sling. He tells you that he fell off his bike and landed on his right arm. His is complaining of pain in the wrist area and has a 2-centimeter laceration on his left elbow. “My helmet saved me,” he tells you.', 'output': 'ESI level 3: Two or more resources. At a minimum, this patient will require an x ray of his right arm and suturing of his left elbow laceration.', 'text': 'A 41-year-old male involved in a bicycle accident walks into the emergency department with his right arm in a sling. He tells you that he fell off his bike and landed on his right arm. His is complaining of pain in the wrist area and has a 2-centimeter laceration on his left elbow. “My helmet saved me,” he tells you. Based on their clinical presentation, what Emergency Severity Index (ESI) acuity should the patient be assigned?\\n\\nESI level 3: Two or more resources. At a minimum, this patient will require an x ray of his right arm and suturing of his left elbow laceration.\\n<|eot_id|>'}\n"
          ]
        },
        {
          "name": "stderr",
          "output_type": "stream",
          "text": [
            "\n"
          ]
        }
      ],
      "source": [
        "reload(utils)\n",
        "# alpaca_prompt = \"\"\"Below is an instruction that describes a task, paired with an input that provides further context. Write a response that appropriately completes the request.\n",
        "\n",
        "# ### Instruction:\n",
        "# {}\n",
        "\n",
        "# ### Input:\n",
        "# {}\n",
        "\n",
        "# ### Response:\n",
        "# {}\"\"\"\n",
        "\n",
        "# EOS_TOKEN = tokenizer.eos_token # Must add EOS_TOKEN\n",
        "# def formatting_prompts_func(examples):\n",
        "#     instructions = examples[\"instruction\"]\n",
        "#     inputs       = examples[\"input\"]\n",
        "#     outputs      = examples[\"output\"]\n",
        "#     texts = []\n",
        "#     for instruction, input, output in zip(instructions, inputs, outputs):\n",
        "#         # Must add EOS_TOKEN, otherwise your generation will go on forever!\n",
        "#         text = alpaca_prompt.format(instruction, input, output) + EOS_TOKEN\n",
        "#         texts.append(text)\n",
        "#     return { \"text\" : texts, }\n",
        "# pass\n",
        "\n",
        "# from datasets import load_dataset\n",
        "# dataset = load_dataset(\"yahma/alpaca-cleaned\", split = \"train\")\n",
        "# dataset = dataset.map(formatting_prompts_func, batched = True,)\n",
        "\n",
        "EOS_TOKEN = tokenizer.eos_token  # Ensure EOS_TOKEN is defined\n",
        "\n",
        "# ---- 1. Define helper functions ----\n",
        "\n",
        "# Function to convert a CSV row into instruction, input, and output strings.\n",
        "def format_example(row,dataset='triage-ktas'):\n",
        "    if dataset == 'triage-ESI-train':\n",
        "        return {\"input\": row['Clinic Vignettes'], \"output\": row['Rationale']}\n",
        "    if dataset == 'triage-ESI-test':\n",
        "        return {\"input\": row['Clinical Vignettes'], \"output\": row['Acuity']}\n",
        "    # Create a natural language description of the patient.\n",
        "    patient_description = utils.format_row(row, dataset=dataset)\n",
        "    \n",
        "    # Define the instruction for the model.\n",
        "    if dataset=='triage-mimic':\n",
        "        instruction = \"Based on their clinical presentation, determine the Emergency Severity Index (ESI) acuity for the following patient.\"\n",
        "    elif dataset=='triage-ktas':\n",
        "        instruction = \"Based on their clinical presentation, determine the KTAS acuity for the following patient.\"\n",
        "\n",
        "    # The input is the patient description.\n",
        "    input_text = patient_description\n",
        "    \n",
        "    # The expected output is a formatted acuity statement.\n",
        "    if dataset == 'triage-ktas':\n",
        "        output_text = f\"The KTAS acuity for this patient is {row['KTAS_expert']}.\"\n",
        "    else:\n",
        "        output_text = f\"The ESI acuity for this patient is {row['acuity']}.\"\n",
        "    \n",
        "    # Return a dict that contains our three keys (and optionally the label for evaluation).\n",
        "    return {\"instruction\": instruction, \"input\": input_text, \"output\": output_text}\n",
        "\n",
        "# ---- 2. Load the CSV and convert to a Dataset ----\n",
        "\n",
        "# Read your CSV data.\n",
        "#train_df = pd.read_csv(\"../data/mimic-iv-private/anchor_year_group_datasets/2014_-_2016/small_train_dataset.csv\")\n",
        "#train_df = pd.read_csv(\"../data/kaggle/train.csv\")\n",
        "train_df = pd.read_csv(\"../data/ESI-handbook/Train_scenario.csv\")\n",
        "\n",
        "# Convert the pandas DataFrame into a Hugging Face Dataset.\n",
        "dataset = Dataset.from_pandas(train_df)\n",
        "\n",
        "# Map our serialization function over each example.\n",
        "dataset = dataset.map(lambda x: format_example(x,dataset='triage-ESI-train'))\n",
        "\n",
        "# ---- 3. Format the examples into a single prompt string ----\n",
        "\n",
        "# Define the Alpaca-style prompt template.\n",
        "alpaca_prompt = \"\"\"### Instruction: {}\n",
        "\n",
        "### Input: {}\n",
        "\n",
        "### Response: {}\"\"\"\n",
        "\n",
        "lima_prompt = \"\"\"{} Based on their clinical presentation, what Emergency Severity Index (ESI) acuity should the patient be assigned?\n",
        "\n",
        "{}\n",
        "\"\"\"\n",
        "\n",
        "# Function to wrap our instruction, input, and output into a single text string.\n",
        "def formatting_prompts_func(examples):\n",
        "    # instructions = examples[\"instruction\"]\n",
        "    inputs = examples[\"input\"]\n",
        "    outputs = examples[\"output\"]\n",
        "    texts = []\n",
        "    for input_text, output_text in zip(inputs, outputs):\n",
        "        # Append EOS_TOKEN to avoid infinite generation.\n",
        "        text = lima_prompt.format(input_text, output_text) + EOS_TOKEN\n",
        "        texts.append(text)\n",
        "    return {\"text\": texts}\n",
        "\n",
        "def formatting_prompts_func_test(examples):\n",
        "    # instructions = examples[\"instruction\"]\n",
        "    inputs = examples[\"input\"]\n",
        "    outputs = examples[\"output\"]\n",
        "    texts = []\n",
        "    for input_text, output_text in zip(inputs, outputs):\n",
        "        # Append EOS_TOKEN to avoid infinite generation.\n",
        "        text = lima_prompt.format(input_text, \"\")\n",
        "        texts.append(text)\n",
        "    return {\"text\": texts}\n",
        "\n",
        "\n",
        "# Map the formatting function over the dataset (batched for efficiency).\n",
        "dataset = dataset.map(formatting_prompts_func, batched=True)\n",
        "\n",
        "# ---- At this point, your dataset is in the format expected by your code. ----\n",
        "# Each example in the dataset now has a \"text\" field containing your full prompt.\n",
        "print(dataset[1])"
      ]
    },
    {
      "cell_type": "code",
      "execution_count": 8,
      "metadata": {},
      "outputs": [
        {
          "name": "stdout",
          "output_type": "stream",
          "text": [
            "{'Clinic Vignettes': '76-year-old male requests to see a doctor because his toenails are hard. Upon further questioning, the triage nurse ascertains that the patient is unable to cut his own toenails. He denies any breaks in the skin or signs of infection. He has a history of chronic obstructive pulmonary disease and uses several metered-dose inhalers. His vital signs are normal for his age.', 'Rationale': 'ESI level 5: No resources. This elderly gentleman has such brittle toenails that he is no longer able to clip them himself. He requires a brief exam and an outpatient referral to a podiatrist.', 'Acuity': 5, 'input': '76-year-old male requests to see a doctor because his toenails are hard. Upon further questioning, the triage nurse ascertains that the patient is unable to cut his own toenails. He denies any breaks in the skin or signs of infection. He has a history of chronic obstructive pulmonary disease and uses several metered-dose inhalers. His vital signs are normal for his age.', 'output': 'ESI level 5: No resources. This elderly gentleman has such brittle toenails that he is no longer able to clip them himself. He requires a brief exam and an outpatient referral to a podiatrist.', 'text': '76-year-old male requests to see a doctor because his toenails are hard. Upon further questioning, the triage nurse ascertains that the patient is unable to cut his own toenails. He denies any breaks in the skin or signs of infection. He has a history of chronic obstructive pulmonary disease and uses several metered-dose inhalers. His vital signs are normal for his age. Based on their clinical presentation, what Emergency Severity Index (ESI) acuity should the patient be assigned?\\n\\nESI level 5: No resources. This elderly gentleman has such brittle toenails that he is no longer able to clip them himself. He requires a brief exam and an outpatient referral to a podiatrist.\\n<|eot_id|>'}\n"
          ]
        }
      ],
      "source": [
        "print(dataset[29])"
      ]
    },
    {
      "cell_type": "code",
      "execution_count": 5,
      "metadata": {},
      "outputs": [
        {
          "name": "stderr",
          "output_type": "stream",
          "text": [
            "Map: 100%|██████████| 209/209 [00:00<00:00, 33271.70 examples/s]\n",
            "Map: 100%|██████████| 209/209 [00:00<00:00, 101612.33 examples/s]\n"
          ]
        }
      ],
      "source": [
        "#test_df = pd.read_csv(\"../data/mimic-iv-private/anchor_year_group_datasets/2017_-_2019/test_dataset.csv\")\n",
        "test_df = pd.read_csv(\"../data/ESI-handbook/test.csv\")\n",
        "\n",
        "test_dataset = Dataset.from_pandas(test_df)\n",
        "test_dataset = test_dataset.map(lambda x: format_example(x,'triage-ESI-test'))\n",
        "test_dataset = test_dataset.map(formatting_prompts_func_test, batched=True)"
      ]
    },
    {
      "cell_type": "markdown",
      "metadata": {},
      "source": [
        "### Continued-Pretraining"
      ]
    },
    {
      "cell_type": "code",
      "execution_count": 9,
      "metadata": {},
      "outputs": [
        {
          "name": "stderr",
          "output_type": "stream",
          "text": [
            "Map: 100%|██████████| 27/27 [00:00<00:00, 18215.57 examples/s]\n"
          ]
        }
      ],
      "source": [
        "# Load the cleaned text file\n",
        "with open(\"../data/cleaned_handbook.txt\", \"r\", encoding=\"utf-8\") as f:\n",
        "    text = f.read()\n",
        "\n",
        "# Further clean the text\n",
        "def remove_newline_between_chars(text):\n",
        "    return re.sub(r\"(\\S)\\n(\\S)\", r\"\\1 \\2\", text)\n",
        "\n",
        "# Example usage\n",
        "cleaned_text = remove_newline_between_chars(text)\n",
        "\n",
        "# Tokenize and chunk text\n",
        "def chunk_text(text, max_length):\n",
        "    \"\"\"Splits text into chunks while maintaining sentence boundaries.\"\"\"\n",
        "    import re\n",
        "    sentences = re.split(r\"(?<=[.!?]) +\", text)  # Split by sentence\n",
        "    chunks, current_chunk = [], \"\"\n",
        "    \n",
        "    for sentence in sentences:\n",
        "        if len(tokenizer.encode(current_chunk + sentence)) < max_length:\n",
        "            current_chunk += \" \" + sentence\n",
        "        else:\n",
        "            chunks.append(current_chunk.strip())\n",
        "            current_chunk = sentence\n",
        "\n",
        "    if current_chunk:\n",
        "        chunks.append(current_chunk.strip())\n",
        "\n",
        "    return chunks\n",
        "\n",
        "# Create chunks\n",
        "chunks = chunk_text(cleaned_text, max_seq_length)\n",
        "\n",
        "# Add EOS token at the end of each chunk\n",
        "EOS_TOKEN = tokenizer.eos_token\n",
        "formatted_chunks = [{\"text\": chunk} for chunk in chunks]\n",
        "\n",
        "# Convert to Hugging Face dataset\n",
        "handbook = Dataset.from_list(formatted_chunks)\n",
        "\n",
        "# Function for formatting\n",
        "def formatting_prompts_func(examples):\n",
        "    return {\"text\": [example for example in examples[\"text\"]]}\n",
        "\n",
        "# Apply formatting function\n",
        "handbook = handbook.map(formatting_prompts_func, batched=True)"
      ]
    },
    {
      "cell_type": "code",
      "execution_count": 10,
      "metadata": {},
      "outputs": [
        {
          "data": {
            "text/plain": [
              "{'text': \"# Emergency Severity Index, Version 4: Implementation Handbook\\n\\n### Note from the Director\\n\\nThe Agency for Healthcare Research and Quality is pleased to bring you the Emergency Severity _Index, Version 4: Implementation Handbook. This manual covers all details of the Emergency_ Severity Index (ESI)—a five-level emergency department triage algorithm that provides clinically relevant stratification of patients into five groups from 1 (most urgent) to 5 (least urgent) on the basis of acuity and resource needs.\\n\\nAfter emergency physicians Richard Wuerz and David Eitel developed the ESI in 1998 and pilot testing yielded favorable results, the ESI Triage Group was formed. Further work on the initial development of ESI was carried out under an AHRQ grant. The ESI Triage Group, which consisted of medical clinicians, managers, educators, and researchers, further refined the algorithm to what it is today.\\n\\nIn keeping with our mission to improve the quality, safety, efficiency, and effectiveness of health care for all Americans, one of AHRQ's areas of emphasis is training. Along with the accompanying set of two DVDs, this handbook will provide invaluable assistance to emergency department nurses, physicians, and administrators in the implementation of a comprehensive ESI educational program. These materials are based on ESI Version 4, which updates the algorithm with a particular emphasis on the expansion of ESI level 1 criteria and refinement of the pediatric fever criteria.\\n\\nA well-implemented ESI program will help hospital emergency departments rapidly identify patients in need of immediate attention, better identify patients who could safely and more efficiently be seen in a fast-track or urgent care center rather than the main ED, and more accurately determine thresholds for diversion of ambulance patients from the ED.\\n\\nWe hope that you find this tool useful in your ongoing efforts to improve the quality of care provided by your emergency department.\\n\\n### Chapter 2.Triage Acuity Systems\\n\\n##### Standardization of Triage Acuity\\n\\nAlthough there are more than 110 million visits to U.S. emergency departments (EDs) each year (McCaig & Burt, 2004) there are very little aggregate data about those visits on the local, regional or national level. It is difficult to answer important questions such as “Which EDs see the sickest patients?” and “How does patient acuity affect ED overcrowding?” There is growing interest in the establishment of standards for ED data in the United States to support clinical care, ED surveillance, benchmarking, and research activities (Barthell, Coonan, Finnell, Pollock, & Cochrane, 2004; Gilboy, Travers & Wuerz, 1999; Handler et al., 2004; National Center for Injury Prevention and Control\\n\\n[NCIPC], 1997; Zimmermann, 2001). One important ED data element is triage acuity, which has been defined by the Data Elements for Emergency Department Systems Task Force as: “Classification of patient acuity that characterizes the degree to which the patient's condition is life- or limb-threatening, and whether immediate treatment is needed to alleviate symptoms” (NCIPC, 1997, p. 94).\\n\\nUnfortunately, there is great variability in ED triage acuity systems, particularly in the United States (Emergency Nurses Association [ENA], 1997). The various systems describe triage categories using different labels, and the definitions for each level are not universally agreed upon. Examples of acuity rating systems are listed in Table 2-1. Given the lack of standardization of triage acuity data in the U.S., it is not surprising that the ED has been described as a “black box” of vital public health information that is largely inaccessible in present forms (Martinez, 1995).\\n\\nThe Emergency Severity Index (ESI) is a promising new tool for triage acuity assessment in the ED. It has been shown to be reproducible across EDs, \\nincluding urban and rural settings and academic and community hospitals (Eitel, Travers, Rosenau, Gilboy & Wuerz, 2003). If implemented widely in U.S. EDs, the ESI has the potential to become a standard for triage acuity assessment. In this chapter, we describe the types of triage systems traditionally used in EDs in the United States, and then present a review of the research on those systems. Next, a brief description of recent triage methods that have been developed in Australia, Canada and the United Kingdom is presented. The chapter concludes with a review of the research on the new ESI triage system and discusses the potential benefits of the ESI.\\n\\n##### Triage Systems in the United States\\n\\nThough many U.S. hospitals still use a three- or fourlevel triage system, the trend is toward the use of five-level systems. The National Center for Health Statistics plans to replace four-level triage data with five-level triage data in future national benchmarking surveys of U.S. EDs.\"}"
            ]
          },
          "execution_count": 10,
          "metadata": {},
          "output_type": "execute_result"
        }
      ],
      "source": [
        "handbook[0]"
      ]
    },
    {
      "cell_type": "code",
      "execution_count": 11,
      "metadata": {},
      "outputs": [
        {
          "name": "stderr",
          "output_type": "stream",
          "text": [
            "huggingface/tokenizers: The current process just got forked, after parallelism has already been used. Disabling parallelism to avoid deadlocks...\n",
            "To disable this warning, you can either:\n",
            "\t- Avoid using `tokenizers` before the fork if possible\n",
            "\t- Explicitly set the environment variable TOKENIZERS_PARALLELISM=(true | false)\n",
            "huggingface/tokenizers: The current process just got forked, after parallelism has already been used. Disabling parallelism to avoid deadlocks...\n",
            "To disable this warning, you can either:\n",
            "\t- Avoid using `tokenizers` before the fork if possible\n",
            "\t- Explicitly set the environment variable TOKENIZERS_PARALLELISM=(true | false)\n",
            "Map (num_proc=8): 100%|██████████| 27/27 [00:01<00:00, 18.38 examples/s]\n"
          ]
        }
      ],
      "source": [
        "from trl import SFTTrainer\n",
        "from transformers import TrainingArguments\n",
        "from unsloth import is_bfloat16_supported\n",
        "from unsloth import UnslothTrainer, UnslothTrainingArguments\n",
        "\n",
        "trainer = UnslothTrainer(\n",
        "    model = model,\n",
        "    tokenizer = tokenizer,\n",
        "    train_dataset = handbook,\n",
        "    dataset_text_field = \"text\",\n",
        "    max_seq_length = max_seq_length,\n",
        "    dataset_num_proc = 8,\n",
        "\n",
        "    args = UnslothTrainingArguments(\n",
        "        per_device_train_batch_size = 2,\n",
        "        gradient_accumulation_steps = 8,\n",
        "\n",
        "        warmup_ratio = 0.1,\n",
        "        num_train_epochs = 10,\n",
        "\n",
        "        learning_rate = 5e-5,\n",
        "        embedding_learning_rate = 5e-6,\n",
        "\n",
        "        fp16 = not is_bfloat16_supported(),\n",
        "        bf16 = is_bfloat16_supported(),\n",
        "        logging_steps = 1,\n",
        "        optim = \"adamw_8bit\",\n",
        "        weight_decay = 0.00,\n",
        "        lr_scheduler_type = \"cosine\",\n",
        "        seed = 3407,\n",
        "        output_dir = \"outputs\",\n",
        "        report_to = \"none\", # Use this for WandB etc\n",
        "    ),\n",
        ")"
      ]
    },
    {
      "cell_type": "code",
      "execution_count": 12,
      "metadata": {},
      "outputs": [
        {
          "name": "stderr",
          "output_type": "stream",
          "text": [
            "==((====))==  Unsloth - 2x faster free finetuning | Num GPUs = 1\n",
            "   \\\\   /|    Num examples = 27 | Num Epochs = 10\n",
            "O^O/ \\_/ \\    Batch size per device = 2 | Gradient Accumulation steps = 8\n",
            "\\        /    Total batch size = 16 | Total steps = 10\n",
            " \"-____-\"     Number of trainable parameters = 83,886,080\n"
          ]
        },
        {
          "data": {
            "text/html": [
              "\n",
              "    <div>\n",
              "      \n",
              "      <progress value='10' max='10' style='width:300px; height:20px; vertical-align: middle;'></progress>\n",
              "      [10/10 02:48, Epoch 9/10]\n",
              "    </div>\n",
              "    <table border=\"1\" class=\"dataframe\">\n",
              "  <thead>\n",
              " <tr style=\"text-align: left;\">\n",
              "      <th>Step</th>\n",
              "      <th>Training Loss</th>\n",
              "    </tr>\n",
              "  </thead>\n",
              "  <tbody>\n",
              "    <tr>\n",
              "      <td>1</td>\n",
              "      <td>2.042100</td>\n",
              "    </tr>\n",
              "    <tr>\n",
              "      <td>2</td>\n",
              "      <td>4.049300</td>\n",
              "    </tr>\n",
              "    <tr>\n",
              "      <td>3</td>\n",
              "      <td>4.063700</td>\n",
              "    </tr>\n",
              "    <tr>\n",
              "      <td>4</td>\n",
              "      <td>4.057700</td>\n",
              "    </tr>\n",
              "    <tr>\n",
              "      <td>5</td>\n",
              "      <td>4.047300</td>\n",
              "    </tr>\n",
              "    <tr>\n",
              "      <td>6</td>\n",
              "      <td>4.070500</td>\n",
              "    </tr>\n",
              "    <tr>\n",
              "      <td>7</td>\n",
              "      <td>3.956600</td>\n",
              "    </tr>\n",
              "    <tr>\n",
              "      <td>8</td>\n",
              "      <td>4.053500</td>\n",
              "    </tr>\n",
              "    <tr>\n",
              "      <td>9</td>\n",
              "      <td>4.179900</td>\n",
              "    </tr>\n",
              "    <tr>\n",
              "      <td>10</td>\n",
              "      <td>3.954700</td>\n",
              "    </tr>\n",
              "  </tbody>\n",
              "</table><p>"
            ],
            "text/plain": [
              "<IPython.core.display.HTML object>"
            ]
          },
          "metadata": {},
          "output_type": "display_data"
        }
      ],
      "source": [
        "trainer_stats = trainer.train()"
      ]
    },
    {
      "cell_type": "markdown",
      "metadata": {
        "id": "idAEIeSQ3xdS"
      },
      "source": [
        "<a name=\"Train\"></a>\n",
        "### Train the model\n",
        "Now let's use Huggingface TRL's `SFTTrainer`! More docs here: [TRL SFT docs](https://huggingface.co/docs/trl/sft_trainer). We do 60 steps to speed things up, but you can set `num_train_epochs=1` for a full run, and turn off `max_steps=None`. We also support TRL's `DPOTrainer`!"
      ]
    },
    {
      "cell_type": "code",
      "execution_count": 6,
      "metadata": {},
      "outputs": [
        {
          "name": "stderr",
          "output_type": "stream",
          "text": [
            "Generating train split: 14 examples [00:00, 1098.50 examples/s]\n"
          ]
        }
      ],
      "source": [
        "from trl import SFTTrainer\n",
        "from transformers import TrainingArguments\n",
        "from unsloth import is_bfloat16_supported\n",
        "\n",
        "trainer = SFTTrainer(\n",
        "    model = model,\n",
        "    tokenizer = tokenizer,\n",
        "    train_dataset = dataset,\n",
        "    dataset_text_field = \"text\",\n",
        "    max_seq_length = max_seq_length,\n",
        "    dataset_num_proc = 2,\n",
        "    packing = True, # Can make training 5x faster for short sequences.\n",
        "    args = TrainingArguments(\n",
        "        per_device_train_batch_size = 2,\n",
        "        gradient_accumulation_steps = 4,\n",
        "        warmup_steps = 5,\n",
        "        num_train_epochs = 25, # Set this for 1 full training run.\n",
        "        # max_steps = 60,\n",
        "        learning_rate = 2e-4,\n",
        "        fp16 = not is_bfloat16_supported(),\n",
        "        bf16 = is_bfloat16_supported(),\n",
        "        logging_steps = 25,\n",
        "        optim = \"adamw_8bit\",\n",
        "        weight_decay = 0.01,\n",
        "        lr_scheduler_type = \"linear\",\n",
        "        seed = 3407,\n",
        "        output_dir = \"llama_3_1_8B_ESI_Handbook_10_+_ESI_Case_Examples_25\",\n",
        "        report_to = \"none\", # Use this for WandB etc\n",
        "    ),\n",
        ")"
      ]
    },
    {
      "cell_type": "code",
      "execution_count": 7,
      "metadata": {},
      "outputs": [
        {
          "name": "stderr",
          "output_type": "stream",
          "text": [
            "huggingface/tokenizers: The current process just got forked, after parallelism has already been used. Disabling parallelism to avoid deadlocks...\n",
            "To disable this warning, you can either:\n",
            "\t- Avoid using `tokenizers` before the fork if possible\n",
            "\t- Explicitly set the environment variable TOKENIZERS_PARALLELISM=(true | false)\n",
            "==((====))==  Unsloth - 2x faster free finetuning | Num GPUs = 1\n",
            "   \\\\   /|    Num examples = 14 | Num Epochs = 25\n",
            "O^O/ \\_/ \\    Batch size per device = 2 | Gradient Accumulation steps = 4\n",
            "\\        /    Total batch size = 8 | Total steps = 25\n",
            " \"-____-\"     Number of trainable parameters = 83,886,080\n",
            "huggingface/tokenizers: The current process just got forked, after parallelism has already been used. Disabling parallelism to avoid deadlocks...\n",
            "To disable this warning, you can either:\n",
            "\t- Avoid using `tokenizers` before the fork if possible\n",
            "\t- Explicitly set the environment variable TOKENIZERS_PARALLELISM=(true | false)\n",
            "huggingface/tokenizers: The current process just got forked, after parallelism has already been used. Disabling parallelism to avoid deadlocks...\n",
            "To disable this warning, you can either:\n",
            "\t- Avoid using `tokenizers` before the fork if possible\n",
            "\t- Explicitly set the environment variable TOKENIZERS_PARALLELISM=(true | false)\n",
            "huggingface/tokenizers: The current process just got forked, after parallelism has already been used. Disabling parallelism to avoid deadlocks...\n",
            "To disable this warning, you can either:\n",
            "\t- Avoid using `tokenizers` before the fork if possible\n",
            "\t- Explicitly set the environment variable TOKENIZERS_PARALLELISM=(true | false)\n"
          ]
        },
        {
          "data": {
            "text/html": [
              "\n",
              "    <div>\n",
              "      \n",
              "      <progress value='25' max='25' style='width:300px; height:20px; vertical-align: middle;'></progress>\n",
              "      [25/25 04:02, Epoch 24/25]\n",
              "    </div>\n",
              "    <table border=\"1\" class=\"dataframe\">\n",
              "  <thead>\n",
              " <tr style=\"text-align: left;\">\n",
              "      <th>Step</th>\n",
              "      <th>Training Loss</th>\n",
              "    </tr>\n",
              "  </thead>\n",
              "  <tbody>\n",
              "    <tr>\n",
              "      <td>25</td>\n",
              "      <td>2.737400</td>\n",
              "    </tr>\n",
              "  </tbody>\n",
              "</table><p>"
            ],
            "text/plain": [
              "<IPython.core.display.HTML object>"
            ]
          },
          "metadata": {},
          "output_type": "display_data"
        }
      ],
      "source": [
        "trainer_stats = trainer.train()"
      ]
    },
    {
      "cell_type": "code",
      "execution_count": 10,
      "metadata": {},
      "outputs": [
        {
          "name": "stdout",
          "output_type": "stream",
          "text": [
            "GPU = NVIDIA GeForce RTX 3090. Max memory = 23.586 GB.\n",
            "15.316 GB of memory reserved.\n"
          ]
        }
      ],
      "source": [
        "# @title Show current memory stats\n",
        "gpu_stats = torch.cuda.get_device_properties(0)\n",
        "start_gpu_memory = round(torch.cuda.max_memory_reserved() / 1024 / 1024 / 1024, 3)\n",
        "max_memory = round(gpu_stats.total_memory / 1024 / 1024 / 1024, 3)\n",
        "print(f\"GPU = {gpu_stats.name}. Max memory = {max_memory} GB.\")\n",
        "print(f\"{start_gpu_memory} GB of memory reserved.\")"
      ]
    },
    {
      "cell_type": "code",
      "execution_count": 11,
      "metadata": {
        "cellView": "form",
        "colab": {
          "base_uri": "https://localhost:8080/"
        },
        "id": "pCqnaKmlO1U9",
        "outputId": "edf33a96-b12c-4bba-9771-59e18aee707c"
      },
      "outputs": [
        {
          "name": "stderr",
          "output_type": "stream",
          "text": [
            "huggingface/tokenizers: The current process just got forked, after parallelism has already been used. Disabling parallelism to avoid deadlocks...\n",
            "To disable this warning, you can either:\n",
            "\t- Avoid using `tokenizers` before the fork if possible\n",
            "\t- Explicitly set the environment variable TOKENIZERS_PARALLELISM=(true | false)\n",
            "huggingface/tokenizers: The current process just got forked, after parallelism has already been used. Disabling parallelism to avoid deadlocks...\n",
            "To disable this warning, you can either:\n",
            "\t- Avoid using `tokenizers` before the fork if possible\n",
            "\t- Explicitly set the environment variable TOKENIZERS_PARALLELISM=(true | false)\n"
          ]
        },
        {
          "data": {
            "text/plain": [
              "['<|begin_of_text|>### Instruction: Estimate the Emergency Severity Index (ESI) acuity for the following patient.\\n\\n### Input: A black/african american, 48.0-year-old woman arrives at the emergency department via ambulance. She has a temperature of 98.0°F, a heart rate of 102.0 bpm, a respiratory rate of 16.0 breaths per minute, oxygen saturation at 98.0%, systolic blood pressure of 126.0 mmHg, diastolic blood pressure of 88.0 mmHg, pain level reported as 0, and chief complaint described as \"Anxiety\".\\n\\n### Response: 2\\n\\n### Rationale:\\nThe Emergency Severity Index (ESI) is a five-level triage acuity instrument that assesses the severity of a patient\\'s condition. The levels range from Level 1 (most urgent) to Level 5 (least urgent).\\n\\nLevel 2: Level 2 patients require immediate attention, but do not require immediate life-saving interventions.\\n\\nBased on the provided information, the patient\\'s vital signs are within normal limits, and her chief complaint is \"Anxiety\", which']"
            ]
          },
          "execution_count": 11,
          "metadata": {},
          "output_type": "execute_result"
        }
      ],
      "source": [
        "# @title Show final memory and time stats\n",
        "used_memory = round(torch.cuda.max_memory_reserved() / 1024 / 1024 / 1024, 3)\n",
        "used_memory_for_lora = round(used_memory - start_gpu_memory, 3)\n",
        "used_percentage = round(used_memory / max_memory * 100, 3)\n",
        "lora_percentage = round(used_memory_for_lora / max_memory * 100, 3)\n",
        "print(f\"{trainer_stats.metrics['train_runtime']} seconds used for training.\")\n",
        "print(\n",
        "    f\"{round(trainer_stats.metrics['train_runtime']/60, 2)} minutes used for training.\"\n",
        ")\n",
        "print(f\"Peak reserved memory = {used_memory} GB.\")\n",
        "print(f\"Peak reserved memory for training = {used_memory_for_lora} GB.\")\n",
        "print(f\"Peak reserved memory % of max memory = {used_percentage} %.\")\n",
        "print(f\"Peak reserved memory for training % of max memory = {lora_percentage} %.\")"
      ]
    },
    {
      "cell_type": "markdown",
      "metadata": {
        "id": "ekOmTR1hSNcr"
      },
      "source": [
        "<a name=\"Inference\"></a>\n",
        "### Inference\n",
        "Let's run the model! You can change the instruction and input - leave the output blank!\n",
        "\n",
        "**[NEW] Try 2x faster inference in a free Colab for Llama-3.1 8b Instruct [here](https://colab.research.google.com/drive/1T-YBVfnphoVc8E2E854qF3jdia2Ll2W2?usp=sharing)**"
      ]
    },
    {
      "cell_type": "code",
      "execution_count": 17,
      "metadata": {},
      "outputs": [
        {
          "data": {
            "text/plain": [
              "['<|begin_of_text|>He has had diarrhea for 2 days, and he just started throwing up this morning. This has been going around the family, and he seems to have it the worst. He has been drinking before today, but now he doesn’t want anything to drink,” reports the mother of a 19-month-old. The toddler is awake and alert but quiet in the mother’s arms, and you notice his lips are dry and cracked. Vital signs: T 99°F, RR 30, HR 130, SpO2 100%. Based on their clinical presentation, what Emergency Severity Index (ESI) acuity should the patient be assigned?\\n\\n\\nESI level 2: High-risk patient. The patient is 19 months old, and he is showing signs of dehydration and possible intoxication. He needs to be assessed for the need of IV fluids and possibly IV medications. His clinical presentation is consistent with a high-risk patient.\\n```\\n\\n\\n\\nKey Concept: The Emergency Severity Index (ESI) is a five-level acuity-based triage tool that is designed to identify patients who need immediate lifesaving intervention. The ESI is based on the patient’s clinical presentation and the need for immediate lifesaving intervention. The ESI is not based on the patient’s chief complaint, medical history, or past medical conditions. The ESI is a tool that helps to identify patients who need immediate lifesaving intervention. The ESI is not a tool that helps to identify patients who need immediate lifesaving intervention.\\n```\\n\\n\\n\\nESI level 2: High-risk patient. The patient is 19 months old, and he is showing signs of dehydration and possible intoxication. He needs to be assessed for the need of IV fluids and possibly IV medications. His clinical presentation is consistent with a high-risk patient.\\n```\\n\\n\\n\\nKey Concept: The Emergency Severity Index (ESI) is a five-level acuity-based']"
            ]
          },
          "execution_count": 17,
          "metadata": {},
          "output_type": "execute_result"
        }
      ],
      "source": [
        "# alpaca_prompt = Copied from above\n",
        "FastLanguageModel.for_inference(model) # Enable native 2x faster inference\n",
        "inputs = tokenizer(\n",
        "[\n",
        "    test_dataset[14]['text']\n",
        "    # alpaca_prompt.format(\n",
        "    #     \"Continue the fibonnaci sequence.\", # instruction\n",
        "    #     \"1, 1, 2, 3, 5, 8\", # input\n",
        "    #     \"\", # output - leave this blank for generation!\n",
        "    # )\n",
        "], return_tensors = \"pt\").to(\"cuda\")\n",
        "\n",
        "outputs = model.generate(**inputs, max_new_tokens = 250, use_cache = True)\n",
        "tokenizer.batch_decode(outputs)"
      ]
    },
    {
      "cell_type": "code",
      "execution_count": 8,
      "metadata": {},
      "outputs": [
        {
          "name": "stderr",
          "output_type": "stream",
          "text": [
            "1it [00:01,  1.95s/it]"
          ]
        },
        {
          "name": "stdout",
          "output_type": "stream",
          "text": [
            "An 8-month-old presents with  fever,  cough, and vomiting. The baby has vomited twice this morning; no diarrhea. Mom states the baby is usually healthy but has “not been eating well lately.” Doesn't own a thermometer, but knows the baby is “hot”\" and gave acetaminophen two hours prior to arrival. The baby is wrapped in a blanket, eyes open, appears listless,  skin  hot and moist, sunken fontanel. Respirations are regular and not labored. Based on their clinical presentation, what Emergency Severity Index (ESI) acuity should the patient be assigned?\n",
            "\n",
            "\n",
            "ESI level 3: Two or more resources. This baby has a fever, cough, and is vomiting. She is not eating well and has a sunken fontanel, suggesting dehydration. She will need labs, IV fluid, and possibly an x ray, making her two or more resources. The baby is not in\n"
          ]
        },
        {
          "name": "stderr",
          "output_type": "stream",
          "text": [
            "2it [00:03,  1.90s/it]"
          ]
        },
        {
          "name": "stdout",
          "output_type": "stream",
          "text": [
            "EMS arrives with a 7-year-old male who was hit by a car. Child is somnolent, appears pale, non-labored respirations. Based on their clinical presentation, what Emergency Severity Index (ESI) acuity should the patient be assigned?\n",
            "\n",
            "\n",
            "ESI level 2: High-risk  situation. The child is somnolent and pale, and based on the history, may have suffered internal injuries from the accident. He may need immediate intubation, IV access, and blood. He is not an obvious trauma and will require a more thorough evaluation.\n",
            "\n"
          ]
        },
        {
          "name": "stderr",
          "output_type": "stream",
          "text": [
            "3it [00:04,  1.51s/it]"
          ]
        },
        {
          "name": "stdout",
          "output_type": "stream",
          "text": [
            "14-year-old female is brought in by EMS after diving into the pool and hitting her head. She is awake, alert, and moving all extremities. She is currently immobilized on a back board with c-collar in place. VS: BP 118/72, HR 76, RR 14. Based on their clinical presentation, what Emergency Severity Index (ESI) acuity should the patient be assigned?\n",
            "\n",
            "\n",
            "ESI level 3: Two or more resources. The patient will require a head CT and possibly a cervical spine x ray. She may also require an IV and labs.\n",
            "\n"
          ]
        },
        {
          "name": "stderr",
          "output_type": "stream",
          "text": [
            "4it [00:06,  1.65s/it]"
          ]
        },
        {
          "name": "stdout",
          "output_type": "stream",
          "text": [
            "14-year-old male brought in by EMS who was tackled while playing  football. He has an obvious deformity to his right lower leg. He has +2 pedal pulses and his toes are warm and dry. He is able to wiggle his toes. No head/ neck injuries reported. VS: 118/78, HR 76, RR 14. Based on their clinical presentation, what Emergency Severity Index (ESI) acuity should the patient be assigned?\n",
            "\n",
            "\n",
            "ESI level 3: Two or more resources. This patient will need at least an x ray and lab studies. If there is a concern about a fracture, he may need to be splinted. He will also need a noninvasive blood pressure. Based on his vital signs, he does not meet the criteria\n"
          ]
        },
        {
          "name": "stderr",
          "output_type": "stream",
          "text": [
            "5it [00:08,  1.68s/it]"
          ]
        },
        {
          "name": "stdout",
          "output_type": "stream",
          "text": [
            "12-year-old female brought into the ED by mother. Claims she cut her thumb while washing dishes.She has a 2 cm superficial laceration to her right thumb. VS: BP 110/70, HR 72, RR 14, T 98.0°F. Based on their clinical presentation, what Emergency Severity Index (ESI) acuity should the patient be assigned?\n",
            "\n",
            "\n",
            "ESI level 3: Two or more resources. This patient will need a tetanus booster and possibly a splint for her thumb. If the laceration is not clean and requires irrigation, she may need IV antibiotics and an additional resource. She will require two or more resources.\n",
            "\n"
          ]
        },
        {
          "name": "stderr",
          "output_type": "stream",
          "text": [
            "6it [00:09,  1.51s/it]"
          ]
        },
        {
          "name": "stdout",
          "output_type": "stream",
          "text": [
            "17-year-old male, history of suicidality, found unresponsive by parents. There are several bottles of liquor, and unidentified empty pill bottles nextto bed Based on their clinical presentation, what Emergency Severity Index (ESI) acuity should the patient be assigned?\n",
            "\n",
            "\n",
            "ESI level 2: High-risk situation. This patient has a history of suicidal behavior and is now found unresponsive with multiple open bottles of liquor and unidentified pill bottles. The patient needs immediate lifesaving intervention.\n",
            "\n"
          ]
        },
        {
          "name": "stderr",
          "output_type": "stream",
          "text": [
            "7it [00:10,  1.30s/it]"
          ]
        },
        {
          "name": "stdout",
          "output_type": "stream",
          "text": [
            "16-year-old male brought in by parents who report patient was out of control, screaming obscenities, and threatening to kill the family. He is cooperative in triage and answers your questions calmly. Based on their clinical presentation, what Emergency Severity Index (ESI) acuity should the patient be assigned?\n",
            "\n",
            "\n",
            "ESI level 3: Two or more resources. The patient will need two or more resources, such as lab, IV, and a psych consult.\n",
            "\n"
          ]
        },
        {
          "name": "stderr",
          "output_type": "stream",
          "text": [
            "8it [00:12,  1.44s/it]"
          ]
        },
        {
          "name": "stdout",
          "output_type": "stream",
          "text": [
            "15-year-old female presents to ED with her boyfriend claiming, “I think I’m pregnant. When I told my mom she threw me out of the house and told me never to come back. I have no place to live, and now I might have a baby.” VS: BP 126/85, HR 100, RR 16, T 98.7°F. Based on their clinical presentation, what Emergency Severity Index (ESI) acuity should the patient be assigned?\n",
            "\n",
            "\n",
            "ESI level 3: Two or more resources. This patient is pregnant and homeless. She will need at least two resources: social services and OB/GYN. The ED social worker will help her find a safe place to live and connect her with other community resources. The OB/GYN will provide her with a pregnancy test\n"
          ]
        },
        {
          "name": "stderr",
          "output_type": "stream",
          "text": [
            "9it [00:13,  1.50s/it]"
          ]
        },
        {
          "name": "stdout",
          "output_type": "stream",
          "text": [
            "10-year-old female presents to the ED with mother who states that she received a call from her teacher because the child has been disrupting the class with sudden outbursts. Mom has never witnessed this behavior, but she does state that she becomes very defiant when she doesn’t get her own way. Currently, the child is laughing and playing with her little sister. VS: 98/72, HR 82, RR 22, T 98.2°F. Based on their clinical presentation, what Emergency Severity Index (ESI) acuity should the patient be assigned?\n",
            "\n",
            "\n",
            "ESI level 4: One resource. This 10-year-old is presenting with a history of outbursts in the classroom. She is currently playing with her sister. There are no other resources that this patient will need. She will be sent home with a referral to a child psychiatrist.\n",
            "\n"
          ]
        },
        {
          "name": "stderr",
          "output_type": "stream",
          "text": [
            "10it [00:15,  1.45s/it]"
          ]
        },
        {
          "name": "stdout",
          "output_type": "stream",
          "text": [
            "13-year-old male walks into the ED with his mother on a Friday night. Mom states, “I didn’t realize he was out of his medications for his ADHD, and I don’t want him to miss a day.” The patient is cooperative and pleasant. VS: BP 108/72, HR 78, RR 14, T 98.6°F. Based on their clinical presentation, what Emergency Severity Index (ESI) acuity should the patient be assigned?\n",
            "\n",
            "\n",
            "ESI level 4: One resource. This patient is out of his ADHD medication and will need to be started on a new prescription. He will require one resource, and there is no other reason for him to be in the emergency department.\n",
            "\n"
          ]
        },
        {
          "name": "stderr",
          "output_type": "stream",
          "text": [
            "11it [00:16,  1.54s/it]"
          ]
        },
        {
          "name": "stdout",
          "output_type": "stream",
          "text": [
            "\"I think he broke it,” reports the mother of a 9- year-old boy. “He was climbing a tree and fell about 5 feet, landing on his arm. I am a nurse, so I put on a splint and applied ice. He has a good pulse.” The arm is obviously deformed. Vital signs: T 98°F, RR 26, HR 90, SpO2 99%. Pain 5/10. Based on their clinical presentation, what Emergency Severity Index (ESI) acuity should the patient be assigned?\n",
            "\n",
            "\n",
            "ESI level 3: Two or more resources. This young boy has fallen from a tree and will need at least two resources, x ray, and lab. If the child is not able to tell you about the fall, then you may need to count him as an  ESI  level 2. This child\n"
          ]
        },
        {
          "name": "stderr",
          "output_type": "stream",
          "text": [
            "12it [00:18,  1.61s/it]"
          ]
        },
        {
          "name": "stdout",
          "output_type": "stream",
          "text": [
            "EMS arrives with a 28-year-old male who was stabbed in the left side of his neck during an altercation. You notice a large hematoma around the wound, and the patient is moaning he can’t breathe. HR 110, RR 36, SpO2 89%. Based on their clinical presentation, what Emergency Severity Index (ESI) acuity should the patient be assigned?\n",
            "\n",
            "\n",
            "ESI level 2:  High-risk  situation.  The patient is presenting with signs of airway compromise due to a neck injury. The patient is moaning that he can’t breathe, and his respiratory rate is increased. This patient requires immediate airway management, and the situation is high risk. The patient will\n"
          ]
        },
        {
          "name": "stderr",
          "output_type": "stream",
          "text": [
            "13it [00:19,  1.45s/it]"
          ]
        },
        {
          "name": "stdout",
          "output_type": "stream",
          "text": [
            "An 11-year-old presents to triage with his mother, who reports that her son has had a cough and runny nose for a week. The child is running around the waiting room and asking his mother for a snack. Vital signs are within normal limits. Based on their clinical presentation, what Emergency Severity Index (ESI) acuity should the patient be assigned?\n",
            "\n",
            "\n",
            "ESI level 4: One resource. This patient will be seen and discharged with a prescription. There is no indication of a serious infection, and the child is not showing signs of distress.\n",
            "\n"
          ]
        },
        {
          "name": "stderr",
          "output_type": "stream",
          "text": [
            "14it [00:21,  1.41s/it]"
          ]
        },
        {
          "name": "stdout",
          "output_type": "stream",
          "text": [
            "\"I don’t know what is wrong with my son,” reports the worried mother of a normally healthy eight-year-old male. “He’s losing weight and acting so cranky. Last night he was up to the bathroom every hour, and he can’t seem to get enough to drink.” The child is alert and oriented and answers your questions appropriately. Vital signs: T 98.6°F, RR 30, HR 98, BP 92/78, SpO2 98%. Based on their clinical presentation, what Emergency Severity Index (ESI) acuity should the patient be assigned?\n",
            "\n",
            "\n",
            "ESI level 3: Two or more resources. This child is presenting with symptoms of a urinary tract infection, and he will need labs and IV antibiotics. He is also showing signs of dehydration and will require aggressive fluid resuscitation.\n",
            "\n"
          ]
        },
        {
          "name": "stderr",
          "output_type": "stream",
          "text": [
            "15it [00:22,  1.52s/it]"
          ]
        },
        {
          "name": "stdout",
          "output_type": "stream",
          "text": [
            "He has had diarrhea for 2 days, and he just started throwing up this morning. This has been going around the family, and he seems to have it the worst. He has been drinking before today, but now he doesn’t want anything to drink,” reports the mother of a 19-month-old. The toddler is awake and alert but quiet in the mother’s arms, and you notice his lips are dry and cracked. Vital signs: T 99°F, RR 30, HR 130, SpO2 100%. Based on their clinical presentation, what Emergency Severity Index (ESI) acuity should the patient be assigned?\n",
            "\n",
            "\n",
            "ESI level 3: Two or more resources. This 19-month-old has had diarrhea for 2 days and now has a fever and is vomiting. He will require labs and IV fluid. He will not be able to drink because he is vomiting. At a minimum, he will need two resources. If he shows\n"
          ]
        },
        {
          "name": "stderr",
          "output_type": "stream",
          "text": [
            "16it [00:24,  1.48s/it]"
          ]
        },
        {
          "name": "stdout",
          "output_type": "stream",
          "text": [
            "My baby is having a hard time drinking his bottle,” reports the young mother of a 3– month-old. The baby is alert and looking around. You notice a large amount of dried mucus around both nares. T 98°F, RR 40,HR 132, SpO2 99%. Based on their clinical presentation, what Emergency Severity Index (ESI) acuity should the patient be assigned?\n",
            "\n",
            "\n",
            "ESI level 3: Two or more resources. This baby is showing signs of a cold, and in addition to fluid replacement, this baby will probably require nasal suctioning and possibly nasal saline drops. He will need to be evaluated by a physician.\n",
            "\n"
          ]
        },
        {
          "name": "stderr",
          "output_type": "stream",
          "text": [
            "17it [00:26,  1.57s/it]"
          ]
        },
        {
          "name": "stdout",
          "output_type": "stream",
          "text": [
            "Melissa, a 4-year-old with a ventriculo- peritoneal shunt (drains excess cerebrospinal fluid), is brought to the ED by her parents. The mother tells you that she is concerned that the shunt may be blocked because Melissa is not acting right. The child is sleepy but responds to verbal stimuli. When asked what was wrong, she tells you that her head hurts and she is going to throw up. T 98.6°F, RR 22, HR 120, SpO2 99% on room air, BP 94/76. Based on their clinical presentation, what Emergency Severity Index (ESI) acuity should the patient be assigned?\n",
            "\n",
            "\n",
            "ESI level 3: Two or more resources. The patient is presenting with signs and symptoms of increased intracranial pressure, including a headache and vomiting. She is also tachycardic and hypotensive. This patient will require two or more resources, such as IV access, lab, and an IV\n"
          ]
        },
        {
          "name": "stderr",
          "output_type": "stream",
          "text": [
            "18it [00:27,  1.58s/it]"
          ]
        },
        {
          "name": "stdout",
          "output_type": "stream",
          "text": [
            "“This is so embarrassing,” reports a 29-year-old male. “For the last 12 hours, I have had this thing stuck in my rectum. I have tried and tried to get it out with no success. Can someone help me?” The patient denies abdominal pain or tenderness. Vital signs are within normal limits. Pain 4/10. Based on their clinical presentation, what Emergency Severity Index (ESI) acuity should the patient be assigned?\n",
            "\n",
            "\n",
            "ESI level 3: Two or more resources. This patient will need a rectal exam and possibly an x ray to identify the object in his rectum. In addition, he will require pain medication and possibly IV fluid and an anti-diarrheal agent. Two or more resources.\n",
            "\n"
          ]
        },
        {
          "name": "stderr",
          "output_type": "stream",
          "text": [
            "19it [00:29,  1.63s/it]"
          ]
        },
        {
          "name": "stdout",
          "output_type": "stream",
          "text": [
            "EMS arrives with a 14-year-old male who was snowboarding at a nearby ski area, lost control, and ran into a tree. The patient was wearing a ski helmet, is currently aware, alert, and oriented and is complaining of left upper- quadrant pain and left thigh pain. His left femur appears to be broken. BP 112/80, HR 86, RR 14, SpO2 98%, and temperature is normal. Based on their clinical presentation, what Emergency Severity Index (ESI) acuity should the patient be assigned?\n",
            "\n",
            "\n",
            "ESI level 3: Two or more resources. This patient will need two or more resources. He has a femur fracture and will need a femur traction splint. He also has left upper-quadrant pain, and a CT of his abdomen will be necessary. At a minimum, he will require two resources\n"
          ]
        },
        {
          "name": "stderr",
          "output_type": "stream",
          "text": [
            "20it [00:30,  1.59s/it]"
          ]
        },
        {
          "name": "stdout",
          "output_type": "stream",
          "text": [
            "“I don’t know what’s wrong with my baby girl,” cries a young mother. She reports that her 2- week-old baby is not acting right and is not interested  in eating. As you begin to undress the baby, you notice that she is listless and her skin is mottled Based on their clinical presentation, what Emergency Severity Index (ESI) acuity should the patient be assigned?\n",
            "\n",
            "\n",
            "ESI level 3: Two or more resources. The baby will require labs, a urinalysis, and IV fluid. She may require a CT of the head or an ultrasound. This baby is not feeding and has changed color, so she could be in shock.\n",
            "\n"
          ]
        },
        {
          "name": "stderr",
          "output_type": "stream",
          "text": [
            "21it [00:32,  1.64s/it]"
          ]
        },
        {
          "name": "stdout",
          "output_type": "stream",
          "text": [
            "“After my pediatrician saw my son’s rash, he said I had to bring him to the emergency department immediately. He has this rash on his face and chest that started today. He has little pinpoint purplish spots he called  petechiae. My son is a healthy kid who has had a cold for a couple of days and a cough. My pediatrician said he had to be sure nothing bad is going on. What do you think?” Based on their clinical presentation, what Emergency Severity Index (ESI) acuity should the patient be assigned?\n",
            "\n",
            "\n",
            "ESI level 3: Two or more resources. This 3-year-old has a cold and cough and now presents with a rash and petechiae. He is going to need labs and a complete physical exam, and possibly an IV and antibiotics. At a minimum, he will require two resources. His vital signs are\n"
          ]
        },
        {
          "name": "stderr",
          "output_type": "stream",
          "text": [
            "22it [00:34,  1.72s/it]"
          ]
        },
        {
          "name": "stdout",
          "output_type": "stream",
          "text": [
            "“Without the helmet, I would have been really hurt,” reports a 19-year-old healthy male who was involved in a bicycle accident. He lost control of his bike when he hit a pothole. He  has a 2-centimeter laceration on his arm and pain over his left clavicle. Vital signs: T 97.4°F, RR 18, HR 62, BP 122/70, SpO2 100%. Pain 6/10 Based on their clinical presentation, what Emergency Severity Index (ESI) acuity should the patient be assigned?\n",
            "\n",
            "\n",
            "ESI level 4: One resource. This patient will need at least one resource – sutures. His clavicle pain may be a fracture, but he will not require an immediate reduction. If the patient is showing signs of hypovolemia, such as tachycardia, tachypnea,\n"
          ]
        },
        {
          "name": "stderr",
          "output_type": "stream",
          "text": [
            "23it [00:36,  1.65s/it]"
          ]
        },
        {
          "name": "stdout",
          "output_type": "stream",
          "text": [
            "A 16-year-old female is brought to the emergency department by her mother, who reports that her daughter took more than 30 acetaminophen tablets about 30 minutes before admission. The tearful girl tells you that her boyfriend broke up with her this morning. No previous medical history, and no allergies or medications. Vital signs within normal limits Based on their clinical presentation, what Emergency Severity Index (ESI) acuity should the patient be assigned?\n",
            "\n",
            "\n",
            "ESI level 3: Two or more resources. The patient will need labs and a CT of the abdomen or a right upper quadrant ultrasound to check for liver damage. She will also need a psychiatric evaluation, and she may need to be placed in a safe environment.\n",
            "\n"
          ]
        },
        {
          "name": "stderr",
          "output_type": "stream",
          "text": [
            "24it [00:37,  1.46s/it]"
          ]
        },
        {
          "name": "stdout",
          "output_type": "stream",
          "text": [
            "I was so disappointed about not making the varsity soccer team that I punched a wall,” reports a 15-year-old healthy male. His hand is swollen and tender to touch. Vital signs: T 97°F, RR 16, HR 58, BP 106/80, SpO2 100%. Pain 5/10. Based on their clinical presentation, what Emergency Severity Index (ESI) acuity should the patient be assigned?\n",
            "\n",
            "\n",
            "ESI level 3: Two or more resources. The patient will need at least two resources, such as hand x ray and suturing. He may also need IV pain medication.\n",
            "\n"
          ]
        },
        {
          "name": "stderr",
          "output_type": "stream",
          "text": [
            "25it [00:38,  1.30s/it]"
          ]
        },
        {
          "name": "stdout",
          "output_type": "stream",
          "text": [
            "When asked why she came to the emergency department, the 18-year-old college student begins to cry. She tells the triage nurse that she was sexually assaulted last night at an off- campus party. Based on their clinical presentation, what Emergency Severity Index (ESI) acuity should the patient be assigned?\n",
            "\n",
            "\n",
            "ESI level 3: Two or more resources. At a minimum, this patient will require a rape kit, lab tests, and a medication for emergency contraception.\n",
            "\n"
          ]
        },
        {
          "name": "stderr",
          "output_type": "stream",
          "text": [
            "26it [00:39,  1.28s/it]"
          ]
        },
        {
          "name": "stdout",
          "output_type": "stream",
          "text": [
            "A healthy 10-year-old male is brought to the emergency department by his mother, who reports that her son has not moved his bowels for a week. He is complaining of 7/10 generalized abdominal pain, nausea, and lack of appetite. Vital signs: BP 107/66, HR 75, RR 20, T 98.6°F, SpO2 99%. Based on their clinical presentation, what Emergency Severity Index (ESI) acuity should the patient be assigned?\n",
            "\n",
            "\n",
            "ESI level 3: Two or more resources. The patient is presenting with signs of a bowel obstruction. He will require IV access and multiple labs. He will also require an abdominal CT, and possibly a surgical consultation.\n",
            "\n"
          ]
        },
        {
          "name": "stderr",
          "output_type": "stream",
          "text": [
            "27it [00:41,  1.42s/it]"
          ]
        },
        {
          "name": "stdout",
          "output_type": "stream",
          "text": [
            "A 16-year-old high school hockey player collapsed on the ice after being hit in the anterior chest by the puck. The coaching staff began CPR almost immediately, and he was defibrillated three times with a return of spontaneous circulation. He arrives in the emergency department intubated. Based on their clinical presentation, what Emergency Severity Index (ESI) acuity should the patient be assigned?\n",
            "\n",
            "\n",
            "ESI level 2: High-risk. A 16-year-old athlete collapses from a chest injury and requires multiple defibrillations. The patient is now intubated. The clinical presentation is high risk, and the patient needs close monitoring. At a minimum, he will need a chest x ray, cardiac enzymes,\n"
          ]
        },
        {
          "name": "stderr",
          "output_type": "stream",
          "text": [
            "28it [00:42,  1.52s/it]"
          ]
        },
        {
          "name": "stdout",
          "output_type": "stream",
          "text": [
            "This sounds really strange. A bug flew into my right ear while I was gardening. I tried to get it out by using a Q-tip. I just don’t know what  else to do, but this buzzing noise is driving me crazy,” a 55-year-old female tells you. No previous medical history and vital signs are within normal limits Based on their clinical presentation, what Emergency Severity Index (ESI) acuity should the patient be assigned?\n",
            "\n",
            "\n",
            "ESI level 4: One resource. The patient will need to be examined and probably discharged to her physician. She may need to have her ear irrigated, but this would count as one resource. If she were to show signs of infection or fever, she would meet ESI level-2 criteria. The buzzing noise\n"
          ]
        },
        {
          "name": "stderr",
          "output_type": "stream",
          "text": [
            "29it [00:43,  1.28s/it]"
          ]
        },
        {
          "name": "stdout",
          "output_type": "stream",
          "text": [
            "This morning, I stepped on a rusty nail, and it went right through my shoe into my foot. I washed it really well. I read on the Internet that I need a tetanus shot.” No previous medical history, and vital signs are  within  normal limits. Based on their clinical presentation, what Emergency Severity Index (ESI) acuity should the patient be assigned?\n",
            "\n",
            "\n",
            "ESI level 4: One resource. This patient will require a tetanus shot. There are no other resources required.\n",
            "\n"
          ]
        },
        {
          "name": "stderr",
          "output_type": "stream",
          "text": [
            "30it [00:45,  1.42s/it]"
          ]
        },
        {
          "name": "stdout",
          "output_type": "stream",
          "text": [
            "I was taking my contacts out last night, and I think I scratched my cornea,” reports a 27-year- old- female. “I’m wearing these  sunglasses because the light really bothers my eyes.” Her right eye is red and tearing.  She rates her pain   as 6/10. Vital signs are within normal limits. Based on their clinical presentation, what Emergency Severity Index (ESI) acuity should the patient be assigned?\n",
            "\n",
            "\n",
            "ESI level 3: Two or more resources. This patient will require a corneal abrasion kit, and based on her history, she will probably need to be sent to an emergency department for further evaluation and treatment. At a minimum, she will need a referral to an ophthalmologist. She may also require\n"
          ]
        },
        {
          "name": "stderr",
          "output_type": "stream",
          "text": [
            "31it [00:46,  1.38s/it]"
          ]
        },
        {
          "name": "stdout",
          "output_type": "stream",
          "text": [
            "“I slipped on the ice, and I hurt my  wrist,” reports a 58-year-old female with a history of migraines. There is no obvious deformity. Vital signs are within normal  limits,  and  she  rates her pain as 5/10. Based on their clinical presentation, what Emergency Severity Index (ESI) acuity should the patient be assigned?\n",
            "\n",
            "\n",
            "ESI level 3: Two or more resources. This patient will require an x ray and an application of a splint. The splint is considered one resource. She may also require IV pain medication, which is another resource.\n",
            "\n"
          ]
        },
        {
          "name": "stderr",
          "output_type": "stream",
          "text": [
            "32it [00:48,  1.50s/it]"
          ]
        },
        {
          "name": "stdout",
          "output_type": "stream",
          "text": [
            "A 4-year-old female is transported to the ED following a fall off the jungle gym at a preschool. A fall of 4 feet.   A witness reports that the child hit her head and was unconscious for a couple of minutes. On arrival you notice that the child is crying and asking for her mother. Her left arm is splinted. Vital signs: HR 162, RR 38. Based on their clinical presentation, what Emergency Severity Index (ESI) acuity should the patient be assigned?\n",
            "\n",
            "\n",
            "ESI level 3: Two or more resources. This child will need at a minimum an x ray of her arm and a CT of her head. She may also require IV access and labs. She is awake, alert, and asking for her mother, so she doesn’t meet the criteria for ESI level 2\n"
          ]
        },
        {
          "name": "stderr",
          "output_type": "stream",
          "text": [
            "33it [00:49,  1.47s/it]"
          ]
        },
        {
          "name": "stdout",
          "output_type": "stream",
          "text": [
            "“I called my pediatrician, and she told me to bring him in because of his fever,” reports the mother of a 2-week-old. Vital signs: T 101˚F, HR 154, RR 42, SpO2 100%. Uncomplicated, vaginal delivery. The baby is acting appropriately. Based on their clinical presentation, what Emergency Severity Index (ESI) acuity should the patient be assigned?\n",
            "\n",
            "\n",
            "ESI level 3: Two or more resources. This baby is presenting with a fever and tachypnea. The baby will require at least two resources, lab and IV fluid. He will also need to be placed in a warmer.\n",
            "\n"
          ]
        },
        {
          "name": "stderr",
          "output_type": "stream",
          "text": [
            "34it [00:51,  1.60s/it]"
          ]
        },
        {
          "name": "stdout",
          "output_type": "stream",
          "text": [
            "Paramedics arrive with a 16-year-old unrestrained driver who hit a tree while traveling at approximately 45 miles per hour. The passenger side of the car had significant damage. The driver was moaning but moving all extremities when help arrived. His initial vital signs were BP 74/50, HR 132, RR 36, SPO2 99%, T 98.6˚F. Based on their clinical presentation, what Emergency Severity Index (ESI) acuity should the patient be assigned?\n",
            "\n",
            "\n",
            "ESI level 2: High-risk. This 16-year-old is showing signs of shock. He has a significant drop in blood pressure and tachycardia. At a minimum, he should have two IVs with normal saline running. The patient may also require a rapid sequence intubation. The history suggests\n"
          ]
        },
        {
          "name": "stderr",
          "output_type": "stream",
          "text": [
            "35it [00:52,  1.43s/it]"
          ]
        },
        {
          "name": "stdout",
          "output_type": "stream",
          "text": [
            "“I have an awful toothache right here,” a 38- year-old male tells you as he points to his right lower jaw. “I lost my dental insurance, so I haven’t seen a dentist for a couple of years.” No obvious swelling is noted. Vital signs are within normal limits. Pain 9/10. Based on their clinical presentation, what Emergency Severity Index (ESI) acuity should the patient be assigned?\n",
            "\n",
            "\n",
            "ESI level 3: Two or more resources. At a minimum, the patient will need an oral antibiotic and pain medication. He may also need to be seen by a dentist.\n",
            "\n"
          ]
        },
        {
          "name": "stderr",
          "output_type": "stream",
          "text": [
            "36it [00:54,  1.56s/it]"
          ]
        },
        {
          "name": "stdout",
          "output_type": "stream",
          "text": [
            "EMS presents to the ED with an 18-year-old female with a suspected medication overdose. Her college roommates found her lethargic and “not acting right,” so they called 911. The patient has a history of depression. On exam, you notice multiple superficial lacerations to both wrists. Her respiratory rate is 10, and her SpO2 on room air is 86 percent. Based on their clinical presentation, what Emergency Severity Index (ESI) acuity should the patient be assigned?\n",
            "\n",
            "\n",
            "ESI level 2: High-risk situation. This patient is presenting with signs and symptoms of a medication overdose. She is lethargic, and her respiratory rate is 10. She is also showing signs of respiratory distress with a SpO2 of 86 percent. She has a history of depression and has attempted to\n"
          ]
        },
        {
          "name": "stderr",
          "output_type": "stream",
          "text": [
            "37it [00:55,  1.41s/it]"
          ]
        },
        {
          "name": "stdout",
          "output_type": "stream",
          "text": [
            "“I cut my finger trying to slice a bagel,” reports a 28-year-old healthy male. A 2-centimeter laceration is noted on the left first finger. Bleeding is controlled. Vital signs are within normal limits. His last tetanus immunization was 10 years ago. Based on their clinical presentation, what Emergency Severity Index (ESI) acuity should the patient be assigned?\n",
            "\n",
            "\n",
            "ESI level 4: One resource. This patient will need a laceration repair. He is up to date on his tetanus. No other resources are needed.\n",
            "\n"
          ]
        },
        {
          "name": "stderr",
          "output_type": "stream",
          "text": [
            "38it [00:56,  1.39s/it]"
          ]
        },
        {
          "name": "stdout",
          "output_type": "stream",
          "text": [
            "“I have this rash in my groin area,” reports a 20-year-old healthy male. “I think it’s  jock  rot, but I can’t get rid of it.” Using over the counter spray, No known drug allergies. Vital Signs: T 98˚F, HR 58, RR 16, BP 112/70. Based on their clinical presentation, what Emergency Severity Index (ESI) acuity should the patient be assigned?\n",
            "\n",
            "\n",
            "ESI level 3: Two or more resources. This patient will need labs and a dermatology consult. Jock rot is a fungal infection. The patient may also require an antibiotic for a secondary bacterial infection. Two or more resources.\n",
            "\n"
          ]
        },
        {
          "name": "stderr",
          "output_type": "stream",
          "text": [
            "39it [00:58,  1.45s/it]"
          ]
        },
        {
          "name": "stdout",
          "output_type": "stream",
          "text": [
            "EMS arrives with a 17-year-old restrained driver involved in a high-speed motor vehicle crash. The patient is immobilized on a backboard and is complaining of abdominal pain. He has multiple lacerations on his left arm. Vital signs prior to arrival: BP 102/60; HR 86, RR 28, SpO2 96%. Based on their clinical presentation, what Emergency Severity Index (ESI) acuity should the patient be assigned?\n",
            "\n",
            "\n",
            "ESI level 3: Two or more resources. This patient will require two or more resources. He will require lab, and he will probably require an abdominal CT. He has multiple lacerations, so he may require suturing. At a minimum, he will require two resources.\n",
            "\n"
          ]
        },
        {
          "name": "stderr",
          "output_type": "stream",
          "text": [
            "40it [01:00,  1.54s/it]"
          ]
        },
        {
          "name": "stdout",
          "output_type": "stream",
          "text": [
            "EMS arrived with an unresponsive 19-year-old male with a single self-inflicted gunshot wound to the head. Prior to intubation, his Glasgow Coma Scale score was 3. Based on their clinical presentation, what Emergency Severity Index (ESI) acuity should the patient be assigned?\n",
            "\n",
            "\n",
            "ESI level 2: High-risk situation. The patient is 19 years old and has shot himself in the head. He is unresponsive and has a Glasgow Coma Scale score of 3. The patient’s vital signs may be within normal limits, but he is at risk for brain herniation. He needs immediate\n"
          ]
        },
        {
          "name": "stderr",
          "output_type": "stream",
          "text": [
            "41it [01:02,  1.60s/it]"
          ]
        },
        {
          "name": "stdout",
          "output_type": "stream",
          "text": [
            "The medical helicopter is en route to your facility with a 16-year-old male who was downhill skiing and hit a tree. Bystanders report that he lost control and hit his head. He was intubated at the scene and remains unresponsive. Based on their clinical presentation, what Emergency Severity Index (ESI) acuity should the patient be assigned?\n",
            "\n",
            "\n",
            "ESI level 1:  Requires  immediate lifesaving intervention. The patient is intubated and unresponsive. He will need to be placed in a trauma room and evaluated by the trauma team. He will require immediate lifesaving interventions. He may have a cervical spine injury, and the airway, breathing, circulation\n"
          ]
        },
        {
          "name": "stderr",
          "output_type": "stream",
          "text": [
            "42it [01:03,  1.65s/it]"
          ]
        },
        {
          "name": "stdout",
          "output_type": "stream",
          "text": [
            "A healthy18 year old  presents to the emergency department with his left hand wrapped in a bloody cloth. “I was using my  table saw, and my hand slipped. I think I lost of couple of fingertips.” No past medical history,  no med or allergies. Vital signs are within normal limits. Pain 6/10. Based on their clinical presentation, what Emergency Severity Index (ESI) acuity should the patient be assigned?\n",
            "\n",
            "\n",
            "ESI level 3: Two or more resources. The patient will require laceration repair and possible IV antibiotics and pain medication. He will not meet ESI level 2 criteria because he does not have a significant injury to a limb, and he will not meet ESI level 4 criteria because he will require more\n"
          ]
        },
        {
          "name": "stderr",
          "output_type": "stream",
          "text": [
            "43it [01:05,  1.69s/it]"
          ]
        },
        {
          "name": "stdout",
          "output_type": "stream",
          "text": [
            "“I think my son has swimmer’s ear. He spends half the day in the pool with his friends, so I am not surprised,” the mother of a 10-year-old boy tells you. The child has no complaints except painful, itchy ears. Vital signs: T 97˚F, HR 88, RR 18, BP 100/68. Based on their clinical presentation, what Emergency Severity Index (ESI) acuity should the patient be assigned?\n",
            "\n",
            "\n",
            "ESI level 3: Two or more resources. This patient will require two or more resources. At a minimum, he will need pain medication and an ear irrigation. The pain and discomfort from swimmer’s ear can be significant, and the patient may require oral pain medication. He may also require an ear irrigation, and\n"
          ]
        },
        {
          "name": "stderr",
          "output_type": "stream",
          "text": [
            "44it [01:07,  1.75s/it]"
          ]
        },
        {
          "name": "stdout",
          "output_type": "stream",
          "text": [
            "“I just don’t feel right,” reports a 21-year-old female who presented in the ED complaining of a rapid heart rate. “I can barely catch my  breath, and I have this funny pressure feeling in my chest.” HR is 178 and regular, RR 32, BP 82/60. Her skin is cool and diaphoretic. Based on their clinical presentation, what Emergency Severity Index (ESI) acuity should the patient be assigned?\n",
            "\n",
            "\n",
            "ESI level 2: High-risk  situation. This young woman is presenting with signs and symptoms of a pulmonary embolus. The triage nurse needs to recognize the clinical presentation and assign an ESI level-2 acuity. This patient will need immediate IV access and lab work. She may require immediate IV fluid\n"
          ]
        },
        {
          "name": "stderr",
          "output_type": "stream",
          "text": [
            "45it [01:09,  1.71s/it]"
          ]
        },
        {
          "name": "stdout",
          "output_type": "stream",
          "text": [
            "Concerned parents arrive in the ED with their 4-day-old baby girl who is sleeping peacefully in the mother’s arms. “I went to change her diaper,” reports the father, “and I noticed a little blood on it. Is something wrong with our daughter?” The mother tells you that the baby is nursing well and weighed 7 lbs., 2 oz. at birth. Based on their clinical presentation, what Emergency Severity Index (ESI) acuity should the patient be assigned?\n",
            "\n",
            "\n",
            "ESI level 3: Two or more resources. This 4-day-old presents with vaginal bleeding. She will require lab work, a type and screen, and possibly a pelvic ultrasound. She is currently sleeping peacefully and does not meet ESI level-2 criteria.\n",
            "\n"
          ]
        },
        {
          "name": "stderr",
          "output_type": "stream",
          "text": [
            "46it [01:10,  1.56s/it]"
          ]
        },
        {
          "name": "stdout",
          "output_type": "stream",
          "text": [
            "I was using my  chainsaw  without  safety goggles, and I think I got some sawdust  in my  left eye. It hurts and it just won’t stop tearing,” reports a healthy 18-year-old male.  Vital  signs are within normal limits. Based on their clinical presentation, what Emergency Severity Index (ESI) acuity should the patient be assigned?\n",
            "\n",
            "\n",
            "ESI level 3: Two or more resources. The patient will need an eye wash and an eye examination. In addition, he may need a prescription for an antibiotic or a pain medication.\n",
            "\n"
          ]
        },
        {
          "name": "stderr",
          "output_type": "stream",
          "text": [
            "47it [01:12,  1.64s/it]"
          ]
        },
        {
          "name": "stdout",
          "output_type": "stream",
          "text": [
            "I was smoking a cigarette and had this coughing fit, and now I feel short of breath,” reports a tall, thin 19-year-old man. No past medical history, No meds or allergies, Vital signs: T 98˚F, HR 102, RR 36, BP 128/76, SpO2 92%. Pain 0/10 Based on their clinical presentation, what Emergency Severity Index (ESI) acuity should the patient be assigned?\n",
            "\n",
            "\n",
            "ESI level 3: Two or more resources. This patient is presenting with signs and symptoms of pneumonia. He is coughing, has a fever, and is short of breath. He will require labs, a chest x ray, and IV antibiotics. At a minimum, he will require two resources.\n",
            "\n"
          ]
        },
        {
          "name": "stderr",
          "output_type": "stream",
          "text": [
            "48it [01:13,  1.68s/it]"
          ]
        },
        {
          "name": "stdout",
          "output_type": "stream",
          "text": [
            "Our pediatrician told us to bring the baby to the emergency department to see a surgeon and have some tests. Every time I feed him, he vomits and it just comes flying out,” reports the mother of a healthy appearing 3–week-old. “None of my other kids did this.” Normal vaginal delivery. Vital signs are within normal limits. Based on their clinical presentation, what Emergency Severity Index (ESI) acuity should the patient be assigned?\n",
            "\n",
            "\n",
            "ESI level 3: Two or more resources. This infant is going to need labs and an abdominal x ray. He will also require IV access and possibly IV fluids. If the vomiting is so severe that it is causing dehydration, then he may need an IV fluid bolus. The baby is currently healthy appearing and should\n"
          ]
        },
        {
          "name": "stderr",
          "output_type": "stream",
          "text": [
            "49it [01:14,  1.49s/it]"
          ]
        },
        {
          "name": "stdout",
          "output_type": "stream",
          "text": [
            "I was seen in the ED last night for my  fractured wrist. The bone doctor put this cast on and told me to come back if I had any problems. As you can see, my hand is really swollen and the cast is cutting into my fingers. The pain is just unbearable.” Circulation, sensation, and movement are decreased. Based on their clinical presentation, what Emergency Severity Index (ESI) acuity should the patient be assigned?\n",
            "\n",
            "\n",
            "ESI level 3: Two or more  resources. This patient has a fracture and will require at least two resources: x ray and an orthopedic consultation.\n",
            "\n"
          ]
        },
        {
          "name": "stderr",
          "output_type": "stream",
          "text": [
            "50it [01:15,  1.26s/it]"
          ]
        },
        {
          "name": "stdout",
          "output_type": "stream",
          "text": [
            "\"I am so embarrassed!” An 18-year-old tells you that she had unprotected sex last night. “My friend told me to come to the hospital because there is a pill I can take to prevent pregnancy.” The patient is  healthy,  takes  no  medications, and has no allergies. Vital signs: T 97˚F, HR 78, RR 16, BP 118/80. Based on their clinical presentation, what Emergency Severity Index (ESI) acuity should the patient be assigned?\n",
            "\n",
            "\n",
            "ESI level 4: Two or more resources. The patient will require lab work and a prescription for emergency contraception.\n",
            "\n"
          ]
        },
        {
          "name": "stderr",
          "output_type": "stream",
          "text": [
            "51it [01:17,  1.46s/it]"
          ]
        },
        {
          "name": "stdout",
          "output_type": "stream",
          "text": [
            "This patient is the restrained driver of an SUV involved in a high-speed, multicar  accident. Her only complaint is right thigh pain. She has a laceration on her left hand and an abrasion on her left knee. Vital signs: BP 110/74, HR 72, RR 16, no medications, no allergies, no past medical history. Based on their clinical presentation, what Emergency Severity Index (ESI) acuity should the patient be assigned?\n",
            "\n",
            "\n",
            "ESI level 3: Two or more resources. This patient will require at least two resources: x ray of the right thigh and lab work. She may require suturing of her hand and treatment of her knee abrasion. The pain from her thigh will need to be addressed, and she may require IV pain medication.\n",
            "\n"
          ]
        },
        {
          "name": "stderr",
          "output_type": "stream",
          "text": [
            "52it [01:19,  1.60s/it]"
          ]
        },
        {
          "name": "stdout",
          "output_type": "stream",
          "text": [
            "\"I think he has another ear infection,” the mother of an otherwise healthy 2-year-old tells you. “He’s pulling on his right ear.” The child has a tympanic temperature of 100.2˚F and is trying to grab your stethoscope. He has a history of frequent ear infections and is currently taking no medication. He has a normal appetite and urine output, according to the mother. Based on their clinical presentation, what Emergency Severity Index (ESI) acuity should the patient be assigned?\n",
            "\n",
            "\n",
            "ESI level 3: Two or more resources. This 2-year-old has a history of frequent ear infections and is currently complaining of ear pain and has a fever. At a minimum, he will need labs and an IV. He may require pain medication and an antibiotic, which would count as two or more resources.\n",
            "\n"
          ]
        },
        {
          "name": "stderr",
          "output_type": "stream",
          "text": [
            "53it [01:21,  1.58s/it]"
          ]
        },
        {
          "name": "stdout",
          "output_type": "stream",
          "text": [
            "“My son needs a physical for camp,” an anxious mother tells you. “I called the clinic, but they can’t see him for 2 weeks and camp starts on Monday.” Her son, a healthy 9-year- old, will be attending a summer day camp. Based on their clinical presentation, what Emergency Severity Index (ESI) acuity should the patient be assigned?\n",
            "\n",
            "\n",
            "ESI level 4: One resource. A physical exam and lab work are the two resources this patient will require. The patient is healthy and does not meet the criteria for ESI level 3. He will not be sent to the emergency department.\n",
            "\n"
          ]
        },
        {
          "name": "stderr",
          "output_type": "stream",
          "text": [
            "54it [01:22,  1.60s/it]"
          ]
        },
        {
          "name": "stdout",
          "output_type": "stream",
          "text": [
            "Last night I had sex, and we used a condom but it broke. I just don’t want to get pregnant,” a teary 18-year-old female tells you. Vital signs are within normal limits. Based on their clinical presentation, what Emergency Severity Index (ESI) acuity should the patient be assigned?\n",
            "\n",
            "\n",
            "ESI level 3: Two or more resources. This young woman will need labs, urine pregnancy test, and possibly an ultrasound. She will also need a mental health evaluation and counseling. The patient is not presenting with a high-risk situation, and she is not a danger to herself or others.\n",
            "\n"
          ]
        },
        {
          "name": "stderr",
          "output_type": "stream",
          "text": [
            "55it [01:24,  1.64s/it]"
          ]
        },
        {
          "name": "stdout",
          "output_type": "stream",
          "text": [
            "“I have a fever and a sore throat. I have finals this week, and I am scared this is strep,” reports a 19-year-old college student. She is sitting at triage drinking bottled water. No past medical history, medications: birth control pills, no allergies to medications. Vital signs: T 100.6˚F, HR 88, RR 18, BP 112/76. Based on their clinical presentation, what Emergency Severity Index (ESI) acuity should the patient be assigned?\n",
            "\n",
            "\n",
            "ESI level 3: Two or more resources. This young woman is going to need labs and a physical exam. She may need a throat culture and antibiotics. She will not be able to take her birth control pills with certain antibiotics. The patient is anxious about her finals, but this does not meet the criteria for E\n"
          ]
        },
        {
          "name": "stderr",
          "output_type": "stream",
          "text": [
            "56it [01:25,  1.60s/it]"
          ]
        },
        {
          "name": "stdout",
          "output_type": "stream",
          "text": [
            "A 16-year-old male wearing a swimsuit walks into the ED. He explains that he dove into a pool, and his face struck the bottom. You   notice an abrasion on his forehead and nose as he tells you that he needs to see a doctor because of tingling in both hands. Based on their clinical presentation, what Emergency Severity Index (ESI) acuity should the patient be assigned?\n",
            "\n",
            "\n",
            "ESI level 3: Two or more resources. The patient will require labs and an x ray of his hands. He may also require sutures for his facial laceration. The patient is alert and oriented, and there is no indication of a head injury.\n",
            "\n"
          ]
        },
        {
          "name": "stderr",
          "output_type": "stream",
          "text": [
            "57it [01:27,  1.64s/it]"
          ]
        },
        {
          "name": "stdout",
          "output_type": "stream",
          "text": [
            "EMS radios in that they are in route with a 17- year-old with a single gunshot wound to the  left chest. On scene the patient was alert, oriented and had a BP of 82/40. Two large- bore IVs were immediately inserted. Two minutes prior to arrival in the ED, the patient’s HR was 130 and BP was 78/40 Based on their clinical presentation, what Emergency Severity Index (ESI) acuity should the patient be assigned?\n",
            "\n",
            "\n",
            "ESI level 2: High-risk. This 17-year-old has a single gunshot wound to the left chest and is showing signs of hemorrhagic shock. He is tachycardic and hypotensive. He will require immediate IV access and fluid resuscitation. He meets the criteria for ESI level \n"
          ]
        },
        {
          "name": "stderr",
          "output_type": "stream",
          "text": [
            "58it [01:29,  1.67s/it]"
          ]
        },
        {
          "name": "stdout",
          "output_type": "stream",
          "text": [
            "“I just turned my back for a minute,” cried the mother of a 4-year-old. The child was pulled out of the family pool by a neighbor who immediately administered mouth-to-mouth resuscitation. The child is now breathing spontaneously but continues to be unresponsive. On arrival in the ED, vital signs were: HR 126, RR 28, BP 80/64, SpO2 96% on a non-rebreather. Based on their clinical presentation, what Emergency Severity Index (ESI) acuity should the patient be assigned?\n",
            "\n",
            "\n",
            "ESI level 2:  High-risk  situation. This 4-year-old was pulled from the pool and is now unresponsive. The triage nurse needs to identify the signs of brain injury and hypothermia. The child is currently on a non-rebreather mask. The triage nurse needs to remember that\n"
          ]
        },
        {
          "name": "stderr",
          "output_type": "stream",
          "text": [
            "59it [01:30,  1.60s/it]"
          ]
        },
        {
          "name": "stdout",
          "output_type": "stream",
          "text": [
            "“My throat is on fire,” reports a 19-year-old female. It started a couple of days ago, and it just keeps getting worse. Now I can barely swallow, and my friends say my voice is different. I looked in the mirror, and I have this big swelling on one side of my throat.” No past medical history, no meds, no allergies. Vital signs: T 101.6˚F, RR24, HR 92, BP 122/80, SpO2 100% on room air. Based on their clinical presentation, what Emergency Severity Index (ESI) acuity should the patient be assigned?\n",
            "\n",
            "\n",
            "ESI level 3: Two or more resources. The patient will require labs and a rapid throat culture. She may need IV antibiotics if her clinical presentation suggests a severe infection. She may also require close monitoring of her airway, breathing, and circulation.\n",
            "\n"
          ]
        },
        {
          "name": "stderr",
          "output_type": "stream",
          "text": [
            "60it [01:32,  1.65s/it]"
          ]
        },
        {
          "name": "stdout",
          "output_type": "stream",
          "text": [
            "Police escort a disheveled 23-year-old handcuffed male into the triage area. The police report that the patient had  been  standing  in the middle of traffic on the local highway screaming about the end of the world. The patient claims that he had been sent from Mars as the savior of the world. He refuses to answer questions or allow you to take vital signs. Based on their clinical presentation, what Emergency Severity Index (ESI) acuity should the patient be assigned?\n",
            "\n",
            "\n",
            "ESI level 3: Two or more resources. This patient is going to need lab, ECG, and probably a psychiatric consult. He is not suicidal or homicidal, and there are no signs or symptoms of a medical condition. He will not answer questions, so vital signs are not obtainable. If he were\n"
          ]
        },
        {
          "name": "stderr",
          "output_type": "stream",
          "text": [
            "61it [01:34,  1.68s/it]"
          ]
        },
        {
          "name": "stdout",
          "output_type": "stream",
          "text": [
            "A normal healthy 7-year-old walks into the emergency department accompanied by his father, who reports that his son woke up complaining of a stomach ache. “He refused to walk downstairs and is not interested in eating or playing.” The child vomits at triage. Vital signs: T 100.4˚F, RR 22, HR 88, BP 84/60, SpO2100%. Pain 6/10. Based on their clinical presentation, what Emergency Severity Index (ESI) acuity should the patient be assigned?\n",
            "\n",
            "\n",
            "ESI level 3: Two or more resources. The child is vomiting, and based on the history, will require IV fluid and antiemetics. If the child’s vital signs are within normal limits, he will not meet ESI level-2 criteria. If he has a fever and abdominal pain, he will not\n"
          ]
        },
        {
          "name": "stderr",
          "output_type": "stream",
          "text": [
            "62it [01:36,  1.70s/it]"
          ]
        },
        {
          "name": "stdout",
          "output_type": "stream",
          "text": [
            "\"My son woke me up about 3 hours ago complaining of a right earache. I gave him  some acetaminophen but it didn’t help,” the 4- year-old’s mother tells you. No fever, other vital signs within normal limits for age. Based on their clinical presentation, what Emergency Severity Index (ESI) acuity should the patient be assigned?\n",
            "\n",
            "\n",
            "ESI level 3: Two or more resources. This patient is presenting with an earache, and an ear exam will be necessary. The patient will need an oral pain medication. If the pain medication doesn’t work, the child may need to be discharged with a prescription. At a minimum, this patient will require two\n"
          ]
        },
        {
          "name": "stderr",
          "output_type": "stream",
          "text": [
            "63it [01:37,  1.59s/it]"
          ]
        },
        {
          "name": "stdout",
          "output_type": "stream",
          "text": [
            "I got my belly button  pierced  a month ago and now it hurts so bad,” reports a 19-year-old healthy college student who is accompanied by her roommate. They are chatting about plans for the evening. The area is red, tender, and swollen, and pus is oozing from around the site. Vital signs: T 100˚F, HR 74, RR 18, BP 102/70, SpO2 100%. Pain 8/10. Based on their clinical presentation, what Emergency Severity Index (ESI) acuity should the patient be assigned?\n",
            "\n",
            "\n",
            "ESI level 3: Two or more resources. At a minimum, this patient will require IV antibiotics and labs. The pain in the abdomen could be the source of the infection, and labs will be needed to rule out an abscess.\n",
            "\n"
          ]
        },
        {
          "name": "stderr",
          "output_type": "stream",
          "text": [
            "64it [01:38,  1.46s/it]"
          ]
        },
        {
          "name": "stdout",
          "output_type": "stream",
          "text": [
            "A 6-year-old male tells you that he was running across the playground and fell. He presents  with a 3-centimeter laceration over his right knee. Healthy, no medications and no allergies, immunizations are up to date. Based on their clinical presentation, what Emergency Severity Index (ESI) acuity should the patient be assigned?\n",
            "\n",
            "\n",
            "ESI level 4: One resource. The patient will require one laceration repair. He is awake, alert, and answering questions appropriately. There are no other injuries that need to be evaluated.\n",
            "\n"
          ]
        },
        {
          "name": "stderr",
          "output_type": "stream",
          "text": [
            "65it [01:39,  1.43s/it]"
          ]
        },
        {
          "name": "stdout",
          "output_type": "stream",
          "text": [
            "I have this infection in my cuticle,” reports a healthy 26-year-old female. “It started hurting 2 days ago, and today I noticed the pus.” The patient has a small paronychia on her right second finger. No known drug allergies. T 98.8˚F, RR 14, HR 62, BP 108/70. Based on their clinical presentation, what Emergency Severity Index (ESI) acuity should the patient be assigned?\n",
            "\n",
            "\n",
            "ESI level 3: Two or more resources. The patient will need labs and possibly an x ray. She will also need to be treated for her paronychia, which will require a lancing of the abscess and possible IV antibiotics.\n",
            "\n"
          ]
        },
        {
          "name": "stderr",
          "output_type": "stream",
          "text": [
            "66it [01:41,  1.33s/it]"
          ]
        },
        {
          "name": "stdout",
          "output_type": "stream",
          "text": [
            "A 20-year-old male presents to the ED after being tackled while playing football. He has an obvious dislocation of his left shoulder and complains of 10/10, severe pain. Neurovascular status is intact, and vital signs are within normal limits. Based on their clinical presentation, what Emergency Severity Index (ESI) acuity should the patient be assigned?\n",
            "\n",
            "\n",
            "ESI level 3: Two or more resources. This patient will require two or more resources, such as an x ray and IV pain medication, and possibly a reduction of the dislocation.\n",
            "\n"
          ]
        },
        {
          "name": "stderr",
          "output_type": "stream",
          "text": [
            "67it [01:42,  1.45s/it]"
          ]
        },
        {
          "name": "stdout",
          "output_type": "stream",
          "text": [
            "A 17-year-old handcuffed male walks into the ED accompanied by the police. The parents called 911 because their son was out of control: verbally and physically acting out and threatening to kill the family. He is cooperative at triage and answers your questions appropriately. He has no past medical history or allergies and is currently taking no medications. Vital signs are within normal limits. Based on their clinical presentation, what Emergency Severity Index (ESI) acuity should the patient be assigned?\n",
            "\n",
            "\n",
            "ESI level 3: Two or more resources. This patient is a suicidal threat, and his behavior is not normal. He may need to be placed on a 72-hour psychiatric hold. At a minimum, he will need a lab, an EKG, and a mental health evaluation, which counts as two resources.\n",
            "\n"
          ]
        },
        {
          "name": "stderr",
          "output_type": "stream",
          "text": [
            "68it [01:44,  1.47s/it]"
          ]
        },
        {
          "name": "stdout",
          "output_type": "stream",
          "text": [
            "You are trying to triage an 18-month-old whose mother brought him in for vomiting. The  toddler is very active and trying to get off his mother’s lap. To distract him, the mother hands him a bottle of juice, which he immediately begins sucking on. The child looks well  hydrated and is afebrile. Based on their clinical presentation, what Emergency Severity Index (ESI) acuity should the patient be assigned?\n",
            "\n",
            "\n",
            "ESI level 4: One resource. This toddler is probably vomiting because of a viral infection. He is not showing signs of dehydration, and his vital signs are within normal limits. He will need one resource, a lab, and will be discharged to the pediatrician.\n",
            "\n"
          ]
        },
        {
          "name": "stderr",
          "output_type": "stream",
          "text": [
            "69it [01:46,  1.55s/it]"
          ]
        },
        {
          "name": "stdout",
          "output_type": "stream",
          "text": [
            "He was running after his brother, fell, and cut his lip on the corner of the coffee table. There was blood everywhere,” recalls the mother of a healthy 19-month-old. “He’ll never stay still for the doctor.” You notice that the baby has a 2- centimeter lip laceration that extends through the vermilion border. Vital signs are within normal limits for age. Based on their clinical presentation, what Emergency Severity Index (ESI) acuity should the patient be assigned?\n",
            "\n",
            "\n",
            "ESI level 3: Two or more resources. This 19-month-old will need lab and x ray. If the lip laceration is too long, the patient may require suturing. At a minimum, the patient will require suturing of the lip, and the x ray will be for the fall onto the\n"
          ]
        },
        {
          "name": "stderr",
          "output_type": "stream",
          "text": [
            "70it [01:47,  1.60s/it]"
          ]
        },
        {
          "name": "stdout",
          "output_type": "stream",
          "text": [
            "EMS arrives with a 7-year-old male who was hit by a car. Child is somnolent, appears pale, non-labored respirations. Based on their clinical presentation, what Emergency Severity Index (ESI) acuity should the patient be assigned?\n",
            "\n",
            "\n",
            "ESI level 2:  High-risk  situation. The child was hit by a car, and the triage nurse needs to look for signs of head injury, internal bleeding, or other traumatic injuries. The child is somnolent, which may be a sign of increased intracranial pressure.\n",
            "\n"
          ]
        },
        {
          "name": "stderr",
          "output_type": "stream",
          "text": [
            "71it [01:49,  1.65s/it]"
          ]
        },
        {
          "name": "stdout",
          "output_type": "stream",
          "text": [
            "14-year-old female is brought in by EMS after diving into the pool and hitting her head. She is awake, alert, and moving all extremities. She is currently immobilized on a back board with c-collar in place. VS: BP 118/72, HR 76, RR 14. Based on their clinical presentation, what Emergency Severity Index (ESI) acuity should the patient be assigned?\n",
            "\n",
            "\n",
            "ESI level 3: Two or more resources. This 14-year-old female diver has hit her head. She will require a CT of the head. She will also require a cervical spine x ray. Based on her vital signs, she will probably require IV access and IV fluid. She will meet the criteria for E\n"
          ]
        },
        {
          "name": "stderr",
          "output_type": "stream",
          "text": [
            "72it [01:51,  1.68s/it]"
          ]
        },
        {
          "name": "stdout",
          "output_type": "stream",
          "text": [
            "14-year-old male brought in by EMS who was tackled while playing  football. He has an obvious deformity to his right lower leg. He has +2 pedal pulses and his toes are warm and dry. He is able to wiggle his toes. No head/ neck injuries reported. VS: 118/78, HR 76, RR 14. Based on their clinical presentation, what Emergency Severity Index (ESI) acuity should the patient be assigned?\n",
            "\n",
            "\n",
            "ESI level 3: Two or more resources. This patient will require at least two resources: orthopedic reduction and splinting, and possibly an x ray of the lower leg. The patient is alert and oriented and has normal vital signs, so there is no indication that he meets ESI level-2 criteria\n"
          ]
        },
        {
          "name": "stderr",
          "output_type": "stream",
          "text": [
            "73it [01:52,  1.48s/it]"
          ]
        },
        {
          "name": "stdout",
          "output_type": "stream",
          "text": [
            "12-year-old female brought into the ED by mother. Claims she cut her thumb while washing dishes.She has a 2 cm superficial laceration to her right thumb. VS: BP 110/70, HR 72, RR 14, T 98.0°F. Based on their clinical presentation, what Emergency Severity Index (ESI) acuity should the patient be assigned?\n",
            "\n",
            "\n",
            "ESI level 3: Two or more resources. A superficial laceration to the thumb will require at least two resources: suturing and application of a tetanus booster.\n",
            "\n"
          ]
        },
        {
          "name": "stderr",
          "output_type": "stream",
          "text": [
            "74it [01:53,  1.56s/it]"
          ]
        },
        {
          "name": "stdout",
          "output_type": "stream",
          "text": [
            "17-year-old male, history of suicidality, found unresponsive by parents. There are several bottles of liquor, and unidentified empty pill bottles next to bed Based on their clinical presentation, what Emergency Severity Index (ESI) acuity should the patient be assigned?\n",
            "\n",
            "\n",
            "ESI level 3: Two or more  resources. The patient may have overdosed on pills and then drank liquor. He will require lab work, a toxicology screen, and IV access. At a minimum, he will need one resource, but based on the clinical presentation, he will require two or more resources.\n",
            "\n"
          ]
        },
        {
          "name": "stderr",
          "output_type": "stream",
          "text": [
            "75it [01:55,  1.47s/it]"
          ]
        },
        {
          "name": "stdout",
          "output_type": "stream",
          "text": [
            "16-year-old male brought in by parents who report patient was out of control, screaming obscenities, and threatening to kill the family. He is cooperative in triage and answers your questions calmly. Based on their clinical presentation, what Emergency Severity Index (ESI) acuity should the patient be assigned?\n",
            "\n",
            "\n",
            "ESI level 3: Two or more resources. The patient will need a psychiatric evaluation and possibly a urine drug screen, and he may require a safe environment or restraints. At a minimum, he will require one resource.\n",
            "\n"
          ]
        },
        {
          "name": "stderr",
          "output_type": "stream",
          "text": [
            "76it [01:56,  1.35s/it]"
          ]
        },
        {
          "name": "stdout",
          "output_type": "stream",
          "text": [
            "15-year-old female presents to ED with her boyfriend claiming, “I think I’m pregnant. When I told my mom she threw me out of the house and told me never to come back. I have no place to live, and now I might have a baby.” VS: BP 126/85, HR 100, RR 16, T 98.7°F. Based on their clinical presentation, what Emergency Severity Index (ESI) acuity should the patient be assigned?\n",
            "\n",
            "\n",
            "ESI level 3: Two or more resources. The patient will need a pregnancy test, and depending on the results, she may need labs, an ultrasound, and a social worker.\n",
            "\n"
          ]
        },
        {
          "name": "stderr",
          "output_type": "stream",
          "text": [
            "77it [01:57,  1.41s/it]"
          ]
        },
        {
          "name": "stdout",
          "output_type": "stream",
          "text": [
            "10-year-old female presents to the ED with mother who states that she received a call from her teacher because the child has been disrupting the class with sudden outbursts. Mom has never witnessed this behavior, but she does state that she becomes very defiant when she doesn’t get her own way. Currently, the child is laughing and playing with her little sister. VS: 98/72, HR 82, RR 22, T 98.2°F. Based on their clinical presentation, what Emergency Severity Index (ESI) acuity should the patient be assigned?\n",
            "\n",
            "\n",
            "ESI level 4: One resource. The child is exhibiting behavioral problems and needs to be evaluated by a mental health professional or a social worker. She may require a medication check and labs, but this is not a resource. The child is not in danger to herself or others.\n",
            "\n"
          ]
        },
        {
          "name": "stderr",
          "output_type": "stream",
          "text": [
            "78it [01:59,  1.33s/it]"
          ]
        },
        {
          "name": "stdout",
          "output_type": "stream",
          "text": [
            "13-year-old male walks into the ED with his mother on a Friday night. Mom states, “I didn’t realize he was out of his medications for his ADHD, and I don’t want him to miss a day.” The patient is cooperative and pleasant. VS: BP 108/72, HR 78, RR 14, T 98.6°F. Based on their clinical presentation, what Emergency Severity Index (ESI) acuity should the patient be assigned?\n",
            "\n",
            "\n",
            "ESI level 4: One resource. The patient needs to be evaluated and restarted on his medications. If he were showing signs and symptoms of withdrawal, he would meet ESI level-2 criteria.\n",
            "\n"
          ]
        },
        {
          "name": "stderr",
          "output_type": "stream",
          "text": [
            "79it [02:00,  1.46s/it]"
          ]
        },
        {
          "name": "stdout",
          "output_type": "stream",
          "text": [
            "\"I think he broke it,” reports the mother of a 9- year-old boy. “He was climbing a tree and fell about 5 feet, landing on his arm. I am a nurse, so I put on a splint and applied ice. He has a good pulse.” The arm is obviously deformed. Vital signs: T 98°F, RR 26, HR 90, SpO2 99%. Pain 5/10. Based on their clinical presentation, what Emergency Severity Index (ESI) acuity should the patient be assigned?\n",
            "\n",
            "\n",
            "ESI level 3: Two or more resources. The history suggests a possible fracture. The patient will require an x ray and possibly an IV and lab. At a minimum, he will need an x ray of the arm and one of the clavicle. If he has a closed head injury, he will require a\n"
          ]
        },
        {
          "name": "stderr",
          "output_type": "stream",
          "text": [
            "80it [02:02,  1.55s/it]"
          ]
        },
        {
          "name": "stdout",
          "output_type": "stream",
          "text": [
            "EMS arrives with a 28-year-old male who was stabbed in the left side of his neck during an altercation. You notice a large hematoma around the wound, and the patient is moaning he can’t breathe. HR 110, RR 36, SpO2 89%. Based on their clinical presentation, what Emergency Severity Index (ESI) acuity should the patient be assigned?\n",
            "\n",
            "\n",
            "ESI level 2: High-risk  situation. The patient has a significant neck injury and is showing signs of airway compromise. He is moaning that he can’t breathe and is tachypneic. His SpO2 is 89%. He will require immediate intubation and aggressive airway management.\n",
            "\n"
          ]
        },
        {
          "name": "stderr",
          "output_type": "stream",
          "text": [
            "81it [02:04,  1.59s/it]"
          ]
        },
        {
          "name": "stdout",
          "output_type": "stream",
          "text": [
            "An 11-year-old presents to triage with his mother, who reports that her son has had a cough and runny nose for a week. The child is running around the waiting room and asking his mother for a snack. Vital signs are within normal limits. Based on their clinical presentation, what Emergency Severity Index (ESI) acuity should the patient be assigned?\n",
            "\n",
            "\n",
            "ESI level 4: One resource. This child has a cough and runny nose for a week. He is not showing signs of pneumonia or another serious infection. He will require one resource, a physical exam, and probably a prescription. He does not meet the criteria for ESI level 3.\n",
            "\n"
          ]
        },
        {
          "name": "stderr",
          "output_type": "stream",
          "text": [
            "82it [02:05,  1.64s/it]"
          ]
        },
        {
          "name": "stdout",
          "output_type": "stream",
          "text": [
            "\"I don’t know what is wrong with my son,” reports the worried mother of a normally healthy eight-year-old male. “He’s losing weight and acting so cranky. Last night he was up to the bathroom every hour, and he can’t seem to get enough to drink.” The child is alert and oriented and answers your questions appropriately. Vital signs: T 98.6°F, RR 30, HR 98, BP 92/78, SpO2 98%. Based on their clinical presentation, what Emergency Severity Index (ESI) acuity should the patient be assigned?\n",
            "\n",
            "\n",
            "ESI level 3: Two or more resources. This patient is dehydrated, and in addition to labs and IV access, he will need IV fluids. His weight loss and irritability may be signs of diabetes. If this patient’s condition meets the criteria for ESI level 3, he will not meet the\n"
          ]
        },
        {
          "name": "stderr",
          "output_type": "stream",
          "text": [
            "83it [02:07,  1.68s/it]"
          ]
        },
        {
          "name": "stdout",
          "output_type": "stream",
          "text": [
            "He has had diarrhea for 2 days, and he just started throwing up this morning. This has been going around the family, and he seems to have it the worst. He has been drinking before today, but now he doesn’t want anything to drink,” reports the mother of a 19-month-old. The toddler is awake and alert but quiet in the mother’s arms, and you notice his lips are dry and cracked. Vital signs: T 99°F, RR 30, HR 130, SpO2 100%. Based on their clinical presentation, what Emergency Severity Index (ESI) acuity should the patient be assigned?\n",
            "\n",
            "\n",
            "ESI level 3: Two or more resources. This 19-month-old is presenting with symptoms of a viral gastroenteritis. He is lethargic, not wanting to drink, and has a fever and dry cracked lips. At a minimum, he will need labs and IV fluid. He is too young to tell\n"
          ]
        },
        {
          "name": "stderr",
          "output_type": "stream",
          "text": [
            "84it [02:09,  1.58s/it]"
          ]
        },
        {
          "name": "stdout",
          "output_type": "stream",
          "text": [
            "My baby is having a hard time drinking his bottle,” reports the young mother of a 3– month-old. The baby is alert and looking around. You notice a large amount of dried mucus around both nares. T 98°F, RR 40,HR 132, SpO2 99%. Based on their clinical presentation, what Emergency Severity Index (ESI) acuity should the patient be assigned?\n",
            "\n",
            "\n",
            "ESI level 3: Two or more resources. The baby will need to be evaluated by the pediatrician. In addition to the pediatric evaluation, the baby will require nasal suctioning and possibly IV fluids if he is showing signs of dehydration.\n",
            "\n"
          ]
        },
        {
          "name": "stderr",
          "output_type": "stream",
          "text": [
            "85it [02:10,  1.64s/it]"
          ]
        },
        {
          "name": "stdout",
          "output_type": "stream",
          "text": [
            "Melissa, a 4-year-old with a ventriculo- peritoneal shunt (drains excess cerebrospinal fluid), is brought to the ED by her parents. The mother tells you that she is concerned that the shunt may be blocked because Melissa is not acting right. The child is sleepy but responds to verbal stimuli. When asked what was wrong, she tells you that her head hurts and she is going to throw up. T 98.6°F, RR 22, HR 120, SpO2 99% on room air, BP 94/76. Based on their clinical presentation, what Emergency Severity Index (ESI) acuity should the patient be assigned?\n",
            "\n",
            "\n",
            "ESI level 3: Two or more resources. This 4-year-old has a shunt in her head, and her parents are concerned that it may be blocked. She is lethargic, tachycardic, and hypertensive. This patient will require two or more resources, such as IV access,\n"
          ]
        },
        {
          "name": "stderr",
          "output_type": "stream",
          "text": [
            "86it [02:12,  1.55s/it]"
          ]
        },
        {
          "name": "stdout",
          "output_type": "stream",
          "text": [
            "“This is so embarrassing,” reports a 29-year-old male. “For the last 12 hours, I have had this thing stuck in my rectum. I have tried and tried to get it out with no success. Can someone help me?” The patient denies abdominal pain or tenderness. Vital signs are within normal limits. Pain 4/10. Based on their clinical presentation, what Emergency Severity Index (ESI) acuity should the patient be assigned?\n",
            "\n",
            "\n",
            "ESI level 3: Two or more resources. The patient will need a CT of the abdomen and possibly an x ray to determine if there is an object in the rectum. In addition, he may require pain medication and IV fluid.\n",
            "\n"
          ]
        },
        {
          "name": "stderr",
          "output_type": "stream",
          "text": [
            "87it [02:13,  1.53s/it]"
          ]
        },
        {
          "name": "stdout",
          "output_type": "stream",
          "text": [
            "EMS arrives with a 14-year-old male who was snowboarding at a nearby ski area, lost control, and ran into a tree. The patient was wearing a ski helmet, is currently aware, alert, and oriented and is complaining of left upper- quadrant pain and left thigh pain. His left femur appears to be broken. BP 112/80, HR 86, RR 14, SpO2 98%, and temperature is normal. Based on their clinical presentation, what Emergency Severity Index (ESI) acuity should the patient be assigned?\n",
            "\n",
            "\n",
            "ESI level 3: Two or more resources. This patient will require at least two resources, one for his femur fracture and another for his abdominal pain. The patient will require an x ray of his left femur and labs and an abdominal CT or ultrasound.\n",
            "\n"
          ]
        },
        {
          "name": "stderr",
          "output_type": "stream",
          "text": [
            "88it [02:15,  1.57s/it]"
          ]
        },
        {
          "name": "stdout",
          "output_type": "stream",
          "text": [
            "“I don’t know what’s wrong with my baby girl,” cries a young mother. She reports that her 2- week-old baby is not acting right and is not interested  in eating. As you begin to undress the baby, you notice that she is listless and her skin is mottled Based on their clinical presentation, what Emergency Severity Index (ESI) acuity should the patient be assigned?\n",
            "\n",
            "\n",
            "ESI level 3: Two or more resources. This 2-week-old female is presenting with signs and symptoms of sepsis. She will require labs, fluid resuscitation, and possibly IV antibiotics. She is not in failure to thrive and does not meet ESI level 2 criteria.\n",
            "\n"
          ]
        },
        {
          "name": "stderr",
          "output_type": "stream",
          "text": [
            "89it [02:17,  1.66s/it]"
          ]
        },
        {
          "name": "stdout",
          "output_type": "stream",
          "text": [
            "“After my pediatrician saw my son’s rash, he said I had to bring him to the emergency department immediately. He has this rash on his face and chest that started today. He has little pinpoint purplish spots he called  petechiae. My son is a healthy kid who has had a cold for a couple of days and a cough. My pediatrician said he had to be sure nothing bad is going on. What do you think?” Based on their clinical presentation, what Emergency Severity Index (ESI) acuity should the patient be assigned?\n",
            "\n",
            "\n",
            "ESI level 3: Two or more resources. The patient has a rash and a cough and is probably coming in with a cold. The triage nurse needs to remember that a cold is caused by a virus and that the treatment is supportive. This patient will need at least two resources, labs and a chest x ray\n"
          ]
        },
        {
          "name": "stderr",
          "output_type": "stream",
          "text": [
            "90it [02:18,  1.56s/it]"
          ]
        },
        {
          "name": "stdout",
          "output_type": "stream",
          "text": [
            "“Her grandfather pulled her by the wrist up and over a big puddle. Next thing you know, she is crying and refusing to move her left arm,” the mother of a healthy 3–year-old tells you. Vital signs are within normal limits. Based on their clinical presentation, what Emergency Severity Index (ESI) acuity should the patient be assigned?\n",
            "\n",
            "\n",
            "ESI level 3: Two or more resources. The patient will need an x ray and IV antibiotics. If the child is not able to move the left arm, it is possible that the child has a fracture or a dislocation.\n",
            "\n"
          ]
        },
        {
          "name": "stderr",
          "output_type": "stream",
          "text": [
            "91it [02:20,  1.53s/it]"
          ]
        },
        {
          "name": "stdout",
          "output_type": "stream",
          "text": [
            "“Without the helmet, I would have been really hurt,” reports a 19-year-old healthy male who was involved in a bicycle accident. He lost control of his bike when he hit a pothole. He  has a 2-centimeter laceration on his arm and pain over his left clavicle. Vital signs: T 97.4°F, RR 18, HR 62, BP 122/70, SpO2 100%. Pain 6/10 Based on their clinical presentation, what Emergency Severity Index (ESI) acuity should the patient be assigned?\n",
            "\n",
            "\n",
            "ESI level 3: Two or more resources. The patient will require an x ray of his clavicle and laceration repair. He has a normal vital sign and physical exam, so there is no indication for an ESI level-2 situation.\n",
            "\n"
          ]
        },
        {
          "name": "stderr",
          "output_type": "stream",
          "text": [
            "92it [02:21,  1.54s/it]"
          ]
        },
        {
          "name": "stdout",
          "output_type": "stream",
          "text": [
            "A 16-year-old female is brought to the emergency department by her mother, who reports that her daughter took more than 30 acetaminophen tablets about 30 minutes before admission. The tearful girl tells you that her boyfriend broke up with her this morning. No previous medical history, and no allergies or medications. Vital signs within normal limits Based on their clinical presentation, what Emergency Severity Index (ESI) acuity should the patient be assigned?\n",
            "\n",
            "\n",
            "ESI level 3: Two or more resources. The patient will require labs and possibly a gastric lavage. In addition, she will need to be placed in protective custody because of her suicidal attempt. She will require a mental health evaluation and possibly be sent to a psychiatric facility.\n",
            "\n"
          ]
        },
        {
          "name": "stderr",
          "output_type": "stream",
          "text": [
            "93it [02:22,  1.41s/it]"
          ]
        },
        {
          "name": "stdout",
          "output_type": "stream",
          "text": [
            "I was so disappointed about not making the varsity soccer team that I punched a wall,” reports a 15-year-old healthy male. His hand is swollen and tender to touch. Vital signs: T 97°F, RR 16, HR 58, BP 106/80, SpO2 100%. Pain 5/10. Based on their clinical presentation, what Emergency Severity Index (ESI) acuity should the patient be assigned?\n",
            "\n",
            "\n",
            "ESI level 3: Two or more resources. At a minimum, this patient will require labs and an x ray of his hand. He may also require IV pain medication or suturing.\n",
            "\n"
          ]
        },
        {
          "name": "stderr",
          "output_type": "stream",
          "text": [
            "94it [02:24,  1.51s/it]"
          ]
        },
        {
          "name": "stdout",
          "output_type": "stream",
          "text": [
            "When asked why she came to the emergency department, the 18-year-old college student begins to cry. She tells the triage nurse that she was sexually assaulted last night at an off- campus party. Based on their clinical presentation, what Emergency Severity Index (ESI) acuity should the patient be assigned?\n",
            "\n",
            "\n",
            "ESI level 3: Two or more resources. This patient will need labs, a pelvic exam, and possibly a rape kit. She may also need medication for anxiety or depression. If she is pregnant, she will need an ultrasound and counseling. This patient will require two or more resources.\n",
            "\n"
          ]
        },
        {
          "name": "stderr",
          "output_type": "stream",
          "text": [
            "95it [02:26,  1.61s/it]"
          ]
        },
        {
          "name": "stdout",
          "output_type": "stream",
          "text": [
            "A healthy 10-year-old male is brought to the emergency department by his mother, who reports that her son has not moved his bowels for a week. He is complaining of 7/10 generalized abdominal pain, nausea, and lack of appetite. Vital signs: BP 107/66, HR 75, RR 20, T 98.6°F, SpO2 99%. Based on their clinical presentation, what Emergency Severity Index (ESI) acuity should the patient be assigned?\n",
            "\n",
            "\n",
            "ESI level 3: Two or more resources. This patient is presenting with abdominal pain, nausea, and lack of appetite for a week. He has not had a bowel movement in a week, and he is complaining of generalized abdominal pain. He will need labs, a CT scan, and IV fluids. At a minimum\n"
          ]
        },
        {
          "name": "stderr",
          "output_type": "stream",
          "text": [
            "96it [02:28,  1.65s/it]"
          ]
        },
        {
          "name": "stdout",
          "output_type": "stream",
          "text": [
            "A 16-year-old high school hockey player collapsed on the ice after being hit in the anterior chest by the puck. The coaching staff began CPR almost immediately, and he was defibrillated three times with a return of spontaneous circulation. He arrives in the emergency department intubated. Based on their clinical presentation, what Emergency Severity Index (ESI) acuity should the patient be assigned?\n",
            "\n",
            "\n",
            "ESI level 2: High-risk. The patient is a 16-year-old hockey player who suffered a cardiac arrest after being hit in the chest by a puck. He required three defibrillations and is now intubated. He is at high risk for further cardiac complications and needs close monitoring. At a minimum\n"
          ]
        },
        {
          "name": "stderr",
          "output_type": "stream",
          "text": [
            "97it [02:29,  1.68s/it]"
          ]
        },
        {
          "name": "stdout",
          "output_type": "stream",
          "text": [
            "This sounds really strange. A bug flew into my right ear while I was gardening. I tried to get it out by using a Q-tip. I just don’t know what  else to do, but this buzzing noise is driving me crazy,” a 55-year-old female tells you. No previous medical history and vital signs are within normal limits Based on their clinical presentation, what Emergency Severity Index (ESI) acuity should the patient be assigned?\n",
            "\n",
            "\n",
            "ESI level 4: One resource. This patient will require one resource, an ear exam. If the patient is able to tell you that the bug flew in and that he or she has tried to get it out with a Q-tip, then there is a high likelihood that an insect is in the ear canal. An\n"
          ]
        },
        {
          "name": "stderr",
          "output_type": "stream",
          "text": [
            "98it [02:30,  1.42s/it]"
          ]
        },
        {
          "name": "stdout",
          "output_type": "stream",
          "text": [
            "This morning, I stepped on a rusty nail, and it went right through my shoe into my foot. I washed it really well. I read on the Internet that I need a tetanus shot.” No previous medical history, and vital signs are  within  normal limits. Based on their clinical presentation, what Emergency Severity Index (ESI) acuity should the patient be assigned?\n",
            "\n",
            "\n",
            "ESI level 4: One resource. The patient will require a tetanus shot, and maybe an x ray, but not necessarily.\n",
            "\n"
          ]
        },
        {
          "name": "stderr",
          "output_type": "stream",
          "text": [
            "99it [02:32,  1.52s/it]"
          ]
        },
        {
          "name": "stdout",
          "output_type": "stream",
          "text": [
            "I was taking my contacts out last night, and I think I scratched my cornea,” reports a 27-year- old- female. “I’m wearing these  sunglasses because the light really bothers my eyes.” Her right eye is red and tearing.  She rates her pain   as 6/10. Vital signs are within normal limits. Based on their clinical presentation, what Emergency Severity Index (ESI) acuity should the patient be assigned?\n",
            "\n",
            "\n",
            "ESI level 3: Two or more  resources.  This  patient  will  need  a  thorough  eye exam, and  she  may  require  a  prescription  for  an  antibiotic. At a minimum, she will require a pair of glasses or contact lenses. If she is presenting\n"
          ]
        },
        {
          "name": "stderr",
          "output_type": "stream",
          "text": [
            "100it [02:33,  1.37s/it]"
          ]
        },
        {
          "name": "stdout",
          "output_type": "stream",
          "text": [
            "“I slipped on the ice, and I hurt my  wrist,” reports a 58-year-old female with a history of migraines. There is no obvious deformity. Vital signs are within normal  limits,  and  she  rates her pain as 5/10. Based on their clinical presentation, what Emergency Severity Index (ESI) acuity should the patient be assigned?\n",
            "\n",
            "\n",
            "ESI level 3: Two or more resources. This patient will need a wrist x ray and possibly a splint. She also may need to be evaluated for a migraine.\n",
            "\n"
          ]
        },
        {
          "name": "stderr",
          "output_type": "stream",
          "text": [
            "101it [02:35,  1.48s/it]"
          ]
        },
        {
          "name": "stdout",
          "output_type": "stream",
          "text": [
            "A 4-year-old female is transported to the ED following a fall off the jungle gym at a preschool. A fall of 4 feet.   A witness reports that the child hit her head and was unconscious for a couple of minutes. On arrival you notice that the child is crying and asking for her mother. Her left arm is splinted. Vital signs: HR 162, RR 38. Based on their clinical presentation, what Emergency Severity Index (ESI) acuity should the patient be assigned?\n",
            "\n",
            "\n",
            "ESI level 3: Two or more resources. This 4-year-old fell off a jungle gym and hit her head. She was unconscious for a couple of minutes. At a minimum, she will require a head CT and IV access. She already has a splint on her arm. She may need another resource,\n"
          ]
        },
        {
          "name": "stderr",
          "output_type": "stream",
          "text": [
            "102it [02:36,  1.40s/it]"
          ]
        },
        {
          "name": "stdout",
          "output_type": "stream",
          "text": [
            "“I called my pediatrician, and she told me to bring him in because of his fever,” reports the mother of a 2-week-old. Vital signs: T 101˚F, HR 154, RR 42, SpO2 100%. Uncomplicated, vaginal delivery. The baby is acting appropriately. Based on their clinical presentation, what Emergency Severity Index (ESI) acuity should the patient be assigned?\n",
            "\n",
            "\n",
            "ESI level 3: Two or more resources. This baby is presenting with signs of an infection. At a minimum, he will require labs and IV antibiotics. He may also require IV fluid resuscitation.\n",
            "\n"
          ]
        },
        {
          "name": "stderr",
          "output_type": "stream",
          "text": [
            "103it [02:38,  1.50s/it]"
          ]
        },
        {
          "name": "stdout",
          "output_type": "stream",
          "text": [
            "Paramedics arrive with a 16-year-old unrestrained driver who hit a tree while traveling at approximately 45 miles per hour. The passenger side of the car had significant damage. The driver was moaning but moving all extremities when help arrived. His initial vital signs were BP 74/50, HR 132, RR 36, SPO2 99%, T 98.6˚F. Based on their clinical presentation, what Emergency Severity Index (ESI) acuity should the patient be assigned?\n",
            "\n",
            "\n",
            "ESI level 2: High-risk. This patient is hypotensive, tachycardic, and possibly in shock. The patient’s vital signs are all abnormal, and he is showing signs of a significant injury. At a minimum, he will need IV access, IV fluid resuscitation, and possibly blood\n"
          ]
        },
        {
          "name": "stderr",
          "output_type": "stream",
          "text": [
            "104it [02:39,  1.60s/it]"
          ]
        },
        {
          "name": "stdout",
          "output_type": "stream",
          "text": [
            "“I have an awful toothache right here,” a 38- year-old male tells you as he points to his right lower jaw. “I lost my dental insurance, so I haven’t seen a dentist for a couple of years.” No obvious swelling is noted. Vital signs are within normal limits. Pain 9/10. Based on their clinical presentation, what Emergency Severity Index (ESI) acuity should the patient be assigned?\n",
            "\n",
            "\n",
            "ESI level 3: Two or more resources. This patient will require two or more resources. At a minimum, he will require labs and IV pain medication. He may also require IV antibiotics and IV fluids. The patient may need to be discharged home with a prescription for an antibiotic. If the patient is not in immediate\n"
          ]
        },
        {
          "name": "stderr",
          "output_type": "stream",
          "text": [
            "105it [02:41,  1.64s/it]"
          ]
        },
        {
          "name": "stdout",
          "output_type": "stream",
          "text": [
            "EMS presents to the ED with an 18-year-old female with a suspected medication overdose. Her college roommates found her lethargic and “not acting right,” so they called 911. The patient has a history of depression. On exam, you notice multiple superficial lacerations to both wrists. Her respiratory rate is 10, and her SpO2 on room air is 86 percent. Based on their clinical presentation, what Emergency Severity Index (ESI) acuity should the patient be assigned?\n",
            "\n",
            "\n",
            "ESI level 2: High-risk situation. The patient has a history of depression and has made multiple superficial lacerations to her wrists. She is lethargic, and her respiratory rate is 10. She is not able to protect her own airway. She has a significant drop in her SpO2,\n"
          ]
        },
        {
          "name": "stderr",
          "output_type": "stream",
          "text": [
            "106it [02:42,  1.36s/it]"
          ]
        },
        {
          "name": "stdout",
          "output_type": "stream",
          "text": [
            "“I cut my finger trying to slice a bagel,” reports a 28-year-old healthy male. A 2-centimeter laceration is noted on the left first finger. Bleeding is controlled. Vital signs are within normal limits. His last tetanus immunization was 10 years ago. Based on their clinical presentation, what Emergency Severity Index (ESI) acuity should the patient be assigned?\n",
            "\n",
            "\n",
            "ESI level 4: One resource. This patient will need a tetanus booster and possibly a few sutures.\n",
            "\n"
          ]
        },
        {
          "name": "stderr",
          "output_type": "stream",
          "text": [
            "107it [02:43,  1.44s/it]"
          ]
        },
        {
          "name": "stdout",
          "output_type": "stream",
          "text": [
            "“I have this rash in my groin area,” reports a 20-year-old healthy male. “I think it’s  jock  rot, but I can’t get rid of it.” Using over the counter spray, No known drug allergies. Vital Signs: T 98˚F, HR 58, RR 16, BP 112/70. Based on their clinical presentation, what Emergency Severity Index (ESI) acuity should the patient be assigned?\n",
            "\n",
            "\n",
            "ESI level 4: One resource. This patient needs a physical exam and labs. The rash in the groin area could be a variety of things, and the patient’s description of “jock rot” may not be accurate. The patient will require at least one resource, and possibly more.\n",
            "\n"
          ]
        },
        {
          "name": "stderr",
          "output_type": "stream",
          "text": [
            "108it [02:45,  1.54s/it]"
          ]
        },
        {
          "name": "stdout",
          "output_type": "stream",
          "text": [
            "EMS arrives with a 17-year-old restrained driver involved in a high-speed motor vehicle crash. The patient is immobilized on a backboard and is complaining of abdominal pain. He has multiple lacerations on his left arm. Vital signs prior to arrival: BP 102/60; HR 86, RR 28, SpO2 96%. Based on their clinical presentation, what Emergency Severity Index (ESI) acuity should the patient be assigned?\n",
            "\n",
            "\n",
            "ESI level 2: High-risk. This 17-year-old male is in shock. He has tachycardia and tachypnea and is complaining of abdominal pain. The pain could be from a ruptured spleen. He is also a high-risk trauma and should be assigned to ESI level \n"
          ]
        },
        {
          "name": "stderr",
          "output_type": "stream",
          "text": [
            "109it [02:47,  1.60s/it]"
          ]
        },
        {
          "name": "stdout",
          "output_type": "stream",
          "text": [
            "EMS arrived with an unresponsive 19-year-old male with a single self-inflicted gunshot wound to the head. Prior to intubation, his Glasgow Coma Scale score was 3. Based on their clinical presentation, what Emergency Severity Index (ESI) acuity should the patient be assigned?\n",
            "\n",
            "\n",
            "ESI level 2:  High-risk  situation. The patient is 19 years old and has a self-inflicted gunshot wound to the head. He is currently unresponsive, and his vital signs are unknown. The situation is high risk, and the patient will need immediate lifesaving interventions. He meets the criteria for\n"
          ]
        },
        {
          "name": "stderr",
          "output_type": "stream",
          "text": [
            "110it [02:48,  1.54s/it]"
          ]
        },
        {
          "name": "stdout",
          "output_type": "stream",
          "text": [
            "The medical helicopter is en route to your facility with a 16-year-old male who was downhill skiing and hit a tree. Bystanders report that he lost control and hit his head. He was intubated at the scene and remains unresponsive. Based on their clinical presentation, what Emergency Severity Index (ESI) acuity should the patient be assigned?\n",
            "\n",
            "\n",
            "ESI level 1:  Requires   immediate lifesaving intervention. The patient is intubated and unresponsive. He may have a cervical spine injury and a head injury. He needs to be in the trauma room with a large number of resources.\n",
            "\n"
          ]
        },
        {
          "name": "stderr",
          "output_type": "stream",
          "text": [
            "111it [02:50,  1.60s/it]"
          ]
        },
        {
          "name": "stdout",
          "output_type": "stream",
          "text": [
            "A healthy middle-aged man presents to the emergency department with his left hand wrapped in a bloody cloth. “I was using my  table saw, and my hand slipped. I think I lost of couple of fingertips.” No past medical history,  no med or allergies. Vital signs are within normal limits. Pain 6/10. Based on their clinical presentation, what Emergency Severity Index (ESI) acuity should the patient be assigned?\n",
            "\n",
            "\n",
            "ESI level 3: Two or more resources. This patient will need at least two resources: IV fluid and laceration repair. He is not bleeding to death, so he doesn’t meet ESI level-2 criteria. He doesn’t have a hand injury that will require a hand surgeon, so he doesn’t\n"
          ]
        },
        {
          "name": "stderr",
          "output_type": "stream",
          "text": [
            "112it [02:52,  1.65s/it]"
          ]
        },
        {
          "name": "stdout",
          "output_type": "stream",
          "text": [
            "“I think my son has swimmer’s ear. He spends half the day in the pool with his friends, so I am not surprised,” the mother of a 10-year-old boy tells you. The child has no complaints except painful, itchy ears. Vital signs: T 97˚F, HR 88, RR 18, BP 100/68. Based on their clinical presentation, what Emergency Severity Index (ESI) acuity should the patient be assigned?\n",
            "\n",
            "\n",
            "ESI level 3: Two or more resources. This 10-year-old boy will need an ear irrigation and possibly an antibiotic prescription. If the pain is severe, he may require pain medication, which counts as another resource. If the child has a fever, he may require lab work, and that counts as another resource\n"
          ]
        },
        {
          "name": "stderr",
          "output_type": "stream",
          "text": [
            "113it [02:54,  1.68s/it]"
          ]
        },
        {
          "name": "stdout",
          "output_type": "stream",
          "text": [
            "“I just don’t feel right,” reports a 21-year-old female who presented in the ED complaining of a rapid heart rate. “I can barely catch my  breath, and I have this funny pressure feeling in my chest.” HR is 178 and regular, RR 32, BP 82/60. Her skin is cool and diaphoretic. Based on their clinical presentation, what Emergency Severity Index (ESI) acuity should the patient be assigned?\n",
            "\n",
            "\n",
            "ESI level 2: High-risk  situation. The patient is presenting with signs and symptoms of a myocardial infarction. The history of a rapid heart rate, shortness of breath, and chest pressure in a young female is suggestive of a cardiac issue. She also presents with signs of shock (low BP,\n"
          ]
        },
        {
          "name": "stderr",
          "output_type": "stream",
          "text": [
            "114it [02:55,  1.64s/it]"
          ]
        },
        {
          "name": "stdout",
          "output_type": "stream",
          "text": [
            "Concerned parents arrive in the ED with their 4-day-old baby girl who is sleeping peacefully in the mother’s arms. “I went to change her diaper,” reports the father, “and I noticed a little blood on it. Is something wrong with our daughter?” The mother tells you that the baby is nursing well and weighed 7 lbs., 2 oz. at birth. Based on their clinical presentation, what Emergency Severity Index (ESI) acuity should the patient be assigned?\n",
            "\n",
            "\n",
            "ESI level 3: Two or more resources. This baby will require at least two resources: labs and a urinalysis. She will also require a physical exam and possibly an ultrasound. There are no other signs or symptoms that would change the ESI acuity.\n",
            "\n"
          ]
        },
        {
          "name": "stderr",
          "output_type": "stream",
          "text": [
            "115it [02:56,  1.49s/it]"
          ]
        },
        {
          "name": "stdout",
          "output_type": "stream",
          "text": [
            "I was using my  chainsaw  without  safety goggles, and I think I got some sawdust  in my  left eye. It hurts and it just won’t stop tearing,” reports a healthy 36-year-old male.  Vital  signs are within normal limits. Based on their clinical presentation, what Emergency Severity Index (ESI) acuity should the patient be assigned?\n",
            "\n",
            "\n",
            "ESI level 4: One resource. The patient will need a visual exam. If the patient has a corneal abrasion, he will need a medication such as antibiotic ointment.\n",
            "\n"
          ]
        },
        {
          "name": "stderr",
          "output_type": "stream",
          "text": [
            "116it [02:58,  1.53s/it]"
          ]
        },
        {
          "name": "stdout",
          "output_type": "stream",
          "text": [
            "I was smoking a cigarette and had this coughing fit, and now I feel short of breath,” reports a tall, thin 19-year-old man. No past medical history, No meds or allergies, Vital signs: T 98˚F, HR 102, RR 36, BP 128/76, SpO2 92%. Pain 0/10 Based on their clinical presentation, what Emergency Severity Index (ESI) acuity should the patient be assigned?\n",
            "\n",
            "\n",
            "ESI level 3: Two or more resources. This patient will need two or more resources, such as IV access and labs, and will probably require a chest x ray. If the patient’s SpO2 is less than 95%, he will meet ESI level-2 criteria.\n",
            "\n"
          ]
        },
        {
          "name": "stderr",
          "output_type": "stream",
          "text": [
            "117it [02:59,  1.43s/it]"
          ]
        },
        {
          "name": "stdout",
          "output_type": "stream",
          "text": [
            "Our pediatrician told us to bring the baby to the emergency department to see a surgeon and have some tests. Every time I feed him, he vomits and it just comes flying out,” reports the mother of a healthy appearing 3–week-old. “None of my other kids did this.” Normal vaginal delivery. Vital signs are within normal limits. Based on their clinical presentation, what Emergency Severity Index (ESI) acuity should the patient be assigned?\n",
            "\n",
            "\n",
            "ESI level 3: Two or more resources. This patient is presenting with vomiting that is causing dehydration. She will need labs, IV access, and fluid replacement. At a minimum, she will require two resources.\n",
            "\n"
          ]
        },
        {
          "name": "stderr",
          "output_type": "stream",
          "text": [
            "118it [03:01,  1.53s/it]"
          ]
        },
        {
          "name": "stdout",
          "output_type": "stream",
          "text": [
            "I was seen in the ED last night for my  fractured wrist. The bone doctor put this cast on and told me to come back if I had any problems. As you can see, my hand is really swollen and the cast is cutting into my fingers. The pain is just unbearable.” Circulation, sensation, and movement are decreased. Based on their clinical presentation, what Emergency Severity Index (ESI) acuity should the patient be assigned?\n",
            "\n",
            "\n",
            "ESI level 3: Two or more resources. The patient will need at least two resources: an x ray of the wrist and a new cast. The hand is swollen, and the cast is cutting into the fingers, so she will probably require additional pain medication. At a minimum, she will require two resources.\n",
            "\n"
          ]
        },
        {
          "name": "stderr",
          "output_type": "stream",
          "text": [
            "119it [03:02,  1.44s/it]"
          ]
        },
        {
          "name": "stdout",
          "output_type": "stream",
          "text": [
            "\"I am so embarrassed!” An 18-year-old tells you that she had unprotected sex last night. “My friend told me to come to the hospital because there is a pill I can take to prevent pregnancy.” The patient is  healthy,  takes  no  medications, and has no allergies. Vital signs: T 97˚F, HR 78, RR 16, BP 118/80. Based on their clinical presentation, what Emergency Severity Index (ESI) acuity should the patient be assigned?\n",
            "\n",
            "\n",
            "ESI level 4: Two or more resources. This patient is requesting emergency contraception. She will need labs, a physical exam, and possibly a pelvic exam. She will also require counseling. Two or more resources.\n",
            "\n"
          ]
        },
        {
          "name": "stderr",
          "output_type": "stream",
          "text": [
            "120it [03:04,  1.53s/it]"
          ]
        },
        {
          "name": "stdout",
          "output_type": "stream",
          "text": [
            "This patient is the restrained driver of an SUV involved in a high-speed, multicar  accident. Her only complaint is right thigh pain. She has a laceration on her left hand and an abrasion on her left knee. Vital signs: BP 110/74, HR 72, RR 16, no medications, no allergies, no past medical history. Based on their clinical presentation, what Emergency Severity Index (ESI) acuity should the patient be assigned?\n",
            "\n",
            "\n",
            "ESI level 3: Two or more resources. The patient is presenting with right thigh pain. The pain could be due to a fracture, so the patient will need a lower-extremity x ray. In addition, she has a laceration on her left hand and an abrasion on her left knee. The\n"
          ]
        },
        {
          "name": "stderr",
          "output_type": "stream",
          "text": [
            "121it [03:05,  1.55s/it]"
          ]
        },
        {
          "name": "stdout",
          "output_type": "stream",
          "text": [
            "\"I think he has another ear infection,” the mother of an otherwise healthy 2-year-old tells you. “He’s pulling on his right ear.” The child has a tympanic temperature of 100.2˚F and is trying to grab your stethoscope. He has a history of frequent ear infections and is currently taking no medication. He has a normal appetite and urine output, according to the mother. Based on their clinical presentation, what Emergency Severity Index (ESI) acuity should the patient be assigned?\n",
            "\n",
            "\n",
            "ESI level 3: Two or more resources. This 2-year-old has a history of frequent ear infections and is currently presenting with signs of an ear infection. He will need an ear examination, labs, and possibly an antibiotic. At a minimum, he will require two resources.\n",
            "\n"
          ]
        },
        {
          "name": "stderr",
          "output_type": "stream",
          "text": [
            "122it [03:06,  1.39s/it]"
          ]
        },
        {
          "name": "stdout",
          "output_type": "stream",
          "text": [
            "“My son needs a physical for camp,” an anxious mother tells you. “I called the clinic, but they can’t see him for 2 weeks and camp starts on Monday.” Her son, a healthy 9-year- old, will be attending a summer day camp. Based on their clinical presentation, what Emergency Severity Index (ESI) acuity should the patient be assigned?\n",
            "\n",
            "\n",
            "ESI level 4: One resource. This healthy child will require one resource, a physical exam, and a sports clearance form. He will not need labs or an x ray.\n",
            "\n"
          ]
        },
        {
          "name": "stderr",
          "output_type": "stream",
          "text": [
            "123it [03:08,  1.36s/it]"
          ]
        },
        {
          "name": "stdout",
          "output_type": "stream",
          "text": [
            "Last night I had sex, and we used a condom but it broke. I just don’t want to get pregnant,” a teary 18-year-old female tells you. Vital signs are within normal limits. Based on their clinical presentation, what Emergency Severity Index (ESI) acuity should the patient be assigned?\n",
            "\n",
            "\n",
            "ESI level 4: Two or more resources. The patient will need lab work, a urine pregnancy test, and possibly an ultrasound. She will need to be evaluated for STDs and will need a prescription for emergency contraception.\n",
            "\n"
          ]
        },
        {
          "name": "stderr",
          "output_type": "stream",
          "text": [
            "124it [03:09,  1.48s/it]"
          ]
        },
        {
          "name": "stdout",
          "output_type": "stream",
          "text": [
            "“I have a fever and a sore throat. I have finals this week, and I am scared this is strep,” reports a 19-year-old college student. She is sitting at triage drinking bottled water. No past medical history, medications: birth control pills, no allergies to medications. Vital signs: T 100.6˚F, HR 88, RR 18, BP 112/76. Based on their clinical presentation, what Emergency Severity Index (ESI) acuity should the patient be assigned?\n",
            "\n",
            "\n",
            "ESI level 3: Two or more resources. This young woman will need labs and a rapid strep test. If the patient is diagnosed with strep throat, she may also need an antibiotic. She is concerned about her ability to pass her finals, and her anxiety should be addressed. She is not showing signs of\n"
          ]
        },
        {
          "name": "stderr",
          "output_type": "stream",
          "text": [
            "125it [03:11,  1.56s/it]"
          ]
        },
        {
          "name": "stdout",
          "output_type": "stream",
          "text": [
            "A 16-year-old male wearing a swimsuit walks into the ED. He explains that he dove into a pool, and his face struck the bottom. You   notice an abrasion on his forehead and nose as he tells you that he needs to see a doctor because of tingling in both hands. Based on their clinical presentation, what Emergency Severity Index (ESI) acuity should the patient be assigned?\n",
            "\n",
            "\n",
            "ESI level 3: Two or more resources. The patient has a facial laceration and will require suturing. In addition, he will require an x ray for a possible nasal fracture. He will also require neurologic evaluation to rule out a spinal cord injury. At a minimum, he will require vital signs and\n"
          ]
        },
        {
          "name": "stderr",
          "output_type": "stream",
          "text": [
            "126it [03:13,  1.61s/it]"
          ]
        },
        {
          "name": "stdout",
          "output_type": "stream",
          "text": [
            "EMS radios in that they are in route with a 17- year-old with a single gunshot wound to the  left chest. On scene the patient was alert, oriented and had a BP of 82/40. Two large- bore IVs were immediately inserted. Two minutes prior to arrival in the ED, the patient’s HR was 130 and BP was 78/40 Based on their clinical presentation, what Emergency Severity Index (ESI) acuity should the patient be assigned?\n",
            "\n",
            "\n",
            "ESI level 2: High-risk. The patient has a single gunshot wound to the chest. The patient is hypotensive and tachycardic. He will require immediate fluid resuscitation and possibly blood. He is at high risk for cardiac arrest. The patient will require immediate lifesaving intervention. The history\n"
          ]
        },
        {
          "name": "stderr",
          "output_type": "stream",
          "text": [
            "127it [03:15,  1.65s/it]"
          ]
        },
        {
          "name": "stdout",
          "output_type": "stream",
          "text": [
            "“I just turned my back for a minute,” cried the mother of a 4-year-old. The child was pulled out of the family pool by a neighbor who immediately administered mouth-to-mouth resuscitation. The child is now breathing spontaneously but continues to be unresponsive. On arrival in the ED, vital signs were: HR 126, RR 28, BP 80/64, SpO2 96% on a non-rebreather. Based on their clinical presentation, what Emergency Severity Index (ESI) acuity should the patient be assigned?\n",
            "\n",
            "\n",
            "ESI level 2: High-risk. This 4-year-old was pulled out of the pool and is now unresponsive. The triage nurse needs to ask the mother if the child started to turn blue. If the child was in the water and turned blue, then he was in cardiac arrest. The mother may not\n"
          ]
        },
        {
          "name": "stderr",
          "output_type": "stream",
          "text": [
            "128it [03:16,  1.69s/it]"
          ]
        },
        {
          "name": "stdout",
          "output_type": "stream",
          "text": [
            "“My throat is on fire,” reports a 19-year-old female. It started a couple of days ago, and it just keeps getting worse. Now I can barely swallow, and my friends say my voice is different. I looked in the mirror, and I have this big swelling on one side of my throat.” No past medical history, no meds, no allergies. Vital signs: T 101.6˚F, RR24, HR 92, BP 122/80, SpO2 100% on room air. Based on their clinical presentation, what Emergency Severity Index (ESI) acuity should the patient be assigned?\n",
            "\n",
            "\n",
            "ESI level 3: Two or more resources. The patient will need lab, a rapid strep test, and IV antibiotics. If the patient is unable to swallow, she will require IV fluid and nutrition. If she is showing signs of airway obstruction, she will need to be placed in a high-risk situation and\n"
          ]
        },
        {
          "name": "stderr",
          "output_type": "stream",
          "text": [
            "129it [03:18,  1.57s/it]"
          ]
        },
        {
          "name": "stdout",
          "output_type": "stream",
          "text": [
            "Police escort a disheveled 23-year-old handcuffed male into the triage area. The police report that the patient had  been  standing  in the middle of traffic on the local highway screaming about the end of the world. The patient claims that he had been sent from Mars as the savior of the world. He refuses to answer questions or allow you to take vital signs. Based on their clinical presentation, what Emergency Severity Index (ESI) acuity should the patient be assigned?\n",
            "\n",
            "\n",
            "ESI level 3: Two or more resources. This patient will require two or more resources. He will require a mental health evaluation and a physical exam to rule out any medical conditions that may have precipitated his current mental state.\n",
            "\n"
          ]
        },
        {
          "name": "stderr",
          "output_type": "stream",
          "text": [
            "130it [03:19,  1.60s/it]"
          ]
        },
        {
          "name": "stdout",
          "output_type": "stream",
          "text": [
            "A normal healthy 7-year-old walks into the emergency department accompanied by his father, who reports that his son woke up complaining of a stomach ache. “He refused to walk downstairs and is not interested in eating or playing.” The child vomits at triage. Vital signs: T 100.4˚F, RR 22, HR 88, BP 84/60, SpO2100%. Pain 6/10. Based on their clinical presentation, what Emergency Severity Index (ESI) acuity should the patient be assigned?\n",
            "\n",
            "\n",
            "ESI level 3: Two or more resources. This patient is vomiting and has a fever and tachypnea. He will need labs and IV fluid and possibly an IV antiemetic. If he is not able to keep down oral fluids and medications, then he will need IV access.\n",
            "\n"
          ]
        },
        {
          "name": "stderr",
          "output_type": "stream",
          "text": [
            "131it [03:21,  1.44s/it]"
          ]
        },
        {
          "name": "stdout",
          "output_type": "stream",
          "text": [
            "\"My son woke me up about 3 hours ago complaining of a right earache. I gave him  some acetaminophen but it didn’t help,” the 4- year-old’s mother tells you. No fever, other vital signs within normal limits for age. Based on their clinical presentation, what Emergency Severity Index (ESI) acuity should the patient be assigned?\n",
            "\n",
            "\n",
            "ESI level 3: Two or more resources. At a minimum, this patient will require an ear examination and lab. If the pain is significant, he may require IV pain medication.\n",
            "\n"
          ]
        },
        {
          "name": "stderr",
          "output_type": "stream",
          "text": [
            "132it [03:22,  1.47s/it]"
          ]
        },
        {
          "name": "stdout",
          "output_type": "stream",
          "text": [
            "I got my belly button  pierced  a month ago and now it hurts so bad,” reports a 19-year-old healthy college student who is accompanied by her roommate. They are chatting about plans for the evening. The area is red, tender, and swollen, and pus is oozing from around the site. Vital signs: T 100˚F, HR 74, RR 18, BP 102/70, SpO2 100%. Pain 8/10. Based on their clinical presentation, what Emergency Severity Index (ESI) acuity should the patient be assigned?\n",
            "\n",
            "\n",
            "ESI level 3: Two or more resources. This patient will need lab and IV antibiotics. She will probably need to be discharged home on oral antibiotics. If she is running a fever, she may need to be admitted. At a minimum, she will require two resources.\n",
            "\n"
          ]
        },
        {
          "name": "stderr",
          "output_type": "stream",
          "text": [
            "133it [03:24,  1.55s/it]"
          ]
        },
        {
          "name": "stdout",
          "output_type": "stream",
          "text": [
            "A 6-year-old male tells you that he was running across the playground and fell. He presents  with a 3-centimeter laceration over his right knee. Healthy, no medications and no allergies, immunizations are up to date. Based on their clinical presentation, what Emergency Severity Index (ESI) acuity should the patient be assigned?\n",
            "\n",
            "\n",
            "ESI level 4: One resource. A laceration that requires one or more stitches will require one resource. The patient is not a high-risk situation, and the child is probably scared and will need reassurance. He will not meet ESI level-3 criteria because he does not have a significant injury to a\n"
          ]
        },
        {
          "name": "stderr",
          "output_type": "stream",
          "text": [
            "134it [03:25,  1.57s/it]"
          ]
        },
        {
          "name": "stdout",
          "output_type": "stream",
          "text": [
            "I have this infection in my cuticle,” reports a healthy 26-year-old female. “It started hurting 2 days ago, and today I noticed the pus.” The patient has a small paronychia on her right second finger. No known drug allergies. T 98.8˚F, RR 14, HR 62, BP 108/70. Based on their clinical presentation, what Emergency Severity Index (ESI) acuity should the patient be assigned?\n",
            "\n",
            "\n",
            "ESI level 3: Two or more resources. The patient will need lab work and IV antibiotics. If the finger is red, swollen, and tender to touch, the patient may have an abscess that will need to be drained. The patient will require two or more resources.\n",
            "\n"
          ]
        },
        {
          "name": "stderr",
          "output_type": "stream",
          "text": [
            "135it [03:27,  1.49s/it]"
          ]
        },
        {
          "name": "stdout",
          "output_type": "stream",
          "text": [
            "A 20-year-old male presents to the ED after being tackled while playing football. He has an obvious dislocation of his left shoulder and complains of 10/10, severe pain. Neurovascular status is intact, and vital signs are within normal limits. Based on their clinical presentation, what Emergency Severity Index (ESI) acuity should the patient be assigned?\n",
            "\n",
            "\n",
            "ESI level 3: Two or more resources. This patient will need at least two resources: an x ray and IV pain medication. He may also require an orthopedic consult for his dislocated shoulder.\n",
            "\n"
          ]
        },
        {
          "name": "stderr",
          "output_type": "stream",
          "text": [
            "136it [03:28,  1.41s/it]"
          ]
        },
        {
          "name": "stdout",
          "output_type": "stream",
          "text": [
            "A 17-year-old handcuffed male walks into the ED accompanied by the police. The parents called 911 because their son was out of control: verbally and physically acting out and threatening to kill the family. He is cooperative at triage and answers your questions appropriately. He has no past medical history or allergies and is currently taking no medications. Vital signs are within normal limits. Based on their clinical presentation, what Emergency Severity Index (ESI) acuity should the patient be assigned?\n",
            "\n",
            "\n",
            "ESI level 3: Two or more resources. This patient will need to be evaluated by a mental health professional, and he may require a physical exam and lab work to rule out drug-induced psychosis.\n",
            "\n"
          ]
        },
        {
          "name": "stderr",
          "output_type": "stream",
          "text": [
            "137it [03:30,  1.52s/it]"
          ]
        },
        {
          "name": "stdout",
          "output_type": "stream",
          "text": [
            "You are trying to triage an 18-month-old whose mother brought him in for vomiting. The  toddler is very active and trying to get off his mother’s lap. To distract him, the mother hands him a bottle of juice, which he immediately begins sucking on. The child looks well  hydrated and is afebrile. Based on their clinical presentation, what Emergency Severity Index (ESI) acuity should the patient be assigned?\n",
            "\n",
            "\n",
            "ESI level 4: One resource. This toddler is presenting with vomiting, but based on the history, it is unlikely that he will need labs or an IV. If he does not improve with oral fluids, he may need to be admitted. At a minimum, he will require one resource, such as an IV.\n"
          ]
        },
        {
          "name": "stderr",
          "output_type": "stream",
          "text": [
            "138it [03:31,  1.53s/it]"
          ]
        },
        {
          "name": "stdout",
          "output_type": "stream",
          "text": [
            "He was running after his brother, fell, and cut his lip on the corner of the coffee table. There was blood everywhere,” recalls the mother of a healthy 19-month-old. “He’ll never stay still for the doctor.” You notice that the baby has a 2- centimeter lip laceration that extends through the vermilion border. Vital signs are within normal limits for age. Based on their clinical presentation, what Emergency Severity Index (ESI) acuity should the patient be assigned?\n",
            "\n",
            "\n",
            "ESI level 4: One resource. This 19-month-old will need one laceration repair. He is awake, alert, and playing, so there is no need to up-triage to ESI level 2. No other resources are indicated.\n",
            "\n"
          ]
        },
        {
          "name": "stderr",
          "output_type": "stream",
          "text": [
            "139it [03:33,  1.61s/it]"
          ]
        },
        {
          "name": "stdout",
          "output_type": "stream",
          "text": [
            "An 8-month-old presents with  fever,  cough, and vomiting. The baby has vomited twice this morning; no diarrhea. Mom states the baby is usually healthy but has “not been eating well lately.” Doesn't own a thermometer, but knows the baby is “hot”\" and gave acetaminophen two hours prior to arrival. The baby is wrapped in a blanket, eyes open, appears listless,  skin  hot and moist, sunken fontanel. Respirations are regular and not labored. Based on their clinical presentation, what Emergency Severity Index (ESI) acuity should the patient be assigned?\n",
            "\n",
            "\n",
            "ESI level 3: Two or more resources. This baby is vomiting and has a fever. The baby may be dehydrated and will need labs, IV access, and an IV fluid bolus. The baby is lethargic and has a sunken fontanel, which may indicate meningitis. At a minimum\n"
          ]
        },
        {
          "name": "stderr",
          "output_type": "stream",
          "text": [
            "140it [03:35,  1.67s/it]"
          ]
        },
        {
          "name": "stdout",
          "output_type": "stream",
          "text": [
            "EMS arrives with a 7-year-old male who was hit by a car. Child is somnolent, appears pale, non-labored respirations. Based on their clinical presentation, what Emergency Severity Index (ESI) acuity should the patient be assigned?\n",
            "\n",
            "\n",
            "ESI level 2:  High-risk  situation. The child was hit by a car, and based on his presentation, he is bleeding internally. He is somnolent and appears pale. The triage nurse needs to keep in mind that a child who is somnolent may not be able to tell\n"
          ]
        },
        {
          "name": "stderr",
          "output_type": "stream",
          "text": [
            "141it [03:37,  1.73s/it]"
          ]
        },
        {
          "name": "stdout",
          "output_type": "stream",
          "text": [
            "14-year-old female is brought in by EMS after diving into the pool and hitting her head. She is awake, alert, and moving all extremities. She is currently immobilized on a back board with c-collar in place. VS: BP 118/72, HR 76, RR 14. Based on their clinical presentation, what Emergency Severity Index (ESI) acuity should the patient be assigned?\n",
            "\n",
            "\n",
            "ESI level 3: Two or more resources. The patient is a 14-year-old female who dived into a pool and hit her head. At a minimum, she will need a head CT and labs. The c-collar is in place, and she is currently being transported on a back board. She is alert\n"
          ]
        },
        {
          "name": "stderr",
          "output_type": "stream",
          "text": [
            "142it [03:38,  1.64s/it]"
          ]
        },
        {
          "name": "stdout",
          "output_type": "stream",
          "text": [
            "14-year-old male brought in by EMS who was tackled while playing  football. He has an obvious deformity to his right lower leg. He has +2 pedal pulses and his toes are warm and dry. He is able to wiggle his toes. No head/ neck injuries reported. VS: 118/78, HR 76, RR 14. Based on their clinical presentation, what Emergency Severity Index (ESI) acuity should the patient be assigned?\n",
            "\n",
            "\n",
            "ESI level 3: Two or more resources. This patient will require an x ray and a noninvasive vascular study. If the patient had a significant open fracture, he would meet ESI level 2 criteria. No other resources are anticipated.\n",
            "\n"
          ]
        },
        {
          "name": "stderr",
          "output_type": "stream",
          "text": [
            "143it [03:40,  1.63s/it]"
          ]
        },
        {
          "name": "stdout",
          "output_type": "stream",
          "text": [
            "12-year-old female brought into the ED by mother. Claims she cut her thumb while washing dishes.She has a 2 cm superficial laceration to her right thumb. VS: BP 110/70, HR 72, RR 14, T 98.0°F. Based on their clinical presentation, what Emergency Severity Index (ESI) acuity should the patient be assigned?\n",
            "\n",
            "\n",
            "ESI level 4: One resource. This laceration is too small to require suturing and can be closed with adhesive strips. If the patient is going to require sutures, then she will require at least one resource and should be assigned to ESI level 3.\n",
            "\n"
          ]
        },
        {
          "name": "stderr",
          "output_type": "stream",
          "text": [
            "144it [03:41,  1.65s/it]"
          ]
        },
        {
          "name": "stdout",
          "output_type": "stream",
          "text": [
            "17-year-old male, history of suicidality, found unresponsive by parents. There are several bottles of liquor, and unidentified empty pill bottles nextto bed Based on their clinical presentation, what Emergency Severity Index (ESI) acuity should the patient be assigned?\n",
            "\n",
            "\n",
            "ESI level 3: Two or more resources. The patient will need labs and a CT of the head. He may need an IV and other medications. If he was suicidal and drank liquor, he may have acute gastritis and require an IV antiemetic and IV fluid.\n",
            "\n"
          ]
        },
        {
          "name": "stderr",
          "output_type": "stream",
          "text": [
            "145it [03:43,  1.54s/it]"
          ]
        },
        {
          "name": "stdout",
          "output_type": "stream",
          "text": [
            "16-year-old male brought in by parents who report patient was out of control, screaming obscenities, and threatening to kill the family. He is cooperative in triage and answers your questions calmly. Based on their clinical presentation, what Emergency Severity Index (ESI) acuity should the patient be assigned?\n",
            "\n",
            "\n",
            "ESI level 3: Two or more resources. This 16-year-old is probably having a psychotic break. He may need to be restrained and require two or more resources: a psychiatrist and/or a social worker and security.\n",
            "\n"
          ]
        },
        {
          "name": "stderr",
          "output_type": "stream",
          "text": [
            "146it [03:44,  1.51s/it]"
          ]
        },
        {
          "name": "stdout",
          "output_type": "stream",
          "text": [
            "15-year-old female presents to ED with her boyfriend claiming, “I think I’m pregnant. When I told my mom she threw me out of the house and told me never to come back. I have no place to live, and now I might have a baby.” VS: BP 126/85, HR 100, RR 16, T 98.7°F. Based on their clinical presentation, what Emergency Severity Index (ESI) acuity should the patient be assigned?\n",
            "\n",
            "\n",
            "ESI level 3: Two or more resources. This 15-year-old is pregnant and has been thrown out of her house. She will need two or more resources: a pregnancy test and a social worker. She will also need a safe place to stay.\n",
            "\n"
          ]
        },
        {
          "name": "stderr",
          "output_type": "stream",
          "text": [
            "147it [03:46,  1.57s/it]"
          ]
        },
        {
          "name": "stdout",
          "output_type": "stream",
          "text": [
            "10-year-old female presents to the ED with mother who states that she received a call from her teacher because the child has been disrupting the class with sudden outbursts. Mom has never witnessed this behavior, but she does state that she becomes very defiant when she doesn’t get her own way. Currently, the child is laughing and playing with her little sister. VS: 98/72, HR 82, RR 22, T 98.2°F. Based on their clinical presentation, what Emergency Severity Index (ESI) acuity should the patient be assigned?\n",
            "\n",
            "\n",
            "ESI level 4: One resource. This child is exhibiting signs and symptoms of bipolar disorder. The child will require a mental health evaluation and possibly be sent home with a referral to a psychiatrist. She is not a danger to herself or others and does not meet the criteria for ESI level 2.\n",
            "\n"
          ]
        },
        {
          "name": "stderr",
          "output_type": "stream",
          "text": [
            "148it [03:47,  1.41s/it]"
          ]
        },
        {
          "name": "stdout",
          "output_type": "stream",
          "text": [
            "13-year-old male walks into the ED with his mother on a Friday night. Mom states, “I didn’t realize he was out of his medications for his ADHD, and I don’t want him to miss a day.” The patient is cooperative and pleasant. VS: BP 108/72, HR 78, RR 14, T 98.6°F. Based on their clinical presentation, what Emergency Severity Index (ESI) acuity should the patient be assigned?\n",
            "\n",
            "\n",
            "ESI level 4: One resource. This patient needs to be started on his ADHD medication. He is not showing signs of withdrawal. He will be given a prescription and discharged.\n",
            "\n"
          ]
        },
        {
          "name": "stderr",
          "output_type": "stream",
          "text": [
            "149it [03:49,  1.51s/it]"
          ]
        },
        {
          "name": "stdout",
          "output_type": "stream",
          "text": [
            "\"I think he broke it,” reports the mother of a 9- year-old boy. “He was climbing a tree and fell about 5 feet, landing on his arm. I am a nurse, so I put on a splint and applied ice. He has a good pulse.” The arm is obviously deformed. Vital signs: T 98°F, RR 26, HR 90, SpO2 99%. Pain 5/10. Based on their clinical presentation, what Emergency Severity Index (ESI) acuity should the patient be assigned?\n",
            "\n",
            "\n",
            "ESI level 3: Two or more resources. This patient is a healthy 9-year-old who fell out of a tree. At a minimum, he will require x ray of the arm and lab work. He will also require a physical examination, and the history is not clear. He may require IV pain medication,\n"
          ]
        },
        {
          "name": "stderr",
          "output_type": "stream",
          "text": [
            "150it [03:50,  1.58s/it]"
          ]
        },
        {
          "name": "stdout",
          "output_type": "stream",
          "text": [
            "EMS arrives with a 28-year-old male who was stabbed in the left side of his neck during an altercation. You notice a large hematoma around the wound, and the patient is moaning he can’t breathe. HR 110, RR 36, SpO2 89%. Based on their clinical presentation, what Emergency Severity Index (ESI) acuity should the patient be assigned?\n",
            "\n",
            "\n",
            "ESI level 2:  High-risk  situation. The patient is showing signs of airway compromise. The patient is moaning he can’t breathe, and his SpO2 is 89%. He needs immediate airway management. The patient’s vital signs are within normal limits, but the clinical presentation indicates that the\n"
          ]
        },
        {
          "name": "stderr",
          "output_type": "stream",
          "text": [
            "151it [03:52,  1.51s/it]"
          ]
        },
        {
          "name": "stdout",
          "output_type": "stream",
          "text": [
            "An 11-year-old presents to triage with his mother, who reports that her son has had a cough and runny nose for a week. The child is running around the waiting room and asking his mother for a snack. Vital signs are within normal limits. Based on their clinical presentation, what Emergency Severity Index (ESI) acuity should the patient be assigned?\n",
            "\n",
            "\n",
            "ESI level 4: One resource. This young patient has a cough and runny nose and is healthy enough to run around the waiting room. He will need one resource, a physical exam, and will be sent home with his mother.\n",
            "\n"
          ]
        },
        {
          "name": "stderr",
          "output_type": "stream",
          "text": [
            "152it [03:54,  1.58s/it]"
          ]
        },
        {
          "name": "stdout",
          "output_type": "stream",
          "text": [
            "\"I don’t know what is wrong with my son,” reports the worried mother of a normally healthy eight-year-old male. “He’s losing weight and acting so cranky. Last night he was up to the bathroom every hour, and he can’t seem to get enough to drink.” The child is alert and oriented and answers your questions appropriately. Vital signs: T 98.6°F, RR 30, HR 98, BP 92/78, SpO2 98%. Based on their clinical presentation, what Emergency Severity Index (ESI) acuity should the patient be assigned?\n",
            "\n",
            "\n",
            "ESI level 3: Two or more resources. The patient is presenting with signs of dehydration and possible urinary tract infection. At a minimum, he will require labs and IV fluid replacement. The cramping and frequent urination could indicate a kidney stone, and if that is the case, he may require a CT scan.\n"
          ]
        },
        {
          "name": "stderr",
          "output_type": "stream",
          "text": [
            "153it [03:55,  1.64s/it]"
          ]
        },
        {
          "name": "stdout",
          "output_type": "stream",
          "text": [
            "He has had diarrhea for 2 days, and he just started throwing up this morning. This has been going around the family, and he seems to have it the worst. He has been drinking before today, but now he doesn’t want anything to drink,” reports the mother of a 19-month-old. The toddler is awake and alert but quiet in the mother’s arms, and you notice his lips are dry and cracked. Vital signs: T 99°F, RR 30, HR 130, SpO2 100%. Based on their clinical presentation, what Emergency Severity Index (ESI) acuity should the patient be assigned?\n",
            "\n",
            "\n",
            "ESI level 3: Two or more resources. This patient will need labs and IV fluid. The patient is showing signs of dehydration (dry cracked lips, decreased oral intake). He is also vomiting, and his history of drinking before today makes him at risk for alcohol withdrawal. This 19-month-old will require close observation\n"
          ]
        },
        {
          "name": "stderr",
          "output_type": "stream",
          "text": [
            "154it [03:57,  1.57s/it]"
          ]
        },
        {
          "name": "stdout",
          "output_type": "stream",
          "text": [
            "My baby is having a hard time drinking his bottle,” reports the young mother of a 3– month-old. The baby is alert and looking around. You notice a large amount of dried mucus around both nares. T 98°F, RR 40,HR 132, SpO2 99%. Based on their clinical presentation, what Emergency Severity Index (ESI) acuity should the patient be assigned?\n",
            "\n",
            "\n",
            "ESI level 4: One or more new medications. This baby will require an oral or IV antibiotic and possibly an antihistamine. The mother reports that the baby has had this problem for several days, so a viral infection is less likely.\n",
            "\n"
          ]
        },
        {
          "name": "stderr",
          "output_type": "stream",
          "text": [
            "155it [03:58,  1.63s/it]"
          ]
        },
        {
          "name": "stdout",
          "output_type": "stream",
          "text": [
            "Melissa, a 4-year-old with a ventriculo- peritoneal shunt (drains excess cerebrospinal fluid), is brought to the ED by her parents. The mother tells you that she is concerned that the shunt may be blocked because Melissa is not acting right. The child is sleepy but responds to verbal stimuli. When asked what was wrong, she tells you that her head hurts and she is going to throw up. T 98.6°F, RR 22, HR 120, SpO2 99% on room air, BP 94/76. Based on their clinical presentation, what Emergency Severity Index (ESI) acuity should the patient be assigned?\n",
            "\n",
            "\n",
            "ESI level 2: High-risk. A ventriculo-peritoneal shunt is a high-risk situation. The child is presenting with signs of increased intracranial pressure, which may be due to shunt malfunction. This child needs to be closely monitored, and his vital signs should be checked frequently. The\n"
          ]
        },
        {
          "name": "stderr",
          "output_type": "stream",
          "text": [
            "156it [04:00,  1.66s/it]"
          ]
        },
        {
          "name": "stdout",
          "output_type": "stream",
          "text": [
            "“This is so embarrassing,” reports a 29-year-old male. “For the last 12 hours, I have had this thing stuck in my rectum. I have tried and tried to get it out with no success. Can someone help me?” The patient denies abdominal pain or tenderness. Vital signs are within normal limits. Pain 4/10. Based on their clinical presentation, what Emergency Severity Index (ESI) acuity should the patient be assigned?\n",
            "\n",
            "\n",
            "ESI level 3: Two or more resources. This patient will need a rectal exam and possibly an x ray. If the object is not visible, the patient may require a CT scan, and if the patient is unable to cooperate, he will require IV sedation. At a minimum, this patient will require two\n"
          ]
        },
        {
          "name": "stderr",
          "output_type": "stream",
          "text": [
            "157it [04:02,  1.69s/it]"
          ]
        },
        {
          "name": "stdout",
          "output_type": "stream",
          "text": [
            "EMS arrives with a 14-year-old male who was snowboarding at a nearby ski area, lost control, and ran into a tree. The patient was wearing a ski helmet, is currently aware, alert, and oriented and is complaining of left upper- quadrant pain and left thigh pain. His left femur appears to be broken. BP 112/80, HR 86, RR 14, SpO2 98%, and temperature is normal. Based on their clinical presentation, what Emergency Severity Index (ESI) acuity should the patient be assigned?\n",
            "\n",
            "\n",
            "ESI level 3: Two or more resources. This 14-year-old male has a broken femur and is complaining of left upper-quadrant pain. At a minimum, he will need an x ray of his left femur and labs. He may also require a CT of his abdomen if his pain is not\n"
          ]
        },
        {
          "name": "stderr",
          "output_type": "stream",
          "text": [
            "158it [04:04,  1.67s/it]"
          ]
        },
        {
          "name": "stdout",
          "output_type": "stream",
          "text": [
            "“I don’t know what’s wrong with my baby girl,” cries a young mother. She reports that her 2- week-old baby is not acting right and is not interested  in eating. As you begin to undress the baby, you notice that she is listless and her skin is mottled Based on their clinical presentation, what Emergency Severity Index (ESI) acuity should the patient be assigned?\n",
            "\n",
            "\n",
            "ESI level 3: Two or more resources. This baby is 2 weeks old and presents with lethargy, loss of appetite, and skin mottling. The baby will require labs, IV access, and possibly a CT or ultrasound. She will need at least two resources.\n",
            "\n"
          ]
        },
        {
          "name": "stderr",
          "output_type": "stream",
          "text": [
            "159it [04:05,  1.69s/it]"
          ]
        },
        {
          "name": "stdout",
          "output_type": "stream",
          "text": [
            "“After my pediatrician saw my son’s rash, he said I had to bring him to the emergency department immediately. He has this rash on his face and chest that started today. He has little pinpoint purplish spots he called  petechiae. My son is a healthy kid who has had a cold for a couple of days and a cough. My pediatrician said he had to be sure nothing bad is going on. What do you think?” Based on their clinical presentation, what Emergency Severity Index (ESI) acuity should the patient be assigned?\n",
            "\n",
            "\n",
            "ESI level 3: Two or more resources. The child has a rash and a fever. He is not toxic, and his vital signs are within normal limits. At a minimum, this child will need labs and a chest x ray. If the rash is a sign of meningococcal sepsis, he\n"
          ]
        },
        {
          "name": "stderr",
          "output_type": "stream",
          "text": [
            "160it [04:07,  1.54s/it]"
          ]
        },
        {
          "name": "stdout",
          "output_type": "stream",
          "text": [
            "“Her grandfather pulled her by the wrist up and over a big puddle. Next thing you know, she is crying and refusing to move her left arm,” the mother of a healthy 3–year-old tells you. Vital signs are within normal limits. Based on their clinical presentation, what Emergency Severity Index (ESI) acuity should the patient be assigned?\n",
            "\n",
            "\n",
            "ESI level 4: One resource. The patient will require an x ray of the left arm for a fall onto a wet pavement. She is 3 years old and will not sit still for an examination.\n",
            "\n"
          ]
        },
        {
          "name": "stderr",
          "output_type": "stream",
          "text": [
            "161it [04:08,  1.60s/it]"
          ]
        },
        {
          "name": "stdout",
          "output_type": "stream",
          "text": [
            "“Without the helmet, I would have been really hurt,” reports a 19-year-old healthy male who was involved in a bicycle accident. He lost control of his bike when he hit a pothole. He  has a 2-centimeter laceration on his arm and pain over his left clavicle. Vital signs: T 97.4°F, RR 18, HR 62, BP 122/70, SpO2 100%. Pain 6/10 Based on their clinical presentation, what Emergency Severity Index (ESI) acuity should the patient be assigned?\n",
            "\n",
            "\n",
            "ESI level 4: One resource. The patient will require suturing of his laceration. He is complaining of clavicle pain, but the clavicle is not in a splint. He will need an x ray. The total number of resources will be two. However, the patient will meet E\n"
          ]
        },
        {
          "name": "stderr",
          "output_type": "stream",
          "text": [
            "162it [04:10,  1.55s/it]"
          ]
        },
        {
          "name": "stdout",
          "output_type": "stream",
          "text": [
            "A 16-year-old female is brought to the emergency department by her mother, who reports that her daughter took more than 30 acetaminophen tablets about 30 minutes before admission. The tearful girl tells you that her boyfriend broke up with her this morning. No previous medical history, and no allergies or medications. Vital signs within normal limits Based on their clinical presentation, what Emergency Severity Index (ESI) acuity should the patient be assigned?\n",
            "\n",
            "\n",
            "ESI level 3: Two or more resources. The patient will require lab and possibly a liver function test. She will also require close monitoring of her vital signs. There is no indication that she will require an immediate intubation or IV push medication.\n",
            "\n"
          ]
        },
        {
          "name": "stderr",
          "output_type": "stream",
          "text": [
            "163it [04:11,  1.52s/it]"
          ]
        },
        {
          "name": "stdout",
          "output_type": "stream",
          "text": [
            "I was so disappointed about not making the varsity soccer team that I punched a wall,” reports a 15-year-old healthy male. His hand is swollen and tender to touch. Vital signs: T 97°F, RR 16, HR 58, BP 106/80, SpO2 100%. Pain 5/10. Based on their clinical presentation, what Emergency Severity Index (ESI) acuity should the patient be assigned?\n",
            "\n",
            "\n",
            "ESI level 4: One resource. This patient will need an x ray of his hand because of the mechanism of injury. He may need a splint and an orthopedic follow-up, but at a minimum, he will require an x ray.\n",
            "\n"
          ]
        },
        {
          "name": "stderr",
          "output_type": "stream",
          "text": [
            "164it [04:12,  1.39s/it]"
          ]
        },
        {
          "name": "stdout",
          "output_type": "stream",
          "text": [
            "When asked why she came to the emergency department, the 18-year-old college student begins to cry. She tells the triage nurse that she was sexually assaulted last night at an off- campus party. Based on their clinical presentation, what Emergency Severity Index (ESI) acuity should the patient be assigned?\n",
            "\n",
            "\n",
            "ESI level 3: Two or more resources. This patient will need lab work, a pelvic exam, and possibly a prescription for antibiotics. At a minimum, she will need two resources.\n",
            "\n"
          ]
        },
        {
          "name": "stderr",
          "output_type": "stream",
          "text": [
            "165it [04:14,  1.49s/it]"
          ]
        },
        {
          "name": "stdout",
          "output_type": "stream",
          "text": [
            "A healthy 10-year-old male is brought to the emergency department by his mother, who reports that her son has not moved his bowels for a week. He is complaining of 7/10 generalized abdominal pain, nausea, and lack of appetite. Vital signs: BP 107/66, HR 75, RR 20, T 98.6°F, SpO2 99%. Based on their clinical presentation, what Emergency Severity Index (ESI) acuity should the patient be assigned?\n",
            "\n",
            "\n",
            "ESI level 3: Two or more resources. This 10-year-old boy has not had a bowel movement in a week and is now complaining of abdominal pain. He will need labs and IV access. He may need an abdominal CT or X ray if there is a high suspicion of intussusception or other bowel\n"
          ]
        },
        {
          "name": "stderr",
          "output_type": "stream",
          "text": [
            "166it [04:16,  1.52s/it]"
          ]
        },
        {
          "name": "stdout",
          "output_type": "stream",
          "text": [
            "A 16-year-old high school hockey player collapsed on the ice after being hit in the anterior chest by the puck. The coaching staff began CPR almost immediately, and he was defibrillated three times with a return of spontaneous circulation. He arrives in the emergency department intubated. Based on their clinical presentation, what Emergency Severity Index (ESI) acuity should the patient be assigned?\n",
            "\n",
            "\n",
            "ESI level 1:  Requires  immediate lifesaving intervention. The patient is in cardiac arrest and requires immediate lifesaving intervention. He has been defibrillated three times and has a return of spontaneous circulation, but he will require continued aggressive medical care in the emergency department.\n",
            "\n"
          ]
        },
        {
          "name": "stderr",
          "output_type": "stream",
          "text": [
            "167it [04:17,  1.41s/it]"
          ]
        },
        {
          "name": "stdout",
          "output_type": "stream",
          "text": [
            "This sounds really strange. A bug flew into my right ear while I was gardening. I tried to get it out by using a Q-tip. I just don’t know what  else to do, but this buzzing noise is driving me crazy,” a 55-year-old female tells you. No previous medical history and vital signs are within normal limits Based on their clinical presentation, what Emergency Severity Index (ESI) acuity should the patient be assigned?\n",
            "\n",
            "\n",
            "ESI level 4: One resource. The patient will need one resource, an ear exam, and possibly a prescription for an antibiotic. There is no indication of an allergic reaction or trauma to the ear.\n",
            "\n"
          ]
        },
        {
          "name": "stderr",
          "output_type": "stream",
          "text": [
            "168it [04:17,  1.19s/it]"
          ]
        },
        {
          "name": "stdout",
          "output_type": "stream",
          "text": [
            "This morning, I stepped on a rusty nail, and it went right through my shoe into my foot. I washed it really well. I read on the Internet that I need a tetanus shot.” No previous medical history, and vital signs are  within  normal limits. Based on their clinical presentation, what Emergency Severity Index (ESI) acuity should the patient be assigned?\n",
            "\n",
            "\n",
            "ESI level 4: One resource. The patient needs a tetanus shot. No other resources are required.\n",
            "\n"
          ]
        },
        {
          "name": "stderr",
          "output_type": "stream",
          "text": [
            "169it [04:19,  1.32s/it]"
          ]
        },
        {
          "name": "stdout",
          "output_type": "stream",
          "text": [
            "I was taking my contacts out last night, and I think I scratched my cornea,” reports a 27-year- old- female. “I’m wearing these  sunglasses because the light really bothers my eyes.” Her right eye is red and tearing.  She rates her pain   as 6/10. Vital signs are within normal limits. Based on their clinical presentation, what Emergency Severity Index (ESI) acuity should the patient be assigned?\n",
            "\n",
            "\n",
            "ESI level 3: Two or more resources. This patient will need at least two resources: labs and an eye exam. If the patient is not going to be discharged with a prescription, then she will need to be seen by the emergency physician, and this will count as another resource.\n",
            "\n"
          ]
        },
        {
          "name": "stderr",
          "output_type": "stream",
          "text": [
            "170it [04:21,  1.45s/it]"
          ]
        },
        {
          "name": "stdout",
          "output_type": "stream",
          "text": [
            "“I slipped on the ice, and I hurt my  wrist,” reports a 58-year-old female with a history of migraines. There is no obvious deformity. Vital signs are within normal  limits,  and  she  rates her pain as 5/10. Based on their clinical presentation, what Emergency Severity Index (ESI) acuity should the patient be assigned?\n",
            "\n",
            "\n",
            "ESI level 3: Two or more resources. This patient will require an x ray of her wrist. In addition, she will need to be evaluated by a physician because of her history of migraines. If the history of migraines is not a resource, then the patient should be assigned ESI level 2 because\n"
          ]
        },
        {
          "name": "stderr",
          "output_type": "stream",
          "text": [
            "171it [04:22,  1.54s/it]"
          ]
        },
        {
          "name": "stdout",
          "output_type": "stream",
          "text": [
            "A 4-year-old female is transported to the ED following a fall off the jungle gym at a preschool. A fall of 4 feet.   A witness reports that the child hit her head and was unconscious for a couple of minutes. On arrival you notice that the child is crying and asking for her mother. Her left arm is splinted. Vital signs: HR 162, RR 38. Based on their clinical presentation, what Emergency Severity Index (ESI) acuity should the patient be assigned?\n",
            "\n",
            "\n",
            "ESI level 3: Two or more resources. This 4-year-old fell 4 feet and hit her head. She was unconscious for a couple of minutes, so there is a concern for a concussion. She also has a left arm fracture. She will need at least two resources, such as an IV and lab\n"
          ]
        },
        {
          "name": "stderr",
          "output_type": "stream",
          "text": [
            "172it [04:24,  1.60s/it]"
          ]
        },
        {
          "name": "stdout",
          "output_type": "stream",
          "text": [
            "“I called my pediatrician, and she told me to bring him in because of his fever,” reports the mother of a 2-week-old. Vital signs: T 101˚F, HR 154, RR 42, SpO2 100%. Uncomplicated, vaginal delivery. The baby is acting appropriately. Based on their clinical presentation, what Emergency Severity Index (ESI) acuity should the patient be assigned?\n",
            "\n",
            "\n",
            "ESI level 3: Two or more resources. This baby has a fever, and the mother will need to be evaluated. At a minimum, this baby will require labs and an IV fluid. The baby will also require a physical examination and possible discharge instructions. This scenario meets the criteria for two or more resources. If\n"
          ]
        },
        {
          "name": "stderr",
          "output_type": "stream",
          "text": [
            "173it [04:26,  1.61s/it]"
          ]
        },
        {
          "name": "stdout",
          "output_type": "stream",
          "text": [
            "Paramedics arrive with a 16-year-old unrestrained driver who hit a tree while traveling at approximately 45 miles per hour. The passenger side of the car had significant damage. The driver was moaning but moving all extremities when help arrived. His initial vital signs were BP 74/50, HR 132, RR 36, SPO2 99%, T 98.6˚F. Based on their clinical presentation, what Emergency Severity Index (ESI) acuity should the patient be assigned?\n",
            "\n",
            "\n",
            "ESI level 2: High-risk  situation. This 16-year-old is showing signs of hypovolemic shock. His blood pressure is low, and his heart rate is elevated. He is moaning, which may indicate a head injury. He needs to be quickly evaluated and treated.\n",
            "\n"
          ]
        },
        {
          "name": "stderr",
          "output_type": "stream",
          "text": [
            "174it [04:28,  1.66s/it]"
          ]
        },
        {
          "name": "stdout",
          "output_type": "stream",
          "text": [
            "“I have an awful toothache right here,” a 38- year-old male tells you as he points to his right lower jaw. “I lost my dental insurance, so I haven’t seen a dentist for a couple of years.” No obvious swelling is noted. Vital signs are within normal limits. Pain 9/10. Based on their clinical presentation, what Emergency Severity Index (ESI) acuity should the patient be assigned?\n",
            "\n",
            "\n",
            "ESI level 3: Two or more resources. This patient will need a dental consult and labs. He will probably require an antibiotic and a pain medication. At a minimum, he will require two resources. If he presents in shock or with signs of an abscess, he would meet ESI level-2 criteria.\n",
            "\n"
          ]
        },
        {
          "name": "stderr",
          "output_type": "stream",
          "text": [
            "175it [04:29,  1.68s/it]"
          ]
        },
        {
          "name": "stdout",
          "output_type": "stream",
          "text": [
            "EMS presents to the ED with an 18-year-old female with a suspected medication overdose. Her college roommates found her lethargic and “not acting right,” so they called 911. The patient has a history of depression. On exam, you notice multiple superficial lacerations to both wrists. Her respiratory rate is 10, and her SpO2 on room air is 86 percent. Based on their clinical presentation, what Emergency Severity Index (ESI) acuity should the patient be assigned?\n",
            "\n",
            "\n",
            "ESI level 2: High-risk situation. This patient is lethargic, tachypneic, and hypoxemic. She has a history of depression and has attempted to harm herself. She is a high risk for overdose, and her vital signs indicate respiratory failure. She will need immediate lifesaving intervention.\n"
          ]
        },
        {
          "name": "stderr",
          "output_type": "stream",
          "text": [
            "176it [04:31,  1.53s/it]"
          ]
        },
        {
          "name": "stdout",
          "output_type": "stream",
          "text": [
            "“I cut my finger trying to slice a bagel,” reports a 28-year-old healthy male. A 2-centimeter laceration is noted on the left first finger. Bleeding is controlled. Vital signs are within normal limits. His last tetanus immunization was 10 years ago. Based on their clinical presentation, what Emergency Severity Index (ESI) acuity should the patient be assigned?\n",
            "\n",
            "\n",
            "ESI level 4: One resource. This patient will require a laceration repair. The history of a previous tetanus vaccination 10 years ago will not require a tetanus booster in this case.\n",
            "\n"
          ]
        },
        {
          "name": "stderr",
          "output_type": "stream",
          "text": [
            "177it [04:32,  1.51s/it]"
          ]
        },
        {
          "name": "stdout",
          "output_type": "stream",
          "text": [
            "“I have this rash in my groin area,” reports a 20-year-old healthy male. “I think it’s  jock  rot, but I can’t get rid of it.” Using over the counter spray, No known drug allergies. Vital Signs: T 98˚F, HR 58, RR 16, BP 112/70. Based on their clinical presentation, what Emergency Severity Index (ESI) acuity should the patient be assigned?\n",
            "\n",
            "\n",
            "ESI level 3: Two or more resources. This patient will require labs and a dermatology consult. He has a rash and is concerned that he will not be able to get rid of it. He has tried over the-counter medication and is seeking further treatment.\n",
            "\n"
          ]
        },
        {
          "name": "stderr",
          "output_type": "stream",
          "text": [
            "178it [04:34,  1.59s/it]"
          ]
        },
        {
          "name": "stdout",
          "output_type": "stream",
          "text": [
            "EMS arrives with a 17-year-old restrained driver involved in a high-speed motor vehicle crash. The patient is immobilized on a backboard and is complaining of abdominal pain. He has multiple lacerations on his left arm. Vital signs prior to arrival: BP 102/60; HR 86, RR 28, SpO2 96%. Based on their clinical presentation, what Emergency Severity Index (ESI) acuity should the patient be assigned?\n",
            "\n",
            "\n",
            "ESI level 3: Two or more resources. This patient is presenting with signs of shock – low blood pressure and tachycardia. He has multiple lacerations and is complaining of abdominal pain. At a minimum, he will require IV access, labs, and IV fluid resuscitation. He may require\n"
          ]
        },
        {
          "name": "stderr",
          "output_type": "stream",
          "text": [
            "179it [04:35,  1.63s/it]"
          ]
        },
        {
          "name": "stdout",
          "output_type": "stream",
          "text": [
            "EMS arrived with an unresponsive 19-year-old male with a single self-inflicted gunshot wound to the head. Prior to intubation, his Glasgow Coma Scale score was 3. Based on their clinical presentation, what Emergency Severity Index (ESI) acuity should the patient be assigned?\n",
            "\n",
            "\n",
            "ESI level 1:  Requires   immediate lifesaving intervention.  This 19-year-old male has a single gunshot wound to the head. He is unresponsive and will require immediate lifesaving interventions. He will need to be intubated, and his vital signs will need to be checked and managed.\n",
            "\n"
          ]
        },
        {
          "name": "stderr",
          "output_type": "stream",
          "text": [
            "180it [04:37,  1.66s/it]"
          ]
        },
        {
          "name": "stdout",
          "output_type": "stream",
          "text": [
            "The medical helicopter is en route to your facility with a 16-year-old male who was downhill skiing and hit a tree. Bystanders report that he lost control and hit his head. He was intubated at the scene and remains unresponsive. Based on their clinical presentation, what Emergency Severity Index (ESI) acuity should the patient be assigned?\n",
            "\n",
            "\n",
            "ESI level 1:  Requires  immediate lifesaving intervention. This 16-year-old male is presenting with signs and symptoms of a severe closed head injury. He is unresponsive and intubated. The patient will need to be placed in a trauma room and immediately evaluated by the trauma team. He will require a\n"
          ]
        },
        {
          "name": "stderr",
          "output_type": "stream",
          "text": [
            "181it [04:39,  1.57s/it]"
          ]
        },
        {
          "name": "stdout",
          "output_type": "stream",
          "text": [
            "A healthy middle-aged man presents to the emergency department with his left hand wrapped in a bloody cloth. “I was using my  table saw, and my hand slipped. I think I lost of couple of fingertips.” No past medical history,  no med or allergies. Vital signs are within normal limits. Pain 6/10. Based on their clinical presentation, what Emergency Severity Index (ESI) acuity should the patient be assigned?\n",
            "\n",
            "\n",
            "ESI level 3: Two or more resources. The patient will require laceration repair. At a minimum, he will require IV access, labs, and pain medication. He may also require a hand consult or a tetanus booster.\n",
            "\n"
          ]
        },
        {
          "name": "stderr",
          "output_type": "stream",
          "text": [
            "182it [04:40,  1.62s/it]"
          ]
        },
        {
          "name": "stdout",
          "output_type": "stream",
          "text": [
            "“I think my son has swimmer’s ear. He spends half the day in the pool with his friends, so I am not surprised,” the mother of a 10-year-old boy tells you. The child has no complaints except painful, itchy ears. Vital signs: T 97˚F, HR 88, RR 18, BP 100/68. Based on their clinical presentation, what Emergency Severity Index (ESI) acuity should the patient be assigned?\n",
            "\n",
            "\n",
            "ESI level 3: Two or more resources. This 10-year-old boy needs to be seen by a physician and will probably require an ear culture and an oral antibiotic. He does not meet ESI level 2 because he is not exhibiting signs of a severe allergic reaction. He will not meet ESI level \n"
          ]
        },
        {
          "name": "stderr",
          "output_type": "stream",
          "text": [
            "183it [04:42,  1.66s/it]"
          ]
        },
        {
          "name": "stdout",
          "output_type": "stream",
          "text": [
            "“I just don’t feel right,” reports a 21-year-old female who presented in the ED complaining of a rapid heart rate. “I can barely catch my  breath, and I have this funny pressure feeling in my chest.” HR is 178 and regular, RR 32, BP 82/60. Her skin is cool and diaphoretic. Based on their clinical presentation, what Emergency Severity Index (ESI) acuity should the patient be assigned?\n",
            "\n",
            "\n",
            "ESI level 2:  High-risk  situation. This young female is showing signs and symptoms of a severe allergic reaction or anaphylaxis. She is presenting with a rapid heart rate, tachypnea, hypotension, and cool, clammy skin. She needs immediate IV access and medication.\n",
            "\n"
          ]
        },
        {
          "name": "stderr",
          "output_type": "stream",
          "text": [
            "184it [04:44,  1.70s/it]"
          ]
        },
        {
          "name": "stdout",
          "output_type": "stream",
          "text": [
            "Concerned parents arrive in the ED with their 4-day-old baby girl who is sleeping peacefully in the mother’s arms. “I went to change her diaper,” reports the father, “and I noticed a little blood on it. Is something wrong with our daughter?” The mother tells you that the baby is nursing well and weighed 7 lbs., 2 oz. at birth. Based on their clinical presentation, what Emergency Severity Index (ESI) acuity should the patient be assigned?\n",
            "\n",
            "\n",
            "ESI level 3: Two or more resources. The baby is 4 days old and presents to the ED with a small amount of blood in her diaper. A diaper change and a quick examination are unlikely to require two or more resources. This baby is likely to be discharged home with a diaper change and some discharge instructions\n"
          ]
        },
        {
          "name": "stderr",
          "output_type": "stream",
          "text": [
            "185it [04:45,  1.47s/it]"
          ]
        },
        {
          "name": "stdout",
          "output_type": "stream",
          "text": [
            "I was using my  chainsaw  without  safety goggles, and I think I got some sawdust  in my  left eye. It hurts and it just won’t stop tearing,” reports a healthy 36-year-old male.  Vital  signs are within normal limits. Based on their clinical presentation, what Emergency Severity Index (ESI) acuity should the patient be assigned?\n",
            "\n",
            "\n",
            "ESI level 4: One resource.  This patient will need eye irrigation and possibly a  prescription for an antibiotic. He will not require an eye exam.\n",
            "\n"
          ]
        },
        {
          "name": "stderr",
          "output_type": "stream",
          "text": [
            "186it [04:46,  1.41s/it]"
          ]
        },
        {
          "name": "stdout",
          "output_type": "stream",
          "text": [
            "I was smoking a cigarette and had this coughing fit, and now I feel short of breath,” reports a tall, thin 19-year-old man. No past medical history, No meds or allergies, Vital signs: T 98˚F, HR 102, RR 36, BP 128/76, SpO2 92%. Pain 0/10 Based on their clinical presentation, what Emergency Severity Index (ESI) acuity should the patient be assigned?\n",
            "\n",
            "\n",
            "ESI level 3: Two or more resources. This patient is short of breath and has a history of smoking. He will require two or more resources, such as labs and an x ray, and possibly a chest tube.\n",
            "\n"
          ]
        },
        {
          "name": "stderr",
          "output_type": "stream",
          "text": [
            "187it [04:47,  1.24s/it]"
          ]
        },
        {
          "name": "stdout",
          "output_type": "stream",
          "text": [
            "Our pediatrician told us to bring the baby to the emergency department to see a surgeon and have some tests. Every time I feed him, he vomits and it just comes flying out,” reports the mother of a healthy appearing 3–week-old. “None of my other kids did this.” Normal vaginal delivery. Vital signs are within normal limits. Based on their clinical presentation, what Emergency Severity Index (ESI) acuity should the patient be assigned?\n",
            "\n",
            "\n",
            "ESI level 3: Two or more resources. This patient will require labs, x ray, and IV access, and possibly a surgical consult.\n",
            "\n"
          ]
        },
        {
          "name": "stderr",
          "output_type": "stream",
          "text": [
            "188it [04:48,  1.16s/it]"
          ]
        },
        {
          "name": "stdout",
          "output_type": "stream",
          "text": [
            "I was seen in the ED last night for my  fractured wrist. The bone doctor put this cast on and told me to come back if I had any problems. As you can see, my hand is really swollen and the cast is cutting into my fingers. The pain is just unbearable.” Circulation, sensation, and movement are decreased. Based on their clinical presentation, what Emergency Severity Index (ESI) acuity should the patient be assigned?\n",
            "\n",
            "\n",
            "ESI level 3: Two or more resources. The patient will require x ray and IV pain medication. He may also require a repeat visit to the fracture clinic.\n",
            "\n"
          ]
        },
        {
          "name": "stderr",
          "output_type": "stream",
          "text": [
            "189it [04:49,  1.05s/it]"
          ]
        },
        {
          "name": "stdout",
          "output_type": "stream",
          "text": [
            "\"I am so embarrassed!” An 18-year-old tells you that she had unprotected sex last night. “My friend told me to come to the hospital because there is a pill I can take to prevent pregnancy.” The patient is  healthy,  takes  no  medications, and has no allergies. Vital signs: T 97˚F, HR 78, RR 16, BP 118/80. Based on their clinical presentation, what Emergency Severity Index (ESI) acuity should the patient be assigned?\n",
            "\n",
            "\n",
            "ESI level 4: Two or more resources. The patient will need lab tests, a pelvic exam, and the emergency contraception pill.\n",
            "\n"
          ]
        },
        {
          "name": "stderr",
          "output_type": "stream",
          "text": [
            "190it [04:50,  1.26s/it]"
          ]
        },
        {
          "name": "stdout",
          "output_type": "stream",
          "text": [
            "This patient is the restrained driver of an SUV involved in a high-speed, multicar  accident. Her only complaint is right thigh pain. She has a laceration on her left hand and an abrasion on her left knee. Vital signs: BP 110/74, HR 72, RR 16, no medications, no allergies, no past medical history. Based on their clinical presentation, what Emergency Severity Index (ESI) acuity should the patient be assigned?\n",
            "\n",
            "\n",
            "ESI level 3: Two or more resources. This patient will require two or more resources. She has a thigh fracture that will require a CT scan and an orthopedic consult. She also has a laceration on her left hand that will require suturing and an abrasion on her left knee that will require\n"
          ]
        },
        {
          "name": "stderr",
          "output_type": "stream",
          "text": [
            "191it [04:52,  1.40s/it]"
          ]
        },
        {
          "name": "stdout",
          "output_type": "stream",
          "text": [
            "\"I think he has another ear infection,” the mother of an otherwise healthy 2-year-old tells you. “He’s pulling on his right ear.” The child has a tympanic temperature of 100.2˚F and is trying to grab your stethoscope. He has a history of frequent ear infections and is currently taking no medication. He has a normal appetite and urine output, according to the mother. Based on their clinical presentation, what Emergency Severity Index (ESI) acuity should the patient be assigned?\n",
            "\n",
            "\n",
            "ESI level 3: Two or more resources. This child will need labs and an IV for antibiotics. He may require an ear tube check or a tympanocentesis. At a minimum, he will require two resources. If the child is not acting well, he meets ESI level-2 criteria. But\n"
          ]
        },
        {
          "name": "stderr",
          "output_type": "stream",
          "text": [
            "192it [04:53,  1.20s/it]"
          ]
        },
        {
          "name": "stdout",
          "output_type": "stream",
          "text": [
            "“My son needs a physical for camp,” an anxious mother tells you. “I called the clinic, but they can’t see him for 2 weeks and camp starts on Monday.” Her son, a healthy 9-year- old, will be attending a summer day camp. Based on their clinical presentation, what Emergency Severity Index (ESI) acuity should the patient be assigned?\n",
            "\n",
            "\n",
            "ESI level 4: One resource. A physical exam and lab work will be required. No other resources are needed.\n",
            "\n"
          ]
        },
        {
          "name": "stderr",
          "output_type": "stream",
          "text": [
            "193it [04:54,  1.31s/it]"
          ]
        },
        {
          "name": "stdout",
          "output_type": "stream",
          "text": [
            "Last night I had sex, and we used a condom but it broke. I just don’t want to get pregnant,” a teary 18-year-old female tells you. Vital signs are within normal limits. Based on their clinical presentation, what Emergency Severity Index (ESI) acuity should the patient be assigned?\n",
            "\n",
            "\n",
            "ESI level 3: Two or more resources.  This young woman is worried about getting pregnant. She will need a pregnancy test, and if she is pregnant, she will need a referral to a clinic for a prenatal appointment. At a minimum, she will require two resources.\n",
            "\n"
          ]
        },
        {
          "name": "stderr",
          "output_type": "stream",
          "text": [
            "194it [04:56,  1.38s/it]"
          ]
        },
        {
          "name": "stdout",
          "output_type": "stream",
          "text": [
            "“I have a fever and a sore throat. I have finals this week, and I am scared this is strep,” reports a 19-year-old college student. She is sitting at triage drinking bottled water. No past medical history, medications: birth control pills, no allergies to medications. Vital signs: T 100.6˚F, HR 88, RR 18, BP 112/76. Based on their clinical presentation, what Emergency Severity Index (ESI) acuity should the patient be assigned?\n",
            "\n",
            "\n",
            "ESI level 3: Two or more resources. This patient is likely to have a sore throat and fever. She will need lab studies and a physical exam, and she may require an oral antibiotic. At a minimum, she will require two resources, and she may require more.\n",
            "\n"
          ]
        },
        {
          "name": "stderr",
          "output_type": "stream",
          "text": [
            "195it [04:58,  1.49s/it]"
          ]
        },
        {
          "name": "stdout",
          "output_type": "stream",
          "text": [
            "A 16-year-old male wearing a swimsuit walks into the ED. He explains that he dove into a pool, and his face struck the bottom. You   notice an abrasion on his forehead and nose as he tells you that he needs to see a doctor because of tingling in both hands. Based on their clinical presentation, what Emergency Severity Index (ESI) acuity should the patient be assigned?\n",
            "\n",
            "\n",
            "ESI level 3: Two or more resources. This patient has multiple facial lacerations. He also reports numbness in both hands, which could indicate a spinal cord injury. At a minimum, he will need lab, x ray, suturing, and IV access. The patient’s hand numbness could indicate a\n"
          ]
        },
        {
          "name": "stderr",
          "output_type": "stream",
          "text": [
            "196it [04:59,  1.56s/it]"
          ]
        },
        {
          "name": "stdout",
          "output_type": "stream",
          "text": [
            "EMS radios in that they are in route with a 17- year-old with a single gunshot wound to the  left chest. On scene the patient was alert, oriented and had a BP of 82/40. Two large- bore IVs were immediately inserted. Two minutes prior to arrival in the ED, the patient’s HR was 130 and BP was 78/40 Based on their clinical presentation, what Emergency Severity Index (ESI) acuity should the patient be assigned?\n",
            "\n",
            "\n",
            "ESI level 2: High-risk. A 17-year-old with a gunshot wound to the chest is a high-risk situation. The patient is tachycardic and hypotensive. He needs immediate fluid resuscitation and possibly blood products. He will require immediate lifesaving intervention in the ED.\n",
            "\n"
          ]
        },
        {
          "name": "stderr",
          "output_type": "stream",
          "text": [
            "197it [05:01,  1.62s/it]"
          ]
        },
        {
          "name": "stdout",
          "output_type": "stream",
          "text": [
            "“I just turned my back for a minute,” cried the mother of a 4-year-old. The child was pulled out of the family pool by a neighbor who immediately administered mouth-to-mouth resuscitation. The child is now breathing spontaneously but continues to be unresponsive. On arrival in the ED, vital signs were: HR 126, RR 28, BP 80/64, SpO2 96% on a non-rebreather. Based on their clinical presentation, what Emergency Severity Index (ESI) acuity should the patient be assigned?\n",
            "\n",
            "\n",
            "ESI level 2: High-risk. This child was pulled from the pool and is now unresponsive. The clinical presentation is suggestive of hypoxic ischemic encephalopathy. The child is tachycardic and hypotensive, and the triage nurse should be prepared to initiate fluid resuscitation.\n"
          ]
        },
        {
          "name": "stderr",
          "output_type": "stream",
          "text": [
            "198it [05:03,  1.67s/it]"
          ]
        },
        {
          "name": "stdout",
          "output_type": "stream",
          "text": [
            "“My throat is on fire,” reports a 19-year-old female. It started a couple of days ago, and it just keeps getting worse. Now I can barely swallow, and my friends say my voice is different. I looked in the mirror, and I have this big swelling on one side of my throat.” No past medical history, no meds, no allergies. Vital signs: T 101.6˚F, RR24, HR 92, BP 122/80, SpO2 100% on room air. Based on their clinical presentation, what Emergency Severity Index (ESI) acuity should the patient be assigned?\n",
            "\n",
            "\n",
            "ESI level 3: Two or more resources. The patient presents with a sore throat that has been getting progressively worse. She reports difficulty swallowing and a change in her voice. She also has a visible swelling on one side of her throat. At a minimum, this patient will require labs and a rapid strep test.\n"
          ]
        },
        {
          "name": "stderr",
          "output_type": "stream",
          "text": [
            "199it [05:05,  1.69s/it]"
          ]
        },
        {
          "name": "stdout",
          "output_type": "stream",
          "text": [
            "Police escort a disheveled 23-year-old handcuffed male into the triage area. The police report that the patient had  been  standing  in the middle of traffic on the local highway screaming about the end of the world. The patient claims that he had been sent from Mars as the savior of the world. He refuses to answer questions or allow you to take vital signs. Based on their clinical presentation, what Emergency Severity Index (ESI) acuity should the patient be assigned?\n",
            "\n",
            "\n",
            "ESI level 3: Two or more resources. The patient will require two or more resources, such as lab, IV, and a psych evaluation. The patient is agitated and may be a danger to himself. He will need to be placed in a safe environment until the police arrive to take him into custody.\n",
            "\n"
          ]
        },
        {
          "name": "stderr",
          "output_type": "stream",
          "text": [
            "200it [05:06,  1.48s/it]"
          ]
        },
        {
          "name": "stdout",
          "output_type": "stream",
          "text": [
            "A normal healthy 7-year-old walks into the emergency department accompanied by his father, who reports that his son woke up complaining of a stomach ache. “He refused to walk downstairs and is not interested in eating or playing.” The child vomits at triage. Vital signs: T 100.4˚F, RR 22, HR 88, BP 84/60, SpO2100%. Pain 6/10. Based on their clinical presentation, what Emergency Severity Index (ESI) acuity should the patient be assigned?\n",
            "\n",
            "\n",
            "ESI level 3: Two or more resources. The patient will require labs, IV access, and IV antibiotics. At a minimum, the patient will need two resources.\n",
            "\n"
          ]
        },
        {
          "name": "stderr",
          "output_type": "stream",
          "text": [
            "201it [05:08,  1.56s/it]"
          ]
        },
        {
          "name": "stdout",
          "output_type": "stream",
          "text": [
            "\"My son woke me up about 3 hours ago complaining of a right earache. I gave him  some acetaminophen but it didn’t help,” the 4- year-old’s mother tells you. No fever, other vital signs within normal limits for age. Based on their clinical presentation, what Emergency Severity Index (ESI) acuity should the patient be assigned?\n",
            "\n",
            "\n",
            "ESI level 3: Two or more resources. The child will require an ear exam and possibly a tympanostomy tube. At a minimum, he will need to be seen by a pediatrician or in the emergency department. He is already on an oral medication, but that does not count as a resource.\n",
            "\n"
          ]
        },
        {
          "name": "stderr",
          "output_type": "stream",
          "text": [
            "202it [05:09,  1.46s/it]"
          ]
        },
        {
          "name": "stdout",
          "output_type": "stream",
          "text": [
            "I got my belly button  pierced  a month ago and now it hurts so bad,” reports a 19-year-old healthy college student who is accompanied by her roommate. They are chatting about plans for the evening. The area is red, tender, and swollen, and pus is oozing from around the site. Vital signs: T 100˚F, HR 74, RR 18, BP 102/70, SpO2 100%. Pain 8/10. Based on their clinical presentation, what Emergency Severity Index (ESI) acuity should the patient be assigned?\n",
            "\n",
            "\n",
            "ESI level 3: Two or more resources. This patient will need labs and IV antibiotics. She may need IV pain medication. She will require frequent dressing changes. At a minimum, she will require two resources.\n",
            "\n"
          ]
        },
        {
          "name": "stderr",
          "output_type": "stream",
          "text": [
            "203it [05:10,  1.54s/it]"
          ]
        },
        {
          "name": "stdout",
          "output_type": "stream",
          "text": [
            "A 6-year-old male tells you that he was running across the playground and fell. He presents  with a 3-centimeter laceration over his right knee. Healthy, no medications and no allergies, immunizations are up to date. Based on their clinical presentation, what Emergency Severity Index (ESI) acuity should the patient be assigned?\n",
            "\n",
            "\n",
            "ESI level 4: One resource. This young boy will need a laceration repair. He is healthy and will not need to be seen in the emergency department after the repair. He does not meet the criteria for ESI level 3 because there are no other injuries that need to be evaluated. If the child\n"
          ]
        },
        {
          "name": "stderr",
          "output_type": "stream",
          "text": [
            "204it [05:12,  1.39s/it]"
          ]
        },
        {
          "name": "stdout",
          "output_type": "stream",
          "text": [
            "I have this infection in my cuticle,” reports a healthy 26-year-old female. “It started hurting 2 days ago, and today I noticed the pus.” The patient has a small paronychia on her right second finger. No known drug allergies. T 98.8˚F, RR 14, HR 62, BP 108/70. Based on their clinical presentation, what Emergency Severity Index (ESI) acuity should the patient be assigned?\n",
            "\n",
            "\n",
            "ESI level 3: Two or more resources. At a minimum, this patient will require lab work and an x ray. She may require IV antibiotics and possibly IV pain medication.\n",
            "\n"
          ]
        },
        {
          "name": "stderr",
          "output_type": "stream",
          "text": [
            "205it [05:13,  1.33s/it]"
          ]
        },
        {
          "name": "stdout",
          "output_type": "stream",
          "text": [
            "A 20-year-old male presents to the ED after being tackled while playing football. He has an obvious dislocation of his left shoulder and complains of 10/10, severe pain. Neurovascular status is intact, and vital signs are within normal limits. Based on their clinical presentation, what Emergency Severity Index (ESI) acuity should the patient be assigned?\n",
            "\n",
            "\n",
            "ESI level 3: Two or more resources. The patient will require at a minimum an x ray and IV pain medication. He may also require an orthopedic consultation and possible reduction of the dislocation.\n",
            "\n"
          ]
        },
        {
          "name": "stderr",
          "output_type": "stream",
          "text": [
            "206it [05:14,  1.46s/it]"
          ]
        },
        {
          "name": "stdout",
          "output_type": "stream",
          "text": [
            "A 17-year-old handcuffed male walks into the ED accompanied by the police. The parents called 911 because their son was out of control: verbally and physically acting out and threatening to kill the family. He is cooperative at triage and answers your questions appropriately. He has no past medical history or allergies and is currently taking no medications. Vital signs are within normal limits. Based on their clinical presentation, what Emergency Severity Index (ESI) acuity should the patient be assigned?\n",
            "\n",
            "\n",
            "ESI level 3: Two or more resources. This patient will need to be evaluated by mental health and will probably require two or more resources: lab, x ray, IV access, and a psych consult. He may also require a safe environment or one-on-one observation. If he were cooperative and answering questions appropriately,\n"
          ]
        },
        {
          "name": "stderr",
          "output_type": "stream",
          "text": [
            "207it [05:16,  1.55s/it]"
          ]
        },
        {
          "name": "stdout",
          "output_type": "stream",
          "text": [
            "You are trying to triage an 18-month-old whose mother brought him in for vomiting. The  toddler is very active and trying to get off his mother’s lap. To distract him, the mother hands him a bottle of juice, which he immediately begins sucking on. The child looks well  hydrated and is afebrile. Based on their clinical presentation, what Emergency Severity Index (ESI) acuity should the patient be assigned?\n",
            "\n",
            "\n",
            "ESI level 4: One resource. This toddler is presenting with vomiting, but he is well hydrated and has a normal temperature. He doesn’t meet the criteria for ESI level 3 and will require only one resource, a lab. He is not too sick to wait and will be discharged to the clinic in the\n"
          ]
        },
        {
          "name": "stderr",
          "output_type": "stream",
          "text": [
            "208it [05:18,  1.61s/it]"
          ]
        },
        {
          "name": "stdout",
          "output_type": "stream",
          "text": [
            "He was running after his brother, fell, and cut his lip on the corner of the coffee table. There was blood everywhere,” recalls the mother of a healthy 19-month-old. “He’ll never stay still for the doctor.” You notice that the baby has a 2- centimeter lip laceration that extends through the vermilion border. Vital signs are within normal limits for age. Based on their clinical presentation, what Emergency Severity Index (ESI) acuity should the patient be assigned?\n",
            "\n",
            "\n",
            "ESI level 3: Two or more resources. The patient will require lab and x ray. The lip laceration may require suturing. The baby is too young to sit still for the doctor, so he will need to be sedated. At a minimum, two resources will be required. This patient could meet\n"
          ]
        },
        {
          "name": "stderr",
          "output_type": "stream",
          "text": [
            "209it [05:20,  1.53s/it]"
          ]
        },
        {
          "name": "stdout",
          "output_type": "stream",
          "text": [
            "An 8-month-old presents with  fever,  cough, and vomiting. The baby has vomited twice this morning; no diarrhea. Mom states the baby is usually healthy but has “not been eating well lately.” Doesn't own a thermometer, but knows the baby is “hot”\" and gave acetaminophen two hours prior to arrival. The baby is wrapped in a blanket, eyes open, appears listless,  skin  hot and moist, sunken fontanel. Respirations are regular and not labored. Based on their clinical presentation, what Emergency Severity Index (ESI) acuity should the patient be assigned?\n",
            "\n",
            "\n",
            "ESI level 3: Two or more resources. This 8-month-old has a fever, cough, and vomiting. At a minimum, she will need lab, IV access, and an IV antiemetic. The baby is usually healthy, but her lack of appetite has her parents concerned. She is not eating well\n",
            "Model Accuracy: 25.84%\n",
            "Quadratic Weighted Kappa (QWK): 0.5207\n",
            "Mean Squared Error (MSE): 1.1722\n",
            "Undertriage Rate: 30.14%\n",
            "Overtriage Rate: 44.02%\n",
            "Predictions and ground truth saved.\n"
          ]
        },
        {
          "name": "stderr",
          "output_type": "stream",
          "text": [
            "\n"
          ]
        }
      ],
      "source": [
        "from sklearn.metrics import cohen_kappa_score, mean_squared_error\n",
        "\n",
        "FastLanguageModel.for_inference(model) # Enable native 2x faster inference\n",
        "\n",
        "def extract_response(text, dataset = 'triage'):\n",
        "    if dataset == 'triage-handbook':\n",
        "        match = re.search(r\"ESI level .*?(\\d+)\", text, re.DOTALL)\n",
        "        return int(match.group(1)) if match else None\n",
        "    # This pattern looks for \"Response:\" and then non-greedily skips any characters until it finds a sequence of digits.\n",
        "    match = re.search(r\"Response:.*?(\\d+)\", text, re.DOTALL)\n",
        "    return int(match.group(1)) if match else None\n",
        "\n",
        "# Initialize tracking variables\n",
        "correct = 0\n",
        "wrong = 0\n",
        "y_true = []\n",
        "y_pred = []\n",
        "undertriage = 0\n",
        "overtriage = 0\n",
        "\n",
        "def generate_response(input_text):\n",
        "    inputs = tokenizer([input_text], return_tensors=\"pt\").to(\"cuda\")\n",
        "    outputs = model.generate(**inputs, max_new_tokens=65, use_cache=True)\n",
        "    decoded_output = tokenizer.batch_decode(outputs, skip_special_tokens=True)[0]\n",
        "    print(decoded_output)\n",
        "    return extract_response(decoded_output, dataset='triage-handbook')\n",
        "\n",
        "# Iterate through test dataset\n",
        "for i, sample in tqdm(enumerate(test_dataset)):\n",
        "    input_text = sample['text']\n",
        "    true_acuity = int(sample['Acuity'])\n",
        "    predicted_acuity = generate_response(input_text)\n",
        "    \n",
        "    if predicted_acuity is not None:\n",
        "        # print(f\"Sample {i}: True Acuity: {true_acuity}, Predicted: {predicted_acuity}\")\n",
        "        y_true.append(true_acuity)\n",
        "        y_pred.append(predicted_acuity)\n",
        "        if predicted_acuity == true_acuity:\n",
        "            correct += 1\n",
        "        else:\n",
        "            wrong += 1\n",
        "            \n",
        "            # Track undertriage and overtriage\n",
        "            if predicted_acuity < true_acuity:\n",
        "                undertriage += 1\n",
        "            elif predicted_acuity > true_acuity:\n",
        "                overtriage += 1\n",
        "    else:\n",
        "        print(f\"Sample {i}: No valid response extracted.\")\n",
        "        wrong += 1\n",
        "\n",
        "# Calculate Undertriage & Overtriage Rates\n",
        "total_samples = len(y_true)\n",
        "undertriage_rate = undertriage / total_samples * 100\n",
        "overtriage_rate = overtriage / total_samples * 100\n",
        "# Print accuracy\n",
        "accuracy = correct / (correct + wrong) * 100\n",
        "qwk_score = cohen_kappa_score(y_true, y_pred, weights='quadratic')\n",
        "mse = mean_squared_error(y_true, y_pred)\n",
        "print(f\"Model Accuracy: {accuracy:.2f}%\")\n",
        "print(f\"Quadratic Weighted Kappa (QWK): {qwk_score:.4f}\")\n",
        "print(f\"Mean Squared Error (MSE): {mse:.4f}\")\n",
        "print(f\"Undertriage Rate: {undertriage_rate:.2f}%\")\n",
        "print(f\"Overtriage Rate: {overtriage_rate:.2f}%\")\n",
        "\n",
        "# Save predictions and ground truth in a CSV file using pandas\n",
        "# You can also include an index column if needed.\n",
        "df = pd.DataFrame({\n",
        "    \"Index\": range(len(y_true)),\n",
        "    \"True_Acuity\": y_true,\n",
        "    \"Predicted_Acuity\": y_pred\n",
        "})\n",
        "df.to_csv(\"../results/Triage-Handbook/Pretrained_10_Tuned_10_predictions.csv\", index=False)\n",
        "print(\"Predictions and ground truth saved.\")"
      ]
    },
    {
      "cell_type": "markdown",
      "metadata": {
        "id": "uMuVrWbjAzhc"
      },
      "source": [
        "<a name=\"Save\"></a>\n",
        "### Saving, loading finetuned models\n",
        "To save the final model as LoRA adapters, either use Huggingface's `push_to_hub` for an online save or `save_pretrained` for a local save.\n",
        "\n",
        "**[NOTE]** This ONLY saves the LoRA adapters, and not the full model. To save to 16bit or GGUF, scroll down!"
      ]
    },
    {
      "cell_type": "code",
      "execution_count": 9,
      "metadata": {},
      "outputs": [],
      "source": [
        "model.save_pretrained(\"llama_3_1_8B_ESI_Handbook_10_+_ESI_Case_Examples_25\")  # Local saving\n"
      ]
    },
    {
      "cell_type": "code",
      "execution_count": 22,
      "metadata": {
        "colab": {
          "base_uri": "https://localhost:8080/"
        },
        "id": "upcOlWe7A1vc",
        "outputId": "030a6e13-9371-4717-c5c5-d4e3563e0cca"
      },
      "outputs": [
        {
          "ename": "SyntaxError",
          "evalue": "invalid decimal literal (2453640556.py, line 1)",
          "output_type": "error",
          "traceback": [
            "\u001b[0;36m  Cell \u001b[0;32mIn[22], line 1\u001b[0;36m\u001b[0m\n\u001b[0;31m    You can also use Hugging Face's `AutoModelForPeftCausalLM`. Only use this if you do not have `unsloth` installed. It can be hopelessly slow, since `4bit` model downloading is not supported, and Unsloth's **inference is 2x faster**.\u001b[0m\n\u001b[0m                                                                                                                                                                                                                               ^\u001b[0m\n\u001b[0;31mSyntaxError\u001b[0m\u001b[0;31m:\u001b[0m invalid decimal literal\n"
          ]
        }
      ],
      "source": [
        "model.save_pretrained(\"lora_model\")  # Local saving\n",
        "tokenizer.save_pretrained(\"lora_model\")\n",
        "# model.push_to_hub(\"your_name/lora_model\", token = \"...\") # Online saving\n",
        "# tokenizer.push_to_hub(\"your_name/lora_model\", token = \"...\") # Online saving"
      ]
    },
    {
      "cell_type": "markdown",
      "metadata": {
        "id": "AEEcJ4qfC7Lp"
      },
      "source": [
        "Now if you want to load the LoRA adapters we just saved for inference, set `False` to `True`:"
      ]
    },
    {
      "cell_type": "code",
      "execution_count": 5,
      "metadata": {},
      "outputs": [
        {
          "name": "stdout",
          "output_type": "stream",
          "text": [
            "==((====))==  Unsloth 2025.1.8: Fast Llama patching. Transformers: 4.48.2.\n",
            "   \\\\   /|    GPU: NVIDIA GeForce RTX 3090. Max memory: 23.586 GB. Platform: Linux.\n",
            "O^O/ \\_/ \\    Torch: 2.6.0+cu124. CUDA: 8.6. CUDA Toolkit: 12.4. Triton: 3.2.0\n",
            "\\        /    Bfloat16 = TRUE. FA [Xformers = 0.0.29.post2. FA2 = False]\n",
            " \"-____-\"     Free Apache license: http://github.com/unslothai/unsloth\n",
            "Unsloth: Fast downloading is enabled - ignore downloading bars which are red colored!\n"
          ]
        },
        {
          "name": "stderr",
          "output_type": "stream",
          "text": [
            "Loading checkpoint shards: 100%|██████████| 4/4 [00:02<00:00,  1.34it/s]\n",
            "Unsloth 2025.1.8 patched 32 layers with 32 QKV layers, 32 O layers and 32 MLP layers.\n"
          ]
        },
        {
          "ename": "NameError",
          "evalue": "name 'tqdm' is not defined",
          "output_type": "error",
          "traceback": [
            "\u001b[0;31m---------------------------------------------------------------------------\u001b[0m",
            "\u001b[0;31mNameError\u001b[0m                                 Traceback (most recent call last)",
            "Cell \u001b[0;32mIn[5], line 39\u001b[0m\n\u001b[1;32m     36\u001b[0m     \u001b[38;5;28;01mreturn\u001b[39;00m extract_response(decoded_output)\n\u001b[1;32m     38\u001b[0m \u001b[38;5;66;03m# Iterate through test dataset\u001b[39;00m\n\u001b[0;32m---> 39\u001b[0m \u001b[38;5;28;01mfor\u001b[39;00m i, sample \u001b[38;5;129;01min\u001b[39;00m tqdm(\u001b[38;5;28menumerate\u001b[39m(test_dataset)):\n\u001b[1;32m     40\u001b[0m     input_text \u001b[38;5;241m=\u001b[39m sample[\u001b[38;5;124m'\u001b[39m\u001b[38;5;124mtext\u001b[39m\u001b[38;5;124m'\u001b[39m]\n\u001b[1;32m     41\u001b[0m     true_acuity \u001b[38;5;241m=\u001b[39m sample[\u001b[38;5;124m'\u001b[39m\u001b[38;5;124macuity\u001b[39m\u001b[38;5;124m'\u001b[39m]\n",
            "\u001b[0;31mNameError\u001b[0m: name 'tqdm' is not defined"
          ]
        }
      ],
      "source": [
        "if True:\n",
        "    from unsloth import FastLanguageModel\n",
        "    model, tokenizer = FastLanguageModel.from_pretrained(\n",
        "        model_name = \"outputs/checkpoint-12500\", # YOUR MODEL YOU USED FOR TRAINING\n",
        "        max_seq_length = max_seq_length,\n",
        "        dtype = dtype,\n",
        "        load_in_4bit = load_in_4bit,\n",
        "    )\n",
        "    FastLanguageModel.for_inference(model) # Enable native 2x faster inference\n",
        "\n",
        "# alpaca_prompt = You MUST copy from above!\n",
        "\n",
        "# inputs = tokenizer(\n",
        "# [\n",
        "#     alpaca_prompt.format(\n",
        "#         \"What is a famous tall tower in Paris?\", # instruction\n",
        "#         \"\", # input\n",
        "#         \"\", # output - leave this blank for generation!\n",
        "#     )\n",
        "# ], return_tensors = \"pt\").to(\"cuda\")\n",
        "\n",
        "# from transformers import TextStreamer\n",
        "# text_streamer = TextStreamer(tokenizer)\n",
        "# _ = model.generate(**inputs, streamer = text_streamer, max_new_tokens = 128)"
      ]
    },
    {
      "cell_type": "code",
      "execution_count": 15,
      "metadata": {},
      "outputs": [
        {
          "name": "stderr",
          "output_type": "stream",
          "text": [
            "0it [00:00, ?it/s]"
          ]
        },
        {
          "name": "stdout",
          "output_type": "stream",
          "text": [
            "### Instruction: Estimate the Emergency Severity Index (ESI) acuity for the following patient.\n",
            "\n",
            "### Input: A black/african american, 61.0-year-old man arrives at the emergency department via ambulance. He has a temperature of 98.6°F, a heart rate of 76.0 bpm, a respiratory rate of 20.0 breaths per minute, oxygen saturation at 99.0%, systolic blood pressure of 151.0 mmHg, diastolic blood pressure of 90.0 mmHg, pain level reported as 13, and chief complaint described as \"SHORTNESS OF BREATH\".\n",
            "\n",
            "### Response: \n"
          ]
        },
        {
          "name": "stderr",
          "output_type": "stream",
          "text": [
            "1it [00:00,  1.82it/s]"
          ]
        },
        {
          "name": "stdout",
          "output_type": "stream",
          "text": [
            "### Instruction: Estimate the Emergency Severity Index (ESI) acuity for the following patient.\n",
            "\n",
            "### Input: A black/african american, 61.0-year-old man arrives at the emergency department via ambulance. He has a temperature of 98.6°F, a heart rate of 76.0 bpm, a respiratory rate of 20.0 breaths per minute, oxygen saturation at 99.0%, systolic blood pressure of 151.0 mmHg, diastolic blood pressure of 90.0 mmHg, pain level reported as 13, and chief complaint described as \"SHORTNESS OF BREATH\".\n",
            "\n",
            "### Response:  The estimated ESI acuity for this patient is 2.0.\n",
            "Sample 0: No valid response extracted.\n",
            "### Instruction: Estimate the Emergency Severity Index (ESI) acuity for the following patient.\n",
            "\n",
            "### Input: A white - other european, 62.0-year-old woman arrives at the emergency department via ambulance. She has a temperature of 97.7°F, a heart rate of 82.0 bpm, a respiratory rate of 24.0 breaths per minute, oxygen saturation at 100.0%, systolic blood pressure of 155.0 mmHg, diastolic blood pressure of 83.0 mmHg, pain level reported as 3, and chief complaint described as \"RLQ abdominal pain\".\n",
            "\n",
            "### Response: \n"
          ]
        },
        {
          "name": "stderr",
          "output_type": "stream",
          "text": [
            "2it [00:01,  1.97it/s]"
          ]
        },
        {
          "name": "stdout",
          "output_type": "stream",
          "text": [
            "### Instruction: Estimate the Emergency Severity Index (ESI) acuity for the following patient.\n",
            "\n",
            "### Input: A white - other european, 62.0-year-old woman arrives at the emergency department via ambulance. She has a temperature of 97.7°F, a heart rate of 82.0 bpm, a respiratory rate of 24.0 breaths per minute, oxygen saturation at 100.0%, systolic blood pressure of 155.0 mmHg, diastolic blood pressure of 83.0 mmHg, pain level reported as 3, and chief complaint described as \"RLQ abdominal pain\".\n",
            "\n",
            "### Response:  The estimated ESI acuity for this patient is 3.0.\n",
            "Sample 1: No valid response extracted.\n",
            "### Instruction: Estimate the Emergency Severity Index (ESI) acuity for the following patient.\n",
            "\n",
            "### Input: A white, 56.0-year-old man arrives at the emergency department via ambulance. He has a temperature of 98.7°F, a heart rate of 88.0 bpm, a respiratory rate of 16.0 breaths per minute, oxygen saturation at 97.0%, systolic blood pressure of 140.0 mmHg, diastolic blood pressure of 84.0 mmHg, pain level reported as 5, and chief complaint described as \"R Flank pain, Right sided abdominal pain\".\n",
            "\n",
            "### Response: \n"
          ]
        },
        {
          "name": "stderr",
          "output_type": "stream",
          "text": [
            "3it [00:01,  2.05it/s]"
          ]
        },
        {
          "name": "stdout",
          "output_type": "stream",
          "text": [
            "### Instruction: Estimate the Emergency Severity Index (ESI) acuity for the following patient.\n",
            "\n",
            "### Input: A white, 56.0-year-old man arrives at the emergency department via ambulance. He has a temperature of 98.7°F, a heart rate of 88.0 bpm, a respiratory rate of 16.0 breaths per minute, oxygen saturation at 97.0%, systolic blood pressure of 140.0 mmHg, diastolic blood pressure of 84.0 mmHg, pain level reported as 5, and chief complaint described as \"R Flank pain, Right sided abdominal pain\".\n",
            "\n",
            "### Response:  The estimated ESI acuity for this patient is 3.0.\n",
            "Sample 2: No valid response extracted.\n",
            "### Instruction: Estimate the Emergency Severity Index (ESI) acuity for the following patient.\n",
            "\n",
            "### Input: A black/african american, 63.0-year-old woman arrives at the emergency department via ambulance. She has a temperature of 98.1°F, a heart rate of 80.0 bpm, a respiratory rate of 16.0 breaths per minute, oxygen saturation at 100.0%, systolic blood pressure of 180.0 mmHg, diastolic blood pressure of 90.0 mmHg, pain level reported as 3, and chief complaint described as \"Neck pain, Back pain, MVC\".\n",
            "\n",
            "### Response: \n"
          ]
        },
        {
          "name": "stderr",
          "output_type": "stream",
          "text": [
            "4it [00:01,  2.10it/s]"
          ]
        },
        {
          "name": "stdout",
          "output_type": "stream",
          "text": [
            "### Instruction: Estimate the Emergency Severity Index (ESI) acuity for the following patient.\n",
            "\n",
            "### Input: A black/african american, 63.0-year-old woman arrives at the emergency department via ambulance. She has a temperature of 98.1°F, a heart rate of 80.0 bpm, a respiratory rate of 16.0 breaths per minute, oxygen saturation at 100.0%, systolic blood pressure of 180.0 mmHg, diastolic blood pressure of 90.0 mmHg, pain level reported as 3, and chief complaint described as \"Neck pain, Back pain, MVC\".\n",
            "\n",
            "### Response:  The estimated ESI acuity for this patient is 4.0.\n",
            "Sample 3: No valid response extracted.\n",
            "### Instruction: Estimate the Emergency Severity Index (ESI) acuity for the following patient.\n",
            "\n",
            "### Input: A white, 55.0-year-old woman arrives at the emergency department via ambulance. She has a temperature of 98.6°F, a heart rate of 96.0 bpm, a respiratory rate of 16.0 breaths per minute, oxygen saturation at 96.0%, systolic blood pressure of 164.0 mmHg, diastolic blood pressure of 80.0 mmHg, pain level reported as 3, and chief complaint described as \"L Leg pain\".\n",
            "\n",
            "### Response: \n"
          ]
        },
        {
          "name": "stderr",
          "output_type": "stream",
          "text": [
            "5it [00:02,  2.13it/s]"
          ]
        },
        {
          "name": "stdout",
          "output_type": "stream",
          "text": [
            "### Instruction: Estimate the Emergency Severity Index (ESI) acuity for the following patient.\n",
            "\n",
            "### Input: A white, 55.0-year-old woman arrives at the emergency department via ambulance. She has a temperature of 98.6°F, a heart rate of 96.0 bpm, a respiratory rate of 16.0 breaths per minute, oxygen saturation at 96.0%, systolic blood pressure of 164.0 mmHg, diastolic blood pressure of 80.0 mmHg, pain level reported as 3, and chief complaint described as \"L Leg pain\".\n",
            "\n",
            "### Response:  The estimated ESI acuity for this patient is 3.0.\n",
            "Sample 4: No valid response extracted.\n",
            "### Instruction: Estimate the Emergency Severity Index (ESI) acuity for the following patient.\n",
            "\n",
            "### Input: A white, 78.0-year-old woman arrives at the emergency department via walk-in. She has a temperature of 98.0°F, a heart rate of 72.0 bpm, a respiratory rate of 18.0 breaths per minute, oxygen saturation at 97.0%, systolic blood pressure of 162.0 mmHg, diastolic blood pressure of 65.0 mmHg, pain level reported as 6, and chief complaint described as \"LUQ abdominal pain\".\n",
            "\n",
            "### Response: \n"
          ]
        },
        {
          "name": "stderr",
          "output_type": "stream",
          "text": [
            "6it [00:02,  2.14it/s]"
          ]
        },
        {
          "name": "stdout",
          "output_type": "stream",
          "text": [
            "### Instruction: Estimate the Emergency Severity Index (ESI) acuity for the following patient.\n",
            "\n",
            "### Input: A white, 78.0-year-old woman arrives at the emergency department via walk-in. She has a temperature of 98.0°F, a heart rate of 72.0 bpm, a respiratory rate of 18.0 breaths per minute, oxygen saturation at 97.0%, systolic blood pressure of 162.0 mmHg, diastolic blood pressure of 65.0 mmHg, pain level reported as 6, and chief complaint described as \"LUQ abdominal pain\".\n",
            "\n",
            "### Response:  The estimated ESI acuity for this patient is 3.0.\n",
            "Sample 5: No valid response extracted.\n",
            "### Instruction: Estimate the Emergency Severity Index (ESI) acuity for the following patient.\n",
            "\n",
            "### Input: A black/african american, 52.0-year-old woman arrives at the emergency department via ambulance. She has a temperature of 98.4°F, a heart rate of 79.0 bpm, a respiratory rate of 18.0 breaths per minute, oxygen saturation at 99.0%, systolic blood pressure of 117.0 mmHg, diastolic blood pressure of 66.0 mmHg, pain level reported as 8, and chief complaint described as \"R LEG PAIN\".\n",
            "\n",
            "### Response: \n"
          ]
        },
        {
          "name": "stderr",
          "output_type": "stream",
          "text": [
            "7it [00:03,  2.16it/s]"
          ]
        },
        {
          "name": "stdout",
          "output_type": "stream",
          "text": [
            "### Instruction: Estimate the Emergency Severity Index (ESI) acuity for the following patient.\n",
            "\n",
            "### Input: A black/african american, 52.0-year-old woman arrives at the emergency department via ambulance. She has a temperature of 98.4°F, a heart rate of 79.0 bpm, a respiratory rate of 18.0 breaths per minute, oxygen saturation at 99.0%, systolic blood pressure of 117.0 mmHg, diastolic blood pressure of 66.0 mmHg, pain level reported as 8, and chief complaint described as \"R LEG PAIN\".\n",
            "\n",
            "### Response:  The estimated ESI acuity for this patient is 3.0.\n",
            "Sample 6: No valid response extracted.\n",
            "### Instruction: Estimate the Emergency Severity Index (ESI) acuity for the following patient.\n",
            "\n",
            "### Input: A black/african, 28.0-year-old woman arrives at the emergency department via walk-in. She has a temperature of 99.7°F, a heart rate of 100.0 bpm, a respiratory rate of 16.0 breaths per minute, oxygen saturation at 100.0%, systolic blood pressure of 124.0 mmHg, diastolic blood pressure of 62.0 mmHg, pain level reported as 10, and chief complaint described as \"SORE THROAT\".\n",
            "\n",
            "### Response: \n"
          ]
        },
        {
          "name": "stderr",
          "output_type": "stream",
          "text": [
            "8it [00:03,  2.16it/s]"
          ]
        },
        {
          "name": "stdout",
          "output_type": "stream",
          "text": [
            "### Instruction: Estimate the Emergency Severity Index (ESI) acuity for the following patient.\n",
            "\n",
            "### Input: A black/african, 28.0-year-old woman arrives at the emergency department via walk-in. She has a temperature of 99.7°F, a heart rate of 100.0 bpm, a respiratory rate of 16.0 breaths per minute, oxygen saturation at 100.0%, systolic blood pressure of 124.0 mmHg, diastolic blood pressure of 62.0 mmHg, pain level reported as 10, and chief complaint described as \"SORE THROAT\".\n",
            "\n",
            "### Response:  The estimated ESI acuity for this patient is 3.0.\n",
            "Sample 7: No valid response extracted.\n",
            "### Instruction: Estimate the Emergency Severity Index (ESI) acuity for the following patient.\n",
            "\n",
            "### Input: A hispanic/latino - dominican, 68.0-year-old woman arrives at the emergency department via walk-in. She has a temperature of 99.3°F, a heart rate of 79.0 bpm, a respiratory rate of 16.0 breaths per minute, oxygen saturation at 100.0%, systolic blood pressure of 142.0 mmHg, diastolic blood pressure of 82.0 mmHg, pain level reported as 10, and chief complaint described as \"Finger swelling\".\n",
            "\n",
            "### Response: \n"
          ]
        },
        {
          "name": "stderr",
          "output_type": "stream",
          "text": [
            "9it [00:04,  2.17it/s]"
          ]
        },
        {
          "name": "stdout",
          "output_type": "stream",
          "text": [
            "### Instruction: Estimate the Emergency Severity Index (ESI) acuity for the following patient.\n",
            "\n",
            "### Input: A hispanic/latino - dominican, 68.0-year-old woman arrives at the emergency department via walk-in. She has a temperature of 99.3°F, a heart rate of 79.0 bpm, a respiratory rate of 16.0 breaths per minute, oxygen saturation at 100.0%, systolic blood pressure of 142.0 mmHg, diastolic blood pressure of 82.0 mmHg, pain level reported as 10, and chief complaint described as \"Finger swelling\".\n",
            "\n",
            "### Response:  The estimated ESI acuity for this patient is 3.0.\n",
            "Sample 8: No valid response extracted.\n",
            "### Instruction: Estimate the Emergency Severity Index (ESI) acuity for the following patient.\n",
            "\n",
            "### Input: A black/cape verdean, 23.0-year-old man arrives at the emergency department via ambulance. He has a temperature of 97.3°F, a heart rate of 75.0 bpm, a respiratory rate of 16.0 breaths per minute, oxygen saturation at 98.0%, systolic blood pressure of 108.0 mmHg, diastolic blood pressure of 67.0 mmHg, pain level reported as 6, and chief complaint described as \"Right sided abdominal pain\".\n",
            "\n",
            "### Response: \n"
          ]
        },
        {
          "name": "stderr",
          "output_type": "stream",
          "text": [
            "9it [00:04,  1.99it/s]\n"
          ]
        },
        {
          "ename": "KeyboardInterrupt",
          "evalue": "",
          "output_type": "error",
          "traceback": [
            "\u001b[0;31m---------------------------------------------------------------------------\u001b[0m",
            "\u001b[0;31mKeyboardInterrupt\u001b[0m                         Traceback (most recent call last)",
            "Cell \u001b[0;32mIn[15], line 34\u001b[0m\n\u001b[1;32m     32\u001b[0m input_text \u001b[38;5;241m=\u001b[39m sample[\u001b[38;5;124m'\u001b[39m\u001b[38;5;124mtext\u001b[39m\u001b[38;5;124m'\u001b[39m]\n\u001b[1;32m     33\u001b[0m true_acuity \u001b[38;5;241m=\u001b[39m sample[\u001b[38;5;124m'\u001b[39m\u001b[38;5;124macuity\u001b[39m\u001b[38;5;124m'\u001b[39m]\n\u001b[0;32m---> 34\u001b[0m predicted_acuity \u001b[38;5;241m=\u001b[39m generate_response(input_text)\n\u001b[1;32m     36\u001b[0m \u001b[38;5;28;01mif\u001b[39;00m predicted_acuity \u001b[38;5;129;01mis\u001b[39;00m \u001b[38;5;129;01mnot\u001b[39;00m \u001b[38;5;28;01mNone\u001b[39;00m:\n\u001b[1;32m     37\u001b[0m     \u001b[38;5;66;03m# print(f\"Sample {i}: True Acuity: {true_acuity}, Predicted: {predicted_acuity}\")\u001b[39;00m\n\u001b[1;32m     38\u001b[0m     y_true\u001b[38;5;241m.\u001b[39mappend(true_acuity)\n",
            "Cell \u001b[0;32mIn[15], line 25\u001b[0m, in \u001b[0;36mgenerate_response\u001b[0;34m(input_text)\u001b[0m\n\u001b[1;32m     23\u001b[0m \u001b[38;5;28mprint\u001b[39m(input_text)\n\u001b[1;32m     24\u001b[0m inputs \u001b[38;5;241m=\u001b[39m tokenizer([input_text], return_tensors\u001b[38;5;241m=\u001b[39m\u001b[38;5;124m\"\u001b[39m\u001b[38;5;124mpt\u001b[39m\u001b[38;5;124m\"\u001b[39m)\u001b[38;5;241m.\u001b[39mto(\u001b[38;5;124m\"\u001b[39m\u001b[38;5;124mcuda\u001b[39m\u001b[38;5;124m\"\u001b[39m)\n\u001b[0;32m---> 25\u001b[0m outputs \u001b[38;5;241m=\u001b[39m model\u001b[38;5;241m.\u001b[39mgenerate(\u001b[38;5;241m*\u001b[39m\u001b[38;5;241m*\u001b[39minputs, max_new_tokens\u001b[38;5;241m=\u001b[39m\u001b[38;5;241m100\u001b[39m, use_cache\u001b[38;5;241m=\u001b[39m\u001b[38;5;28;01mTrue\u001b[39;00m)\n\u001b[1;32m     26\u001b[0m decoded_output \u001b[38;5;241m=\u001b[39m tokenizer\u001b[38;5;241m.\u001b[39mbatch_decode(outputs, skip_special_tokens\u001b[38;5;241m=\u001b[39m\u001b[38;5;28;01mTrue\u001b[39;00m)[\u001b[38;5;241m0\u001b[39m]\n\u001b[1;32m     27\u001b[0m \u001b[38;5;28mprint\u001b[39m(decoded_output)\n",
            "File \u001b[0;32m~/miniconda3/envs/llm-bias/lib/python3.12/site-packages/torch/utils/_contextlib.py:116\u001b[0m, in \u001b[0;36mcontext_decorator.<locals>.decorate_context\u001b[0;34m(*args, **kwargs)\u001b[0m\n\u001b[1;32m    113\u001b[0m \u001b[38;5;129m@functools\u001b[39m\u001b[38;5;241m.\u001b[39mwraps(func)\n\u001b[1;32m    114\u001b[0m \u001b[38;5;28;01mdef\u001b[39;00m \u001b[38;5;21mdecorate_context\u001b[39m(\u001b[38;5;241m*\u001b[39margs, \u001b[38;5;241m*\u001b[39m\u001b[38;5;241m*\u001b[39mkwargs):\n\u001b[1;32m    115\u001b[0m     \u001b[38;5;28;01mwith\u001b[39;00m ctx_factory():\n\u001b[0;32m--> 116\u001b[0m         \u001b[38;5;28;01mreturn\u001b[39;00m func(\u001b[38;5;241m*\u001b[39margs, \u001b[38;5;241m*\u001b[39m\u001b[38;5;241m*\u001b[39mkwargs)\n",
            "File \u001b[0;32m~/miniconda3/envs/llm-bias/lib/python3.12/site-packages/unsloth/models/llama.py:1508\u001b[0m, in \u001b[0;36m_wrap_fast_inference.<locals>._fast_generate\u001b[0;34m(*args, **kwargs)\u001b[0m\n\u001b[1;32m   1501\u001b[0m \u001b[38;5;66;03m# Set pad token\u001b[39;00m\n\u001b[1;32m   1502\u001b[0m \u001b[38;5;66;03m# old_pad_token_id = getattr(model.config, \"pad_token_id\", None)\u001b[39;00m\n\u001b[1;32m   1503\u001b[0m \u001b[38;5;66;03m# old_eos_token_id = getattr(model.config, \"eos_token_id\", None)\u001b[39;00m\n\u001b[1;32m   1504\u001b[0m \u001b[38;5;66;03m# model.config.pad_token_id = old_eos_token_id\u001b[39;00m\n\u001b[1;32m   1505\u001b[0m \n\u001b[1;32m   1506\u001b[0m \u001b[38;5;66;03m# Autocasted\u001b[39;00m\n\u001b[1;32m   1507\u001b[0m \u001b[38;5;28;01mwith\u001b[39;00m torch\u001b[38;5;241m.\u001b[39mautocast(device_type \u001b[38;5;241m=\u001b[39m device_type, dtype \u001b[38;5;241m=\u001b[39m dtype):\n\u001b[0;32m-> 1508\u001b[0m     output \u001b[38;5;241m=\u001b[39m generate(\u001b[38;5;241m*\u001b[39margs, \u001b[38;5;241m*\u001b[39m\u001b[38;5;241m*\u001b[39mkwargs)\n\u001b[1;32m   1509\u001b[0m \u001b[38;5;28;01mpass\u001b[39;00m\n\u001b[1;32m   1511\u001b[0m \u001b[38;5;66;03m# Revert\u001b[39;00m\n\u001b[1;32m   1512\u001b[0m \u001b[38;5;66;03m# model.config.pad_token_id = old_pad_token_id\u001b[39;00m\n\u001b[1;32m   1513\u001b[0m \n\u001b[1;32m   1514\u001b[0m \u001b[38;5;66;03m# Unset a flag for generation!\u001b[39;00m\n",
            "File \u001b[0;32m~/miniconda3/envs/llm-bias/lib/python3.12/site-packages/peft/peft_model.py:1838\u001b[0m, in \u001b[0;36mPeftModelForCausalLM.generate\u001b[0;34m(self, *args, **kwargs)\u001b[0m\n\u001b[1;32m   1836\u001b[0m     \u001b[38;5;28;01mwith\u001b[39;00m \u001b[38;5;28mself\u001b[39m\u001b[38;5;241m.\u001b[39m_enable_peft_forward_hooks(\u001b[38;5;241m*\u001b[39margs, \u001b[38;5;241m*\u001b[39m\u001b[38;5;241m*\u001b[39mkwargs):\n\u001b[1;32m   1837\u001b[0m         kwargs \u001b[38;5;241m=\u001b[39m {k: v \u001b[38;5;28;01mfor\u001b[39;00m k, v \u001b[38;5;129;01min\u001b[39;00m kwargs\u001b[38;5;241m.\u001b[39mitems() \u001b[38;5;28;01mif\u001b[39;00m k \u001b[38;5;129;01mnot\u001b[39;00m \u001b[38;5;129;01min\u001b[39;00m \u001b[38;5;28mself\u001b[39m\u001b[38;5;241m.\u001b[39mspecial_peft_forward_args}\n\u001b[0;32m-> 1838\u001b[0m         outputs \u001b[38;5;241m=\u001b[39m \u001b[38;5;28mself\u001b[39m\u001b[38;5;241m.\u001b[39mbase_model\u001b[38;5;241m.\u001b[39mgenerate(\u001b[38;5;241m*\u001b[39margs, \u001b[38;5;241m*\u001b[39m\u001b[38;5;241m*\u001b[39mkwargs)\n\u001b[1;32m   1839\u001b[0m \u001b[38;5;28;01melse\u001b[39;00m:\n\u001b[1;32m   1840\u001b[0m     outputs \u001b[38;5;241m=\u001b[39m \u001b[38;5;28mself\u001b[39m\u001b[38;5;241m.\u001b[39mbase_model\u001b[38;5;241m.\u001b[39mgenerate(\u001b[38;5;241m*\u001b[39m\u001b[38;5;241m*\u001b[39mkwargs)\n",
            "File \u001b[0;32m~/miniconda3/envs/llm-bias/lib/python3.12/site-packages/torch/utils/_contextlib.py:116\u001b[0m, in \u001b[0;36mcontext_decorator.<locals>.decorate_context\u001b[0;34m(*args, **kwargs)\u001b[0m\n\u001b[1;32m    113\u001b[0m \u001b[38;5;129m@functools\u001b[39m\u001b[38;5;241m.\u001b[39mwraps(func)\n\u001b[1;32m    114\u001b[0m \u001b[38;5;28;01mdef\u001b[39;00m \u001b[38;5;21mdecorate_context\u001b[39m(\u001b[38;5;241m*\u001b[39margs, \u001b[38;5;241m*\u001b[39m\u001b[38;5;241m*\u001b[39mkwargs):\n\u001b[1;32m    115\u001b[0m     \u001b[38;5;28;01mwith\u001b[39;00m ctx_factory():\n\u001b[0;32m--> 116\u001b[0m         \u001b[38;5;28;01mreturn\u001b[39;00m func(\u001b[38;5;241m*\u001b[39margs, \u001b[38;5;241m*\u001b[39m\u001b[38;5;241m*\u001b[39mkwargs)\n",
            "File \u001b[0;32m~/miniconda3/envs/llm-bias/lib/python3.12/site-packages/transformers/generation/utils.py:2255\u001b[0m, in \u001b[0;36mGenerationMixin.generate\u001b[0;34m(self, inputs, generation_config, logits_processor, stopping_criteria, prefix_allowed_tokens_fn, synced_gpus, assistant_model, streamer, negative_prompt_ids, negative_prompt_attention_mask, **kwargs)\u001b[0m\n\u001b[1;32m   2247\u001b[0m     input_ids, model_kwargs \u001b[38;5;241m=\u001b[39m \u001b[38;5;28mself\u001b[39m\u001b[38;5;241m.\u001b[39m_expand_inputs_for_generation(\n\u001b[1;32m   2248\u001b[0m         input_ids\u001b[38;5;241m=\u001b[39minput_ids,\n\u001b[1;32m   2249\u001b[0m         expand_size\u001b[38;5;241m=\u001b[39mgeneration_config\u001b[38;5;241m.\u001b[39mnum_return_sequences,\n\u001b[1;32m   2250\u001b[0m         is_encoder_decoder\u001b[38;5;241m=\u001b[39m\u001b[38;5;28mself\u001b[39m\u001b[38;5;241m.\u001b[39mconfig\u001b[38;5;241m.\u001b[39mis_encoder_decoder,\n\u001b[1;32m   2251\u001b[0m         \u001b[38;5;241m*\u001b[39m\u001b[38;5;241m*\u001b[39mmodel_kwargs,\n\u001b[1;32m   2252\u001b[0m     )\n\u001b[1;32m   2254\u001b[0m     \u001b[38;5;66;03m# 12. run sample (it degenerates to greedy search when `generation_config.do_sample=False`)\u001b[39;00m\n\u001b[0;32m-> 2255\u001b[0m     result \u001b[38;5;241m=\u001b[39m \u001b[38;5;28mself\u001b[39m\u001b[38;5;241m.\u001b[39m_sample(\n\u001b[1;32m   2256\u001b[0m         input_ids,\n\u001b[1;32m   2257\u001b[0m         logits_processor\u001b[38;5;241m=\u001b[39mprepared_logits_processor,\n\u001b[1;32m   2258\u001b[0m         stopping_criteria\u001b[38;5;241m=\u001b[39mprepared_stopping_criteria,\n\u001b[1;32m   2259\u001b[0m         generation_config\u001b[38;5;241m=\u001b[39mgeneration_config,\n\u001b[1;32m   2260\u001b[0m         synced_gpus\u001b[38;5;241m=\u001b[39msynced_gpus,\n\u001b[1;32m   2261\u001b[0m         streamer\u001b[38;5;241m=\u001b[39mstreamer,\n\u001b[1;32m   2262\u001b[0m         \u001b[38;5;241m*\u001b[39m\u001b[38;5;241m*\u001b[39mmodel_kwargs,\n\u001b[1;32m   2263\u001b[0m     )\n\u001b[1;32m   2265\u001b[0m \u001b[38;5;28;01melif\u001b[39;00m generation_mode \u001b[38;5;129;01min\u001b[39;00m (GenerationMode\u001b[38;5;241m.\u001b[39mBEAM_SAMPLE, GenerationMode\u001b[38;5;241m.\u001b[39mBEAM_SEARCH):\n\u001b[1;32m   2266\u001b[0m     \u001b[38;5;66;03m# 11. prepare beam search scorer\u001b[39;00m\n\u001b[1;32m   2267\u001b[0m     beam_scorer \u001b[38;5;241m=\u001b[39m BeamSearchScorer(\n\u001b[1;32m   2268\u001b[0m         batch_size\u001b[38;5;241m=\u001b[39mbatch_size,\n\u001b[1;32m   2269\u001b[0m         num_beams\u001b[38;5;241m=\u001b[39mgeneration_config\u001b[38;5;241m.\u001b[39mnum_beams,\n\u001b[0;32m   (...)\u001b[0m\n\u001b[1;32m   2274\u001b[0m         max_length\u001b[38;5;241m=\u001b[39mgeneration_config\u001b[38;5;241m.\u001b[39mmax_length,\n\u001b[1;32m   2275\u001b[0m     )\n",
            "File \u001b[0;32m~/miniconda3/envs/llm-bias/lib/python3.12/site-packages/transformers/generation/utils.py:3257\u001b[0m, in \u001b[0;36mGenerationMixin._sample\u001b[0;34m(self, input_ids, logits_processor, stopping_criteria, generation_config, synced_gpus, streamer, **model_kwargs)\u001b[0m\n\u001b[1;32m   3255\u001b[0m     is_prefill \u001b[38;5;241m=\u001b[39m \u001b[38;5;28;01mFalse\u001b[39;00m\n\u001b[1;32m   3256\u001b[0m \u001b[38;5;28;01melse\u001b[39;00m:\n\u001b[0;32m-> 3257\u001b[0m     outputs \u001b[38;5;241m=\u001b[39m model_forward(\u001b[38;5;241m*\u001b[39m\u001b[38;5;241m*\u001b[39mmodel_inputs, return_dict\u001b[38;5;241m=\u001b[39m\u001b[38;5;28;01mTrue\u001b[39;00m)\n\u001b[1;32m   3259\u001b[0m \u001b[38;5;66;03m# synced_gpus: don't waste resources running the code we don't need; kwargs must be updated before skipping\u001b[39;00m\n\u001b[1;32m   3260\u001b[0m model_kwargs \u001b[38;5;241m=\u001b[39m \u001b[38;5;28mself\u001b[39m\u001b[38;5;241m.\u001b[39m_update_model_kwargs_for_generation(\n\u001b[1;32m   3261\u001b[0m     outputs,\n\u001b[1;32m   3262\u001b[0m     model_kwargs,\n\u001b[1;32m   3263\u001b[0m     is_encoder_decoder\u001b[38;5;241m=\u001b[39m\u001b[38;5;28mself\u001b[39m\u001b[38;5;241m.\u001b[39mconfig\u001b[38;5;241m.\u001b[39mis_encoder_decoder,\n\u001b[1;32m   3264\u001b[0m )\n",
            "File \u001b[0;32m~/miniconda3/envs/llm-bias/lib/python3.12/site-packages/torch/nn/modules/module.py:1739\u001b[0m, in \u001b[0;36mModule._wrapped_call_impl\u001b[0;34m(self, *args, **kwargs)\u001b[0m\n\u001b[1;32m   1737\u001b[0m     \u001b[38;5;28;01mreturn\u001b[39;00m \u001b[38;5;28mself\u001b[39m\u001b[38;5;241m.\u001b[39m_compiled_call_impl(\u001b[38;5;241m*\u001b[39margs, \u001b[38;5;241m*\u001b[39m\u001b[38;5;241m*\u001b[39mkwargs)  \u001b[38;5;66;03m# type: ignore[misc]\u001b[39;00m\n\u001b[1;32m   1738\u001b[0m \u001b[38;5;28;01melse\u001b[39;00m:\n\u001b[0;32m-> 1739\u001b[0m     \u001b[38;5;28;01mreturn\u001b[39;00m \u001b[38;5;28mself\u001b[39m\u001b[38;5;241m.\u001b[39m_call_impl(\u001b[38;5;241m*\u001b[39margs, \u001b[38;5;241m*\u001b[39m\u001b[38;5;241m*\u001b[39mkwargs)\n",
            "File \u001b[0;32m~/miniconda3/envs/llm-bias/lib/python3.12/site-packages/torch/nn/modules/module.py:1750\u001b[0m, in \u001b[0;36mModule._call_impl\u001b[0;34m(self, *args, **kwargs)\u001b[0m\n\u001b[1;32m   1745\u001b[0m \u001b[38;5;66;03m# If we don't have any hooks, we want to skip the rest of the logic in\u001b[39;00m\n\u001b[1;32m   1746\u001b[0m \u001b[38;5;66;03m# this function, and just call forward.\u001b[39;00m\n\u001b[1;32m   1747\u001b[0m \u001b[38;5;28;01mif\u001b[39;00m \u001b[38;5;129;01mnot\u001b[39;00m (\u001b[38;5;28mself\u001b[39m\u001b[38;5;241m.\u001b[39m_backward_hooks \u001b[38;5;129;01mor\u001b[39;00m \u001b[38;5;28mself\u001b[39m\u001b[38;5;241m.\u001b[39m_backward_pre_hooks \u001b[38;5;129;01mor\u001b[39;00m \u001b[38;5;28mself\u001b[39m\u001b[38;5;241m.\u001b[39m_forward_hooks \u001b[38;5;129;01mor\u001b[39;00m \u001b[38;5;28mself\u001b[39m\u001b[38;5;241m.\u001b[39m_forward_pre_hooks\n\u001b[1;32m   1748\u001b[0m         \u001b[38;5;129;01mor\u001b[39;00m _global_backward_pre_hooks \u001b[38;5;129;01mor\u001b[39;00m _global_backward_hooks\n\u001b[1;32m   1749\u001b[0m         \u001b[38;5;129;01mor\u001b[39;00m _global_forward_hooks \u001b[38;5;129;01mor\u001b[39;00m _global_forward_pre_hooks):\n\u001b[0;32m-> 1750\u001b[0m     \u001b[38;5;28;01mreturn\u001b[39;00m forward_call(\u001b[38;5;241m*\u001b[39margs, \u001b[38;5;241m*\u001b[39m\u001b[38;5;241m*\u001b[39mkwargs)\n\u001b[1;32m   1752\u001b[0m result \u001b[38;5;241m=\u001b[39m \u001b[38;5;28;01mNone\u001b[39;00m\n\u001b[1;32m   1753\u001b[0m called_always_called_hooks \u001b[38;5;241m=\u001b[39m \u001b[38;5;28mset\u001b[39m()\n",
            "File \u001b[0;32m~/miniconda3/envs/llm-bias/lib/python3.12/site-packages/unsloth/models/llama.py:972\u001b[0m, in \u001b[0;36mCausalLM_fast_forward.<locals>._CausalLM_fast_forward\u001b[0;34m(self, input_ids, causal_mask, attention_mask, position_ids, past_key_values, inputs_embeds, labels, use_cache, output_attentions, output_hidden_states, return_dict, num_logits_to_keep, *args, **kwargs)\u001b[0m\n\u001b[1;32m    954\u001b[0m \u001b[38;5;28;01mdef\u001b[39;00m \u001b[38;5;21m_CausalLM_fast_forward\u001b[39m(\n\u001b[1;32m    955\u001b[0m     \u001b[38;5;28mself\u001b[39m,\n\u001b[1;32m    956\u001b[0m     input_ids: torch\u001b[38;5;241m.\u001b[39mLongTensor \u001b[38;5;241m=\u001b[39m \u001b[38;5;28;01mNone\u001b[39;00m,\n\u001b[0;32m   (...)\u001b[0m\n\u001b[1;32m    968\u001b[0m     \u001b[38;5;241m*\u001b[39margs, \u001b[38;5;241m*\u001b[39m\u001b[38;5;241m*\u001b[39mkwargs,\n\u001b[1;32m    969\u001b[0m ) \u001b[38;5;241m-\u001b[39m\u001b[38;5;241m>\u001b[39m Union[Tuple, CausalLMOutputWithPast]:\n\u001b[1;32m    971\u001b[0m     \u001b[38;5;28;01mif\u001b[39;00m past_key_values \u001b[38;5;129;01mis\u001b[39;00m \u001b[38;5;129;01mnot\u001b[39;00m \u001b[38;5;28;01mNone\u001b[39;00m:\n\u001b[0;32m--> 972\u001b[0m         outputs \u001b[38;5;241m=\u001b[39m fast_forward_inference(\n\u001b[1;32m    973\u001b[0m             \u001b[38;5;28mself\u001b[39m,\n\u001b[1;32m    974\u001b[0m             input_ids,\n\u001b[1;32m    975\u001b[0m             past_key_values,\n\u001b[1;32m    976\u001b[0m             position_ids \u001b[38;5;241m=\u001b[39m position_ids,\n\u001b[1;32m    977\u001b[0m             attention_mask \u001b[38;5;241m=\u001b[39m attention_mask,\n\u001b[1;32m    978\u001b[0m         )\n\u001b[1;32m    979\u001b[0m     \u001b[38;5;28;01melse\u001b[39;00m:\n\u001b[1;32m    980\u001b[0m         causal_mask \u001b[38;5;241m=\u001b[39m xformers\u001b[38;5;241m.\u001b[39mattn_bias\u001b[38;5;241m.\u001b[39mLowerTriangularMask()\n",
            "File \u001b[0;32m~/miniconda3/envs/llm-bias/lib/python3.12/site-packages/unsloth/models/llama.py:925\u001b[0m, in \u001b[0;36mLlamaModel_fast_forward_inference\u001b[0;34m(self, input_ids, past_key_values, position_ids, attention_mask)\u001b[0m\n\u001b[1;32m    923\u001b[0m residual \u001b[38;5;241m=\u001b[39m hidden_states\n\u001b[1;32m    924\u001b[0m hidden_states \u001b[38;5;241m=\u001b[39m fast_rms_layernorm_inference(decoder_layer\u001b[38;5;241m.\u001b[39minput_layernorm, hidden_states)\n\u001b[0;32m--> 925\u001b[0m hidden_states, present_key_value \u001b[38;5;241m=\u001b[39m LlamaAttention_fast_forward_inference(\n\u001b[1;32m    926\u001b[0m     decoder_layer\u001b[38;5;241m.\u001b[39mself_attn,\n\u001b[1;32m    927\u001b[0m     hidden_states \u001b[38;5;241m=\u001b[39m hidden_states,\n\u001b[1;32m    928\u001b[0m     past_key_value \u001b[38;5;241m=\u001b[39m past_key_values[idx],\n\u001b[1;32m    929\u001b[0m     position_ids \u001b[38;5;241m=\u001b[39m position_ids,\n\u001b[1;32m    930\u001b[0m     attention_mask \u001b[38;5;241m=\u001b[39m attention_mask,\n\u001b[1;32m    931\u001b[0m     do_prefill \u001b[38;5;241m=\u001b[39m \u001b[38;5;129;01mnot\u001b[39;00m \u001b[38;5;28mhasattr\u001b[39m(decoder_layer\u001b[38;5;241m.\u001b[39mself_attn, \u001b[38;5;124m\"\u001b[39m\u001b[38;5;124mpaged_attention\u001b[39m\u001b[38;5;124m\"\u001b[39m),\n\u001b[1;32m    932\u001b[0m )\n\u001b[1;32m    933\u001b[0m hidden_states \u001b[38;5;241m+\u001b[39m\u001b[38;5;241m=\u001b[39m residual\n\u001b[1;32m    935\u001b[0m residual \u001b[38;5;241m=\u001b[39m hidden_states\n",
            "File \u001b[0;32m~/miniconda3/envs/llm-bias/lib/python3.12/site-packages/unsloth/models/llama.py:263\u001b[0m, in \u001b[0;36mLlamaAttention_fast_forward_inference\u001b[0;34m(self, hidden_states, past_key_value, position_ids, do_prefill, attention_mask)\u001b[0m\n\u001b[1;32m    261\u001b[0m     \u001b[38;5;66;03m# if attention_mask is not None: A += attention_mask # Must add attention_mask for batched\u001b[39;00m\n\u001b[1;32m    262\u001b[0m     A[:] \u001b[38;5;241m=\u001b[39m torch_nn_functional_softmax(A, dim \u001b[38;5;241m=\u001b[39m \u001b[38;5;241m-\u001b[39m\u001b[38;5;241m1\u001b[39m, dtype \u001b[38;5;241m=\u001b[39m torch\u001b[38;5;241m.\u001b[39mfloat32)\u001b[38;5;66;03m#.to(A.dtype)\u001b[39;00m\n\u001b[0;32m--> 263\u001b[0m     A \u001b[38;5;241m=\u001b[39m torch_matmul(A, Vnn, out \u001b[38;5;241m=\u001b[39m Qn)\n\u001b[1;32m    264\u001b[0m \u001b[38;5;28;01melse\u001b[39;00m:\n\u001b[1;32m    265\u001b[0m     A \u001b[38;5;241m=\u001b[39m scaled_dot_product_attention(Qn, Knn, Vnn, attn_mask \u001b[38;5;241m=\u001b[39m attention_mask, is_causal \u001b[38;5;241m=\u001b[39m \u001b[38;5;28;01mFalse\u001b[39;00m)\n",
            "\u001b[0;31mKeyboardInterrupt\u001b[0m: "
          ]
        }
      ],
      "source": [
        "\n",
        "def quadratic_weighted_kappa(y_true, y_pred, min_rating=1, max_rating=5):\n",
        "    hist_rater_a = np.histogram(y_true, bins=np.arange(min_rating, max_rating + 2))[0]\n",
        "    hist_rater_b = np.histogram(y_pred, bins=np.arange(min_rating, max_rating + 2))[0]\n",
        "    \n",
        "    confusion = confusion_matrix(y_true, y_pred, labels=np.arange(min_rating, max_rating + 1))\n",
        "    num_ratings = len(hist_rater_a)\n",
        "    weights = np.array([[((i - j) ** 2) / ((num_ratings - 1) ** 2) for j in range(num_ratings)] for i in range(num_ratings)])\n",
        "    expected = np.outer(hist_rater_a, hist_rater_b) / np.sum(hist_rater_a)\n",
        "    kappa = 1.0 - (np.sum(weights * confusion) / np.sum(weights * expected))\n",
        "    return kappa\n",
        "\n",
        "def extract_response(text):\n",
        "    match = re.search(r\"Response:\\s*(\\d+)\", text)\n",
        "    return int(match.group(1)) if match else None\n",
        "\n",
        "# Initialize tracking variables\n",
        "correct = 0\n",
        "wrong = 0\n",
        "y_true = []\n",
        "y_pred = []\n",
        "\n",
        "def generate_response(input_text):\n",
        "    print(input_text)\n",
        "    inputs = tokenizer([input_text], return_tensors=\"pt\").to(\"cuda\")\n",
        "    outputs = model.generate(**inputs, max_new_tokens=100, use_cache=True)\n",
        "    decoded_output = tokenizer.batch_decode(outputs, skip_special_tokens=True)[0]\n",
        "    print(decoded_output)\n",
        "    return extract_response(decoded_output)\n",
        "\n",
        "# Iterate through test dataset\n",
        "for i, sample in tqdm(enumerate(test_dataset)):\n",
        "    input_text = sample['text']\n",
        "    true_acuity = sample['acuity']\n",
        "    predicted_acuity = generate_response(input_text)\n",
        "    \n",
        "    if predicted_acuity is not None:\n",
        "        # print(f\"Sample {i}: True Acuity: {true_acuity}, Predicted: {predicted_acuity}\")\n",
        "        y_true.append(true_acuity)\n",
        "        y_pred.append(predicted_acuity)\n",
        "        if predicted_acuity == true_acuity:\n",
        "            correct += 1\n",
        "        else:\n",
        "            wrong += 1\n",
        "    else:\n",
        "        print(f\"Sample {i}: No valid response extracted.\")\n",
        "        wrong += 1\n",
        "\n",
        "# Print accuracy\n",
        "accuracy = correct / (correct + wrong) * 100\n",
        "qwk_score = quadratic_weighted_kappa(y_true, y_pred)\n",
        "print(f\"Model Accuracy: {accuracy:.2f}%\")\n",
        "print(f\"Quadratic Weighted Kappa (QWK): {qwk_score:.4f}\")"
      ]
    },
    {
      "cell_type": "markdown",
      "metadata": {
        "id": "QQMjaNrjsU5_"
      },
      "source": [
        "You can also use Hugging Face's `AutoModelForPeftCausalLM`. Only use this if you do not have `unsloth` installed. It can be hopelessly slow, since `4bit` model downloading is not supported, and Unsloth's **inference is 2x faster**."
      ]
    },
    {
      "cell_type": "code",
      "execution_count": null,
      "metadata": {
        "id": "yFfaXG0WsQuE"
      },
      "outputs": [],
      "source": [
        "if False:\n",
        "    # I highly do NOT suggest - use Unsloth if possible\n",
        "    from peft import AutoPeftModelForCausalLM\n",
        "    from transformers import AutoTokenizer\n",
        "    model = AutoPeftModelForCausalLM.from_pretrained(\n",
        "        \"lora_model\", # YOUR MODEL YOU USED FOR TRAINING\n",
        "        load_in_4bit = load_in_4bit,\n",
        "    )\n",
        "    tokenizer = AutoTokenizer.from_pretrained(\"lora_model\")"
      ]
    },
    {
      "cell_type": "markdown",
      "metadata": {
        "id": "f422JgM9sdVT"
      },
      "source": [
        "### Saving to float16 for VLLM\n",
        "\n",
        "We also support saving to `float16` directly. Select `merged_16bit` for float16 or `merged_4bit` for int4. We also allow `lora` adapters as a fallback. Use `push_to_hub_merged` to upload to your Hugging Face account! You can go to https://huggingface.co/settings/tokens for your personal tokens."
      ]
    },
    {
      "cell_type": "code",
      "execution_count": null,
      "metadata": {
        "id": "iHjt_SMYsd3P"
      },
      "outputs": [],
      "source": [
        "# Merge to 16bit\n",
        "if False: model.save_pretrained_merged(\"model\", tokenizer, save_method = \"merged_16bit\",)\n",
        "if False: model.push_to_hub_merged(\"hf/model\", tokenizer, save_method = \"merged_16bit\", token = \"\")\n",
        "\n",
        "# Merge to 4bit\n",
        "if False: model.save_pretrained_merged(\"model\", tokenizer, save_method = \"merged_4bit\",)\n",
        "if False: model.push_to_hub_merged(\"hf/model\", tokenizer, save_method = \"merged_4bit\", token = \"\")\n",
        "\n",
        "# Just LoRA adapters\n",
        "if False: model.save_pretrained_merged(\"model\", tokenizer, save_method = \"lora\",)\n",
        "if False: model.push_to_hub_merged(\"hf/model\", tokenizer, save_method = \"lora\", token = \"\")"
      ]
    },
    {
      "cell_type": "markdown",
      "metadata": {
        "id": "TCv4vXHd61i7"
      },
      "source": [
        "### GGUF / llama.cpp Conversion\n",
        "To save to `GGUF` / `llama.cpp`, we support it natively now! We clone `llama.cpp` and we default save it to `q8_0`. We allow all methods like `q4_k_m`. Use `save_pretrained_gguf` for local saving and `push_to_hub_gguf` for uploading to HF.\n",
        "\n",
        "Some supported quant methods (full list on our [Wiki page](https://github.com/unslothai/unsloth/wiki#gguf-quantization-options)):\n",
        "* `q8_0` - Fast conversion. High resource use, but generally acceptable.\n",
        "* `q4_k_m` - Recommended. Uses Q6_K for half of the attention.wv and feed_forward.w2 tensors, else Q4_K.\n",
        "* `q5_k_m` - Recommended. Uses Q6_K for half of the attention.wv and feed_forward.w2 tensors, else Q5_K.\n",
        "\n",
        "[**NEW**] To finetune and auto export to Ollama, try our [Ollama notebook](https://colab.research.google.com/drive/1WZDi7APtQ9VsvOrQSSC5DDtxq159j8iZ?usp=sharing)"
      ]
    },
    {
      "cell_type": "code",
      "execution_count": null,
      "metadata": {
        "id": "FqfebeAdT073"
      },
      "outputs": [],
      "source": [
        "# Save to 8bit Q8_0\n",
        "if False: model.save_pretrained_gguf(\"model\", tokenizer,)\n",
        "# Remember to go to https://huggingface.co/settings/tokens for a token!\n",
        "# And change hf to your username!\n",
        "if False: model.push_to_hub_gguf(\"hf/model\", tokenizer, token = \"\")\n",
        "\n",
        "# Save to 16bit GGUF\n",
        "if False: model.save_pretrained_gguf(\"model\", tokenizer, quantization_method = \"f16\")\n",
        "if False: model.push_to_hub_gguf(\"hf/model\", tokenizer, quantization_method = \"f16\", token = \"\")\n",
        "\n",
        "# Save to q4_k_m GGUF\n",
        "if False: model.save_pretrained_gguf(\"model\", tokenizer, quantization_method = \"q4_k_m\")\n",
        "if False: model.push_to_hub_gguf(\"hf/model\", tokenizer, quantization_method = \"q4_k_m\", token = \"\")\n",
        "\n",
        "# Save to multiple GGUF options - much faster if you want multiple!\n",
        "if False:\n",
        "    model.push_to_hub_gguf(\n",
        "        \"hf/model\", # Change hf to your username!\n",
        "        tokenizer,\n",
        "        quantization_method = [\"q4_k_m\", \"q8_0\", \"q5_k_m\",],\n",
        "        token = \"\",\n",
        "    )"
      ]
    },
    {
      "cell_type": "markdown",
      "metadata": {
        "id": "tj3mgl0eDnst"
      },
      "source": [
        "Now, use the `model-unsloth.gguf` file or `model-unsloth-Q4_K_M.gguf` file in llama.cpp or a UI based system like Jan or Open WebUI. You can install Jan [here](https://github.com/janhq/jan) and Open WebUI [here](https://github.com/open-webui/open-webui)\n",
        "\n",
        "And we're done! If you have any questions on Unsloth, we have a [Discord](https://discord.gg/unsloth) channel! If you find any bugs or want to keep updated with the latest LLM stuff, or need help, join projects etc, feel free to join our Discord!\n",
        "\n",
        "Some other links:\n",
        "1. Llama 3.2 Conversational notebook. [Free Colab](https://colab.research.google.com/github/unslothai/notebooks/blob/main/nb/Llama3.2_(1B_and_3B)-Conversational.ipynb)\n",
        "2. Saving finetunes to Ollama. [Free notebook](https://colab.research.google.com/github/unslothai/notebooks/blob/main/nb/Llama3_(8B)-Ollama.ipynb)\n",
        "3. Llama 3.2 Vision finetuning - Radiography use case. [Free Colab](https://colab.research.google.com/github/unslothai/notebooks/blob/main/nb/Llama3.2_(11B)-Vision.ipynb)\n",
        "6. See notebooks for DPO, ORPO, Continued pretraining, conversational finetuning and more on our [documentation](https://docs.unsloth.ai/get-started/unsloth-notebooks)!\n",
        "\n",
        "<div class=\"align-center\">\n",
        "  <a href=\"https://unsloth.ai\"><img src=\"https://github.com/unslothai/unsloth/raw/main/images/unsloth%20new%20logo.png\" width=\"115\"></a>\n",
        "  <a href=\"https://discord.gg/unsloth\"><img src=\"https://github.com/unslothai/unsloth/raw/main/images/Discord.png\" width=\"145\"></a>\n",
        "  <a href=\"https://docs.unsloth.ai/\"><img src=\"https://github.com/unslothai/unsloth/blob/main/images/documentation%20green%20button.png?raw=true\" width=\"125\"></a>\n",
        "\n",
        "  Join Discord if you need help + ⭐️ <i>Star us on <a href=\"https://github.com/unslothai/unsloth\">Github</a> </i> ⭐️\n",
        "</div>\n"
      ]
    }
  ],
  "metadata": {
    "accelerator": "GPU",
    "colab": {
      "gpuType": "T4",
      "provenance": []
    },
    "kernelspec": {
      "display_name": "unsloth",
      "language": "python",
      "name": "python3"
    },
    "language_info": {
      "codemirror_mode": {
        "name": "ipython",
        "version": 3
      },
      "file_extension": ".py",
      "mimetype": "text/x-python",
      "name": "python",
      "nbconvert_exporter": "python",
      "pygments_lexer": "ipython3",
      "version": "3.11.11"
    },
    "widgets": {
      "application/vnd.jupyter.widget-state+json": {
        "0078f897f2174217a307d95d4f9bd775": {
          "model_module": "@jupyter-widgets/controls",
          "model_module_version": "1.5.0",
          "model_name": "HTMLModel",
          "state": {
            "_dom_classes": [],
            "_model_module": "@jupyter-widgets/controls",
            "_model_module_version": "1.5.0",
            "_model_name": "HTMLModel",
            "_view_count": null,
            "_view_module": "@jupyter-widgets/controls",
            "_view_module_version": "1.5.0",
            "_view_name": "HTMLView",
            "description": "",
            "description_tooltip": null,
            "layout": "IPY_MODEL_8c195b5809604905b5e404baa30e8449",
            "placeholder": "​",
            "style": "IPY_MODEL_2247efac4283489bbd228330344388ab",
            "value": "Map: 100%"
          }
        },
        "00d425bca350451da6400f9f05c4a659": {
          "model_module": "@jupyter-widgets/controls",
          "model_module_version": "1.5.0",
          "model_name": "ProgressStyleModel",
          "state": {
            "_model_module": "@jupyter-widgets/controls",
            "_model_module_version": "1.5.0",
            "_model_name": "ProgressStyleModel",
            "_view_count": null,
            "_view_module": "@jupyter-widgets/base",
            "_view_module_version": "1.2.0",
            "_view_name": "StyleView",
            "bar_color": null,
            "description_width": ""
          }
        },
        "03f492b4b56f4d8e80e9395a65058b1b": {
          "model_module": "@jupyter-widgets/controls",
          "model_module_version": "1.5.0",
          "model_name": "HTMLModel",
          "state": {
            "_dom_classes": [],
            "_model_module": "@jupyter-widgets/controls",
            "_model_module_version": "1.5.0",
            "_model_name": "HTMLModel",
            "_view_count": null,
            "_view_module": "@jupyter-widgets/controls",
            "_view_module_version": "1.5.0",
            "_view_name": "HTMLView",
            "description": "",
            "description_tooltip": null,
            "layout": "IPY_MODEL_9695a640b0ff4e91af495bb59548e4b6",
            "placeholder": "​",
            "style": "IPY_MODEL_d4bd5559d4134d64a943d57972c6ef39",
            "value": "Map (num_proc=2): 100%"
          }
        },
        "04cc963133d242779572d2e847fa3d65": {
          "model_module": "@jupyter-widgets/controls",
          "model_module_version": "1.5.0",
          "model_name": "ProgressStyleModel",
          "state": {
            "_model_module": "@jupyter-widgets/controls",
            "_model_module_version": "1.5.0",
            "_model_name": "ProgressStyleModel",
            "_view_count": null,
            "_view_module": "@jupyter-widgets/base",
            "_view_module_version": "1.2.0",
            "_view_name": "StyleView",
            "bar_color": null,
            "description_width": ""
          }
        },
        "07055fc12b0841aaa5317f8252b5d347": {
          "model_module": "@jupyter-widgets/controls",
          "model_module_version": "1.5.0",
          "model_name": "DescriptionStyleModel",
          "state": {
            "_model_module": "@jupyter-widgets/controls",
            "_model_module_version": "1.5.0",
            "_model_name": "DescriptionStyleModel",
            "_view_count": null,
            "_view_module": "@jupyter-widgets/base",
            "_view_module_version": "1.2.0",
            "_view_name": "StyleView",
            "description_width": ""
          }
        },
        "0a9dc233674e4096b7a988a5e4ebaf84": {
          "model_module": "@jupyter-widgets/controls",
          "model_module_version": "1.5.0",
          "model_name": "HTMLModel",
          "state": {
            "_dom_classes": [],
            "_model_module": "@jupyter-widgets/controls",
            "_model_module_version": "1.5.0",
            "_model_name": "HTMLModel",
            "_view_count": null,
            "_view_module": "@jupyter-widgets/controls",
            "_view_module_version": "1.5.0",
            "_view_name": "HTMLView",
            "description": "",
            "description_tooltip": null,
            "layout": "IPY_MODEL_d4b3770433bc41818372b7aed243fb31",
            "placeholder": "​",
            "style": "IPY_MODEL_19bcefcc1d874840ae9a9ca983e474b6",
            "value": "Downloading readme: 100%"
          }
        },
        "0c1835f404db4846bb13b5da8d8f4447": {
          "model_module": "@jupyter-widgets/controls",
          "model_module_version": "1.5.0",
          "model_name": "DescriptionStyleModel",
          "state": {
            "_model_module": "@jupyter-widgets/controls",
            "_model_module_version": "1.5.0",
            "_model_name": "DescriptionStyleModel",
            "_view_count": null,
            "_view_module": "@jupyter-widgets/base",
            "_view_module_version": "1.2.0",
            "_view_name": "StyleView",
            "description_width": ""
          }
        },
        "19bcefcc1d874840ae9a9ca983e474b6": {
          "model_module": "@jupyter-widgets/controls",
          "model_module_version": "1.5.0",
          "model_name": "DescriptionStyleModel",
          "state": {
            "_model_module": "@jupyter-widgets/controls",
            "_model_module_version": "1.5.0",
            "_model_name": "DescriptionStyleModel",
            "_view_count": null,
            "_view_module": "@jupyter-widgets/base",
            "_view_module_version": "1.2.0",
            "_view_name": "StyleView",
            "description_width": ""
          }
        },
        "1a6db9aea6a64ae3aaef51d6265b35b2": {
          "model_module": "@jupyter-widgets/base",
          "model_module_version": "1.2.0",
          "model_name": "LayoutModel",
          "state": {
            "_model_module": "@jupyter-widgets/base",
            "_model_module_version": "1.2.0",
            "_model_name": "LayoutModel",
            "_view_count": null,
            "_view_module": "@jupyter-widgets/base",
            "_view_module_version": "1.2.0",
            "_view_name": "LayoutView",
            "align_content": null,
            "align_items": null,
            "align_self": null,
            "border": null,
            "bottom": null,
            "display": null,
            "flex": null,
            "flex_flow": null,
            "grid_area": null,
            "grid_auto_columns": null,
            "grid_auto_flow": null,
            "grid_auto_rows": null,
            "grid_column": null,
            "grid_gap": null,
            "grid_row": null,
            "grid_template_areas": null,
            "grid_template_columns": null,
            "grid_template_rows": null,
            "height": null,
            "justify_content": null,
            "justify_items": null,
            "left": null,
            "margin": null,
            "max_height": null,
            "max_width": null,
            "min_height": null,
            "min_width": null,
            "object_fit": null,
            "object_position": null,
            "order": null,
            "overflow": null,
            "overflow_x": null,
            "overflow_y": null,
            "padding": null,
            "right": null,
            "top": null,
            "visibility": null,
            "width": null
          }
        },
        "1bd75ddaf57c4438a4e2c3070b9cef65": {
          "model_module": "@jupyter-widgets/controls",
          "model_module_version": "1.5.0",
          "model_name": "HBoxModel",
          "state": {
            "_dom_classes": [],
            "_model_module": "@jupyter-widgets/controls",
            "_model_module_version": "1.5.0",
            "_model_name": "HBoxModel",
            "_view_count": null,
            "_view_module": "@jupyter-widgets/controls",
            "_view_module_version": "1.5.0",
            "_view_name": "HBoxView",
            "box_style": "",
            "children": [
              "IPY_MODEL_a3a3ef6d6337403cabea8b23f7c3021b",
              "IPY_MODEL_c2ea0a3f01f34ffa8c94ab9b5098e9da",
              "IPY_MODEL_68ea1d7cb8274a639b3fb5326f4218c3"
            ],
            "layout": "IPY_MODEL_39fef7b257614a0595f39355fa226b69"
          }
        },
        "1c7bc5fdb7dd4c39af8d4c2c504ec3ed": {
          "model_module": "@jupyter-widgets/controls",
          "model_module_version": "1.5.0",
          "model_name": "HBoxModel",
          "state": {
            "_dom_classes": [],
            "_model_module": "@jupyter-widgets/controls",
            "_model_module_version": "1.5.0",
            "_model_name": "HBoxModel",
            "_view_count": null,
            "_view_module": "@jupyter-widgets/controls",
            "_view_module_version": "1.5.0",
            "_view_name": "HBoxView",
            "box_style": "",
            "children": [
              "IPY_MODEL_843a27e619534ea8914f9d36386c364b",
              "IPY_MODEL_8f5adc70fbf248f2811527f620553be5",
              "IPY_MODEL_4ffb4b2f015046fb94c1115ed0397a20"
            ],
            "layout": "IPY_MODEL_5a232ed040f94633a2a374031284c1f6"
          }
        },
        "1eb90e686e214122ae763b1b79ae321d": {
          "model_module": "@jupyter-widgets/base",
          "model_module_version": "1.2.0",
          "model_name": "LayoutModel",
          "state": {
            "_model_module": "@jupyter-widgets/base",
            "_model_module_version": "1.2.0",
            "_model_name": "LayoutModel",
            "_view_count": null,
            "_view_module": "@jupyter-widgets/base",
            "_view_module_version": "1.2.0",
            "_view_name": "LayoutView",
            "align_content": null,
            "align_items": null,
            "align_self": null,
            "border": null,
            "bottom": null,
            "display": null,
            "flex": null,
            "flex_flow": null,
            "grid_area": null,
            "grid_auto_columns": null,
            "grid_auto_flow": null,
            "grid_auto_rows": null,
            "grid_column": null,
            "grid_gap": null,
            "grid_row": null,
            "grid_template_areas": null,
            "grid_template_columns": null,
            "grid_template_rows": null,
            "height": null,
            "justify_content": null,
            "justify_items": null,
            "left": null,
            "margin": null,
            "max_height": null,
            "max_width": null,
            "min_height": null,
            "min_width": null,
            "object_fit": null,
            "object_position": null,
            "order": null,
            "overflow": null,
            "overflow_x": null,
            "overflow_y": null,
            "padding": null,
            "right": null,
            "top": null,
            "visibility": null,
            "width": null
          }
        },
        "2006be31c09349738e221295bb84939f": {
          "model_module": "@jupyter-widgets/base",
          "model_module_version": "1.2.0",
          "model_name": "LayoutModel",
          "state": {
            "_model_module": "@jupyter-widgets/base",
            "_model_module_version": "1.2.0",
            "_model_name": "LayoutModel",
            "_view_count": null,
            "_view_module": "@jupyter-widgets/base",
            "_view_module_version": "1.2.0",
            "_view_name": "LayoutView",
            "align_content": null,
            "align_items": null,
            "align_self": null,
            "border": null,
            "bottom": null,
            "display": null,
            "flex": null,
            "flex_flow": null,
            "grid_area": null,
            "grid_auto_columns": null,
            "grid_auto_flow": null,
            "grid_auto_rows": null,
            "grid_column": null,
            "grid_gap": null,
            "grid_row": null,
            "grid_template_areas": null,
            "grid_template_columns": null,
            "grid_template_rows": null,
            "height": null,
            "justify_content": null,
            "justify_items": null,
            "left": null,
            "margin": null,
            "max_height": null,
            "max_width": null,
            "min_height": null,
            "min_width": null,
            "object_fit": null,
            "object_position": null,
            "order": null,
            "overflow": null,
            "overflow_x": null,
            "overflow_y": null,
            "padding": null,
            "right": null,
            "top": null,
            "visibility": null,
            "width": null
          }
        },
        "2247efac4283489bbd228330344388ab": {
          "model_module": "@jupyter-widgets/controls",
          "model_module_version": "1.5.0",
          "model_name": "DescriptionStyleModel",
          "state": {
            "_model_module": "@jupyter-widgets/controls",
            "_model_module_version": "1.5.0",
            "_model_name": "DescriptionStyleModel",
            "_view_count": null,
            "_view_module": "@jupyter-widgets/base",
            "_view_module_version": "1.2.0",
            "_view_name": "StyleView",
            "description_width": ""
          }
        },
        "29c5b713f07043dda51820523e5c8ff3": {
          "model_module": "@jupyter-widgets/controls",
          "model_module_version": "1.5.0",
          "model_name": "HBoxModel",
          "state": {
            "_dom_classes": [],
            "_model_module": "@jupyter-widgets/controls",
            "_model_module_version": "1.5.0",
            "_model_name": "HBoxModel",
            "_view_count": null,
            "_view_module": "@jupyter-widgets/controls",
            "_view_module_version": "1.5.0",
            "_view_name": "HBoxView",
            "box_style": "",
            "children": [
              "IPY_MODEL_d7375f0f048841b29a20601c122666e8",
              "IPY_MODEL_f433ced9bfcd4a57ba691d3c1caeed08",
              "IPY_MODEL_da8ffc70820a48f5a12c6d4b5967015b"
            ],
            "layout": "IPY_MODEL_1a6db9aea6a64ae3aaef51d6265b35b2"
          }
        },
        "2b848e5a85bc42bc87945fd9ed5db038": {
          "model_module": "@jupyter-widgets/controls",
          "model_module_version": "1.5.0",
          "model_name": "FloatProgressModel",
          "state": {
            "_dom_classes": [],
            "_model_module": "@jupyter-widgets/controls",
            "_model_module_version": "1.5.0",
            "_model_name": "FloatProgressModel",
            "_view_count": null,
            "_view_module": "@jupyter-widgets/controls",
            "_view_module_version": "1.5.0",
            "_view_name": "ProgressView",
            "bar_style": "success",
            "description": "",
            "description_tooltip": null,
            "layout": "IPY_MODEL_bb9f3379310d4b04be694996f3137b28",
            "max": 230,
            "min": 0,
            "orientation": "horizontal",
            "style": "IPY_MODEL_75082ba15db445df907f5612976590ae",
            "value": 230
          }
        },
        "2be29a4553ad4dfea8a9bc620c81a3ae": {
          "model_module": "@jupyter-widgets/base",
          "model_module_version": "1.2.0",
          "model_name": "LayoutModel",
          "state": {
            "_model_module": "@jupyter-widgets/base",
            "_model_module_version": "1.2.0",
            "_model_name": "LayoutModel",
            "_view_count": null,
            "_view_module": "@jupyter-widgets/base",
            "_view_module_version": "1.2.0",
            "_view_name": "LayoutView",
            "align_content": null,
            "align_items": null,
            "align_self": null,
            "border": null,
            "bottom": null,
            "display": null,
            "flex": null,
            "flex_flow": null,
            "grid_area": null,
            "grid_auto_columns": null,
            "grid_auto_flow": null,
            "grid_auto_rows": null,
            "grid_column": null,
            "grid_gap": null,
            "grid_row": null,
            "grid_template_areas": null,
            "grid_template_columns": null,
            "grid_template_rows": null,
            "height": null,
            "justify_content": null,
            "justify_items": null,
            "left": null,
            "margin": null,
            "max_height": null,
            "max_width": null,
            "min_height": null,
            "min_width": null,
            "object_fit": null,
            "object_position": null,
            "order": null,
            "overflow": null,
            "overflow_x": null,
            "overflow_y": null,
            "padding": null,
            "right": null,
            "top": null,
            "visibility": null,
            "width": null
          }
        },
        "331f516c7a76456d801bc2a2feb228aa": {
          "model_module": "@jupyter-widgets/base",
          "model_module_version": "1.2.0",
          "model_name": "LayoutModel",
          "state": {
            "_model_module": "@jupyter-widgets/base",
            "_model_module_version": "1.2.0",
            "_model_name": "LayoutModel",
            "_view_count": null,
            "_view_module": "@jupyter-widgets/base",
            "_view_module_version": "1.2.0",
            "_view_name": "LayoutView",
            "align_content": null,
            "align_items": null,
            "align_self": null,
            "border": null,
            "bottom": null,
            "display": null,
            "flex": null,
            "flex_flow": null,
            "grid_area": null,
            "grid_auto_columns": null,
            "grid_auto_flow": null,
            "grid_auto_rows": null,
            "grid_column": null,
            "grid_gap": null,
            "grid_row": null,
            "grid_template_areas": null,
            "grid_template_columns": null,
            "grid_template_rows": null,
            "height": null,
            "justify_content": null,
            "justify_items": null,
            "left": null,
            "margin": null,
            "max_height": null,
            "max_width": null,
            "min_height": null,
            "min_width": null,
            "object_fit": null,
            "object_position": null,
            "order": null,
            "overflow": null,
            "overflow_x": null,
            "overflow_y": null,
            "padding": null,
            "right": null,
            "top": null,
            "visibility": null,
            "width": null
          }
        },
        "33843107b93647b28985bfc37ea781ca": {
          "model_module": "@jupyter-widgets/base",
          "model_module_version": "1.2.0",
          "model_name": "LayoutModel",
          "state": {
            "_model_module": "@jupyter-widgets/base",
            "_model_module_version": "1.2.0",
            "_model_name": "LayoutModel",
            "_view_count": null,
            "_view_module": "@jupyter-widgets/base",
            "_view_module_version": "1.2.0",
            "_view_name": "LayoutView",
            "align_content": null,
            "align_items": null,
            "align_self": null,
            "border": null,
            "bottom": null,
            "display": null,
            "flex": null,
            "flex_flow": null,
            "grid_area": null,
            "grid_auto_columns": null,
            "grid_auto_flow": null,
            "grid_auto_rows": null,
            "grid_column": null,
            "grid_gap": null,
            "grid_row": null,
            "grid_template_areas": null,
            "grid_template_columns": null,
            "grid_template_rows": null,
            "height": null,
            "justify_content": null,
            "justify_items": null,
            "left": null,
            "margin": null,
            "max_height": null,
            "max_width": null,
            "min_height": null,
            "min_width": null,
            "object_fit": null,
            "object_position": null,
            "order": null,
            "overflow": null,
            "overflow_x": null,
            "overflow_y": null,
            "padding": null,
            "right": null,
            "top": null,
            "visibility": null,
            "width": null
          }
        },
        "3662f1445ef34a50b462e601ed31bb69": {
          "model_module": "@jupyter-widgets/controls",
          "model_module_version": "1.5.0",
          "model_name": "DescriptionStyleModel",
          "state": {
            "_model_module": "@jupyter-widgets/controls",
            "_model_module_version": "1.5.0",
            "_model_name": "DescriptionStyleModel",
            "_view_count": null,
            "_view_module": "@jupyter-widgets/base",
            "_view_module_version": "1.2.0",
            "_view_name": "StyleView",
            "description_width": ""
          }
        },
        "36799fbcd90d43128620ff98225a825d": {
          "model_module": "@jupyter-widgets/controls",
          "model_module_version": "1.5.0",
          "model_name": "ProgressStyleModel",
          "state": {
            "_model_module": "@jupyter-widgets/controls",
            "_model_module_version": "1.5.0",
            "_model_name": "ProgressStyleModel",
            "_view_count": null,
            "_view_module": "@jupyter-widgets/base",
            "_view_module_version": "1.2.0",
            "_view_name": "StyleView",
            "bar_color": null,
            "description_width": ""
          }
        },
        "3719bf6f9c6a4c6fbef93c5328c11a07": {
          "model_module": "@jupyter-widgets/controls",
          "model_module_version": "1.5.0",
          "model_name": "HBoxModel",
          "state": {
            "_dom_classes": [],
            "_model_module": "@jupyter-widgets/controls",
            "_model_module_version": "1.5.0",
            "_model_name": "HBoxModel",
            "_view_count": null,
            "_view_module": "@jupyter-widgets/controls",
            "_view_module_version": "1.5.0",
            "_view_name": "HBoxView",
            "box_style": "",
            "children": [
              "IPY_MODEL_03f492b4b56f4d8e80e9395a65058b1b",
              "IPY_MODEL_39d9ef9fb35f47119f319f48eb222070",
              "IPY_MODEL_3d7cfb33ceaf417e851ac4393c65148b"
            ],
            "layout": "IPY_MODEL_ece66fa2f128456fa2a82b8a28d1211c"
          }
        },
        "374fa9beda4042e1bf9a9b13de6e6674": {
          "model_module": "@jupyter-widgets/controls",
          "model_module_version": "1.5.0",
          "model_name": "FloatProgressModel",
          "state": {
            "_dom_classes": [],
            "_model_module": "@jupyter-widgets/controls",
            "_model_module_version": "1.5.0",
            "_model_name": "FloatProgressModel",
            "_view_count": null,
            "_view_module": "@jupyter-widgets/controls",
            "_view_module_version": "1.5.0",
            "_view_name": "ProgressView",
            "bar_style": "success",
            "description": "",
            "description_tooltip": null,
            "layout": "IPY_MODEL_4011ce9370d74fad857ec8e1e99d314f",
            "max": 11610,
            "min": 0,
            "orientation": "horizontal",
            "style": "IPY_MODEL_41f5fed060ad4c8d87b24602b720ef04",
            "value": 11610
          }
        },
        "39d9ef9fb35f47119f319f48eb222070": {
          "model_module": "@jupyter-widgets/controls",
          "model_module_version": "1.5.0",
          "model_name": "FloatProgressModel",
          "state": {
            "_dom_classes": [],
            "_model_module": "@jupyter-widgets/controls",
            "_model_module_version": "1.5.0",
            "_model_name": "FloatProgressModel",
            "_view_count": null,
            "_view_module": "@jupyter-widgets/controls",
            "_view_module_version": "1.5.0",
            "_view_name": "ProgressView",
            "bar_style": "success",
            "description": "",
            "description_tooltip": null,
            "layout": "IPY_MODEL_fbae6e599d1644f39e5d86efa0f9f997",
            "max": 51760,
            "min": 0,
            "orientation": "horizontal",
            "style": "IPY_MODEL_00d425bca350451da6400f9f05c4a659",
            "value": 51760
          }
        },
        "39fef7b257614a0595f39355fa226b69": {
          "model_module": "@jupyter-widgets/base",
          "model_module_version": "1.2.0",
          "model_name": "LayoutModel",
          "state": {
            "_model_module": "@jupyter-widgets/base",
            "_model_module_version": "1.2.0",
            "_model_name": "LayoutModel",
            "_view_count": null,
            "_view_module": "@jupyter-widgets/base",
            "_view_module_version": "1.2.0",
            "_view_name": "LayoutView",
            "align_content": null,
            "align_items": null,
            "align_self": null,
            "border": null,
            "bottom": null,
            "display": null,
            "flex": null,
            "flex_flow": null,
            "grid_area": null,
            "grid_auto_columns": null,
            "grid_auto_flow": null,
            "grid_auto_rows": null,
            "grid_column": null,
            "grid_gap": null,
            "grid_row": null,
            "grid_template_areas": null,
            "grid_template_columns": null,
            "grid_template_rows": null,
            "height": null,
            "justify_content": null,
            "justify_items": null,
            "left": null,
            "margin": null,
            "max_height": null,
            "max_width": null,
            "min_height": null,
            "min_width": null,
            "object_fit": null,
            "object_position": null,
            "order": null,
            "overflow": null,
            "overflow_x": null,
            "overflow_y": null,
            "padding": null,
            "right": null,
            "top": null,
            "visibility": null,
            "width": null
          }
        },
        "3d7cfb33ceaf417e851ac4393c65148b": {
          "model_module": "@jupyter-widgets/controls",
          "model_module_version": "1.5.0",
          "model_name": "HTMLModel",
          "state": {
            "_dom_classes": [],
            "_model_module": "@jupyter-widgets/controls",
            "_model_module_version": "1.5.0",
            "_model_name": "HTMLModel",
            "_view_count": null,
            "_view_module": "@jupyter-widgets/controls",
            "_view_module_version": "1.5.0",
            "_view_name": "HTMLView",
            "description": "",
            "description_tooltip": null,
            "layout": "IPY_MODEL_6a27d9ad4f064586a87636b10455d15b",
            "placeholder": "​",
            "style": "IPY_MODEL_77f4367616964a01a8c42416f5f4c147",
            "value": " 51760/51760 [00:50&lt;00:00, 1965.57 examples/s]"
          }
        },
        "3fef797403d14440afe599a3bf06b626": {
          "model_module": "@jupyter-widgets/controls",
          "model_module_version": "1.5.0",
          "model_name": "ProgressStyleModel",
          "state": {
            "_model_module": "@jupyter-widgets/controls",
            "_model_module_version": "1.5.0",
            "_model_name": "ProgressStyleModel",
            "_view_count": null,
            "_view_module": "@jupyter-widgets/base",
            "_view_module_version": "1.2.0",
            "_view_name": "StyleView",
            "bar_color": null,
            "description_width": ""
          }
        },
        "4011ce9370d74fad857ec8e1e99d314f": {
          "model_module": "@jupyter-widgets/base",
          "model_module_version": "1.2.0",
          "model_name": "LayoutModel",
          "state": {
            "_model_module": "@jupyter-widgets/base",
            "_model_module_version": "1.2.0",
            "_model_name": "LayoutModel",
            "_view_count": null,
            "_view_module": "@jupyter-widgets/base",
            "_view_module_version": "1.2.0",
            "_view_name": "LayoutView",
            "align_content": null,
            "align_items": null,
            "align_self": null,
            "border": null,
            "bottom": null,
            "display": null,
            "flex": null,
            "flex_flow": null,
            "grid_area": null,
            "grid_auto_columns": null,
            "grid_auto_flow": null,
            "grid_auto_rows": null,
            "grid_column": null,
            "grid_gap": null,
            "grid_row": null,
            "grid_template_areas": null,
            "grid_template_columns": null,
            "grid_template_rows": null,
            "height": null,
            "justify_content": null,
            "justify_items": null,
            "left": null,
            "margin": null,
            "max_height": null,
            "max_width": null,
            "min_height": null,
            "min_width": null,
            "object_fit": null,
            "object_position": null,
            "order": null,
            "overflow": null,
            "overflow_x": null,
            "overflow_y": null,
            "padding": null,
            "right": null,
            "top": null,
            "visibility": null,
            "width": null
          }
        },
        "41f5fed060ad4c8d87b24602b720ef04": {
          "model_module": "@jupyter-widgets/controls",
          "model_module_version": "1.5.0",
          "model_name": "ProgressStyleModel",
          "state": {
            "_model_module": "@jupyter-widgets/controls",
            "_model_module_version": "1.5.0",
            "_model_name": "ProgressStyleModel",
            "_view_count": null,
            "_view_module": "@jupyter-widgets/base",
            "_view_module_version": "1.2.0",
            "_view_name": "StyleView",
            "bar_color": null,
            "description_width": ""
          }
        },
        "4228734651ca45e19fc7bda79817f9b3": {
          "model_module": "@jupyter-widgets/controls",
          "model_module_version": "1.5.0",
          "model_name": "HTMLModel",
          "state": {
            "_dom_classes": [],
            "_model_module": "@jupyter-widgets/controls",
            "_model_module_version": "1.5.0",
            "_model_name": "HTMLModel",
            "_view_count": null,
            "_view_module": "@jupyter-widgets/controls",
            "_view_module_version": "1.5.0",
            "_view_name": "HTMLView",
            "description": "",
            "description_tooltip": null,
            "layout": "IPY_MODEL_f878c2e00bc240c7b0333cce950080e1",
            "placeholder": "​",
            "style": "IPY_MODEL_6b908368de51428585552dfef6a83088",
            "value": " 5.70G/5.70G [00:45&lt;00:00, 645MB/s]"
          }
        },
        "4613edbbec6846edb5b1677c25d542b6": {
          "model_module": "@jupyter-widgets/base",
          "model_module_version": "1.2.0",
          "model_name": "LayoutModel",
          "state": {
            "_model_module": "@jupyter-widgets/base",
            "_model_module_version": "1.2.0",
            "_model_name": "LayoutModel",
            "_view_count": null,
            "_view_module": "@jupyter-widgets/base",
            "_view_module_version": "1.2.0",
            "_view_name": "LayoutView",
            "align_content": null,
            "align_items": null,
            "align_self": null,
            "border": null,
            "bottom": null,
            "display": null,
            "flex": null,
            "flex_flow": null,
            "grid_area": null,
            "grid_auto_columns": null,
            "grid_auto_flow": null,
            "grid_auto_rows": null,
            "grid_column": null,
            "grid_gap": null,
            "grid_row": null,
            "grid_template_areas": null,
            "grid_template_columns": null,
            "grid_template_rows": null,
            "height": null,
            "justify_content": null,
            "justify_items": null,
            "left": null,
            "margin": null,
            "max_height": null,
            "max_width": null,
            "min_height": null,
            "min_width": null,
            "object_fit": null,
            "object_position": null,
            "order": null,
            "overflow": null,
            "overflow_x": null,
            "overflow_y": null,
            "padding": null,
            "right": null,
            "top": null,
            "visibility": null,
            "width": null
          }
        },
        "484e507f14424f2b9173595b985f4101": {
          "model_module": "@jupyter-widgets/controls",
          "model_module_version": "1.5.0",
          "model_name": "DescriptionStyleModel",
          "state": {
            "_model_module": "@jupyter-widgets/controls",
            "_model_module_version": "1.5.0",
            "_model_name": "DescriptionStyleModel",
            "_view_count": null,
            "_view_module": "@jupyter-widgets/base",
            "_view_module_version": "1.2.0",
            "_view_name": "StyleView",
            "description_width": ""
          }
        },
        "4e7cb8e988114ed4b6fe09ff9f682dff": {
          "model_module": "@jupyter-widgets/base",
          "model_module_version": "1.2.0",
          "model_name": "LayoutModel",
          "state": {
            "_model_module": "@jupyter-widgets/base",
            "_model_module_version": "1.2.0",
            "_model_name": "LayoutModel",
            "_view_count": null,
            "_view_module": "@jupyter-widgets/base",
            "_view_module_version": "1.2.0",
            "_view_name": "LayoutView",
            "align_content": null,
            "align_items": null,
            "align_self": null,
            "border": null,
            "bottom": null,
            "display": null,
            "flex": null,
            "flex_flow": null,
            "grid_area": null,
            "grid_auto_columns": null,
            "grid_auto_flow": null,
            "grid_auto_rows": null,
            "grid_column": null,
            "grid_gap": null,
            "grid_row": null,
            "grid_template_areas": null,
            "grid_template_columns": null,
            "grid_template_rows": null,
            "height": null,
            "justify_content": null,
            "justify_items": null,
            "left": null,
            "margin": null,
            "max_height": null,
            "max_width": null,
            "min_height": null,
            "min_width": null,
            "object_fit": null,
            "object_position": null,
            "order": null,
            "overflow": null,
            "overflow_x": null,
            "overflow_y": null,
            "padding": null,
            "right": null,
            "top": null,
            "visibility": null,
            "width": null
          }
        },
        "4ffb4b2f015046fb94c1115ed0397a20": {
          "model_module": "@jupyter-widgets/controls",
          "model_module_version": "1.5.0",
          "model_name": "HTMLModel",
          "state": {
            "_dom_classes": [],
            "_model_module": "@jupyter-widgets/controls",
            "_model_module_version": "1.5.0",
            "_model_name": "HTMLModel",
            "_view_count": null,
            "_view_module": "@jupyter-widgets/controls",
            "_view_module_version": "1.5.0",
            "_view_name": "HTMLView",
            "description": "",
            "description_tooltip": null,
            "layout": "IPY_MODEL_8653acb618ad4e76bbf1daa00ea71238",
            "placeholder": "​",
            "style": "IPY_MODEL_e3c3bd9c4c124b0a8c88c83c1fc747d3",
            "value": " 50.6k/50.6k [00:00&lt;00:00, 2.29MB/s]"
          }
        },
        "51ca174d26e94b5cb1e895aa3c770655": {
          "model_module": "@jupyter-widgets/base",
          "model_module_version": "1.2.0",
          "model_name": "LayoutModel",
          "state": {
            "_model_module": "@jupyter-widgets/base",
            "_model_module_version": "1.2.0",
            "_model_name": "LayoutModel",
            "_view_count": null,
            "_view_module": "@jupyter-widgets/base",
            "_view_module_version": "1.2.0",
            "_view_name": "LayoutView",
            "align_content": null,
            "align_items": null,
            "align_self": null,
            "border": null,
            "bottom": null,
            "display": null,
            "flex": null,
            "flex_flow": null,
            "grid_area": null,
            "grid_auto_columns": null,
            "grid_auto_flow": null,
            "grid_auto_rows": null,
            "grid_column": null,
            "grid_gap": null,
            "grid_row": null,
            "grid_template_areas": null,
            "grid_template_columns": null,
            "grid_template_rows": null,
            "height": null,
            "justify_content": null,
            "justify_items": null,
            "left": null,
            "margin": null,
            "max_height": null,
            "max_width": null,
            "min_height": null,
            "min_width": null,
            "object_fit": null,
            "object_position": null,
            "order": null,
            "overflow": null,
            "overflow_x": null,
            "overflow_y": null,
            "padding": null,
            "right": null,
            "top": null,
            "visibility": null,
            "width": null
          }
        },
        "51cd9026b1664819a67712996ca97bd5": {
          "model_module": "@jupyter-widgets/base",
          "model_module_version": "1.2.0",
          "model_name": "LayoutModel",
          "state": {
            "_model_module": "@jupyter-widgets/base",
            "_model_module_version": "1.2.0",
            "_model_name": "LayoutModel",
            "_view_count": null,
            "_view_module": "@jupyter-widgets/base",
            "_view_module_version": "1.2.0",
            "_view_name": "LayoutView",
            "align_content": null,
            "align_items": null,
            "align_self": null,
            "border": null,
            "bottom": null,
            "display": null,
            "flex": null,
            "flex_flow": null,
            "grid_area": null,
            "grid_auto_columns": null,
            "grid_auto_flow": null,
            "grid_auto_rows": null,
            "grid_column": null,
            "grid_gap": null,
            "grid_row": null,
            "grid_template_areas": null,
            "grid_template_columns": null,
            "grid_template_rows": null,
            "height": null,
            "justify_content": null,
            "justify_items": null,
            "left": null,
            "margin": null,
            "max_height": null,
            "max_width": null,
            "min_height": null,
            "min_width": null,
            "object_fit": null,
            "object_position": null,
            "order": null,
            "overflow": null,
            "overflow_x": null,
            "overflow_y": null,
            "padding": null,
            "right": null,
            "top": null,
            "visibility": null,
            "width": null
          }
        },
        "5310346dd579424fa676b8e8e64790e7": {
          "model_module": "@jupyter-widgets/base",
          "model_module_version": "1.2.0",
          "model_name": "LayoutModel",
          "state": {
            "_model_module": "@jupyter-widgets/base",
            "_model_module_version": "1.2.0",
            "_model_name": "LayoutModel",
            "_view_count": null,
            "_view_module": "@jupyter-widgets/base",
            "_view_module_version": "1.2.0",
            "_view_name": "LayoutView",
            "align_content": null,
            "align_items": null,
            "align_self": null,
            "border": null,
            "bottom": null,
            "display": null,
            "flex": null,
            "flex_flow": null,
            "grid_area": null,
            "grid_auto_columns": null,
            "grid_auto_flow": null,
            "grid_auto_rows": null,
            "grid_column": null,
            "grid_gap": null,
            "grid_row": null,
            "grid_template_areas": null,
            "grid_template_columns": null,
            "grid_template_rows": null,
            "height": null,
            "justify_content": null,
            "justify_items": null,
            "left": null,
            "margin": null,
            "max_height": null,
            "max_width": null,
            "min_height": null,
            "min_width": null,
            "object_fit": null,
            "object_position": null,
            "order": null,
            "overflow": null,
            "overflow_x": null,
            "overflow_y": null,
            "padding": null,
            "right": null,
            "top": null,
            "visibility": null,
            "width": null
          }
        },
        "5a232ed040f94633a2a374031284c1f6": {
          "model_module": "@jupyter-widgets/base",
          "model_module_version": "1.2.0",
          "model_name": "LayoutModel",
          "state": {
            "_model_module": "@jupyter-widgets/base",
            "_model_module_version": "1.2.0",
            "_model_name": "LayoutModel",
            "_view_count": null,
            "_view_module": "@jupyter-widgets/base",
            "_view_module_version": "1.2.0",
            "_view_name": "LayoutView",
            "align_content": null,
            "align_items": null,
            "align_self": null,
            "border": null,
            "bottom": null,
            "display": null,
            "flex": null,
            "flex_flow": null,
            "grid_area": null,
            "grid_auto_columns": null,
            "grid_auto_flow": null,
            "grid_auto_rows": null,
            "grid_column": null,
            "grid_gap": null,
            "grid_row": null,
            "grid_template_areas": null,
            "grid_template_columns": null,
            "grid_template_rows": null,
            "height": null,
            "justify_content": null,
            "justify_items": null,
            "left": null,
            "margin": null,
            "max_height": null,
            "max_width": null,
            "min_height": null,
            "min_width": null,
            "object_fit": null,
            "object_position": null,
            "order": null,
            "overflow": null,
            "overflow_x": null,
            "overflow_y": null,
            "padding": null,
            "right": null,
            "top": null,
            "visibility": null,
            "width": null
          }
        },
        "5e8825fb770b41529f2129113cebc4a9": {
          "model_module": "@jupyter-widgets/controls",
          "model_module_version": "1.5.0",
          "model_name": "HBoxModel",
          "state": {
            "_dom_classes": [],
            "_model_module": "@jupyter-widgets/controls",
            "_model_module_version": "1.5.0",
            "_model_name": "HBoxModel",
            "_view_count": null,
            "_view_module": "@jupyter-widgets/controls",
            "_view_module_version": "1.5.0",
            "_view_name": "HBoxView",
            "box_style": "",
            "children": [
              "IPY_MODEL_0a9dc233674e4096b7a988a5e4ebaf84",
              "IPY_MODEL_374fa9beda4042e1bf9a9b13de6e6674",
              "IPY_MODEL_e6533d3c91fd4359bc84ffd8e59af5a3"
            ],
            "layout": "IPY_MODEL_f9b01aebcbdc48a585b7942b0ee60a2d"
          }
        },
        "5f174718e5974a7cab024d113f662513": {
          "model_module": "@jupyter-widgets/controls",
          "model_module_version": "1.5.0",
          "model_name": "DescriptionStyleModel",
          "state": {
            "_model_module": "@jupyter-widgets/controls",
            "_model_module_version": "1.5.0",
            "_model_name": "DescriptionStyleModel",
            "_view_count": null,
            "_view_module": "@jupyter-widgets/base",
            "_view_module_version": "1.2.0",
            "_view_name": "StyleView",
            "description_width": ""
          }
        },
        "620c0de28ec74f71a021a2be96dccf3a": {
          "model_module": "@jupyter-widgets/controls",
          "model_module_version": "1.5.0",
          "model_name": "DescriptionStyleModel",
          "state": {
            "_model_module": "@jupyter-widgets/controls",
            "_model_module_version": "1.5.0",
            "_model_name": "DescriptionStyleModel",
            "_view_count": null,
            "_view_module": "@jupyter-widgets/base",
            "_view_module_version": "1.2.0",
            "_view_name": "StyleView",
            "description_width": ""
          }
        },
        "634ae4c6cfe04673b1cdc9c9cac4cbf9": {
          "model_module": "@jupyter-widgets/controls",
          "model_module_version": "1.5.0",
          "model_name": "DescriptionStyleModel",
          "state": {
            "_model_module": "@jupyter-widgets/controls",
            "_model_module_version": "1.5.0",
            "_model_name": "DescriptionStyleModel",
            "_view_count": null,
            "_view_module": "@jupyter-widgets/base",
            "_view_module_version": "1.2.0",
            "_view_name": "StyleView",
            "description_width": ""
          }
        },
        "68a32b398e1c490393e01befdc260785": {
          "model_module": "@jupyter-widgets/base",
          "model_module_version": "1.2.0",
          "model_name": "LayoutModel",
          "state": {
            "_model_module": "@jupyter-widgets/base",
            "_model_module_version": "1.2.0",
            "_model_name": "LayoutModel",
            "_view_count": null,
            "_view_module": "@jupyter-widgets/base",
            "_view_module_version": "1.2.0",
            "_view_name": "LayoutView",
            "align_content": null,
            "align_items": null,
            "align_self": null,
            "border": null,
            "bottom": null,
            "display": null,
            "flex": null,
            "flex_flow": null,
            "grid_area": null,
            "grid_auto_columns": null,
            "grid_auto_flow": null,
            "grid_auto_rows": null,
            "grid_column": null,
            "grid_gap": null,
            "grid_row": null,
            "grid_template_areas": null,
            "grid_template_columns": null,
            "grid_template_rows": null,
            "height": null,
            "justify_content": null,
            "justify_items": null,
            "left": null,
            "margin": null,
            "max_height": null,
            "max_width": null,
            "min_height": null,
            "min_width": null,
            "object_fit": null,
            "object_position": null,
            "order": null,
            "overflow": null,
            "overflow_x": null,
            "overflow_y": null,
            "padding": null,
            "right": null,
            "top": null,
            "visibility": null,
            "width": null
          }
        },
        "68c686291b50430faeef0de7840e2c4b": {
          "model_module": "@jupyter-widgets/controls",
          "model_module_version": "1.5.0",
          "model_name": "HTMLModel",
          "state": {
            "_dom_classes": [],
            "_model_module": "@jupyter-widgets/controls",
            "_model_module_version": "1.5.0",
            "_model_name": "HTMLModel",
            "_view_count": null,
            "_view_module": "@jupyter-widgets/controls",
            "_view_module_version": "1.5.0",
            "_view_name": "HTMLView",
            "description": "",
            "description_tooltip": null,
            "layout": "IPY_MODEL_f4519637bb43400a80ce83505101e8a5",
            "placeholder": "​",
            "style": "IPY_MODEL_805676b197c94f5aa45956daa354640b",
            "value": "Downloading data: 100%"
          }
        },
        "68ea1d7cb8274a639b3fb5326f4218c3": {
          "model_module": "@jupyter-widgets/controls",
          "model_module_version": "1.5.0",
          "model_name": "HTMLModel",
          "state": {
            "_dom_classes": [],
            "_model_module": "@jupyter-widgets/controls",
            "_model_module_version": "1.5.0",
            "_model_name": "HTMLModel",
            "_view_count": null,
            "_view_module": "@jupyter-widgets/controls",
            "_view_module_version": "1.5.0",
            "_view_name": "HTMLView",
            "description": "",
            "description_tooltip": null,
            "layout": "IPY_MODEL_5310346dd579424fa676b8e8e64790e7",
            "placeholder": "​",
            "style": "IPY_MODEL_0c1835f404db4846bb13b5da8d8f4447",
            "value": " 9.09M/9.09M [00:00&lt;00:00, 17.1MB/s]"
          }
        },
        "6a27d9ad4f064586a87636b10455d15b": {
          "model_module": "@jupyter-widgets/base",
          "model_module_version": "1.2.0",
          "model_name": "LayoutModel",
          "state": {
            "_model_module": "@jupyter-widgets/base",
            "_model_module_version": "1.2.0",
            "_model_name": "LayoutModel",
            "_view_count": null,
            "_view_module": "@jupyter-widgets/base",
            "_view_module_version": "1.2.0",
            "_view_name": "LayoutView",
            "align_content": null,
            "align_items": null,
            "align_self": null,
            "border": null,
            "bottom": null,
            "display": null,
            "flex": null,
            "flex_flow": null,
            "grid_area": null,
            "grid_auto_columns": null,
            "grid_auto_flow": null,
            "grid_auto_rows": null,
            "grid_column": null,
            "grid_gap": null,
            "grid_row": null,
            "grid_template_areas": null,
            "grid_template_columns": null,
            "grid_template_rows": null,
            "height": null,
            "justify_content": null,
            "justify_items": null,
            "left": null,
            "margin": null,
            "max_height": null,
            "max_width": null,
            "min_height": null,
            "min_width": null,
            "object_fit": null,
            "object_position": null,
            "order": null,
            "overflow": null,
            "overflow_x": null,
            "overflow_y": null,
            "padding": null,
            "right": null,
            "top": null,
            "visibility": null,
            "width": null
          }
        },
        "6b908368de51428585552dfef6a83088": {
          "model_module": "@jupyter-widgets/controls",
          "model_module_version": "1.5.0",
          "model_name": "DescriptionStyleModel",
          "state": {
            "_model_module": "@jupyter-widgets/controls",
            "_model_module_version": "1.5.0",
            "_model_name": "DescriptionStyleModel",
            "_view_count": null,
            "_view_module": "@jupyter-widgets/base",
            "_view_module_version": "1.2.0",
            "_view_name": "StyleView",
            "description_width": ""
          }
        },
        "6e1aff64771c402ab070f650562fa4c9": {
          "model_module": "@jupyter-widgets/controls",
          "model_module_version": "1.5.0",
          "model_name": "HBoxModel",
          "state": {
            "_dom_classes": [],
            "_model_module": "@jupyter-widgets/controls",
            "_model_module_version": "1.5.0",
            "_model_name": "HBoxModel",
            "_view_count": null,
            "_view_module": "@jupyter-widgets/controls",
            "_view_module_version": "1.5.0",
            "_view_name": "HBoxView",
            "box_style": "",
            "children": [
              "IPY_MODEL_0078f897f2174217a307d95d4f9bd775",
              "IPY_MODEL_ecdeaab4f8c94d6dade63bb06857c969",
              "IPY_MODEL_735b85f0a0e9411cac4d704a504fcfc1"
            ],
            "layout": "IPY_MODEL_8e992e60416145a8b6eed744287ca0fb"
          }
        },
        "6e3c281f112b4a86af7a3ef95933d221": {
          "model_module": "@jupyter-widgets/controls",
          "model_module_version": "1.5.0",
          "model_name": "HBoxModel",
          "state": {
            "_dom_classes": [],
            "_model_module": "@jupyter-widgets/controls",
            "_model_module_version": "1.5.0",
            "_model_name": "HBoxModel",
            "_view_count": null,
            "_view_module": "@jupyter-widgets/controls",
            "_view_module_version": "1.5.0",
            "_view_name": "HBoxView",
            "box_style": "",
            "children": [
              "IPY_MODEL_92395f250a154006923aaf9ea0a9c30b",
              "IPY_MODEL_f84bfc5390054ec687c157c4d68199a6",
              "IPY_MODEL_4228734651ca45e19fc7bda79817f9b3"
            ],
            "layout": "IPY_MODEL_4613edbbec6846edb5b1677c25d542b6"
          }
        },
        "735b85f0a0e9411cac4d704a504fcfc1": {
          "model_module": "@jupyter-widgets/controls",
          "model_module_version": "1.5.0",
          "model_name": "HTMLModel",
          "state": {
            "_dom_classes": [],
            "_model_module": "@jupyter-widgets/controls",
            "_model_module_version": "1.5.0",
            "_model_name": "HTMLModel",
            "_view_count": null,
            "_view_module": "@jupyter-widgets/controls",
            "_view_module_version": "1.5.0",
            "_view_name": "HTMLView",
            "description": "",
            "description_tooltip": null,
            "layout": "IPY_MODEL_e99423a1ed3f4f72886b39368468b7c1",
            "placeholder": "​",
            "style": "IPY_MODEL_5f174718e5974a7cab024d113f662513",
            "value": " 51760/51760 [00:00&lt;00:00, 52999.05 examples/s]"
          }
        },
        "75082ba15db445df907f5612976590ae": {
          "model_module": "@jupyter-widgets/controls",
          "model_module_version": "1.5.0",
          "model_name": "ProgressStyleModel",
          "state": {
            "_model_module": "@jupyter-widgets/controls",
            "_model_module_version": "1.5.0",
            "_model_name": "ProgressStyleModel",
            "_view_count": null,
            "_view_module": "@jupyter-widgets/base",
            "_view_module_version": "1.2.0",
            "_view_name": "StyleView",
            "bar_color": null,
            "description_width": ""
          }
        },
        "76e5410e286a4a5abd6c213a38aa38bb": {
          "model_module": "@jupyter-widgets/base",
          "model_module_version": "1.2.0",
          "model_name": "LayoutModel",
          "state": {
            "_model_module": "@jupyter-widgets/base",
            "_model_module_version": "1.2.0",
            "_model_name": "LayoutModel",
            "_view_count": null,
            "_view_module": "@jupyter-widgets/base",
            "_view_module_version": "1.2.0",
            "_view_name": "LayoutView",
            "align_content": null,
            "align_items": null,
            "align_self": null,
            "border": null,
            "bottom": null,
            "display": null,
            "flex": null,
            "flex_flow": null,
            "grid_area": null,
            "grid_auto_columns": null,
            "grid_auto_flow": null,
            "grid_auto_rows": null,
            "grid_column": null,
            "grid_gap": null,
            "grid_row": null,
            "grid_template_areas": null,
            "grid_template_columns": null,
            "grid_template_rows": null,
            "height": null,
            "justify_content": null,
            "justify_items": null,
            "left": null,
            "margin": null,
            "max_height": null,
            "max_width": null,
            "min_height": null,
            "min_width": null,
            "object_fit": null,
            "object_position": null,
            "order": null,
            "overflow": null,
            "overflow_x": null,
            "overflow_y": null,
            "padding": null,
            "right": null,
            "top": null,
            "visibility": null,
            "width": null
          }
        },
        "77f4367616964a01a8c42416f5f4c147": {
          "model_module": "@jupyter-widgets/controls",
          "model_module_version": "1.5.0",
          "model_name": "DescriptionStyleModel",
          "state": {
            "_model_module": "@jupyter-widgets/controls",
            "_model_module_version": "1.5.0",
            "_model_name": "DescriptionStyleModel",
            "_view_count": null,
            "_view_module": "@jupyter-widgets/base",
            "_view_module_version": "1.2.0",
            "_view_name": "StyleView",
            "description_width": ""
          }
        },
        "7981edf408d54d41bbeac42da7492c6b": {
          "model_module": "@jupyter-widgets/controls",
          "model_module_version": "1.5.0",
          "model_name": "HTMLModel",
          "state": {
            "_dom_classes": [],
            "_model_module": "@jupyter-widgets/controls",
            "_model_module_version": "1.5.0",
            "_model_name": "HTMLModel",
            "_view_count": null,
            "_view_module": "@jupyter-widgets/controls",
            "_view_module_version": "1.5.0",
            "_view_name": "HTMLView",
            "description": "",
            "description_tooltip": null,
            "layout": "IPY_MODEL_76e5410e286a4a5abd6c213a38aa38bb",
            "placeholder": "​",
            "style": "IPY_MODEL_ae7e90a811f94e75997d6a9ed1be8596",
            "value": "generation_config.json: 100%"
          }
        },
        "7a935956348e47c68fbdf05ddf4752f3": {
          "model_module": "@jupyter-widgets/controls",
          "model_module_version": "1.5.0",
          "model_name": "ProgressStyleModel",
          "state": {
            "_model_module": "@jupyter-widgets/controls",
            "_model_module_version": "1.5.0",
            "_model_name": "ProgressStyleModel",
            "_view_count": null,
            "_view_module": "@jupyter-widgets/base",
            "_view_module_version": "1.2.0",
            "_view_name": "StyleView",
            "bar_color": null,
            "description_width": ""
          }
        },
        "805676b197c94f5aa45956daa354640b": {
          "model_module": "@jupyter-widgets/controls",
          "model_module_version": "1.5.0",
          "model_name": "DescriptionStyleModel",
          "state": {
            "_model_module": "@jupyter-widgets/controls",
            "_model_module_version": "1.5.0",
            "_model_name": "DescriptionStyleModel",
            "_view_count": null,
            "_view_module": "@jupyter-widgets/base",
            "_view_module_version": "1.2.0",
            "_view_name": "StyleView",
            "description_width": ""
          }
        },
        "80a72037771e4da9be989eefabbc8e76": {
          "model_module": "@jupyter-widgets/controls",
          "model_module_version": "1.5.0",
          "model_name": "HTMLModel",
          "state": {
            "_dom_classes": [],
            "_model_module": "@jupyter-widgets/controls",
            "_model_module_version": "1.5.0",
            "_model_name": "HTMLModel",
            "_view_count": null,
            "_view_module": "@jupyter-widgets/controls",
            "_view_module_version": "1.5.0",
            "_view_name": "HTMLView",
            "description": "",
            "description_tooltip": null,
            "layout": "IPY_MODEL_c97c40c2bf2a41a8ae1c75e0a9c8ebff",
            "placeholder": "​",
            "style": "IPY_MODEL_484e507f14424f2b9173595b985f4101",
            "value": "Generating train split: 100%"
          }
        },
        "843a27e619534ea8914f9d36386c364b": {
          "model_module": "@jupyter-widgets/controls",
          "model_module_version": "1.5.0",
          "model_name": "HTMLModel",
          "state": {
            "_dom_classes": [],
            "_model_module": "@jupyter-widgets/controls",
            "_model_module_version": "1.5.0",
            "_model_name": "HTMLModel",
            "_view_count": null,
            "_view_module": "@jupyter-widgets/controls",
            "_view_module_version": "1.5.0",
            "_view_name": "HTMLView",
            "description": "",
            "description_tooltip": null,
            "layout": "IPY_MODEL_2006be31c09349738e221295bb84939f",
            "placeholder": "​",
            "style": "IPY_MODEL_07055fc12b0841aaa5317f8252b5d347",
            "value": "tokenizer_config.json: 100%"
          }
        },
        "85cc6f24cba54563acb5598f54fed7b9": {
          "model_module": "@jupyter-widgets/controls",
          "model_module_version": "1.5.0",
          "model_name": "HBoxModel",
          "state": {
            "_dom_classes": [],
            "_model_module": "@jupyter-widgets/controls",
            "_model_module_version": "1.5.0",
            "_model_name": "HBoxModel",
            "_view_count": null,
            "_view_module": "@jupyter-widgets/controls",
            "_view_module_version": "1.5.0",
            "_view_name": "HBoxView",
            "box_style": "",
            "children": [
              "IPY_MODEL_80a72037771e4da9be989eefabbc8e76",
              "IPY_MODEL_ba68b274c50b44ec9e02642378d271a6",
              "IPY_MODEL_f84d2fe4f1c24a34948755abf1f32b7f"
            ],
            "layout": "IPY_MODEL_86511967834f4484a5ec4af387b7d7a9"
          }
        },
        "86511967834f4484a5ec4af387b7d7a9": {
          "model_module": "@jupyter-widgets/base",
          "model_module_version": "1.2.0",
          "model_name": "LayoutModel",
          "state": {
            "_model_module": "@jupyter-widgets/base",
            "_model_module_version": "1.2.0",
            "_model_name": "LayoutModel",
            "_view_count": null,
            "_view_module": "@jupyter-widgets/base",
            "_view_module_version": "1.2.0",
            "_view_name": "LayoutView",
            "align_content": null,
            "align_items": null,
            "align_self": null,
            "border": null,
            "bottom": null,
            "display": null,
            "flex": null,
            "flex_flow": null,
            "grid_area": null,
            "grid_auto_columns": null,
            "grid_auto_flow": null,
            "grid_auto_rows": null,
            "grid_column": null,
            "grid_gap": null,
            "grid_row": null,
            "grid_template_areas": null,
            "grid_template_columns": null,
            "grid_template_rows": null,
            "height": null,
            "justify_content": null,
            "justify_items": null,
            "left": null,
            "margin": null,
            "max_height": null,
            "max_width": null,
            "min_height": null,
            "min_width": null,
            "object_fit": null,
            "object_position": null,
            "order": null,
            "overflow": null,
            "overflow_x": null,
            "overflow_y": null,
            "padding": null,
            "right": null,
            "top": null,
            "visibility": null,
            "width": null
          }
        },
        "8653acb618ad4e76bbf1daa00ea71238": {
          "model_module": "@jupyter-widgets/base",
          "model_module_version": "1.2.0",
          "model_name": "LayoutModel",
          "state": {
            "_model_module": "@jupyter-widgets/base",
            "_model_module_version": "1.2.0",
            "_model_name": "LayoutModel",
            "_view_count": null,
            "_view_module": "@jupyter-widgets/base",
            "_view_module_version": "1.2.0",
            "_view_name": "LayoutView",
            "align_content": null,
            "align_items": null,
            "align_self": null,
            "border": null,
            "bottom": null,
            "display": null,
            "flex": null,
            "flex_flow": null,
            "grid_area": null,
            "grid_auto_columns": null,
            "grid_auto_flow": null,
            "grid_auto_rows": null,
            "grid_column": null,
            "grid_gap": null,
            "grid_row": null,
            "grid_template_areas": null,
            "grid_template_columns": null,
            "grid_template_rows": null,
            "height": null,
            "justify_content": null,
            "justify_items": null,
            "left": null,
            "margin": null,
            "max_height": null,
            "max_width": null,
            "min_height": null,
            "min_width": null,
            "object_fit": null,
            "object_position": null,
            "order": null,
            "overflow": null,
            "overflow_x": null,
            "overflow_y": null,
            "padding": null,
            "right": null,
            "top": null,
            "visibility": null,
            "width": null
          }
        },
        "88fcd51819b5483c9ab22df7ef89ab64": {
          "model_module": "@jupyter-widgets/base",
          "model_module_version": "1.2.0",
          "model_name": "LayoutModel",
          "state": {
            "_model_module": "@jupyter-widgets/base",
            "_model_module_version": "1.2.0",
            "_model_name": "LayoutModel",
            "_view_count": null,
            "_view_module": "@jupyter-widgets/base",
            "_view_module_version": "1.2.0",
            "_view_name": "LayoutView",
            "align_content": null,
            "align_items": null,
            "align_self": null,
            "border": null,
            "bottom": null,
            "display": null,
            "flex": null,
            "flex_flow": null,
            "grid_area": null,
            "grid_auto_columns": null,
            "grid_auto_flow": null,
            "grid_auto_rows": null,
            "grid_column": null,
            "grid_gap": null,
            "grid_row": null,
            "grid_template_areas": null,
            "grid_template_columns": null,
            "grid_template_rows": null,
            "height": null,
            "justify_content": null,
            "justify_items": null,
            "left": null,
            "margin": null,
            "max_height": null,
            "max_width": null,
            "min_height": null,
            "min_width": null,
            "object_fit": null,
            "object_position": null,
            "order": null,
            "overflow": null,
            "overflow_x": null,
            "overflow_y": null,
            "padding": null,
            "right": null,
            "top": null,
            "visibility": null,
            "width": null
          }
        },
        "89934c4f26834f15b9889ec36fee3b65": {
          "model_module": "@jupyter-widgets/base",
          "model_module_version": "1.2.0",
          "model_name": "LayoutModel",
          "state": {
            "_model_module": "@jupyter-widgets/base",
            "_model_module_version": "1.2.0",
            "_model_name": "LayoutModel",
            "_view_count": null,
            "_view_module": "@jupyter-widgets/base",
            "_view_module_version": "1.2.0",
            "_view_name": "LayoutView",
            "align_content": null,
            "align_items": null,
            "align_self": null,
            "border": null,
            "bottom": null,
            "display": null,
            "flex": null,
            "flex_flow": null,
            "grid_area": null,
            "grid_auto_columns": null,
            "grid_auto_flow": null,
            "grid_auto_rows": null,
            "grid_column": null,
            "grid_gap": null,
            "grid_row": null,
            "grid_template_areas": null,
            "grid_template_columns": null,
            "grid_template_rows": null,
            "height": null,
            "justify_content": null,
            "justify_items": null,
            "left": null,
            "margin": null,
            "max_height": null,
            "max_width": null,
            "min_height": null,
            "min_width": null,
            "object_fit": null,
            "object_position": null,
            "order": null,
            "overflow": null,
            "overflow_x": null,
            "overflow_y": null,
            "padding": null,
            "right": null,
            "top": null,
            "visibility": null,
            "width": null
          }
        },
        "8c195b5809604905b5e404baa30e8449": {
          "model_module": "@jupyter-widgets/base",
          "model_module_version": "1.2.0",
          "model_name": "LayoutModel",
          "state": {
            "_model_module": "@jupyter-widgets/base",
            "_model_module_version": "1.2.0",
            "_model_name": "LayoutModel",
            "_view_count": null,
            "_view_module": "@jupyter-widgets/base",
            "_view_module_version": "1.2.0",
            "_view_name": "LayoutView",
            "align_content": null,
            "align_items": null,
            "align_self": null,
            "border": null,
            "bottom": null,
            "display": null,
            "flex": null,
            "flex_flow": null,
            "grid_area": null,
            "grid_auto_columns": null,
            "grid_auto_flow": null,
            "grid_auto_rows": null,
            "grid_column": null,
            "grid_gap": null,
            "grid_row": null,
            "grid_template_areas": null,
            "grid_template_columns": null,
            "grid_template_rows": null,
            "height": null,
            "justify_content": null,
            "justify_items": null,
            "left": null,
            "margin": null,
            "max_height": null,
            "max_width": null,
            "min_height": null,
            "min_width": null,
            "object_fit": null,
            "object_position": null,
            "order": null,
            "overflow": null,
            "overflow_x": null,
            "overflow_y": null,
            "padding": null,
            "right": null,
            "top": null,
            "visibility": null,
            "width": null
          }
        },
        "8e992e60416145a8b6eed744287ca0fb": {
          "model_module": "@jupyter-widgets/base",
          "model_module_version": "1.2.0",
          "model_name": "LayoutModel",
          "state": {
            "_model_module": "@jupyter-widgets/base",
            "_model_module_version": "1.2.0",
            "_model_name": "LayoutModel",
            "_view_count": null,
            "_view_module": "@jupyter-widgets/base",
            "_view_module_version": "1.2.0",
            "_view_name": "LayoutView",
            "align_content": null,
            "align_items": null,
            "align_self": null,
            "border": null,
            "bottom": null,
            "display": null,
            "flex": null,
            "flex_flow": null,
            "grid_area": null,
            "grid_auto_columns": null,
            "grid_auto_flow": null,
            "grid_auto_rows": null,
            "grid_column": null,
            "grid_gap": null,
            "grid_row": null,
            "grid_template_areas": null,
            "grid_template_columns": null,
            "grid_template_rows": null,
            "height": null,
            "justify_content": null,
            "justify_items": null,
            "left": null,
            "margin": null,
            "max_height": null,
            "max_width": null,
            "min_height": null,
            "min_width": null,
            "object_fit": null,
            "object_position": null,
            "order": null,
            "overflow": null,
            "overflow_x": null,
            "overflow_y": null,
            "padding": null,
            "right": null,
            "top": null,
            "visibility": null,
            "width": null
          }
        },
        "8ea52b105a7e44978caca33c0e7e815b": {
          "model_module": "@jupyter-widgets/base",
          "model_module_version": "1.2.0",
          "model_name": "LayoutModel",
          "state": {
            "_model_module": "@jupyter-widgets/base",
            "_model_module_version": "1.2.0",
            "_model_name": "LayoutModel",
            "_view_count": null,
            "_view_module": "@jupyter-widgets/base",
            "_view_module_version": "1.2.0",
            "_view_name": "LayoutView",
            "align_content": null,
            "align_items": null,
            "align_self": null,
            "border": null,
            "bottom": null,
            "display": null,
            "flex": null,
            "flex_flow": null,
            "grid_area": null,
            "grid_auto_columns": null,
            "grid_auto_flow": null,
            "grid_auto_rows": null,
            "grid_column": null,
            "grid_gap": null,
            "grid_row": null,
            "grid_template_areas": null,
            "grid_template_columns": null,
            "grid_template_rows": null,
            "height": null,
            "justify_content": null,
            "justify_items": null,
            "left": null,
            "margin": null,
            "max_height": null,
            "max_width": null,
            "min_height": null,
            "min_width": null,
            "object_fit": null,
            "object_position": null,
            "order": null,
            "overflow": null,
            "overflow_x": null,
            "overflow_y": null,
            "padding": null,
            "right": null,
            "top": null,
            "visibility": null,
            "width": null
          }
        },
        "8f5adc70fbf248f2811527f620553be5": {
          "model_module": "@jupyter-widgets/controls",
          "model_module_version": "1.5.0",
          "model_name": "FloatProgressModel",
          "state": {
            "_dom_classes": [],
            "_model_module": "@jupyter-widgets/controls",
            "_model_module_version": "1.5.0",
            "_model_name": "FloatProgressModel",
            "_view_count": null,
            "_view_module": "@jupyter-widgets/controls",
            "_view_module_version": "1.5.0",
            "_view_name": "ProgressView",
            "bar_style": "success",
            "description": "",
            "description_tooltip": null,
            "layout": "IPY_MODEL_1eb90e686e214122ae763b1b79ae321d",
            "max": 50570,
            "min": 0,
            "orientation": "horizontal",
            "style": "IPY_MODEL_7a935956348e47c68fbdf05ddf4752f3",
            "value": 50570
          }
        },
        "92395f250a154006923aaf9ea0a9c30b": {
          "model_module": "@jupyter-widgets/controls",
          "model_module_version": "1.5.0",
          "model_name": "HTMLModel",
          "state": {
            "_dom_classes": [],
            "_model_module": "@jupyter-widgets/controls",
            "_model_module_version": "1.5.0",
            "_model_name": "HTMLModel",
            "_view_count": null,
            "_view_module": "@jupyter-widgets/controls",
            "_view_module_version": "1.5.0",
            "_view_name": "HTMLView",
            "description": "",
            "description_tooltip": null,
            "layout": "IPY_MODEL_d032fe2ba5d647d99026fdade758c0cd",
            "placeholder": "​",
            "style": "IPY_MODEL_e9971d220fe24552a1e9aa299765cfb9",
            "value": "model.safetensors: 100%"
          }
        },
        "94730f13e92a4c9aac35c2cfb21fc48c": {
          "model_module": "@jupyter-widgets/base",
          "model_module_version": "1.2.0",
          "model_name": "LayoutModel",
          "state": {
            "_model_module": "@jupyter-widgets/base",
            "_model_module_version": "1.2.0",
            "_model_name": "LayoutModel",
            "_view_count": null,
            "_view_module": "@jupyter-widgets/base",
            "_view_module_version": "1.2.0",
            "_view_name": "LayoutView",
            "align_content": null,
            "align_items": null,
            "align_self": null,
            "border": null,
            "bottom": null,
            "display": null,
            "flex": null,
            "flex_flow": null,
            "grid_area": null,
            "grid_auto_columns": null,
            "grid_auto_flow": null,
            "grid_auto_rows": null,
            "grid_column": null,
            "grid_gap": null,
            "grid_row": null,
            "grid_template_areas": null,
            "grid_template_columns": null,
            "grid_template_rows": null,
            "height": null,
            "justify_content": null,
            "justify_items": null,
            "left": null,
            "margin": null,
            "max_height": null,
            "max_width": null,
            "min_height": null,
            "min_width": null,
            "object_fit": null,
            "object_position": null,
            "order": null,
            "overflow": null,
            "overflow_x": null,
            "overflow_y": null,
            "padding": null,
            "right": null,
            "top": null,
            "visibility": null,
            "width": null
          }
        },
        "94cbb87829d1486899e2ff6325c2ecdf": {
          "model_module": "@jupyter-widgets/controls",
          "model_module_version": "1.5.0",
          "model_name": "ProgressStyleModel",
          "state": {
            "_model_module": "@jupyter-widgets/controls",
            "_model_module_version": "1.5.0",
            "_model_name": "ProgressStyleModel",
            "_view_count": null,
            "_view_module": "@jupyter-widgets/base",
            "_view_module_version": "1.2.0",
            "_view_name": "StyleView",
            "bar_color": null,
            "description_width": ""
          }
        },
        "953625aa1e824f8a8d203197b316b302": {
          "model_module": "@jupyter-widgets/controls",
          "model_module_version": "1.5.0",
          "model_name": "FloatProgressModel",
          "state": {
            "_dom_classes": [],
            "_model_module": "@jupyter-widgets/controls",
            "_model_module_version": "1.5.0",
            "_model_name": "FloatProgressModel",
            "_view_count": null,
            "_view_module": "@jupyter-widgets/controls",
            "_view_module_version": "1.5.0",
            "_view_name": "ProgressView",
            "bar_style": "success",
            "description": "",
            "description_tooltip": null,
            "layout": "IPY_MODEL_ce9fcc5eff1f460d80b703a4ca32dad1",
            "max": 44307561,
            "min": 0,
            "orientation": "horizontal",
            "style": "IPY_MODEL_3fef797403d14440afe599a3bf06b626",
            "value": 44307561
          }
        },
        "9695a640b0ff4e91af495bb59548e4b6": {
          "model_module": "@jupyter-widgets/base",
          "model_module_version": "1.2.0",
          "model_name": "LayoutModel",
          "state": {
            "_model_module": "@jupyter-widgets/base",
            "_model_module_version": "1.2.0",
            "_model_name": "LayoutModel",
            "_view_count": null,
            "_view_module": "@jupyter-widgets/base",
            "_view_module_version": "1.2.0",
            "_view_name": "LayoutView",
            "align_content": null,
            "align_items": null,
            "align_self": null,
            "border": null,
            "bottom": null,
            "display": null,
            "flex": null,
            "flex_flow": null,
            "grid_area": null,
            "grid_auto_columns": null,
            "grid_auto_flow": null,
            "grid_auto_rows": null,
            "grid_column": null,
            "grid_gap": null,
            "grid_row": null,
            "grid_template_areas": null,
            "grid_template_columns": null,
            "grid_template_rows": null,
            "height": null,
            "justify_content": null,
            "justify_items": null,
            "left": null,
            "margin": null,
            "max_height": null,
            "max_width": null,
            "min_height": null,
            "min_width": null,
            "object_fit": null,
            "object_position": null,
            "order": null,
            "overflow": null,
            "overflow_x": null,
            "overflow_y": null,
            "padding": null,
            "right": null,
            "top": null,
            "visibility": null,
            "width": null
          }
        },
        "98a6716e7438429ea322adb3e3264f91": {
          "model_module": "@jupyter-widgets/controls",
          "model_module_version": "1.5.0",
          "model_name": "HBoxModel",
          "state": {
            "_dom_classes": [],
            "_model_module": "@jupyter-widgets/controls",
            "_model_module_version": "1.5.0",
            "_model_name": "HBoxModel",
            "_view_count": null,
            "_view_module": "@jupyter-widgets/controls",
            "_view_module_version": "1.5.0",
            "_view_name": "HBoxView",
            "box_style": "",
            "children": [
              "IPY_MODEL_68c686291b50430faeef0de7840e2c4b",
              "IPY_MODEL_953625aa1e824f8a8d203197b316b302",
              "IPY_MODEL_f899a815142542219bde22ff792fb60c"
            ],
            "layout": "IPY_MODEL_51ca174d26e94b5cb1e895aa3c770655"
          }
        },
        "9be9074028da42d39d044a78393a861f": {
          "model_module": "@jupyter-widgets/controls",
          "model_module_version": "1.5.0",
          "model_name": "DescriptionStyleModel",
          "state": {
            "_model_module": "@jupyter-widgets/controls",
            "_model_module_version": "1.5.0",
            "_model_name": "DescriptionStyleModel",
            "_view_count": null,
            "_view_module": "@jupyter-widgets/base",
            "_view_module_version": "1.2.0",
            "_view_name": "StyleView",
            "description_width": ""
          }
        },
        "9d45b9a5de3e4cba9ac35ad2cb187f51": {
          "model_module": "@jupyter-widgets/controls",
          "model_module_version": "1.5.0",
          "model_name": "ProgressStyleModel",
          "state": {
            "_model_module": "@jupyter-widgets/controls",
            "_model_module_version": "1.5.0",
            "_model_name": "ProgressStyleModel",
            "_view_count": null,
            "_view_module": "@jupyter-widgets/base",
            "_view_module_version": "1.2.0",
            "_view_name": "StyleView",
            "bar_color": null,
            "description_width": ""
          }
        },
        "a14bc1c2130842568a5fde6698731e5f": {
          "model_module": "@jupyter-widgets/controls",
          "model_module_version": "1.5.0",
          "model_name": "DescriptionStyleModel",
          "state": {
            "_model_module": "@jupyter-widgets/controls",
            "_model_module_version": "1.5.0",
            "_model_name": "DescriptionStyleModel",
            "_view_count": null,
            "_view_module": "@jupyter-widgets/base",
            "_view_module_version": "1.2.0",
            "_view_name": "StyleView",
            "description_width": ""
          }
        },
        "a3a3ef6d6337403cabea8b23f7c3021b": {
          "model_module": "@jupyter-widgets/controls",
          "model_module_version": "1.5.0",
          "model_name": "HTMLModel",
          "state": {
            "_dom_classes": [],
            "_model_module": "@jupyter-widgets/controls",
            "_model_module_version": "1.5.0",
            "_model_name": "HTMLModel",
            "_view_count": null,
            "_view_module": "@jupyter-widgets/controls",
            "_view_module_version": "1.5.0",
            "_view_name": "HTMLView",
            "description": "",
            "description_tooltip": null,
            "layout": "IPY_MODEL_d125995cc0934239a01ba01b78529f21",
            "placeholder": "​",
            "style": "IPY_MODEL_634ae4c6cfe04673b1cdc9c9cac4cbf9",
            "value": "tokenizer.json: 100%"
          }
        },
        "ac5eacaaee8346c080e54ea7a52648a4": {
          "model_module": "@jupyter-widgets/controls",
          "model_module_version": "1.5.0",
          "model_name": "HBoxModel",
          "state": {
            "_dom_classes": [],
            "_model_module": "@jupyter-widgets/controls",
            "_model_module_version": "1.5.0",
            "_model_name": "HBoxModel",
            "_view_count": null,
            "_view_module": "@jupyter-widgets/controls",
            "_view_module_version": "1.5.0",
            "_view_name": "HBoxView",
            "box_style": "",
            "children": [
              "IPY_MODEL_7981edf408d54d41bbeac42da7492c6b",
              "IPY_MODEL_2b848e5a85bc42bc87945fd9ed5db038",
              "IPY_MODEL_e88c33f37d6849e0b1a6b41254104cb9"
            ],
            "layout": "IPY_MODEL_33843107b93647b28985bfc37ea781ca"
          }
        },
        "ae7e90a811f94e75997d6a9ed1be8596": {
          "model_module": "@jupyter-widgets/controls",
          "model_module_version": "1.5.0",
          "model_name": "DescriptionStyleModel",
          "state": {
            "_model_module": "@jupyter-widgets/controls",
            "_model_module_version": "1.5.0",
            "_model_name": "DescriptionStyleModel",
            "_view_count": null,
            "_view_module": "@jupyter-widgets/base",
            "_view_module_version": "1.2.0",
            "_view_name": "StyleView",
            "description_width": ""
          }
        },
        "ba68b274c50b44ec9e02642378d271a6": {
          "model_module": "@jupyter-widgets/controls",
          "model_module_version": "1.5.0",
          "model_name": "FloatProgressModel",
          "state": {
            "_dom_classes": [],
            "_model_module": "@jupyter-widgets/controls",
            "_model_module_version": "1.5.0",
            "_model_name": "FloatProgressModel",
            "_view_count": null,
            "_view_module": "@jupyter-widgets/controls",
            "_view_module_version": "1.5.0",
            "_view_name": "ProgressView",
            "bar_style": "success",
            "description": "",
            "description_tooltip": null,
            "layout": "IPY_MODEL_68a32b398e1c490393e01befdc260785",
            "max": 51760,
            "min": 0,
            "orientation": "horizontal",
            "style": "IPY_MODEL_04cc963133d242779572d2e847fa3d65",
            "value": 51760
          }
        },
        "bb9f3379310d4b04be694996f3137b28": {
          "model_module": "@jupyter-widgets/base",
          "model_module_version": "1.2.0",
          "model_name": "LayoutModel",
          "state": {
            "_model_module": "@jupyter-widgets/base",
            "_model_module_version": "1.2.0",
            "_model_name": "LayoutModel",
            "_view_count": null,
            "_view_module": "@jupyter-widgets/base",
            "_view_module_version": "1.2.0",
            "_view_name": "LayoutView",
            "align_content": null,
            "align_items": null,
            "align_self": null,
            "border": null,
            "bottom": null,
            "display": null,
            "flex": null,
            "flex_flow": null,
            "grid_area": null,
            "grid_auto_columns": null,
            "grid_auto_flow": null,
            "grid_auto_rows": null,
            "grid_column": null,
            "grid_gap": null,
            "grid_row": null,
            "grid_template_areas": null,
            "grid_template_columns": null,
            "grid_template_rows": null,
            "height": null,
            "justify_content": null,
            "justify_items": null,
            "left": null,
            "margin": null,
            "max_height": null,
            "max_width": null,
            "min_height": null,
            "min_width": null,
            "object_fit": null,
            "object_position": null,
            "order": null,
            "overflow": null,
            "overflow_x": null,
            "overflow_y": null,
            "padding": null,
            "right": null,
            "top": null,
            "visibility": null,
            "width": null
          }
        },
        "c2ea0a3f01f34ffa8c94ab9b5098e9da": {
          "model_module": "@jupyter-widgets/controls",
          "model_module_version": "1.5.0",
          "model_name": "FloatProgressModel",
          "state": {
            "_dom_classes": [],
            "_model_module": "@jupyter-widgets/controls",
            "_model_module_version": "1.5.0",
            "_model_name": "FloatProgressModel",
            "_view_count": null,
            "_view_module": "@jupyter-widgets/controls",
            "_view_module_version": "1.5.0",
            "_view_name": "ProgressView",
            "bar_style": "success",
            "description": "",
            "description_tooltip": null,
            "layout": "IPY_MODEL_d7f92e8332374313bee87ccd427446a4",
            "max": 9085657,
            "min": 0,
            "orientation": "horizontal",
            "style": "IPY_MODEL_36799fbcd90d43128620ff98225a825d",
            "value": 9085657
          }
        },
        "c97c40c2bf2a41a8ae1c75e0a9c8ebff": {
          "model_module": "@jupyter-widgets/base",
          "model_module_version": "1.2.0",
          "model_name": "LayoutModel",
          "state": {
            "_model_module": "@jupyter-widgets/base",
            "_model_module_version": "1.2.0",
            "_model_name": "LayoutModel",
            "_view_count": null,
            "_view_module": "@jupyter-widgets/base",
            "_view_module_version": "1.2.0",
            "_view_name": "LayoutView",
            "align_content": null,
            "align_items": null,
            "align_self": null,
            "border": null,
            "bottom": null,
            "display": null,
            "flex": null,
            "flex_flow": null,
            "grid_area": null,
            "grid_auto_columns": null,
            "grid_auto_flow": null,
            "grid_auto_rows": null,
            "grid_column": null,
            "grid_gap": null,
            "grid_row": null,
            "grid_template_areas": null,
            "grid_template_columns": null,
            "grid_template_rows": null,
            "height": null,
            "justify_content": null,
            "justify_items": null,
            "left": null,
            "margin": null,
            "max_height": null,
            "max_width": null,
            "min_height": null,
            "min_width": null,
            "object_fit": null,
            "object_position": null,
            "order": null,
            "overflow": null,
            "overflow_x": null,
            "overflow_y": null,
            "padding": null,
            "right": null,
            "top": null,
            "visibility": null,
            "width": null
          }
        },
        "ce9fcc5eff1f460d80b703a4ca32dad1": {
          "model_module": "@jupyter-widgets/base",
          "model_module_version": "1.2.0",
          "model_name": "LayoutModel",
          "state": {
            "_model_module": "@jupyter-widgets/base",
            "_model_module_version": "1.2.0",
            "_model_name": "LayoutModel",
            "_view_count": null,
            "_view_module": "@jupyter-widgets/base",
            "_view_module_version": "1.2.0",
            "_view_name": "LayoutView",
            "align_content": null,
            "align_items": null,
            "align_self": null,
            "border": null,
            "bottom": null,
            "display": null,
            "flex": null,
            "flex_flow": null,
            "grid_area": null,
            "grid_auto_columns": null,
            "grid_auto_flow": null,
            "grid_auto_rows": null,
            "grid_column": null,
            "grid_gap": null,
            "grid_row": null,
            "grid_template_areas": null,
            "grid_template_columns": null,
            "grid_template_rows": null,
            "height": null,
            "justify_content": null,
            "justify_items": null,
            "left": null,
            "margin": null,
            "max_height": null,
            "max_width": null,
            "min_height": null,
            "min_width": null,
            "object_fit": null,
            "object_position": null,
            "order": null,
            "overflow": null,
            "overflow_x": null,
            "overflow_y": null,
            "padding": null,
            "right": null,
            "top": null,
            "visibility": null,
            "width": null
          }
        },
        "d032fe2ba5d647d99026fdade758c0cd": {
          "model_module": "@jupyter-widgets/base",
          "model_module_version": "1.2.0",
          "model_name": "LayoutModel",
          "state": {
            "_model_module": "@jupyter-widgets/base",
            "_model_module_version": "1.2.0",
            "_model_name": "LayoutModel",
            "_view_count": null,
            "_view_module": "@jupyter-widgets/base",
            "_view_module_version": "1.2.0",
            "_view_name": "LayoutView",
            "align_content": null,
            "align_items": null,
            "align_self": null,
            "border": null,
            "bottom": null,
            "display": null,
            "flex": null,
            "flex_flow": null,
            "grid_area": null,
            "grid_auto_columns": null,
            "grid_auto_flow": null,
            "grid_auto_rows": null,
            "grid_column": null,
            "grid_gap": null,
            "grid_row": null,
            "grid_template_areas": null,
            "grid_template_columns": null,
            "grid_template_rows": null,
            "height": null,
            "justify_content": null,
            "justify_items": null,
            "left": null,
            "margin": null,
            "max_height": null,
            "max_width": null,
            "min_height": null,
            "min_width": null,
            "object_fit": null,
            "object_position": null,
            "order": null,
            "overflow": null,
            "overflow_x": null,
            "overflow_y": null,
            "padding": null,
            "right": null,
            "top": null,
            "visibility": null,
            "width": null
          }
        },
        "d125995cc0934239a01ba01b78529f21": {
          "model_module": "@jupyter-widgets/base",
          "model_module_version": "1.2.0",
          "model_name": "LayoutModel",
          "state": {
            "_model_module": "@jupyter-widgets/base",
            "_model_module_version": "1.2.0",
            "_model_name": "LayoutModel",
            "_view_count": null,
            "_view_module": "@jupyter-widgets/base",
            "_view_module_version": "1.2.0",
            "_view_name": "LayoutView",
            "align_content": null,
            "align_items": null,
            "align_self": null,
            "border": null,
            "bottom": null,
            "display": null,
            "flex": null,
            "flex_flow": null,
            "grid_area": null,
            "grid_auto_columns": null,
            "grid_auto_flow": null,
            "grid_auto_rows": null,
            "grid_column": null,
            "grid_gap": null,
            "grid_row": null,
            "grid_template_areas": null,
            "grid_template_columns": null,
            "grid_template_rows": null,
            "height": null,
            "justify_content": null,
            "justify_items": null,
            "left": null,
            "margin": null,
            "max_height": null,
            "max_width": null,
            "min_height": null,
            "min_width": null,
            "object_fit": null,
            "object_position": null,
            "order": null,
            "overflow": null,
            "overflow_x": null,
            "overflow_y": null,
            "padding": null,
            "right": null,
            "top": null,
            "visibility": null,
            "width": null
          }
        },
        "d4b3770433bc41818372b7aed243fb31": {
          "model_module": "@jupyter-widgets/base",
          "model_module_version": "1.2.0",
          "model_name": "LayoutModel",
          "state": {
            "_model_module": "@jupyter-widgets/base",
            "_model_module_version": "1.2.0",
            "_model_name": "LayoutModel",
            "_view_count": null,
            "_view_module": "@jupyter-widgets/base",
            "_view_module_version": "1.2.0",
            "_view_name": "LayoutView",
            "align_content": null,
            "align_items": null,
            "align_self": null,
            "border": null,
            "bottom": null,
            "display": null,
            "flex": null,
            "flex_flow": null,
            "grid_area": null,
            "grid_auto_columns": null,
            "grid_auto_flow": null,
            "grid_auto_rows": null,
            "grid_column": null,
            "grid_gap": null,
            "grid_row": null,
            "grid_template_areas": null,
            "grid_template_columns": null,
            "grid_template_rows": null,
            "height": null,
            "justify_content": null,
            "justify_items": null,
            "left": null,
            "margin": null,
            "max_height": null,
            "max_width": null,
            "min_height": null,
            "min_width": null,
            "object_fit": null,
            "object_position": null,
            "order": null,
            "overflow": null,
            "overflow_x": null,
            "overflow_y": null,
            "padding": null,
            "right": null,
            "top": null,
            "visibility": null,
            "width": null
          }
        },
        "d4bd5559d4134d64a943d57972c6ef39": {
          "model_module": "@jupyter-widgets/controls",
          "model_module_version": "1.5.0",
          "model_name": "DescriptionStyleModel",
          "state": {
            "_model_module": "@jupyter-widgets/controls",
            "_model_module_version": "1.5.0",
            "_model_name": "DescriptionStyleModel",
            "_view_count": null,
            "_view_module": "@jupyter-widgets/base",
            "_view_module_version": "1.2.0",
            "_view_name": "StyleView",
            "description_width": ""
          }
        },
        "d7375f0f048841b29a20601c122666e8": {
          "model_module": "@jupyter-widgets/controls",
          "model_module_version": "1.5.0",
          "model_name": "HTMLModel",
          "state": {
            "_dom_classes": [],
            "_model_module": "@jupyter-widgets/controls",
            "_model_module_version": "1.5.0",
            "_model_name": "HTMLModel",
            "_view_count": null,
            "_view_module": "@jupyter-widgets/controls",
            "_view_module_version": "1.5.0",
            "_view_name": "HTMLView",
            "description": "",
            "description_tooltip": null,
            "layout": "IPY_MODEL_331f516c7a76456d801bc2a2feb228aa",
            "placeholder": "​",
            "style": "IPY_MODEL_9be9074028da42d39d044a78393a861f",
            "value": "special_tokens_map.json: 100%"
          }
        },
        "d7f92e8332374313bee87ccd427446a4": {
          "model_module": "@jupyter-widgets/base",
          "model_module_version": "1.2.0",
          "model_name": "LayoutModel",
          "state": {
            "_model_module": "@jupyter-widgets/base",
            "_model_module_version": "1.2.0",
            "_model_name": "LayoutModel",
            "_view_count": null,
            "_view_module": "@jupyter-widgets/base",
            "_view_module_version": "1.2.0",
            "_view_name": "LayoutView",
            "align_content": null,
            "align_items": null,
            "align_self": null,
            "border": null,
            "bottom": null,
            "display": null,
            "flex": null,
            "flex_flow": null,
            "grid_area": null,
            "grid_auto_columns": null,
            "grid_auto_flow": null,
            "grid_auto_rows": null,
            "grid_column": null,
            "grid_gap": null,
            "grid_row": null,
            "grid_template_areas": null,
            "grid_template_columns": null,
            "grid_template_rows": null,
            "height": null,
            "justify_content": null,
            "justify_items": null,
            "left": null,
            "margin": null,
            "max_height": null,
            "max_width": null,
            "min_height": null,
            "min_width": null,
            "object_fit": null,
            "object_position": null,
            "order": null,
            "overflow": null,
            "overflow_x": null,
            "overflow_y": null,
            "padding": null,
            "right": null,
            "top": null,
            "visibility": null,
            "width": null
          }
        },
        "da8ffc70820a48f5a12c6d4b5967015b": {
          "model_module": "@jupyter-widgets/controls",
          "model_module_version": "1.5.0",
          "model_name": "HTMLModel",
          "state": {
            "_dom_classes": [],
            "_model_module": "@jupyter-widgets/controls",
            "_model_module_version": "1.5.0",
            "_model_name": "HTMLModel",
            "_view_count": null,
            "_view_module": "@jupyter-widgets/controls",
            "_view_module_version": "1.5.0",
            "_view_name": "HTMLView",
            "description": "",
            "description_tooltip": null,
            "layout": "IPY_MODEL_8ea52b105a7e44978caca33c0e7e815b",
            "placeholder": "​",
            "style": "IPY_MODEL_3662f1445ef34a50b462e601ed31bb69",
            "value": " 345/345 [00:00&lt;00:00, 23.9kB/s]"
          }
        },
        "e3c3bd9c4c124b0a8c88c83c1fc747d3": {
          "model_module": "@jupyter-widgets/controls",
          "model_module_version": "1.5.0",
          "model_name": "DescriptionStyleModel",
          "state": {
            "_model_module": "@jupyter-widgets/controls",
            "_model_module_version": "1.5.0",
            "_model_name": "DescriptionStyleModel",
            "_view_count": null,
            "_view_module": "@jupyter-widgets/base",
            "_view_module_version": "1.2.0",
            "_view_name": "StyleView",
            "description_width": ""
          }
        },
        "e6533d3c91fd4359bc84ffd8e59af5a3": {
          "model_module": "@jupyter-widgets/controls",
          "model_module_version": "1.5.0",
          "model_name": "HTMLModel",
          "state": {
            "_dom_classes": [],
            "_model_module": "@jupyter-widgets/controls",
            "_model_module_version": "1.5.0",
            "_model_name": "HTMLModel",
            "_view_count": null,
            "_view_module": "@jupyter-widgets/controls",
            "_view_module_version": "1.5.0",
            "_view_name": "HTMLView",
            "description": "",
            "description_tooltip": null,
            "layout": "IPY_MODEL_88fcd51819b5483c9ab22df7ef89ab64",
            "placeholder": "​",
            "style": "IPY_MODEL_e6ffac074f1b476ba2ade11b37732af3",
            "value": " 11.6k/11.6k [00:00&lt;00:00, 81.5kB/s]"
          }
        },
        "e6ffac074f1b476ba2ade11b37732af3": {
          "model_module": "@jupyter-widgets/controls",
          "model_module_version": "1.5.0",
          "model_name": "DescriptionStyleModel",
          "state": {
            "_model_module": "@jupyter-widgets/controls",
            "_model_module_version": "1.5.0",
            "_model_name": "DescriptionStyleModel",
            "_view_count": null,
            "_view_module": "@jupyter-widgets/base",
            "_view_module_version": "1.2.0",
            "_view_name": "StyleView",
            "description_width": ""
          }
        },
        "e887160635cb4803b9f33845df615ec6": {
          "model_module": "@jupyter-widgets/controls",
          "model_module_version": "1.5.0",
          "model_name": "DescriptionStyleModel",
          "state": {
            "_model_module": "@jupyter-widgets/controls",
            "_model_module_version": "1.5.0",
            "_model_name": "DescriptionStyleModel",
            "_view_count": null,
            "_view_module": "@jupyter-widgets/base",
            "_view_module_version": "1.2.0",
            "_view_name": "StyleView",
            "description_width": ""
          }
        },
        "e88c33f37d6849e0b1a6b41254104cb9": {
          "model_module": "@jupyter-widgets/controls",
          "model_module_version": "1.5.0",
          "model_name": "HTMLModel",
          "state": {
            "_dom_classes": [],
            "_model_module": "@jupyter-widgets/controls",
            "_model_module_version": "1.5.0",
            "_model_name": "HTMLModel",
            "_view_count": null,
            "_view_module": "@jupyter-widgets/controls",
            "_view_module_version": "1.5.0",
            "_view_name": "HTMLView",
            "description": "",
            "description_tooltip": null,
            "layout": "IPY_MODEL_89934c4f26834f15b9889ec36fee3b65",
            "placeholder": "​",
            "style": "IPY_MODEL_e887160635cb4803b9f33845df615ec6",
            "value": " 230/230 [00:00&lt;00:00, 11.6kB/s]"
          }
        },
        "e93d063faf984cc4aa51462418d9b57e": {
          "model_module": "@jupyter-widgets/base",
          "model_module_version": "1.2.0",
          "model_name": "LayoutModel",
          "state": {
            "_model_module": "@jupyter-widgets/base",
            "_model_module_version": "1.2.0",
            "_model_name": "LayoutModel",
            "_view_count": null,
            "_view_module": "@jupyter-widgets/base",
            "_view_module_version": "1.2.0",
            "_view_name": "LayoutView",
            "align_content": null,
            "align_items": null,
            "align_self": null,
            "border": null,
            "bottom": null,
            "display": null,
            "flex": null,
            "flex_flow": null,
            "grid_area": null,
            "grid_auto_columns": null,
            "grid_auto_flow": null,
            "grid_auto_rows": null,
            "grid_column": null,
            "grid_gap": null,
            "grid_row": null,
            "grid_template_areas": null,
            "grid_template_columns": null,
            "grid_template_rows": null,
            "height": null,
            "justify_content": null,
            "justify_items": null,
            "left": null,
            "margin": null,
            "max_height": null,
            "max_width": null,
            "min_height": null,
            "min_width": null,
            "object_fit": null,
            "object_position": null,
            "order": null,
            "overflow": null,
            "overflow_x": null,
            "overflow_y": null,
            "padding": null,
            "right": null,
            "top": null,
            "visibility": null,
            "width": null
          }
        },
        "e99423a1ed3f4f72886b39368468b7c1": {
          "model_module": "@jupyter-widgets/base",
          "model_module_version": "1.2.0",
          "model_name": "LayoutModel",
          "state": {
            "_model_module": "@jupyter-widgets/base",
            "_model_module_version": "1.2.0",
            "_model_name": "LayoutModel",
            "_view_count": null,
            "_view_module": "@jupyter-widgets/base",
            "_view_module_version": "1.2.0",
            "_view_name": "LayoutView",
            "align_content": null,
            "align_items": null,
            "align_self": null,
            "border": null,
            "bottom": null,
            "display": null,
            "flex": null,
            "flex_flow": null,
            "grid_area": null,
            "grid_auto_columns": null,
            "grid_auto_flow": null,
            "grid_auto_rows": null,
            "grid_column": null,
            "grid_gap": null,
            "grid_row": null,
            "grid_template_areas": null,
            "grid_template_columns": null,
            "grid_template_rows": null,
            "height": null,
            "justify_content": null,
            "justify_items": null,
            "left": null,
            "margin": null,
            "max_height": null,
            "max_width": null,
            "min_height": null,
            "min_width": null,
            "object_fit": null,
            "object_position": null,
            "order": null,
            "overflow": null,
            "overflow_x": null,
            "overflow_y": null,
            "padding": null,
            "right": null,
            "top": null,
            "visibility": null,
            "width": null
          }
        },
        "e9971d220fe24552a1e9aa299765cfb9": {
          "model_module": "@jupyter-widgets/controls",
          "model_module_version": "1.5.0",
          "model_name": "DescriptionStyleModel",
          "state": {
            "_model_module": "@jupyter-widgets/controls",
            "_model_module_version": "1.5.0",
            "_model_name": "DescriptionStyleModel",
            "_view_count": null,
            "_view_module": "@jupyter-widgets/base",
            "_view_module_version": "1.2.0",
            "_view_name": "StyleView",
            "description_width": ""
          }
        },
        "ea55293415ca48a4be97c2e1e4769122": {
          "model_module": "@jupyter-widgets/controls",
          "model_module_version": "1.5.0",
          "model_name": "ProgressStyleModel",
          "state": {
            "_model_module": "@jupyter-widgets/controls",
            "_model_module_version": "1.5.0",
            "_model_name": "ProgressStyleModel",
            "_view_count": null,
            "_view_module": "@jupyter-widgets/base",
            "_view_module_version": "1.2.0",
            "_view_name": "StyleView",
            "bar_color": null,
            "description_width": ""
          }
        },
        "ecdeaab4f8c94d6dade63bb06857c969": {
          "model_module": "@jupyter-widgets/controls",
          "model_module_version": "1.5.0",
          "model_name": "FloatProgressModel",
          "state": {
            "_dom_classes": [],
            "_model_module": "@jupyter-widgets/controls",
            "_model_module_version": "1.5.0",
            "_model_name": "FloatProgressModel",
            "_view_count": null,
            "_view_module": "@jupyter-widgets/controls",
            "_view_module_version": "1.5.0",
            "_view_name": "ProgressView",
            "bar_style": "success",
            "description": "",
            "description_tooltip": null,
            "layout": "IPY_MODEL_e93d063faf984cc4aa51462418d9b57e",
            "max": 51760,
            "min": 0,
            "orientation": "horizontal",
            "style": "IPY_MODEL_9d45b9a5de3e4cba9ac35ad2cb187f51",
            "value": 51760
          }
        },
        "ece66fa2f128456fa2a82b8a28d1211c": {
          "model_module": "@jupyter-widgets/base",
          "model_module_version": "1.2.0",
          "model_name": "LayoutModel",
          "state": {
            "_model_module": "@jupyter-widgets/base",
            "_model_module_version": "1.2.0",
            "_model_name": "LayoutModel",
            "_view_count": null,
            "_view_module": "@jupyter-widgets/base",
            "_view_module_version": "1.2.0",
            "_view_name": "LayoutView",
            "align_content": null,
            "align_items": null,
            "align_self": null,
            "border": null,
            "bottom": null,
            "display": null,
            "flex": null,
            "flex_flow": null,
            "grid_area": null,
            "grid_auto_columns": null,
            "grid_auto_flow": null,
            "grid_auto_rows": null,
            "grid_column": null,
            "grid_gap": null,
            "grid_row": null,
            "grid_template_areas": null,
            "grid_template_columns": null,
            "grid_template_rows": null,
            "height": null,
            "justify_content": null,
            "justify_items": null,
            "left": null,
            "margin": null,
            "max_height": null,
            "max_width": null,
            "min_height": null,
            "min_width": null,
            "object_fit": null,
            "object_position": null,
            "order": null,
            "overflow": null,
            "overflow_x": null,
            "overflow_y": null,
            "padding": null,
            "right": null,
            "top": null,
            "visibility": null,
            "width": null
          }
        },
        "f433ced9bfcd4a57ba691d3c1caeed08": {
          "model_module": "@jupyter-widgets/controls",
          "model_module_version": "1.5.0",
          "model_name": "FloatProgressModel",
          "state": {
            "_dom_classes": [],
            "_model_module": "@jupyter-widgets/controls",
            "_model_module_version": "1.5.0",
            "_model_name": "FloatProgressModel",
            "_view_count": null,
            "_view_module": "@jupyter-widgets/controls",
            "_view_module_version": "1.5.0",
            "_view_name": "ProgressView",
            "bar_style": "success",
            "description": "",
            "description_tooltip": null,
            "layout": "IPY_MODEL_51cd9026b1664819a67712996ca97bd5",
            "max": 345,
            "min": 0,
            "orientation": "horizontal",
            "style": "IPY_MODEL_ea55293415ca48a4be97c2e1e4769122",
            "value": 345
          }
        },
        "f4519637bb43400a80ce83505101e8a5": {
          "model_module": "@jupyter-widgets/base",
          "model_module_version": "1.2.0",
          "model_name": "LayoutModel",
          "state": {
            "_model_module": "@jupyter-widgets/base",
            "_model_module_version": "1.2.0",
            "_model_name": "LayoutModel",
            "_view_count": null,
            "_view_module": "@jupyter-widgets/base",
            "_view_module_version": "1.2.0",
            "_view_name": "LayoutView",
            "align_content": null,
            "align_items": null,
            "align_self": null,
            "border": null,
            "bottom": null,
            "display": null,
            "flex": null,
            "flex_flow": null,
            "grid_area": null,
            "grid_auto_columns": null,
            "grid_auto_flow": null,
            "grid_auto_rows": null,
            "grid_column": null,
            "grid_gap": null,
            "grid_row": null,
            "grid_template_areas": null,
            "grid_template_columns": null,
            "grid_template_rows": null,
            "height": null,
            "justify_content": null,
            "justify_items": null,
            "left": null,
            "margin": null,
            "max_height": null,
            "max_width": null,
            "min_height": null,
            "min_width": null,
            "object_fit": null,
            "object_position": null,
            "order": null,
            "overflow": null,
            "overflow_x": null,
            "overflow_y": null,
            "padding": null,
            "right": null,
            "top": null,
            "visibility": null,
            "width": null
          }
        },
        "f84bfc5390054ec687c157c4d68199a6": {
          "model_module": "@jupyter-widgets/controls",
          "model_module_version": "1.5.0",
          "model_name": "FloatProgressModel",
          "state": {
            "_dom_classes": [],
            "_model_module": "@jupyter-widgets/controls",
            "_model_module_version": "1.5.0",
            "_model_name": "FloatProgressModel",
            "_view_count": null,
            "_view_module": "@jupyter-widgets/controls",
            "_view_module_version": "1.5.0",
            "_view_name": "ProgressView",
            "bar_style": "danger",
            "description": "",
            "description_tooltip": null,
            "layout": "IPY_MODEL_2be29a4553ad4dfea8a9bc620c81a3ae",
            "max": 5702746390,
            "min": 0,
            "orientation": "horizontal",
            "style": "IPY_MODEL_94cbb87829d1486899e2ff6325c2ecdf",
            "value": 5702745847
          }
        },
        "f84d2fe4f1c24a34948755abf1f32b7f": {
          "model_module": "@jupyter-widgets/controls",
          "model_module_version": "1.5.0",
          "model_name": "HTMLModel",
          "state": {
            "_dom_classes": [],
            "_model_module": "@jupyter-widgets/controls",
            "_model_module_version": "1.5.0",
            "_model_name": "HTMLModel",
            "_view_count": null,
            "_view_module": "@jupyter-widgets/controls",
            "_view_module_version": "1.5.0",
            "_view_name": "HTMLView",
            "description": "",
            "description_tooltip": null,
            "layout": "IPY_MODEL_94730f13e92a4c9aac35c2cfb21fc48c",
            "placeholder": "​",
            "style": "IPY_MODEL_620c0de28ec74f71a021a2be96dccf3a",
            "value": " 51760/51760 [00:01&lt;00:00, 52026.13 examples/s]"
          }
        },
        "f878c2e00bc240c7b0333cce950080e1": {
          "model_module": "@jupyter-widgets/base",
          "model_module_version": "1.2.0",
          "model_name": "LayoutModel",
          "state": {
            "_model_module": "@jupyter-widgets/base",
            "_model_module_version": "1.2.0",
            "_model_name": "LayoutModel",
            "_view_count": null,
            "_view_module": "@jupyter-widgets/base",
            "_view_module_version": "1.2.0",
            "_view_name": "LayoutView",
            "align_content": null,
            "align_items": null,
            "align_self": null,
            "border": null,
            "bottom": null,
            "display": null,
            "flex": null,
            "flex_flow": null,
            "grid_area": null,
            "grid_auto_columns": null,
            "grid_auto_flow": null,
            "grid_auto_rows": null,
            "grid_column": null,
            "grid_gap": null,
            "grid_row": null,
            "grid_template_areas": null,
            "grid_template_columns": null,
            "grid_template_rows": null,
            "height": null,
            "justify_content": null,
            "justify_items": null,
            "left": null,
            "margin": null,
            "max_height": null,
            "max_width": null,
            "min_height": null,
            "min_width": null,
            "object_fit": null,
            "object_position": null,
            "order": null,
            "overflow": null,
            "overflow_x": null,
            "overflow_y": null,
            "padding": null,
            "right": null,
            "top": null,
            "visibility": null,
            "width": null
          }
        },
        "f899a815142542219bde22ff792fb60c": {
          "model_module": "@jupyter-widgets/controls",
          "model_module_version": "1.5.0",
          "model_name": "HTMLModel",
          "state": {
            "_dom_classes": [],
            "_model_module": "@jupyter-widgets/controls",
            "_model_module_version": "1.5.0",
            "_model_name": "HTMLModel",
            "_view_count": null,
            "_view_module": "@jupyter-widgets/controls",
            "_view_module_version": "1.5.0",
            "_view_name": "HTMLView",
            "description": "",
            "description_tooltip": null,
            "layout": "IPY_MODEL_4e7cb8e988114ed4b6fe09ff9f682dff",
            "placeholder": "​",
            "style": "IPY_MODEL_a14bc1c2130842568a5fde6698731e5f",
            "value": " 44.3M/44.3M [00:00&lt;00:00, 87.2MB/s]"
          }
        },
        "f9b01aebcbdc48a585b7942b0ee60a2d": {
          "model_module": "@jupyter-widgets/base",
          "model_module_version": "1.2.0",
          "model_name": "LayoutModel",
          "state": {
            "_model_module": "@jupyter-widgets/base",
            "_model_module_version": "1.2.0",
            "_model_name": "LayoutModel",
            "_view_count": null,
            "_view_module": "@jupyter-widgets/base",
            "_view_module_version": "1.2.0",
            "_view_name": "LayoutView",
            "align_content": null,
            "align_items": null,
            "align_self": null,
            "border": null,
            "bottom": null,
            "display": null,
            "flex": null,
            "flex_flow": null,
            "grid_area": null,
            "grid_auto_columns": null,
            "grid_auto_flow": null,
            "grid_auto_rows": null,
            "grid_column": null,
            "grid_gap": null,
            "grid_row": null,
            "grid_template_areas": null,
            "grid_template_columns": null,
            "grid_template_rows": null,
            "height": null,
            "justify_content": null,
            "justify_items": null,
            "left": null,
            "margin": null,
            "max_height": null,
            "max_width": null,
            "min_height": null,
            "min_width": null,
            "object_fit": null,
            "object_position": null,
            "order": null,
            "overflow": null,
            "overflow_x": null,
            "overflow_y": null,
            "padding": null,
            "right": null,
            "top": null,
            "visibility": null,
            "width": null
          }
        },
        "fbae6e599d1644f39e5d86efa0f9f997": {
          "model_module": "@jupyter-widgets/base",
          "model_module_version": "1.2.0",
          "model_name": "LayoutModel",
          "state": {
            "_model_module": "@jupyter-widgets/base",
            "_model_module_version": "1.2.0",
            "_model_name": "LayoutModel",
            "_view_count": null,
            "_view_module": "@jupyter-widgets/base",
            "_view_module_version": "1.2.0",
            "_view_name": "LayoutView",
            "align_content": null,
            "align_items": null,
            "align_self": null,
            "border": null,
            "bottom": null,
            "display": null,
            "flex": null,
            "flex_flow": null,
            "grid_area": null,
            "grid_auto_columns": null,
            "grid_auto_flow": null,
            "grid_auto_rows": null,
            "grid_column": null,
            "grid_gap": null,
            "grid_row": null,
            "grid_template_areas": null,
            "grid_template_columns": null,
            "grid_template_rows": null,
            "height": null,
            "justify_content": null,
            "justify_items": null,
            "left": null,
            "margin": null,
            "max_height": null,
            "max_width": null,
            "min_height": null,
            "min_width": null,
            "object_fit": null,
            "object_position": null,
            "order": null,
            "overflow": null,
            "overflow_x": null,
            "overflow_y": null,
            "padding": null,
            "right": null,
            "top": null,
            "visibility": null,
            "width": null
          }
        }
      }
    }
  },
  "nbformat": 4,
  "nbformat_minor": 0
}
