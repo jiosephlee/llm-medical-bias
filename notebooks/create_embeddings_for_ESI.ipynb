{
 "cells": [
  {
   "cell_type": "code",
   "execution_count": 2,
   "metadata": {},
   "outputs": [],
   "source": [
    "import pandas as pd\n",
    "from sklearn.linear_model import LogisticRegression\n",
    "from sklearn.metrics import accuracy_score, classification_report\n",
    "\n",
    "# Load the train and test data\n",
    "train_df = pd.read_csv(\"../data/ESI-handbook/Train.csv\")\n",
    "test_df  = pd.read_csv(\"../data/ESI-handbook/test.csv\")"
   ]
  },
  {
   "cell_type": "code",
   "execution_count": 4,
   "metadata": {},
   "outputs": [
    {
     "name": "stdout",
     "output_type": "stream",
     "text": [
      "<class 'pandas.core.frame.DataFrame'>\n",
      "RangeIndex: 209 entries, 0 to 208\n",
      "Data columns (total 2 columns):\n",
      " #   Column              Non-Null Count  Dtype \n",
      "---  ------              --------------  ----- \n",
      " 0   Clinical Vignettes  209 non-null    object\n",
      " 1   acuity              209 non-null    int64 \n",
      "dtypes: int64(1), object(1)\n",
      "memory usage: 3.4+ KB\n"
     ]
    }
   ],
   "source": [
    "test_df.info()"
   ]
  },
  {
   "cell_type": "code",
   "execution_count": 23,
   "metadata": {},
   "outputs": [
    {
     "name": "stdout",
     "output_type": "stream",
     "text": [
      "Overall Metrics: {'overall': {'accuracy': 0.28708133971291866, 'precision': 0.24729239238104986, 'recall': 0.28708133971291866, 'f1_score': 0.25113503765077716, 'adjusted_accuracy': 0.645933014354067, 'adjusted_precision': 0.74775774042867, 'adjusted_recall': 0.645933014354067, 'adjusted_f1': 0.5845436114165596, 'mae': 1.2870813397129186, 'mse': 2.9043062200956937, 'quadratic_kappa': np.float64(0.11741952539637279)}, 'by_class': {'1': {'precision': 0.18181818181818182, 'recall': 0.16666666666666666, 'f1-score': 0.17391304347826086, 'support': 36.0}, '2': {'precision': 0.2773109243697479, 'recall': 0.55, 'f1-score': 0.3687150837988827, 'support': 60.0}, '3': {'precision': 0.09090909090909091, 'recall': 0.09090909090909091, 'f1-score': 0.09090909090909091, 'support': 33.0}, '4': {'precision': 0.75, 'recall': 0.5294117647058824, 'f1-score': 0.6206896551724138, 'support': 34.0}, '5': {'precision': 0.0, 'recall': 0.0, 'f1-score': 0.0, 'support': 46.0}, 'accuracy': 0.28708133971291866, 'macro avg': {'precision': 0.26000763941940414, 'recall': 0.267397504456328, 'f1-score': 0.2508453746717297, 'support': 209.0}, 'weighted avg': {'precision': 0.24729239238104986, 'recall': 0.28708133971291866, 'f1-score': 0.25113503765077716, 'support': 209.0}}}\n",
      "Evaluation complete. Metrics and plots saved.\n"
     ]
    },
    {
     "name": "stderr",
     "output_type": "stream",
     "text": [
      "/opt/homebrew/anaconda3/envs/llm-medical-bias/lib/python3.10/site-packages/sklearn/metrics/_classification.py:1565: UndefinedMetricWarning: Precision is ill-defined and being set to 0.0 in labels with no predicted samples. Use `zero_division` parameter to control this behavior.\n",
      "  _warn_prf(average, modifier, f\"{metric.capitalize()} is\", len(result))\n",
      "/opt/homebrew/anaconda3/envs/llm-medical-bias/lib/python3.10/site-packages/sklearn/metrics/_classification.py:1565: UndefinedMetricWarning: Precision is ill-defined and being set to 0.0 in labels with no predicted samples. Use `zero_division` parameter to control this behavior.\n",
      "  _warn_prf(average, modifier, f\"{metric.capitalize()} is\", len(result))\n",
      "/opt/homebrew/anaconda3/envs/llm-medical-bias/lib/python3.10/site-packages/sklearn/metrics/_classification.py:1565: UndefinedMetricWarning: Precision is ill-defined and being set to 0.0 in labels with no predicted samples. Use `zero_division` parameter to control this behavior.\n",
      "  _warn_prf(average, modifier, f\"{metric.capitalize()} is\", len(result))\n",
      "/opt/homebrew/anaconda3/envs/llm-medical-bias/lib/python3.10/site-packages/sklearn/metrics/_classification.py:1565: UndefinedMetricWarning: Precision is ill-defined and being set to 0.0 in labels with no predicted samples. Use `zero_division` parameter to control this behavior.\n",
      "  _warn_prf(average, modifier, f\"{metric.capitalize()} is\", len(result))\n"
     ]
    }
   ],
   "source": [
    "from sentence_transformers import SentenceTransformer\n",
    "import numpy as np\n",
    "from sklearn.neural_network import MLPClassifier\n",
    "import sys\n",
    "sys.path.append('..')\n",
    "from utils import utils\n",
    "\n",
    "# Load and initialize the embedding model\n",
    "model_name = 'pritamdeka/BioBERT-mnli-snli-scinli-scitail-mednli-stsb'\n",
    "model = SentenceTransformer(model_name)\n",
    "\n",
    "# Create embeddings for train and test data\n",
    "train_embeddings = model.encode(train_df['Clinical Vignettes'].values)\n",
    "test_embeddings = model.encode(test_df['Clinical Vignettes'].values)\n",
    "\n",
    "# Save embeddings\n",
    "np.save('../data/ESI-handbook/train_embeddings.npy', train_embeddings)\n",
    "np.save('../data/ESI-handbook/test_embeddings.npy', test_embeddings)\n",
    "\n",
    "# Get labels\n",
    "train_labels = train_df['acuity'].values\n",
    "test_labels = test_df['acuity'].values\n",
    "\n",
    "# Train MLP classifier\n",
    "mlp = MLPClassifier(hidden_layer_sizes=(250,100), early_stopping=True)\n",
    "mlp.fit(train_embeddings, train_labels)\n",
    "\n",
    "# Make predictions\n",
    "predictions = mlp.predict(test_embeddings)\n",
    "\n",
    "# Calculate and save metrics\n",
    "metrics = utils.evaluate_predictions(predictions, test_labels, ordinal=True, by_class=True)\n",
    "print(\"Overall Metrics:\", metrics)\n",
    "output_filepath = \"../results/Triage-Handbook/Triage-Handbook_BioBERT\"\n",
    "utils.save_metrics(metrics, output_filepath)\n",
    "print(\"Evaluation complete. Metrics and plots saved.\")\n"
   ]
  },
  {
   "cell_type": "code",
   "execution_count": null,
   "metadata": {},
   "outputs": [],
   "source": []
  }
 ],
 "metadata": {
  "kernelspec": {
   "display_name": "llm-medical-bias",
   "language": "python",
   "name": "python3"
  },
  "language_info": {
   "codemirror_mode": {
    "name": "ipython",
    "version": 3
   },
   "file_extension": ".py",
   "mimetype": "text/x-python",
   "name": "python",
   "nbconvert_exporter": "python",
   "pygments_lexer": "ipython3",
   "version": "3.10.16"
  }
 },
 "nbformat": 4,
 "nbformat_minor": 2
}
