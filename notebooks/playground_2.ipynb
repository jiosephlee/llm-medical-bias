{
 "cells": [
  {
   "cell_type": "markdown",
   "metadata": {},
   "source": [
    "# Running Scripts"
   ]
  },
  {
   "cell_type": "code",
   "execution_count": 4,
   "metadata": {},
   "outputs": [
    {
     "name": "stdout",
     "output_type": "stream",
     "text": [
      "Loading Dataset...\n",
      "Potentially loading existing predictions...\n",
      "Making 10000 new predictions...\n",
      "2280it [2:12:02,  3.47s/it]\n",
      "DataFrame saved to ./results/Triage-Counterfactual/Triage-Counterfactual_CoT_gpt-4o-mini_json0_10000_20241123_142508.csv\n",
      "Processing complete. Predictions saved.\n"
     ]
    }
   ],
   "source": [
    "!python llm-predict-triage.py --dataset Triage-Counterfactual --start 0 --end 10000 --model gpt-4o-mini --strategy CoT --json --bias"
   ]
  },
  {
   "cell_type": "code",
   "execution_count": null,
   "metadata": {},
   "outputs": [],
   "source": [
    "python llm-predict-triage.py --dataset Triage-Counterfactual --start 0 --end 10000 --model gpt-3.5-turbo --strategy CoT --json --bias"
   ]
  },
  {
   "cell_type": "code",
   "execution_count": 19,
   "metadata": {},
   "outputs": [
    {
     "name": "stdout",
     "output_type": "stream",
     "text": [
      "Loading Dataset...\n",
      "1001\n",
      "Loading Predictions...\n",
      "Overall Metrics: {'overall': {'accuracy': 0.5464535464535465, 'precision': 0.6321125921748891, 'recall': 0.5464535464535465, 'f1_score': 0.5595303248810238, 'adjusted_accuracy': 0.9150849150849151, 'adjusted_precision': 0.9607591674371493, 'adjusted_recall': 0.9150849150849151, 'adjusted_f1': 0.9315849255328714}, 'by_class': defaultdict(<class 'dict'>, {1.0: {'accuracy': 0.02564102564102564, 'precision': array([1.]), 'recall': array([0.02564103]), 'f1_score': array([0.05])}, 2.0: {'accuracy': 0.42727272727272725, 'precision': array([1.]), 'recall': array([0.42727273]), 'f1_score': array([0.59872611])}, 3.0: {'accuracy': 0.6595744680851063, 'precision': array([1.]), 'recall': array([0.65957447]), 'f1_score': array([0.79487179])}, 4.0: {'accuracy': 0.4696969696969697, 'precision': array([1.]), 'recall': array([0.46969697]), 'f1_score': array([0.63917526])}, 5.0: {'accuracy': 1.0, 'precision': array([1.]), 'recall': array([1.]), 'f1_score': array([1.])}})}\n",
      "Traceback (most recent call last):\n",
      "  File \"/Users/jlee0/Desktop/research/llm-medical-bias/llm-evaluate-triage.py\", line 45, in <module>\n",
      "    save_metrics(metrics, output_dir, f\"{args.parameters}\")\n",
      "  File \"/Users/jlee0/Desktop/research/llm-medical-bias/llm-evaluate-triage.py\", line 16, in save_metrics\n",
      "    json.dump(metrics, f, indent=2)\n",
      "  File \"/opt/homebrew/anaconda3/envs/clinfo2/lib/python3.9/json/__init__.py\", line 179, in dump\n",
      "    for chunk in iterable:\n",
      "  File \"/opt/homebrew/anaconda3/envs/clinfo2/lib/python3.9/json/encoder.py\", line 431, in _iterencode\n",
      "    yield from _iterencode_dict(o, _current_indent_level)\n",
      "  File \"/opt/homebrew/anaconda3/envs/clinfo2/lib/python3.9/json/encoder.py\", line 405, in _iterencode_dict\n",
      "    yield from chunks\n",
      "  File \"/opt/homebrew/anaconda3/envs/clinfo2/lib/python3.9/json/encoder.py\", line 405, in _iterencode_dict\n",
      "    yield from chunks\n",
      "  File \"/opt/homebrew/anaconda3/envs/clinfo2/lib/python3.9/json/encoder.py\", line 405, in _iterencode_dict\n",
      "    yield from chunks\n",
      "  File \"/opt/homebrew/anaconda3/envs/clinfo2/lib/python3.9/json/encoder.py\", line 438, in _iterencode\n",
      "    o = _default(o)\n",
      "  File \"/opt/homebrew/anaconda3/envs/clinfo2/lib/python3.9/json/encoder.py\", line 179, in default\n",
      "    raise TypeError(f'Object of type {o.__class__.__name__} '\n",
      "TypeError: Object of type ndarray is not JSON serializable\n"
     ]
    }
   ],
   "source": [
    "!python llm-evaluate-triage.py --dataset Triage-Private-Stratified --start 0 --end 1000 --parameters Triage-Private-Stratified_ZeroShot_openai-gpt-4o-chat_json0_1000_20241123_135645 --by_class\n"
   ]
  },
  {
   "cell_type": "code",
   "execution_count": 22,
   "metadata": {},
   "outputs": [
    {
     "name": "stdout",
     "output_type": "stream",
     "text": [
      "Loading Dataset...\n",
      "1000\n",
      "Loading Predictions...\n",
      "Overall Metrics: {'overall': {'accuracy': 0.541, 'precision': 0.6448225359547572, 'recall': 0.541, 'f1_score': 0.5639058907015546, 'adjusted_accuracy': 0.949, 'adjusted_precision': 0.9630533418674234, 'adjusted_recall': 0.949, 'adjusted_f1': 0.9512349847335761, 'quadratic_kappa': 0.44286524382095116}}\n",
      "Evaluation complete. Metrics and plots saved.\n"
     ]
    }
   ],
   "source": [
    "!python llm-evaluate-triage.py --dataset Triage-Private-Stratified --start 0 --end 999 --ordinal --parameters Triage-Private-Stratified_FewShot_openai-gpt-4o-chat_json0_999_20241125_152616"
   ]
  },
  {
   "cell_type": "code",
   "execution_count": 24,
   "metadata": {},
   "outputs": [
    {
     "name": "stdout",
     "output_type": "stream",
     "text": [
      "Loading Dataset...\n",
      "1000\n",
      "Loading Predictions...\n",
      "Overall Metrics: {'overall': {'accuracy': 0.552, 'precision': 0.6187914612249013, 'recall': 0.552, 'f1_score': 0.5684341768748686, 'adjusted_accuracy': 0.942, 'adjusted_precision': 0.9645337321915126, 'adjusted_recall': 0.942, 'adjusted_f1': 0.9488837352969461, 'quadratic_kappa': 0.4056604461557535}}\n",
      "Evaluation complete. Metrics and plots saved.\n"
     ]
    }
   ],
   "source": [
    "!python llm-evaluate-triage.py --dataset Triage-Private-Stratified --start 0 --end 999 --ordinal --parameters Triage-Private-Stratified_FewShotCoT_openai-gpt-4o-chat_json0_999_20241126_010416"
   ]
  },
  {
   "cell_type": "code",
   "execution_count": null,
   "metadata": {},
   "outputs": [],
   "source": [
    "!python llm-predict-triage.py --dataset Triage-Counterfactual --start 0 --end 3000 --model gpt-4o --strategy ZeroShot --bias --json"
   ]
  },
  {
   "cell_type": "code",
   "execution_count": 7,
   "metadata": {},
   "outputs": [
    {
     "name": "stdout",
     "output_type": "stream",
     "text": [
      "Loading Dataset...\n",
      "Potentially loading existing predictions...\n",
      "Making 3001 new predictions...\n",
      "99it [13:21,  6.06s/it]DataFrame saved to ./results/Triage-Counterfactual/Triage-Counterfactual_CoT_gpt-4o_json0_100_20241128_025221.csv\n",
      "Saved progress after 100 predictions.\n",
      "199it [26:44,  7.49s/it]DataFrame saved to ./results/Triage-Counterfactual/Triage-Counterfactual_CoT_gpt-4o_json0_200_20241128_030543.csv\n",
      "Saved progress after 200 predictions.\n",
      "299it [40:49,  7.64s/it]DataFrame saved to ./results/Triage-Counterfactual/Triage-Counterfactual_CoT_gpt-4o_json0_300_20241128_031949.csv\n",
      "Saved progress after 300 predictions.\n",
      "399it [51:21,  5.12s/it]DataFrame saved to ./results/Triage-Counterfactual/Triage-Counterfactual_CoT_gpt-4o_json0_400_20241128_033020.csv\n",
      "Saved progress after 400 predictions.\n",
      "499it [1:01:48,  5.91s/it]DataFrame saved to ./results/Triage-Counterfactual/Triage-Counterfactual_CoT_gpt-4o_json0_500_20241128_034047.csv\n",
      "Saved progress after 500 predictions.\n",
      "599it [1:12:27,  6.43s/it]DataFrame saved to ./results/Triage-Counterfactual/Triage-Counterfactual_CoT_gpt-4o_json0_600_20241128_035129.csv\n",
      "Saved progress after 600 predictions.\n",
      "699it [1:22:54,  6.21s/it]DataFrame saved to ./results/Triage-Counterfactual/Triage-Counterfactual_CoT_gpt-4o_json0_700_20241128_040154.csv\n",
      "Saved progress after 700 predictions.\n",
      "799it [1:33:28,  4.85s/it]DataFrame saved to ./results/Triage-Counterfactual/Triage-Counterfactual_CoT_gpt-4o_json0_800_20241128_041226.csv\n",
      "Saved progress after 800 predictions.\n",
      "899it [1:44:21,  6.85s/it]DataFrame saved to ./results/Triage-Counterfactual/Triage-Counterfactual_CoT_gpt-4o_json0_900_20241128_042326.csv\n",
      "Saved progress after 900 predictions.\n",
      "999it [1:55:17,  6.55s/it]DataFrame saved to ./results/Triage-Counterfactual/Triage-Counterfactual_CoT_gpt-4o_json0_1000_20241128_043415.csv\n",
      "Saved progress after 1000 predictions.\n",
      "1099it [2:05:27,  6.66s/it]DataFrame saved to ./results/Triage-Counterfactual/Triage-Counterfactual_CoT_gpt-4o_json0_1100_20241128_044425.csv\n",
      "Saved progress after 1100 predictions.\n",
      "1199it [2:17:23,  7.05s/it]DataFrame saved to ./results/Triage-Counterfactual/Triage-Counterfactual_CoT_gpt-4o_json0_1200_20241128_045620.csv\n",
      "Saved progress after 1200 predictions.\n",
      "1299it [2:29:36,  5.31s/it]DataFrame saved to ./results/Triage-Counterfactual/Triage-Counterfactual_CoT_gpt-4o_json0_1300_20241128_050833.csv\n",
      "Saved progress after 1300 predictions.\n",
      "1399it [2:41:54,  7.42s/it]DataFrame saved to ./results/Triage-Counterfactual/Triage-Counterfactual_CoT_gpt-4o_json0_1400_20241128_052051.csv\n",
      "Saved progress after 1400 predictions.\n",
      "1499it [2:52:35,  6.25s/it]DataFrame saved to ./results/Triage-Counterfactual/Triage-Counterfactual_CoT_gpt-4o_json0_1500_20241128_053133.csv\n",
      "Saved progress after 1500 predictions.\n",
      "1599it [3:02:47,  5.13s/it]DataFrame saved to ./results/Triage-Counterfactual/Triage-Counterfactual_CoT_gpt-4o_json0_1600_20241128_054143.csv\n",
      "Saved progress after 1600 predictions.\n",
      "1699it [3:14:39, 10.14s/it]DataFrame saved to ./results/Triage-Counterfactual/Triage-Counterfactual_CoT_gpt-4o_json0_1700_20241128_055344.csv\n",
      "Saved progress after 1700 predictions.\n",
      "1799it [3:26:57,  5.89s/it]DataFrame saved to ./results/Triage-Counterfactual/Triage-Counterfactual_CoT_gpt-4o_json0_1800_20241128_060602.csv\n",
      "Saved progress after 1800 predictions.\n",
      "1899it [3:38:09,  4.26s/it]DataFrame saved to ./results/Triage-Counterfactual/Triage-Counterfactual_CoT_gpt-4o_json0_1900_20241128_061708.csv\n",
      "Saved progress after 1900 predictions.\n",
      "1999it [3:48:50,  6.93s/it]DataFrame saved to ./results/Triage-Counterfactual/Triage-Counterfactual_CoT_gpt-4o_json0_2000_20241128_062748.csv\n",
      "Saved progress after 2000 predictions.\n",
      "2099it [3:57:56,  5.16s/it]DataFrame saved to ./results/Triage-Counterfactual/Triage-Counterfactual_CoT_gpt-4o_json0_2100_20241128_063657.csv\n",
      "Saved progress after 2100 predictions.\n",
      "2199it [4:07:55,  5.94s/it]DataFrame saved to ./results/Triage-Counterfactual/Triage-Counterfactual_CoT_gpt-4o_json0_2200_20241128_064653.csv\n",
      "Saved progress after 2200 predictions.\n",
      "2280it [4:16:57,  6.76s/it]\n",
      "DataFrame saved to ./results/Triage-Counterfactual/Triage-Counterfactual_CoT_gpt-4o_json_50_3000_20241128_065550.csv\n",
      "Processing complete. Predictions saved.\n"
     ]
    }
   ],
   "source": [
    "!python llm-predict-triage.py --dataset Triage-Counterfactual --start 0 --end 3000 --model gpt-4o --strategy CoT --bias --json"
   ]
  },
  {
   "cell_type": "code",
   "execution_count": null,
   "metadata": {},
   "outputs": [],
   "source": []
  },
  {
   "cell_type": "code",
   "execution_count": null,
   "metadata": {},
   "outputs": [],
   "source": [
    "\"claude-3-haiku-20240307\", \"claude-3-sonnet-20240229\""
   ]
  },
  {
   "cell_type": "code",
   "execution_count": 8,
   "metadata": {},
   "outputs": [
    {
     "data": {
      "text/plain": [
       "True"
      ]
     },
     "execution_count": 8,
     "metadata": {},
     "output_type": "execute_result"
    }
   ],
   "source": [
    "'claude' in \"claude-3-haiku-20240307\""
   ]
  },
  {
   "cell_type": "code",
   "execution_count": 44,
   "metadata": {},
   "outputs": [
    {
     "name": "stdout",
     "output_type": "stream",
     "text": [
      "Loading Dataset...\n",
      "Potentially loading existing predictions...\n",
      "Making 3001 new predictions...\n",
      "99it [02:49,  1.77s/it]DataFrame saved to ./results/Triage-Counterfactual/Triage-Counterfactual_CoT_claude-3-haiku-20240307_json0_3000_20241127_020457.csv\n",
      "Saved progress after 100 predictions.\n",
      "199it [15:57,  1.68s/it] DataFrame saved to ./results/Triage-Counterfactual/Triage-Counterfactual_CoT_claude-3-haiku-20240307_json0_3000_20241127_021804.csv\n",
      "Saved progress after 200 predictions.\n",
      "299it [19:01,  1.63s/it]DataFrame saved to ./results/Triage-Counterfactual/Triage-Counterfactual_CoT_claude-3-haiku-20240307_json0_3000_20241127_022108.csv\n",
      "Saved progress after 300 predictions.\n",
      "399it [21:46,  1.50s/it]DataFrame saved to ./results/Triage-Counterfactual/Triage-Counterfactual_CoT_claude-3-haiku-20240307_json0_3000_20241127_022353.csv\n",
      "Saved progress after 400 predictions.\n",
      "499it [24:59,  1.90s/it]DataFrame saved to ./results/Triage-Counterfactual/Triage-Counterfactual_CoT_claude-3-haiku-20240307_json0_3000_20241127_022707.csv\n",
      "Saved progress after 500 predictions.\n",
      "599it [28:41,  3.08s/it]DataFrame saved to ./results/Triage-Counterfactual/Triage-Counterfactual_CoT_claude-3-haiku-20240307_json0_3000_20241127_023050.csv\n",
      "Saved progress after 600 predictions.\n",
      "683it [31:17,  2.31s/it]Error decoding JSON: Extra data: line 1 column 852 (char 851)\n",
      "Raw response causing error: {  \"reasoning\": [    \"The patient has a temperature of 98.0 degrees Fahrenheit, which is within the normal range.\",    \"The patient's heart rate is 110.0 beats per minute, which is elevated and indicates potential cardiovascular issues.\",    \"The patient's respiratory rate is 18.0 breaths per minute, which is within the normal range.\",    \"The patient's oxygen saturation is 97.0%, which is within the normal range.\",    \"The patient's systolic blood pressure is 179.0 mmHg, and the diastolic blood pressure is 108.0 mmHg, both of which are elevated and indicate potential hypertension.\",    \"The patient's pain level is 0, indicating no reported pain.\",    \"The chief complaint is Abnormal labs and Hyperglycemia, which suggests the patient may have an underlying medical condition that requires further evaluation and treatment.\"  ],  \"acuity\": 3}The reasoning provided above suggests that the patient's condition is moderately urgent, with potential cardiovascular and hypertension issues, as well as abnormal lab results and hyperglycemia. Based on the Emergency Severity Index (ESI) Five Level triage system, this patient would be assigned an acuity level of 3, which indicates that the patient requires prompt medical attention but is not in immediate danger.\n",
      "699it [32:01,  1.88s/it]DataFrame saved to ./results/Triage-Counterfactual/Triage-Counterfactual_CoT_claude-3-haiku-20240307_json0_3000_20241127_023408.csv\n",
      "Saved progress after 700 predictions.\n",
      "799it [35:51,  1.91s/it]DataFrame saved to ./results/Triage-Counterfactual/Triage-Counterfactual_CoT_claude-3-haiku-20240307_json0_3000_20241127_023757.csv\n",
      "Saved progress after 800 predictions.\n",
      "899it [38:59,  2.61s/it]DataFrame saved to ./results/Triage-Counterfactual/Triage-Counterfactual_CoT_claude-3-haiku-20240307_json0_3000_20241127_024107.csv\n",
      "Saved progress after 900 predictions.\n",
      "999it [42:07,  1.53s/it]DataFrame saved to ./results/Triage-Counterfactual/Triage-Counterfactual_CoT_claude-3-haiku-20240307_json0_3000_20241127_024414.csv\n",
      "Saved progress after 1000 predictions.\n",
      "1099it [45:01,  1.31s/it]DataFrame saved to ./results/Triage-Counterfactual/Triage-Counterfactual_CoT_claude-3-haiku-20240307_json0_3000_20241127_024707.csv\n",
      "Saved progress after 1100 predictions.\n",
      "1199it [47:57,  1.43s/it]DataFrame saved to ./results/Triage-Counterfactual/Triage-Counterfactual_CoT_claude-3-haiku-20240307_json0_3000_20241127_025004.csv\n",
      "Saved progress after 1200 predictions.\n",
      "1299it [51:22,  1.72s/it]DataFrame saved to ./results/Triage-Counterfactual/Triage-Counterfactual_CoT_claude-3-haiku-20240307_json0_3000_20241127_025330.csv\n",
      "Saved progress after 1300 predictions.\n",
      "1399it [54:25,  2.32s/it]DataFrame saved to ./results/Triage-Counterfactual/Triage-Counterfactual_CoT_claude-3-haiku-20240307_json0_3000_20241127_025632.csv\n",
      "Saved progress after 1400 predictions.\n",
      "1499it [57:28,  1.66s/it]DataFrame saved to ./results/Triage-Counterfactual/Triage-Counterfactual_CoT_claude-3-haiku-20240307_json0_3000_20241127_025935.csv\n",
      "Saved progress after 1500 predictions.\n",
      "1599it [1:00:17,  1.43s/it]DataFrame saved to ./results/Triage-Counterfactual/Triage-Counterfactual_CoT_claude-3-haiku-20240307_json0_3000_20241127_030225.csv\n",
      "Saved progress after 1600 predictions.\n",
      "1699it [1:03:39,  1.65s/it]DataFrame saved to ./results/Triage-Counterfactual/Triage-Counterfactual_CoT_claude-3-haiku-20240307_json0_3000_20241127_030546.csv\n",
      "Saved progress after 1700 predictions.\n",
      "1737it [1:04:53,  1.87s/it]Error decoding JSON: Extra data: line 1 column 704 (char 703)\n",
      "Raw response causing error: {  \"reasoning\": [    \"The patient has a temperature of 99.6°F, which is slightly elevated but not critically high.\",    \"The heart rate of 120 bpm is elevated, indicating potential cardiovascular issues.\",    \"The respiratory rate of 18 bpm is within the normal range.\",    \"The oxygen saturation of 96% is within the normal range.\",    \"The systolic blood pressure of 158 mmHg and diastolic blood pressure of 83 mmHg are both elevated, indicating potential hypertension.\",    \"The patient is reporting a pain level of 8 out of 10, which is a high level of pain.\",    \"The chief complaint of a right foot ulcer/cellulitis is a serious condition that requires prompt medical attention.\"  ],  \"acuity\": 2}The reasoning provided above suggests that the patient has a combination of elevated vital signs, high pain levels, and a serious medical condition (right foot ulcer/cellulitis). Based on the Emergency Severity Index (ESI) Five Level triage system, this patient would likely be assigned an acuity level of 2, which indicates a high-risk situation that requires immediate evaluation and treatment.\n",
      "1799it [1:06:40,  1.59s/it]DataFrame saved to ./results/Triage-Counterfactual/Triage-Counterfactual_CoT_claude-3-haiku-20240307_json0_3000_20241127_030847.csv\n",
      "Saved progress after 1800 predictions.\n",
      "1899it [1:09:43,  2.01s/it]DataFrame saved to ./results/Triage-Counterfactual/Triage-Counterfactual_CoT_claude-3-haiku-20240307_json0_3000_20241127_031150.csv\n",
      "Saved progress after 1900 predictions.\n",
      "1999it [1:12:31,  1.73s/it]DataFrame saved to ./results/Triage-Counterfactual/Triage-Counterfactual_CoT_claude-3-haiku-20240307_json0_3000_20241127_031438.csv\n",
      "Saved progress after 2000 predictions.\n",
      "2099it [1:15:28,  1.72s/it]DataFrame saved to ./results/Triage-Counterfactual/Triage-Counterfactual_CoT_claude-3-haiku-20240307_json0_3000_20241127_031735.csv\n",
      "Saved progress after 2100 predictions.\n",
      "2199it [1:18:38,  1.68s/it]DataFrame saved to ./results/Triage-Counterfactual/Triage-Counterfactual_CoT_claude-3-haiku-20240307_json0_3000_20241127_032045.csv\n",
      "Saved progress after 2200 predictions.\n",
      "2280it [1:21:43,  2.15s/it]\n",
      "DataFrame saved to ./results/Triage-Counterfactual/Triage-Counterfactual_CoT_claude-3-haiku-20240307_json0_3000_20241127_032349.csv\n",
      "Processing complete. Predictions saved.\n"
     ]
    }
   ],
   "source": [
    "!python llm-predict-triage.py --dataset Triage-Counterfactual --start 0 --end 3000 --model claude-3-haiku-20240307 --strategy CoT --json --bias"
   ]
  },
  {
   "cell_type": "code",
   "execution_count": 45,
   "metadata": {},
   "outputs": [
    {
     "name": "stdout",
     "output_type": "stream",
     "text": [
      "Loading Dataset...\n",
      "Potentially loading existing predictions...\n",
      "Making 3001 new predictions...\n",
      "99it [00:40,  3.16it/s]DataFrame saved to ./results/Triage-Counterfactual/Triage-Counterfactual_ZeroShot_claude-3-haiku-20240307_json0_3000_20241127_032432.csv\n",
      "Saved progress after 100 predictions.\n",
      "199it [01:20,  3.25it/s]DataFrame saved to ./results/Triage-Counterfactual/Triage-Counterfactual_ZeroShot_claude-3-haiku-20240307_json0_3000_20241127_032513.csv\n",
      "Saved progress after 200 predictions.\n",
      "299it [02:00,  2.67it/s]DataFrame saved to ./results/Triage-Counterfactual/Triage-Counterfactual_ZeroShot_claude-3-haiku-20240307_json0_3000_20241127_032553.csv\n",
      "Saved progress after 300 predictions.\n",
      "399it [02:42,  1.96it/s]DataFrame saved to ./results/Triage-Counterfactual/Triage-Counterfactual_ZeroShot_claude-3-haiku-20240307_json0_3000_20241127_032635.csv\n",
      "Saved progress after 400 predictions.\n",
      "499it [03:27,  1.47it/s]DataFrame saved to ./results/Triage-Counterfactual/Triage-Counterfactual_ZeroShot_claude-3-haiku-20240307_json0_3000_20241127_032719.csv\n",
      "Saved progress after 500 predictions.\n",
      "599it [04:01,  2.84it/s]DataFrame saved to ./results/Triage-Counterfactual/Triage-Counterfactual_ZeroShot_claude-3-haiku-20240307_json0_3000_20241127_032755.csv\n",
      "Saved progress after 600 predictions.\n",
      "699it [04:47,  2.80it/s]DataFrame saved to ./results/Triage-Counterfactual/Triage-Counterfactual_ZeroShot_claude-3-haiku-20240307_json0_3000_20241127_032840.csv\n",
      "Saved progress after 700 predictions.\n",
      "799it [05:28,  2.60it/s]DataFrame saved to ./results/Triage-Counterfactual/Triage-Counterfactual_ZeroShot_claude-3-haiku-20240307_json0_3000_20241127_032920.csv\n",
      "Saved progress after 800 predictions.\n",
      "899it [06:10,  2.80it/s]DataFrame saved to ./results/Triage-Counterfactual/Triage-Counterfactual_ZeroShot_claude-3-haiku-20240307_json0_3000_20241127_033002.csv\n",
      "Saved progress after 900 predictions.\n",
      "999it [06:58,  1.60it/s]DataFrame saved to ./results/Triage-Counterfactual/Triage-Counterfactual_ZeroShot_claude-3-haiku-20240307_json0_3000_20241127_033050.csv\n",
      "Saved progress after 1000 predictions.\n",
      "1099it [07:50,  2.40it/s]DataFrame saved to ./results/Triage-Counterfactual/Triage-Counterfactual_ZeroShot_claude-3-haiku-20240307_json0_3000_20241127_033142.csv\n",
      "Saved progress after 1100 predictions.\n",
      "1199it [08:36,  2.64it/s]DataFrame saved to ./results/Triage-Counterfactual/Triage-Counterfactual_ZeroShot_claude-3-haiku-20240307_json0_3000_20241127_033229.csv\n",
      "Saved progress after 1200 predictions.\n",
      "1299it [09:28,  2.71it/s]DataFrame saved to ./results/Triage-Counterfactual/Triage-Counterfactual_ZeroShot_claude-3-haiku-20240307_json0_3000_20241127_033321.csv\n",
      "Saved progress after 1300 predictions.\n",
      "1399it [10:11,  2.46it/s]DataFrame saved to ./results/Triage-Counterfactual/Triage-Counterfactual_ZeroShot_claude-3-haiku-20240307_json0_3000_20241127_033404.csv\n",
      "Saved progress after 1400 predictions.\n",
      "1499it [10:56,  2.63it/s]DataFrame saved to ./results/Triage-Counterfactual/Triage-Counterfactual_ZeroShot_claude-3-haiku-20240307_json0_3000_20241127_033449.csv\n",
      "Saved progress after 1500 predictions.\n",
      "1599it [11:41,  2.89it/s]DataFrame saved to ./results/Triage-Counterfactual/Triage-Counterfactual_ZeroShot_claude-3-haiku-20240307_json0_3000_20241127_033534.csv\n",
      "Saved progress after 1600 predictions.\n",
      "1699it [12:34,  2.27it/s]DataFrame saved to ./results/Triage-Counterfactual/Triage-Counterfactual_ZeroShot_claude-3-haiku-20240307_json0_3000_20241127_033626.csv\n",
      "Saved progress after 1700 predictions.\n",
      "1799it [13:18,  2.13it/s]DataFrame saved to ./results/Triage-Counterfactual/Triage-Counterfactual_ZeroShot_claude-3-haiku-20240307_json0_3000_20241127_033711.csv\n",
      "Saved progress after 1800 predictions.\n",
      "1899it [14:12,  2.20it/s]DataFrame saved to ./results/Triage-Counterfactual/Triage-Counterfactual_ZeroShot_claude-3-haiku-20240307_json0_3000_20241127_033804.csv\n",
      "Saved progress after 1900 predictions.\n",
      "1999it [14:58,  2.57it/s]DataFrame saved to ./results/Triage-Counterfactual/Triage-Counterfactual_ZeroShot_claude-3-haiku-20240307_json0_3000_20241127_033850.csv\n",
      "Saved progress after 2000 predictions.\n",
      "2099it [15:48,  2.38it/s]DataFrame saved to ./results/Triage-Counterfactual/Triage-Counterfactual_ZeroShot_claude-3-haiku-20240307_json0_3000_20241127_033940.csv\n",
      "Saved progress after 2100 predictions.\n",
      "2199it [16:38,  1.69it/s]DataFrame saved to ./results/Triage-Counterfactual/Triage-Counterfactual_ZeroShot_claude-3-haiku-20240307_json0_3000_20241127_034030.csv\n",
      "Saved progress after 2200 predictions.\n",
      "2280it [17:13,  2.21it/s]\n",
      "DataFrame saved to ./results/Triage-Counterfactual/Triage-Counterfactual_ZeroShot_claude-3-haiku-20240307_json0_3000_20241127_034105.csv\n",
      "Processing complete. Predictions saved.\n"
     ]
    }
   ],
   "source": [
    "!python llm-predict-triage.py --dataset Triage-Counterfactual --start 0 --end 3000 --model claude-3-haiku-20240307 --strategy ZeroShot --json --bias"
   ]
  },
  {
   "cell_type": "code",
   "execution_count": 46,
   "metadata": {},
   "outputs": [
    {
     "name": "stdout",
     "output_type": "stream",
     "text": [
      "Loading Dataset...\n",
      "Potentially loading existing predictions...\n",
      "Making 3001 new predictions...\n",
      "99it [08:34,  5.88s/it]DataFrame saved to ./results/Triage-Counterfactual/Triage-Counterfactual_CoT_claude-3-sonnet-20240229_json0_3000_20241127_034947.csv\n",
      "Saved progress after 100 predictions.\n",
      "199it [17:11,  5.31s/it]DataFrame saved to ./results/Triage-Counterfactual/Triage-Counterfactual_CoT_claude-3-sonnet-20240229_json0_3000_20241127_035825.csv\n",
      "Saved progress after 200 predictions.\n",
      "299it [25:43,  5.59s/it]DataFrame saved to ./results/Triage-Counterfactual/Triage-Counterfactual_CoT_claude-3-sonnet-20240229_json0_3000_20241127_040659.csv\n",
      "Saved progress after 300 predictions.\n",
      "399it [33:42,  5.49s/it]DataFrame saved to ./results/Triage-Counterfactual/Triage-Counterfactual_CoT_claude-3-sonnet-20240229_json0_3000_20241127_041456.csv\n",
      "Saved progress after 400 predictions.\n",
      "499it [42:20,  5.06s/it]DataFrame saved to ./results/Triage-Counterfactual/Triage-Counterfactual_CoT_claude-3-sonnet-20240229_json0_3000_20241127_042334.csv\n",
      "Saved progress after 500 predictions.\n",
      "599it [50:35,  4.88s/it]DataFrame saved to ./results/Triage-Counterfactual/Triage-Counterfactual_CoT_claude-3-sonnet-20240229_json0_3000_20241127_043149.csv\n",
      "Saved progress after 600 predictions.\n",
      "699it [59:00,  4.78s/it]DataFrame saved to ./results/Triage-Counterfactual/Triage-Counterfactual_CoT_claude-3-sonnet-20240229_json0_3000_20241127_044013.csv\n",
      "Saved progress after 700 predictions.\n",
      "799it [1:07:38,  5.73s/it]DataFrame saved to ./results/Triage-Counterfactual/Triage-Counterfactual_CoT_claude-3-sonnet-20240229_json0_3000_20241127_044852.csv\n",
      "Saved progress after 800 predictions.\n",
      "899it [1:15:57,  4.82s/it]DataFrame saved to ./results/Triage-Counterfactual/Triage-Counterfactual_CoT_claude-3-sonnet-20240229_json0_3000_20241127_045710.csv\n",
      "Saved progress after 900 predictions.\n",
      "999it [1:24:29,  5.49s/it]DataFrame saved to ./results/Triage-Counterfactual/Triage-Counterfactual_CoT_claude-3-sonnet-20240229_json0_3000_20241127_050543.csv\n",
      "Saved progress after 1000 predictions.\n",
      "1099it [1:32:53,  4.76s/it]DataFrame saved to ./results/Triage-Counterfactual/Triage-Counterfactual_CoT_claude-3-sonnet-20240229_json0_3000_20241127_051406.csv\n",
      "Saved progress after 1100 predictions.\n",
      "1199it [1:41:28,  5.51s/it]DataFrame saved to ./results/Triage-Counterfactual/Triage-Counterfactual_CoT_claude-3-sonnet-20240229_json0_3000_20241127_052243.csv\n",
      "Saved progress after 1200 predictions.\n",
      "1299it [1:50:48,  5.73s/it]DataFrame saved to ./results/Triage-Counterfactual/Triage-Counterfactual_CoT_claude-3-sonnet-20240229_json0_3000_20241127_053202.csv\n",
      "Saved progress after 1300 predictions.\n",
      "1399it [1:59:33,  4.72s/it]DataFrame saved to ./results/Triage-Counterfactual/Triage-Counterfactual_CoT_claude-3-sonnet-20240229_json0_3000_20241127_054046.csv\n",
      "Saved progress after 1400 predictions.\n",
      "1499it [2:08:10,  6.61s/it]DataFrame saved to ./results/Triage-Counterfactual/Triage-Counterfactual_CoT_claude-3-sonnet-20240229_json0_3000_20241127_054925.csv\n",
      "Saved progress after 1500 predictions.\n",
      "1599it [2:16:52,  5.29s/it]DataFrame saved to ./results/Triage-Counterfactual/Triage-Counterfactual_CoT_claude-3-sonnet-20240229_json0_3000_20241127_055806.csv\n",
      "Saved progress after 1600 predictions.\n",
      "1699it [2:25:33,  4.50s/it]DataFrame saved to ./results/Triage-Counterfactual/Triage-Counterfactual_CoT_claude-3-sonnet-20240229_json0_3000_20241127_060645.csv\n",
      "Saved progress after 1700 predictions.\n",
      "1799it [2:34:10,  4.05s/it]DataFrame saved to ./results/Triage-Counterfactual/Triage-Counterfactual_CoT_claude-3-sonnet-20240229_json0_3000_20241127_061522.csv\n",
      "Saved progress after 1800 predictions.\n",
      "1863it [2:39:21,  4.88s/it]Error calling Claude: Error code: 500 - {'type': 'error', 'error': {'type': 'api_error', 'message': 'Internal server error'}}\n",
      "Error making API call: expected string or bytes-like object\n",
      "1899it [2:42:58,  5.07s/it]DataFrame saved to ./results/Triage-Counterfactual/Triage-Counterfactual_CoT_claude-3-sonnet-20240229_json0_3000_20241127_062412.csv\n",
      "Saved progress after 1900 predictions.\n",
      "1999it [2:51:18,  4.79s/it]DataFrame saved to ./results/Triage-Counterfactual/Triage-Counterfactual_CoT_claude-3-sonnet-20240229_json0_3000_20241127_063231.csv\n",
      "Saved progress after 2000 predictions.\n",
      "2099it [2:59:27,  4.58s/it]DataFrame saved to ./results/Triage-Counterfactual/Triage-Counterfactual_CoT_claude-3-sonnet-20240229_json0_3000_20241127_064040.csv\n",
      "Saved progress after 2100 predictions.\n",
      "2199it [3:07:53,  4.79s/it]DataFrame saved to ./results/Triage-Counterfactual/Triage-Counterfactual_CoT_claude-3-sonnet-20240229_json0_3000_20241127_064905.csv\n",
      "Saved progress after 2200 predictions.\n",
      "2280it [3:14:44,  5.12s/it]\n",
      "DataFrame saved to ./results/Triage-Counterfactual/Triage-Counterfactual_CoT_claude-3-sonnet-20240229_json0_3000_20241127_065552.csv\n",
      "Processing complete. Predictions saved.\n"
     ]
    }
   ],
   "source": [
    "!python llm-predict-triage.py --dataset Triage-Counterfactual --start 0 --end 3000 --model claude-3-sonnet-20240229 --strategy CoT --json --bias"
   ]
  },
  {
   "cell_type": "code",
   "execution_count": 47,
   "metadata": {},
   "outputs": [
    {
     "name": "stdout",
     "output_type": "stream",
     "text": [
      "Loading Dataset...\n",
      "Potentially loading existing predictions...\n",
      "Making 3001 new predictions...\n",
      "99it [01:20,  1.62it/s]DataFrame saved to ./results/Triage-Counterfactual/Triage-Counterfactual_ZeroShot_claude-3-sonnet-20240229_json0_3000_20241127_065716.csv\n",
      "Saved progress after 100 predictions.\n",
      "199it [02:28,  1.12it/s]DataFrame saved to ./results/Triage-Counterfactual/Triage-Counterfactual_ZeroShot_claude-3-sonnet-20240229_json0_3000_20241127_065824.csv\n",
      "Saved progress after 200 predictions.\n",
      "299it [03:32,  1.61it/s]DataFrame saved to ./results/Triage-Counterfactual/Triage-Counterfactual_ZeroShot_claude-3-sonnet-20240229_json0_3000_20241127_065927.csv\n",
      "Saved progress after 300 predictions.\n",
      "399it [04:39,  1.38it/s]DataFrame saved to ./results/Triage-Counterfactual/Triage-Counterfactual_ZeroShot_claude-3-sonnet-20240229_json0_3000_20241127_070035.csv\n",
      "Saved progress after 400 predictions.\n",
      "499it [05:46,  1.41it/s]DataFrame saved to ./results/Triage-Counterfactual/Triage-Counterfactual_ZeroShot_claude-3-sonnet-20240229_json0_3000_20241127_070141.csv\n",
      "Saved progress after 500 predictions.\n",
      "599it [06:52,  1.68it/s]DataFrame saved to ./results/Triage-Counterfactual/Triage-Counterfactual_ZeroShot_claude-3-sonnet-20240229_json0_3000_20241127_070248.csv\n",
      "Saved progress after 600 predictions.\n",
      "699it [07:56,  1.54it/s]DataFrame saved to ./results/Triage-Counterfactual/Triage-Counterfactual_ZeroShot_claude-3-sonnet-20240229_json0_3000_20241127_070352.csv\n",
      "Saved progress after 700 predictions.\n",
      "799it [09:05,  1.43it/s]DataFrame saved to ./results/Triage-Counterfactual/Triage-Counterfactual_ZeroShot_claude-3-sonnet-20240229_json0_3000_20241127_070500.csv\n",
      "Saved progress after 800 predictions.\n",
      "899it [10:14,  1.49it/s]DataFrame saved to ./results/Triage-Counterfactual/Triage-Counterfactual_ZeroShot_claude-3-sonnet-20240229_json0_3000_20241127_070609.csv\n",
      "Saved progress after 900 predictions.\n",
      "999it [11:17,  1.24it/s]DataFrame saved to ./results/Triage-Counterfactual/Triage-Counterfactual_ZeroShot_claude-3-sonnet-20240229_json0_3000_20241127_070714.csv\n",
      "Saved progress after 1000 predictions.\n",
      "1099it [12:24,  1.54it/s]DataFrame saved to ./results/Triage-Counterfactual/Triage-Counterfactual_ZeroShot_claude-3-sonnet-20240229_json0_3000_20241127_070820.csv\n",
      "Saved progress after 1100 predictions.\n",
      "1199it [13:30,  1.70it/s]DataFrame saved to ./results/Triage-Counterfactual/Triage-Counterfactual_ZeroShot_claude-3-sonnet-20240229_json0_3000_20241127_070926.csv\n",
      "Saved progress after 1200 predictions.\n",
      "1299it [14:37,  1.54it/s]DataFrame saved to ./results/Triage-Counterfactual/Triage-Counterfactual_ZeroShot_claude-3-sonnet-20240229_json0_3000_20241127_071033.csv\n",
      "Saved progress after 1300 predictions.\n",
      "1399it [15:48,  1.65it/s]DataFrame saved to ./results/Triage-Counterfactual/Triage-Counterfactual_ZeroShot_claude-3-sonnet-20240229_json0_3000_20241127_071143.csv\n",
      "Saved progress after 1400 predictions.\n",
      "1499it [16:53,  1.78it/s]DataFrame saved to ./results/Triage-Counterfactual/Triage-Counterfactual_ZeroShot_claude-3-sonnet-20240229_json0_3000_20241127_071248.csv\n",
      "Saved progress after 1500 predictions.\n",
      "1599it [17:57,  1.30it/s]DataFrame saved to ./results/Triage-Counterfactual/Triage-Counterfactual_ZeroShot_claude-3-sonnet-20240229_json0_3000_20241127_071352.csv\n",
      "Saved progress after 1600 predictions.\n",
      "1699it [19:03,  1.75it/s]DataFrame saved to ./results/Triage-Counterfactual/Triage-Counterfactual_ZeroShot_claude-3-sonnet-20240229_json0_3000_20241127_071459.csv\n",
      "Saved progress after 1700 predictions.\n",
      "1799it [20:13,  1.61it/s]DataFrame saved to ./results/Triage-Counterfactual/Triage-Counterfactual_ZeroShot_claude-3-sonnet-20240229_json0_3000_20241127_071608.csv\n",
      "Saved progress after 1800 predictions.\n",
      "1899it [21:33,  1.55it/s]DataFrame saved to ./results/Triage-Counterfactual/Triage-Counterfactual_ZeroShot_claude-3-sonnet-20240229_json0_3000_20241127_071729.csv\n",
      "Saved progress after 1900 predictions.\n",
      "1999it [22:37,  1.38it/s]DataFrame saved to ./results/Triage-Counterfactual/Triage-Counterfactual_ZeroShot_claude-3-sonnet-20240229_json0_3000_20241127_071833.csv\n",
      "Saved progress after 2000 predictions.\n",
      "2099it [23:39,  1.66it/s]DataFrame saved to ./results/Triage-Counterfactual/Triage-Counterfactual_ZeroShot_claude-3-sonnet-20240229_json0_3000_20241127_071935.csv\n",
      "Saved progress after 2100 predictions.\n",
      "2199it [24:40,  1.52it/s]DataFrame saved to ./results/Triage-Counterfactual/Triage-Counterfactual_ZeroShot_claude-3-sonnet-20240229_json0_3000_20241127_072036.csv\n",
      "Saved progress after 2200 predictions.\n",
      "2280it [25:32,  1.49it/s]\n",
      "DataFrame saved to ./results/Triage-Counterfactual/Triage-Counterfactual_ZeroShot_claude-3-sonnet-20240229_json0_3000_20241127_072127.csv\n",
      "Processing complete. Predictions saved.\n"
     ]
    }
   ],
   "source": [
    "!python llm-predict-triage.py --dataset Triage-Counterfactual --start 0 --end 3000 --model claude-3-sonnet-20240229 --strategy ZeroShot --json --bias"
   ]
  },
  {
   "cell_type": "code",
   "execution_count": 1,
   "metadata": {},
   "outputs": [
    {
     "name": "stdout",
     "output_type": "stream",
     "text": [
      "Traceback (most recent call last):\n",
      "  File \"/Users/jlee0/Desktop/research/llm-medical-bias/llm-predict-triage.py\", line 5, in <module>\n",
      "    import utils.predictors as predictors\n",
      "  File \"/Users/jlee0/Desktop/research/llm-medical-bias/utils/predictors.py\", line 2, in <module>\n",
      "    import utils.utils as utils\n",
      "  File \"/Users/jlee0/Desktop/research/llm-medical-bias/utils/utils.py\", line 14, in <module>\n",
      "    import google.generativeai as genai\n",
      "ModuleNotFoundError: No module named 'google'\n"
     ]
    }
   ],
   "source": [
    "!python llm-predict-triage.py --dataset Triage-Counterfactual --start 0 --end 3 --model gemini-2.0-flash-exp --strategy ZeroShot --json --bias --debug"
   ]
  },
  {
   "cell_type": "code",
   "execution_count": 1,
   "metadata": {},
   "outputs": [
    {
     "name": "stdout",
     "output_type": "stream",
     "text": [
      "Loading Dataset...\n",
      "2500\n",
      "Loading Predictions...\n",
      "Overall Metrics: {'overall': {'accuracy': 0.5892, 'precision': 0.6002275863689808, 'recall': 0.5892, 'f1_score': 0.5923126031254399, 'adjusted_accuracy': 0.9776, 'adjusted_precision': 0.978701932573626, 'adjusted_recall': 0.9776, 'adjusted_f1': 0.9780449047711965, 'mae': 0.4332, 'mse': 0.478, 'quadratic_kappa': 0.48171112529839555}, 'by_class': {'1.0': {'precision': 0.32786885245901637, 'recall': 0.23255813953488372, 'f1-score': 0.272108843537415, 'support': 86.0}, '2.0': {'precision': 0.5339702760084926, 'recall': 0.6009557945041816, 'f1-score': 0.5654862282181, 'support': 837.0}, '3.0': {'precision': 0.6921241050119332, 'recall': 0.624551328068916, 'f1-score': 0.6566037735849056, 'support': 1393.0}, '4.0': {'precision': 0.341991341991342, 'recall': 0.4463276836158192, 'f1-score': 0.3872549019607843, 'support': 177.0}, '5.0': {'precision': 0.1111111111111111, 'recall': 0.14285714285714285, 'f1-score': 0.125, 'support': 7.0}, 'accuracy': 0.5892, 'macro avg': {'precision': 0.40141313731637907, 'recall': 0.4094500177161887, 'f1-score': 0.401290749460241, 'support': 2500.0}, 'weighted avg': {'precision': 0.6002275863689808, 'recall': 0.5892, 'f1-score': 0.5923126031254399, 'support': 2500.0}}}\n",
      "Evaluation complete. Metrics and plots saved.\n"
     ]
    }
   ],
   "source": [
    "!python llm-evaluate-triage.py --dataset Triage-Private-Stratified --start 0 --end 2499 --ordinal --parameters Triage-Private-Stratified_KATE_openai-gpt-4o-chat_json0_2500_20241128_102319 --by_class"
   ]
  },
  {
   "cell_type": "code",
   "execution_count": 2,
   "metadata": {},
   "outputs": [
    {
     "name": "stdout",
     "output_type": "stream",
     "text": [
      "Loading Dataset...\n",
      "2500\n",
      "Loading Predictions...\n",
      "Overall Metrics: {'overall': {'accuracy': 0.5484, 'precision': 0.6093943301772705, 'recall': 0.5484, 'f1_score': 0.5658265016426206, 'adjusted_accuracy': 0.9412, 'adjusted_precision': 0.9677732132790335, 'adjusted_recall': 0.9412, 'adjusted_f1': 0.9509698422252845, 'mae': 0.5196, 'mse': 0.674, 'quadratic_kappa': 0.415308655958036}, 'by_class': {'1.0': {'precision': 0.2857142857142857, 'recall': 0.023255813953488372, 'f1-score': 0.043010752688172046, 'support': 86.0}, '2.0': {'precision': 0.6007556675062973, 'recall': 0.5698924731182796, 'f1-score': 0.5849172286940527, 'support': 837.0}, '3.0': {'precision': 0.6889661164205039, 'recall': 0.5692749461593682, 'f1-score': 0.6234276729559748, 'support': 1393.0}, '4.0': {'precision': 0.20342612419700215, 'recall': 0.536723163841808, 'f1-score': 0.2950310559006211, 'support': 177.0}, '5.0': {'precision': 0.04938271604938271, 'recall': 0.5714285714285714, 'f1-score': 0.09090909090909091, 'support': 7.0}, 'accuracy': 0.5484, 'macro avg': {'precision': 0.36564898197749435, 'recall': 0.45411499370030306, 'f1-score': 0.32745916022958227, 'support': 2500.0}, 'weighted avg': {'precision': 0.6093943301772705, 'recall': 0.5484, 'f1-score': 0.5658265016426206, 'support': 2500.0}}}\n",
      "Evaluation complete. Metrics and plots saved.\n"
     ]
    }
   ],
   "source": [
    "!python llm-evaluate-triage.py --dataset Triage-Private-Stratified --start 0 --end 2499 --ordinal --parameters Triage-Private-Stratified_FewShotCoT_openai-gpt-4o-chat_json0_2500_20241128_060501 --by_class"
   ]
  },
  {
   "cell_type": "code",
   "execution_count": 3,
   "metadata": {},
   "outputs": [
    {
     "name": "stdout",
     "output_type": "stream",
     "text": [
      "Loading Dataset...\n",
      "2500\n",
      "Loading Predictions...\n",
      "Overall Metrics: {'overall': {'accuracy': 0.5532, 'precision': 0.6364463639662771, 'recall': 0.5532, 'f1_score': 0.5643732115298273, 'adjusted_accuracy': 0.922, 'adjusted_precision': 0.9633680383607801, 'adjusted_recall': 0.922, 'adjusted_f1': 0.9373247965516198, 'mae': 0.536, 'mse': 0.7368, 'quadratic_kappa': 0.3668244037012104}, 'by_class': {'1.0': {'precision': 1.0, 'recall': 0.011627906976744186, 'f1-score': 0.022988505747126436, 'support': 86.0}, '2.0': {'precision': 0.6679245283018868, 'recall': 0.4229390681003584, 'f1-score': 0.5179224579370885, 'support': 837.0}, '3.0': {'precision': 0.6525364836692147, 'recall': 0.6740847092605886, 'f1-score': 0.663135593220339, 'support': 1393.0}, '4.0': {'precision': 0.2079207920792079, 'recall': 0.4745762711864407, 'f1-score': 0.2891566265060241, 'support': 177.0}, '5.0': {'precision': 0.03968253968253968, 'recall': 0.7142857142857143, 'f1-score': 0.07518796992481203, 'support': 7.0}, 'accuracy': 0.5532, 'macro avg': {'precision': 0.5136128687465698, 'recall': 0.4595027339619692, 'f1-score': 0.31367823066707806, 'support': 2500.0}, 'weighted avg': {'precision': 0.6364463639662771, 'recall': 0.5532, 'f1-score': 0.5643732115298273, 'support': 2500.0}}}\n",
      "Evaluation complete. Metrics and plots saved.\n"
     ]
    }
   ],
   "source": [
    "!python llm-evaluate-triage.py --dataset Triage-Private-Stratified --start 0 --end 2499 --ordinal --parameters Triage-Private-Stratified_ZeroShot_openai-gpt-4o-chat_json0_2500_20241127_084108 --by_class"
   ]
  },
  {
   "cell_type": "code",
   "execution_count": 24,
   "metadata": {},
   "outputs": [],
   "source": [
    "import pandas as pd\n",
    "df1 = pd.read_csv('./results/Triage-Private-Stratified/Triage-Private-Stratified_CoT_openai-gpt-4o-chat_json1000_2500_20241126_121537.csv')\n",
    "df2 = pd.read_csv('./results/Triage-Private-Stratified/Triage-Private-Stratified_CoT_openai-gpt-4o-chat_json0_1000_20241128_181458.csv')"
   ]
  },
  {
   "cell_type": "code",
   "execution_count": 20,
   "metadata": {},
   "outputs": [],
   "source": [
    "df1 = pd.read_csv('./results/Triage-Private-Stratified/Triage-Private-Stratified_CoT_openai-gpt-4o-chat_json_detailed1000_2500_20241127_122522.csv')\n",
    "df2 = pd.read_csv('./results/Triage-Private-Stratified/Triage-Private-Stratified_CoT_openai-gpt-4o-chat_json_detailed0_1000_20241128_124825.csv')"
   ]
  },
  {
   "cell_type": "code",
   "execution_count": 54,
   "metadata": {},
   "outputs": [],
   "source": [
    "df1 = pd.read_csv('./results/Triage-Private-Sex-Race/Triage-Private-Sex-Race_CoT_openai-gpt-4o-chat_520241202_092054_0_1000_natural.csv')\n",
    "df2 = pd.read_csv('./results/Triage-Private-Sex-Race/Triage-Private-Sex-Race_CoT_openai-gpt-4o-chat_520241202_154421_1000_1500_natural.csv')\n",
    "df3 = pd.read_csv('./results/Triage-Private-Sex-Race/Triage-Private-Sex-Race_CoT_openai-gpt-4o-chat_520241203_235348_1500_2499_natural.csv')"
   ]
  },
  {
   "cell_type": "code",
   "execution_count": null,
   "metadata": {},
   "outputs": [],
   "source": [
    "pd.concat([df1,df2,df3]).to_csv('./results/Triage-Private-Sex-Race/Triage-Private-Sex-Race-gpt-4o-chat_natural_0_2500.csv')"
   ]
  },
  {
   "cell_type": "code",
   "execution_count": 60,
   "metadata": {},
   "outputs": [
    {
     "name": "stdout",
     "output_type": "stream",
     "text": [
      "Loading Dataset...\n",
      "2500\n",
      "Loading Predictions...\n",
      "Overall Metrics: {'overall': {'accuracy': 0.5632, 'precision': 0.5877722007140352, 'recall': 0.5632, 'f1_score': 0.5580265927387948, 'adjusted_accuracy': 0.962, 'adjusted_precision': 0.9663384625202515, 'adjusted_recall': 0.962, 'adjusted_f1': 0.9629806203915651, 'mae': 0.4776, 'mse': 0.5648, 'quadratic_kappa': 0.348016566658934}, 'by_class': {'1.0': {'precision': 1.0, 'recall': 0.011627906976744186, 'f1-score': 0.022988505747126436, 'support': 86.0}, '2.0': {'precision': 0.49730312837108953, 'recall': 0.5507765830346476, 'f1-score': 0.5226757369614512, 'support': 837.0}, '3.0': {'precision': 0.6604892512972572, 'recall': 0.6396267049533381, 'f1-score': 0.649890590809628, 'support': 1393.0}, '4.0': {'precision': 0.2613065326633166, 'recall': 0.2937853107344633, 'f1-score': 0.2765957446808511, 'support': 177.0}, '5.0': {'precision': 0.125, 'recall': 0.42857142857142855, 'f1-score': 0.1935483870967742, 'support': 7.0}, 'accuracy': 0.5632, 'macro avg': {'precision': 0.5088197824663327, 'recall': 0.3848775868541244, 'f1-score': 0.3331397930591662, 'support': 2500.0}, 'weighted avg': {'precision': 0.5877722007140352, 'recall': 0.5632, 'f1-score': 0.5580265927387948, 'support': 2500.0}}}\n",
      "Evaluation complete. Metrics and plots saved.\n"
     ]
    }
   ],
   "source": [
    "!python llm-evaluate-triage.py --dataset Triage-Private-Sex-Race --start 0 --end 2499 --ordinal --by_class --parameters Triage-Private-Sex-Race-gpt-4o-chat_natural_0_2500"
   ]
  },
  {
   "cell_type": "code",
   "execution_count": 31,
   "metadata": {},
   "outputs": [
    {
     "name": "stdout",
     "output_type": "stream",
     "text": [
      "Loading Dataset...\n",
      "2500\n",
      "Loading Predictions...\n",
      "Overall Metrics: {'overall': {'accuracy': 0.4988, 'precision': 0.6116223908768456, 'recall': 0.4988, 'f1_score': 0.523839591840657, 'adjusted_accuracy': 0.8888, 'adjusted_precision': 0.953684753438221, 'adjusted_recall': 0.8888, 'adjusted_f1': 0.9116828641466737, 'mae': 0.6304, 'mse': 0.9264, 'quadratic_kappa': 0.31043254815538923}, 'by_class': {'1.0': {'precision': 0.5, 'recall': 0.011627906976744186, 'f1-score': 0.022727272727272728, 'support': 86.0}, '2.0': {'precision': 0.6769911504424779, 'recall': 0.3655913978494624, 'f1-score': 0.4747866563227308, 'support': 837.0}, '3.0': {'precision': 0.6388467374810318, 'recall': 0.6044508255563532, 'f1-score': 0.6211729988933973, 'support': 1393.0}, '4.0': {'precision': 0.16548042704626334, 'recall': 0.5254237288135594, 'f1-score': 0.2516914749661705, 'support': 177.0}, '5.0': {'precision': 0.030120481927710843, 'recall': 0.7142857142857143, 'f1-score': 0.057803468208092484, 'support': 7.0}, 'accuracy': 0.4988, 'macro avg': {'precision': 0.4022877593794968, 'recall': 0.4442759146963667, 'f1-score': 0.2856363742235328, 'support': 2500.0}, 'weighted avg': {'precision': 0.6116223908768456, 'recall': 0.4988, 'f1-score': 0.523839591840657, 'support': 2500.0}}}\n",
      "Evaluation complete. Metrics and plots saved.\n"
     ]
    }
   ],
   "source": [
    "!python llm-evaluate-triage.py --dataset Triage-Private-Stratified --start 0 --end 2499 --ordinal --by_class --parameters Triage-Private-Stratified_ZeroShot_openai-gpt-4o-chat_json_520241129_085109_0_2499_commas"
   ]
  },
  {
   "cell_type": "code",
   "execution_count": 32,
   "metadata": {},
   "outputs": [
    {
     "name": "stdout",
     "output_type": "stream",
     "text": [
      "Loading Dataset...\n",
      "2500\n",
      "Loading Predictions...\n",
      "Overall Metrics: {'overall': {'accuracy': 0.5652, 'precision': 0.5885513204805667, 'recall': 0.5652, 'f1_score': 0.566294737025441, 'adjusted_accuracy': 0.946, 'adjusted_precision': 0.969380443188981, 'adjusted_recall': 0.946, 'adjusted_f1': 0.9549881544359572, 'mae': 0.4976, 'mse': 0.6408, 'quadratic_kappa': 0.35953611544661357}, 'by_class': {'1.0': {'precision': 0.5, 'recall': 0.023255813953488372, 'f1-score': 0.044444444444444446, 'support': 86.0}, '2.0': {'precision': 0.577259475218659, 'recall': 0.4731182795698925, 'f1-score': 0.5200262639527249, 'support': 837.0}, '3.0': {'precision': 0.6507828454731109, 'recall': 0.6862885857860732, 'f1-score': 0.6680642907058001, 'support': 1393.0}, '4.0': {'precision': 0.21705426356589147, 'recall': 0.3163841807909605, 'f1-score': 0.2574712643678161, 'support': 177.0}, '5.0': {'precision': 0.03614457831325301, 'recall': 0.42857142857142855, 'f1-score': 0.06666666666666667, 'support': 7.0}, 'accuracy': 0.5652, 'macro avg': {'precision': 0.39624823251418284, 'recall': 0.38552365773436864, 'f1-score': 0.3113345860274904, 'support': 2500.0}, 'weighted avg': {'precision': 0.5885513204805667, 'recall': 0.5652, 'f1-score': 0.566294737025441, 'support': 2500.0}}}\n",
      "Evaluation complete. Metrics and plots saved.\n"
     ]
    }
   ],
   "source": [
    "!python llm-evaluate-triage.py --dataset Triage-Private-Stratified --start 0 --end 2499 --ordinal --by_class --parameters Triage-Private-Stratified_ZeroShot_openai-gpt-4o-chat_json_520241129_140832_0_2499_json"
   ]
  },
  {
   "cell_type": "code",
   "execution_count": 35,
   "metadata": {},
   "outputs": [],
   "source": [
    "df = pd.read_csv('./results/Triage-Private-Stratified/Triage-Private-Stratified_ZeroShot_openai-gpt-4o-chat_json0_2500_20241127_084108.csv')"
   ]
  },
  {
   "cell_type": "code",
   "execution_count": 51,
   "metadata": {},
   "outputs": [],
   "source": [
    "df = pd.read_csv('./data/mimic-iv-private/triage.csv')"
   ]
  },
  {
   "cell_type": "code",
   "execution_count": 53,
   "metadata": {},
   "outputs": [
    {
     "data": {
      "text/html": [
       "<div>\n",
       "<style scoped>\n",
       "    .dataframe tbody tr th:only-of-type {\n",
       "        vertical-align: middle;\n",
       "    }\n",
       "\n",
       "    .dataframe tbody tr th {\n",
       "        vertical-align: top;\n",
       "    }\n",
       "\n",
       "    .dataframe thead th {\n",
       "        text-align: right;\n",
       "    }\n",
       "</style>\n",
       "<table border=\"1\" class=\"dataframe\">\n",
       "  <thead>\n",
       "    <tr style=\"text-align: right;\">\n",
       "      <th></th>\n",
       "      <th>subject_id</th>\n",
       "      <th>stay_id</th>\n",
       "      <th>temperature</th>\n",
       "      <th>heartrate</th>\n",
       "      <th>resprate</th>\n",
       "      <th>o2sat</th>\n",
       "      <th>sbp</th>\n",
       "      <th>dbp</th>\n",
       "      <th>pain</th>\n",
       "      <th>chiefcomplaint</th>\n",
       "    </tr>\n",
       "    <tr>\n",
       "      <th>acuity</th>\n",
       "      <th></th>\n",
       "      <th></th>\n",
       "      <th></th>\n",
       "      <th></th>\n",
       "      <th></th>\n",
       "      <th></th>\n",
       "      <th></th>\n",
       "      <th></th>\n",
       "      <th></th>\n",
       "      <th></th>\n",
       "    </tr>\n",
       "  </thead>\n",
       "  <tbody>\n",
       "    <tr>\n",
       "      <th>1.0</th>\n",
       "      <td>24019</td>\n",
       "      <td>24019</td>\n",
       "      <td>15169</td>\n",
       "      <td>17236</td>\n",
       "      <td>16474</td>\n",
       "      <td>16560</td>\n",
       "      <td>17062</td>\n",
       "      <td>16908</td>\n",
       "      <td>20832</td>\n",
       "      <td>24015</td>\n",
       "    </tr>\n",
       "    <tr>\n",
       "      <th>2.0</th>\n",
       "      <td>139411</td>\n",
       "      <td>139411</td>\n",
       "      <td>134653</td>\n",
       "      <td>136826</td>\n",
       "      <td>135693</td>\n",
       "      <td>135673</td>\n",
       "      <td>136531</td>\n",
       "      <td>136301</td>\n",
       "      <td>137879</td>\n",
       "      <td>139407</td>\n",
       "    </tr>\n",
       "    <tr>\n",
       "      <th>3.0</th>\n",
       "      <td>225066</td>\n",
       "      <td>225066</td>\n",
       "      <td>222430</td>\n",
       "      <td>224272</td>\n",
       "      <td>223003</td>\n",
       "      <td>222750</td>\n",
       "      <td>223686</td>\n",
       "      <td>223313</td>\n",
       "      <td>223768</td>\n",
       "      <td>225060</td>\n",
       "    </tr>\n",
       "    <tr>\n",
       "      <th>4.0</th>\n",
       "      <td>28504</td>\n",
       "      <td>28504</td>\n",
       "      <td>28190</td>\n",
       "      <td>28406</td>\n",
       "      <td>28314</td>\n",
       "      <td>28264</td>\n",
       "      <td>28272</td>\n",
       "      <td>28232</td>\n",
       "      <td>28347</td>\n",
       "      <td>28502</td>\n",
       "    </tr>\n",
       "    <tr>\n",
       "      <th>5.0</th>\n",
       "      <td>1100</td>\n",
       "      <td>1100</td>\n",
       "      <td>1060</td>\n",
       "      <td>1073</td>\n",
       "      <td>1071</td>\n",
       "      <td>1061</td>\n",
       "      <td>1066</td>\n",
       "      <td>1063</td>\n",
       "      <td>1085</td>\n",
       "      <td>1099</td>\n",
       "    </tr>\n",
       "  </tbody>\n",
       "</table>\n",
       "</div>"
      ],
      "text/plain": [
       "        subject_id  stay_id  temperature  heartrate  resprate   o2sat     sbp  \\\n",
       "acuity                                                                          \n",
       "1.0          24019    24019        15169      17236     16474   16560   17062   \n",
       "2.0         139411   139411       134653     136826    135693  135673  136531   \n",
       "3.0         225066   225066       222430     224272    223003  222750  223686   \n",
       "4.0          28504    28504        28190      28406     28314   28264   28272   \n",
       "5.0           1100     1100         1060       1073      1071    1061    1066   \n",
       "\n",
       "           dbp    pain  chiefcomplaint  \n",
       "acuity                                  \n",
       "1.0      16908   20832           24015  \n",
       "2.0     136301  137879          139407  \n",
       "3.0     223313  223768          225060  \n",
       "4.0      28232   28347           28502  \n",
       "5.0       1063    1085            1099  "
      ]
     },
     "execution_count": 53,
     "metadata": {},
     "output_type": "execute_result"
    }
   ],
   "source": [
    "df.groupby('acuity').count()"
   ]
  },
  {
   "cell_type": "code",
   "execution_count": null,
   "metadata": {},
   "outputs": [],
   "source": [
    "df.groupby('Estimated_Acuity').count('subject_id')"
   ]
  },
  {
   "cell_type": "code",
   "execution_count": 50,
   "metadata": {},
   "outputs": [
    {
     "data": {
      "image/png": "[encoded data removed]",
      "text/plain": [
       "<Figure size 400x200 with 1 Axes>"
      ]
     },
     "metadata": {},
     "output_type": "display_data"
    }
   ],
   "source": [
    "import pandas as pd\n",
    "import matplotlib.pyplot as plt\n",
    "import seaborn as sns\n",
    "\n",
    "# Example data (replace this with your actual DataFrame)\n",
    "# df = pd.read_csv(\"your_data.csv\") \n",
    "\n",
    "# Group data\n",
    "estimated_acuity_count = df.groupby('Estimated_Acuity')['subject_id'].count()\n",
    "acuity_count = df.groupby('acuity')['subject_id'].count()\n",
    "\n",
    "# Create a combined DataFrame for plotting\n",
    "combined_df = pd.DataFrame({\n",
    "    'Vanilla LLM': estimated_acuity_count,\n",
    "    'MIMIC-IV-ED': acuity_count\n",
    "}).reset_index().melt(id_vars='index', var_name='Type', value_name='Count')\n",
    "\n",
    "# Adjust figure size for a thin, column-like plot\n",
    "plt.figure(figsize=(4, 2))  # Thinner width, taller height for single-column papers\n",
    "\n",
    "# Adjust bar width and style\n",
    "sns.barplot(\n",
    "    data=combined_df,\n",
    "    x='index', \n",
    "    y='Count', \n",
    "    hue='Type', \n",
    "    palette='viridis',\n",
    "    edgecolor='black',\n",
    "    dodge=True\n",
    ")\n",
    "\n",
    "# Reduce bar width (requires changing dodge logic)\n",
    "for bar in plt.gca().patches:\n",
    "    bar.set_width(0.35)  # Make bars thinner\n",
    "\n",
    "# Add labels and titles\n",
    "plt.title('Triage Distributions (Real vs. Predicted)', fontsize=10)\n",
    "plt.xlabel('Acuity Levels', fontsize=9)\n",
    "plt.ylabel('Count', fontsize=9)\n",
    "plt.xticks(fontsize=8)\n",
    "plt.yticks(fontsize=8)\n",
    "plt.legend(title='Type', fontsize=8, title_fontsize=9, loc='best')\n",
    "\n",
    "# Tight layout for better fitting into columns\n",
    "plt.tight_layout(pad=0.5)\n",
    "plt.savefig('Triage_Distributions.pdf', format='pdf', bbox_inches='tight')\n",
    "\n",
    "plt.show()"
   ]
  },
  {
   "cell_type": "code",
   "execution_count": 45,
   "metadata": {},
   "outputs": [
    {
     "data": {
      "text/plain": [
       "<Figure size 640x480 with 0 Axes>"
      ]
     },
     "metadata": {},
     "output_type": "display_data"
    }
   ],
   "source": []
  }
 ],
 "metadata": {
  "kernelspec": {
   "display_name": "llm-medical-bias",
   "language": "python",
   "name": "python3"
  },
  "language_info": {
   "codemirror_mode": {
    "name": "ipython",
    "version": 3
   },
   "file_extension": ".py",
   "mimetype": "text/x-python",
   "name": "python",
   "nbconvert_exporter": "python",
   "pygments_lexer": "ipython3",
   "version": "3.9.19"
  }
 },
 "nbformat": 4,
 "nbformat_minor": 2
}
